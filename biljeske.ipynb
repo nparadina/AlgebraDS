{
 "cells": [
  {
   "cell_type": "code",
   "execution_count": null,
   "id": "36c35006",
   "metadata": {},
   "outputs": [
    {
     "data": {
      "text/plain": [
       "dict"
      ]
     },
     "execution_count": 3,
     "metadata": {},
     "output_type": "execute_result"
    }
   ],
   "source": [
    "moj_dict={}\n",
    "type(moj_dict)"
   ]
  },
  {
   "cell_type": "markdown",
   "id": "9918bf3c",
   "metadata": {},
   "source": [
    "Python *strings* are \"immutable\" which means they cannot be changed after they are created (Java strings also use this immutable style). Like many other popular programming languages, strings in Python are arrays of bytes representing unicode characters.However, Python does not have a character data type, a single character is simply a string with a length of 1.Square brackets can be used to access elements of the string.Since strings can't be changed, we construct *new* strings as we go to represent computed values.Strings in python are surrounded by either single quotation marks, or double quotation marks. Strings are ordered: You can index and slice them and Iterable: Can loop through characters.\n",
    "\n",
    "A *list* is a data structure in Python that is a mutable, or changeable, ordered sequence of elements. Each element or value that is inside of a list is called an item. Just as strings are defined as characters between quotes, lists are defined by having values between square brackets [ ]. Duplicates in a list a allowed. List are not hashable, can not be used as a dictionarz key.\n",
    "\n",
    "In Python, a *tuple* is a built-in data type that allows you to create immutable sequences of values. The values or items in a tuple can be of any type and mixed.  Can be nested: ((1, 2), (3, 4)). Because tuples are immutable, they can be used as dictionary keys.\n",
    "Tuples are immutable objects and lists are mutable objects. Once defined, tuples have a fixed length and lists have a dynamic length. Tuples use less memory and are faster to access than to lists. Tuple syntax uses round brackets or parenthesis, and list syntax uses square brackets.\n",
    "\n",
    "*Sets* are a mutable collection of distinct (unique) immutable values that are unordered (No indexing or slicing).Sets are iterable: Loop through them.\n",
    "\n",
    "In Python, a *dictionary* (or dict) is a built-in data type for storing data in key-value pairs. While keys have to be immutable (e.g., integers or strings), values can have any type, including lists or other dictionaries. Order is preserved (since Python 3.7+)"
   ]
  },
  {
   "cell_type": "code",
   "execution_count": null,
   "id": "d2ddd4ee",
   "metadata": {},
   "outputs": [
    {
     "data": {
      "text/plain": [
       "set"
      ]
     },
     "execution_count": 5,
     "metadata": {},
     "output_type": "execute_result"
    }
   ],
   "source": [
    "#inicijalizacija s praznim, ne moze samo preko zagrada \n",
    "moj_set=set()\n",
    "type(moj_set)"
   ]
  },
  {
   "cell_type": "code",
   "execution_count": null,
   "id": "e2afeb0d",
   "metadata": {},
   "outputs": [
    {
     "data": {
      "text/plain": [
       "set"
      ]
     },
     "execution_count": 4,
     "metadata": {},
     "output_type": "execute_result"
    }
   ],
   "source": [
    "#inicijalizacija s podacima, moze s viticastm zagradama\n",
    "moj_set={\"Ana\",\"Marko\",\"Mario\"}\n",
    "type(moj_set)"
   ]
  },
  {
   "cell_type": "markdown",
   "id": "1ba81414",
   "metadata": {},
   "source": [
    "The most relevant commands and properties with tuples:\n",
    "\n",
    "Accessing Elements\n",
    "t[0]  # First element\n",
    "t[-1] # Last element\n",
    "\n",
    "Slicing\n",
    "t[1:3]  # Returns a tuple with elements from index 1 to 2\n",
    "\n",
    "Tuple Methods\n",
    "t.count(x)   # Number of times x appears\n",
    "t.index(x)   # First index of x\n",
    "\n",
    "Unpacking Tuples\n",
    "a, b, c = (1, 2, 3)\n",
    "Extended unpacking: a, *b, c = (1, 2, 3, 4, 5)  # a=1, b=[2,3,4], c=5\n",
    "b in this example is cast to list\n",
    "\n",
    "Looping Through Tuples\n",
    "for item in t:\n",
    "    print(item)\n",
    "\n",
    " Membership Test\n",
    " 3 in t        # True if 3 is an element of t\n",
    "\n",
    "Tuple Concatenation and Repetition\n",
    "t + (4, 5)    # (1, 2, 3, 4, 5)\n",
    "t * 2         # (1, 2, 3, 1, 2, 3) -- but none change the original t\n",
    "\n",
    "Nested Tuples\n",
    "nested = ((1, 2), (3, 4), (5, 6))\n",
    "\n",
    "Accessing elements\n",
    "print(nested[0])     # (1, 2)\n",
    "print(nested[0][1])  # 2\n",
    "\n",
    "Iterating through nested tuples\n",
    "for a, b in nested:\n",
    "    print(f\"a = {a}, b = {b}\")\n",
    "\n",
    "Looping with Unpacking\n",
    "pairs = [(1, 'a'), (2, 'b'), (3, 'c')]\n",
    "\n",
    "for number, letter in pairs:\n",
    "    print(f\"{number} => {letter}\")\n",
    "\n",
    "With enumerate:\n",
    "words = ['alpha', 'beta', 'gamma']\n",
    "for i, word in enumerate(words):\n",
    "    print(f\"{i}: {word}\")\n"
   ]
  },
  {
   "cell_type": "code",
   "execution_count": null,
   "id": "d021ef79",
   "metadata": {},
   "outputs": [
    {
     "data": {
      "text/plain": [
       "list"
      ]
     },
     "execution_count": 8,
     "metadata": {},
     "output_type": "execute_result"
    }
   ],
   "source": [
    "a, *b, c = (1, 2, 3, 4, 5)\n",
    "type(b)"
   ]
  },
  {
   "cell_type": "code",
   "execution_count": 11,
   "id": "8659f964",
   "metadata": {},
   "outputs": [
    {
     "data": {
      "text/plain": [
       "(1, 2, 3, 1, 2, 3)"
      ]
     },
     "execution_count": 11,
     "metadata": {},
     "output_type": "execute_result"
    }
   ],
   "source": [
    "t=(1,2,3)\n",
    "t2= t + (4, 5)    # (1, 2, 3, 4, 5)\n",
    "t3=t * 2         # (1, 2, 3, 1, 2, 3)\n",
    "t3"
   ]
  },
  {
   "cell_type": "code",
   "execution_count": 12,
   "id": "1ab57e26",
   "metadata": {},
   "outputs": [
    {
     "name": "stdout",
     "output_type": "stream",
     "text": [
      "a = 1, b = 2\n",
      "a = 3, b = 4\n",
      "a = 5, b = 6\n"
     ]
    }
   ],
   "source": [
    "nested = ((1, 2), (3, 4), (5, 6))\n",
    "for a, b in nested:\n",
    "    print(f\"a = {a}, b = {b}\")"
   ]
  },
  {
   "cell_type": "markdown",
   "id": "4c60a1a6",
   "metadata": {},
   "source": [
    "The most relevant commands and properties with list:\n",
    "my_list.append(10)        # Add to end\n",
    "my_list.insert(1, 99)     # Insert at index 1\n",
    "my_list.extend([4, 5])    # Add multiple elements\n",
    "\n",
    "my_list.remove(\"a\")       # Remove first matching value\n",
    "my_list.pop()             # Remove last element\n",
    "my_list.pop(2)            # Remove at index 2\n",
    "my_list.clear()           # Remove all items\n",
    "\n",
    "my_list.index(3)          # Index of first occurrence\n",
    "my_list.count(\"b\")        # Count occurrences of \"b\"\n",
    "\n",
    "my_list.sort()            # Sort list in place\n",
    "my_list.reverse()         # Reverse list in place\n",
    "\n",
    "#For non-destructive sorting\n",
    "sorted_list = sorted(my_list)\n",
    "reversed_list = list(reversed(my_list))\n",
    "\n",
    "for item in my_list:\n",
    "    print(item)\n",
    "\n",
    "#With index\n",
    "for i, item in enumerate(my_list):\n",
    "    print(i, item)\n",
    "\n",
    "#List comprehension\n",
    "squares = [x**2 for x in range(5)]  # [0, 1, 4, 9, 16]\n",
    "\n",
    "3 in my_list        # True if 3 is in the list\n",
    "\"x\" not in my_list  # True if \"x\" is not\n",
    "\n",
    "#Flatten a nested list (1 level deep)\n",
    "nested = [[1, 2], [3, 4]]\n",
    "flat = [item for sublist in nested for item in sublist]\n",
    "\n",
    "#Remove duplicates (order not guaranteed)\n",
    "unique = list(set(my_list))\n",
    "\n",
    "#Deep copy, native copy() method for list is always a shallow copy\n",
    "import copy\n",
    "\n",
    "original = [[1, 2], [3, 4]]\n",
    "deep = copy.deepcopy(original)\n",
    "\n",
    "deep[0][0] = 999\n",
    "\n",
    "print(original)  # [[1, 2], [3, 4]] ✅ Safe\n",
    "print(deep)      # [[999, 2], [3, 4]]\n"
   ]
  },
  {
   "cell_type": "code",
   "execution_count": 37,
   "id": "412e4d83",
   "metadata": {},
   "outputs": [
    {
     "data": {
      "text/plain": [
       "[1, 0, 1, 0, 1, 0, 1, 0, 1, 0]"
      ]
     },
     "execution_count": 37,
     "metadata": {},
     "output_type": "execute_result"
    }
   ],
   "source": [
    "#my_list=[1 for x in range(10) if x%2==0]\n",
    "my_list=[1 if x%2==0 else 0 for x in range(10)]\n",
    "my_list"
   ]
  },
  {
   "cell_type": "markdown",
   "id": "1c557869",
   "metadata": {},
   "source": [
    "The most relevant commands and properties with set:\n",
    "s.add(4)         # Add element\n",
    "s.remove(2)      # Remove element (raises error if not found)\n",
    "s.discard(2)     # Remove if present (no error)\n",
    "s.pop()          # Remove and return arbitrary element\n",
    "s.clear()        # Empty the set\n",
    "\n",
    "a = {1, 2, 3}\n",
    "b = {3, 4, 5}\n",
    "\n",
    "\n",
    "Union a.union(b)\n",
    "Intersection  a & b or a.intersection(b)  {3}\n",
    "Difference  a - b or a.difference(b)   {1, 2}\n",
    "Symmetric Difference   a ^ b or a.symmetric_difference(b)   {1, 2, 4, 5}\n",
    "Subset   a <= b or a.issubset(b)   False\n",
    "Superset   a >= b or a.issuperset(b)   False\n",
    "Disjoint   a.isdisjoint(b)   False\n",
    "isdisjoint() method checks whether two sets have any common elements. If no common elements exist, it returns True ; otherwise, it returns False\n",
    "\n",
    "Looping Through a Set\n",
    "for item in s:\n",
    "    print(item)\n",
    "\n",
    "Membership Testing\n",
    "3 in s         # True if 3 is in the set\n",
    "5 not in s     # True if 5 is not in the set\n",
    "\n",
    "Set Comprehension\n",
    "squared = {x**2 for x in range(5)} # {0, 1, 4, 9, 16}\n",
    "\n",
    "Frozen Sets (Immutable Sets)\n",
    "fs = frozenset([1, 2, 3])\n",
    "#fs.add(4) → ❌ will raise an error\n"
   ]
  },
  {
   "cell_type": "code",
   "execution_count": 15,
   "id": "b211ae91",
   "metadata": {},
   "outputs": [
    {
     "data": {
      "text/plain": [
       "{1, 2, 3, 4, 5}"
      ]
     },
     "execution_count": 15,
     "metadata": {},
     "output_type": "execute_result"
    }
   ],
   "source": [
    "a = {1, 2, 3}\n",
    "b = {3, 4, 5}\n",
    "\n",
    "a.union(b)\n"
   ]
  },
  {
   "cell_type": "code",
   "execution_count": 16,
   "id": "b9d46f7e",
   "metadata": {},
   "outputs": [
    {
     "data": {
      "text/plain": [
       "{3}"
      ]
     },
     "execution_count": 16,
     "metadata": {},
     "output_type": "execute_result"
    }
   ],
   "source": [
    "a.intersection(b)"
   ]
  },
  {
   "cell_type": "code",
   "execution_count": 18,
   "id": "72076c5b",
   "metadata": {},
   "outputs": [
    {
     "data": {
      "text/plain": [
       "{4, 5}"
      ]
     },
     "execution_count": 18,
     "metadata": {},
     "output_type": "execute_result"
    }
   ],
   "source": [
    "b.difference(a)"
   ]
  },
  {
   "cell_type": "code",
   "execution_count": 17,
   "id": "16553fa6",
   "metadata": {},
   "outputs": [
    {
     "data": {
      "text/plain": [
       "{1, 2}"
      ]
     },
     "execution_count": 17,
     "metadata": {},
     "output_type": "execute_result"
    }
   ],
   "source": [
    "a.difference(b)"
   ]
  },
  {
   "cell_type": "code",
   "execution_count": 19,
   "id": "f98cc853",
   "metadata": {},
   "outputs": [
    {
     "data": {
      "text/plain": [
       "{1, 2, 4, 5}"
      ]
     },
     "execution_count": 19,
     "metadata": {},
     "output_type": "execute_result"
    }
   ],
   "source": [
    "a.symmetric_difference(b) "
   ]
  },
  {
   "cell_type": "code",
   "execution_count": 21,
   "id": "d7106a91",
   "metadata": {},
   "outputs": [
    {
     "data": {
      "text/plain": [
       "dict"
      ]
     },
     "execution_count": 21,
     "metadata": {},
     "output_type": "execute_result"
    }
   ],
   "source": [
    "text = \"hello hello world\"\n",
    "freq = {}\n",
    "for word in text.split():\n",
    "    freq[word] = freq.get(word, 0) + 1\n",
    "type(freq)"
   ]
  },
  {
   "cell_type": "markdown",
   "id": "afeeee80",
   "metadata": {},
   "source": [
    "The most relevant commands and properties with dictionary:\n",
    "my_dict = {\"name\": \"Alice\", \"age\": 25}\n",
    "my_dict = dict(name=\"Bob\", age=30)\n",
    "my_dict = dict([(\"a\", 1), (\"b\", 2)])\n",
    "\n",
    "my_dict[\"name\"]        # Get value\n",
    "my_dict[\"age\"] = 26    # Update value\n",
    "my_dict[\"city\"] = \"NY\" # Add key-value pair\n",
    "\n",
    "my_dict.keys()         # dict_keys(['name', 'age', 'city'])\n",
    "my_dict.values()       # dict_values(['Alice', 25, 'NY'])\n",
    "my_dict.items()        # dict_items([('name', 'Alice'), ...])\n",
    "\n",
    "my_dict.setdefault(\"country\", \"USA\") #Adds key only if it doesn't exist\n",
    "\n",
    "my_dict.update({\"age\": 28, \"gender\": \"female\"})  # Merge/update\n",
    "\n",
    "my_dict.pop(\"age\")           # Removes key & returns its value\n",
    "my_dict.popitem()            # Removes and returns last (key, value)\n",
    "del my_dict[\"city\"]          # Deletes key from dict\n",
    "my_dict.clear()              # Removes all items\n",
    "\n",
    "len(my_dict)                # Number of key-value pairs\n",
    "\"age\" in my_dict            # Membership test\n",
    "list(my_dict)               # List of keys\n",
    "\n",
    "#Keys only\n",
    "for key in my_dict:\n",
    "    print(key)\n",
    "\n",
    "#Keys and values\n",
    "for key, value in my_dict.items():\n",
    "    print(f\"{key}: {value}\")\n",
    "\n",
    "#Dictionary Comprehension\n",
    "squares = {x: x**2 for x in range(5)} #{0: 0, 1: 1, 2: 4, 3: 9, 4: 16}\n",
    "\n",
    "shallow = my_dict.copy()         # Shallow copy\n",
    "import copy\n",
    "deep = copy.deepcopy(my_dict)    # Deep copy (for nested dicts)\n",
    "\n",
    "#Nesting & Complex Structures\n",
    "people = {\n",
    "    \"alice\": {\"age\": 25, \"city\": \"Paris\"},\n",
    "    \"bob\": {\"age\": 30, \"city\": \"NY\"}\n",
    "}\n",
    "\n",
    "Task                                | Method or Function\n",
    "Get value (safe)                    | dict.get(key)\n",
    "Add or update key                   | dict[key] = value\n",
    "Add default if missing              | setdefault()\n",
    "#Interesting use of setdefault():\n",
    "from collections import defaultdict  # or just use setdefault manually\n",
    "\n",
    "data = [(\"fruit\", \"apple\"), (\"fruit\", \"banana\"), (\"veg\", \"carrot\")]\n",
    "\n",
    "grouped = {}\n",
    "for category, item in data:\n",
    "    grouped.setdefault(category, []).append(item)\n",
    "\n",
    "print(grouped) # {'fruit': ['apple', 'banana'], 'veg': ['carrot']}\n",
    "\n",
    "Loop through key–value pairs        | for k, v in dict.items()\n",
    "Merge two dicts                     | dict.update()\n",
    "Create from keys                    | dict.fromkeys(keys,defaultvalue) - This method creates a new dictionary with the specified keys (a list of keys) and all values set to the same default, None by defualt.\n",
    "keys = [\"a\", \"b\", \"c\"]\n",
    "my_dict = dict.fromkeys(keys)\n",
    "\n",
    "print(my_dict)# Output: {'a': None, 'b': None, 'c': None}\n"
   ]
  },
  {
   "cell_type": "code",
   "execution_count": 33,
   "id": "01e86f83",
   "metadata": {},
   "outputs": [
    {
     "data": {
      "text/plain": [
       "30"
      ]
     },
     "execution_count": 33,
     "metadata": {},
     "output_type": "execute_result"
    }
   ],
   "source": [
    "my_dict = dict(name=\"Bob\", age=30, surname=\"Dod\", age_one=36)\n",
    "my_dict \n",
    "my_dict.get(\"age\")"
   ]
  },
  {
   "cell_type": "code",
   "execution_count": 26,
   "id": "fa4c3fd0",
   "metadata": {},
   "outputs": [
    {
     "data": {
      "text/plain": [
       "{'a': 1, 'b': 2}"
      ]
     },
     "execution_count": 26,
     "metadata": {},
     "output_type": "execute_result"
    }
   ],
   "source": [
    "my_dict = dict([(\"a\", 1), (\"b\", 2)])\n",
    "my_dict "
   ]
  },
  {
   "cell_type": "markdown",
   "id": "8355a350",
   "metadata": {},
   "source": [
    "The most relevant commands and properties with strings:\n",
    "s.lower()        # 'hello'\n",
    "s.upper()        # 'HELLO'\n",
    "s.capitalize()   # 'Hello'\n",
    "s.title()        # 'Hello World'\n",
    "s.strip()        # removes leading/trailing whitespace\n",
    "s.replace(\"l\", \"x\")  # 'hexxo'\n",
    "s.startswith(\"he\")  # True\n",
    "s.endswith(\"lo\")    # True\n",
    "s.find(\"l\")         # 2 (first index of 'l')\n",
    "s.rfind(\"l\")        # 3 (last index of 'l')\n",
    "s.count(\"l\")        # 2\n",
    "s.isalpha()      # True if only letters\n",
    "s.isdigit()      # True if only digits\n",
    "s.isalnum()      # True if alphanumeric\n",
    "s.isspace()      # True if only whitespace\n",
    "s.islower()      # True if all lowercase\n",
    "s.isupper()      # True if all uppercase\n",
    "\"hello world\".split()        # ['hello', 'world']\n",
    "\"one,two,three\".split(\",\")   # ['one', 'two', 'three']\n",
    "\"-\".join(['a', 'b', 'c'])    # 'a-b-c'\n",
    "s.center(10)      # '  hello   '\n",
    "s.ljust(10, '*')  # 'hello*****'\n",
    "s.rjust(10, '-')  # '-----hello'\n",
    "\n",
    "\n",
    "String Formatting\n",
    "f-strings (Recommended in Python 3.6+)\n",
    "name = \"Alice\"\n",
    "f\"Hello, {name}!\"  # 'Hello, Alice!'\n",
    "\n"
   ]
  },
  {
   "cell_type": "markdown",
   "id": "99ad1561",
   "metadata": {},
   "source": [
    "The most used relevant basic python functions:\n",
    "len(t)       # Number of elements\n",
    "min(t)       # Minimum (if elements are comparable)\n",
    "max(t)       # Maximum\n",
    "sum(t)       # Sum of numeric elements\n",
    "enumerate() is a built-in function that adds a counter to an iterable (like a list, tuple, string, etc.) and returns it as an enumerate object, which you can loop through.\n",
    "sorted(s)        # returns a sorted list of characters.can be called on a set, but still returns a sorted list\n",
    "list(s)          # converts to list of characters\n",
    "ord('A')         # 65 (ASCII code)\n",
    "chr(65)          # 'A'\n"
   ]
  },
  {
   "cell_type": "code",
   "execution_count": null,
   "id": "66b5ab74",
   "metadata": {},
   "outputs": [
    {
     "name": "stdout",
     "output_type": "stream",
     "text": [
      "[5, 7, 9]\n"
     ]
    }
   ],
   "source": [
    "#Map example\n",
    "a = [1, 2, 3]\n",
    "b = [4, 5, 6]\n",
    "\n",
    "summed = list(map(lambda x, y: x + y, a, b)) #map(function, list), here function is lambda x, y: x + y and the two arguments are two list a and b\n",
    "# The reason that the addition happens element ist that map work on the first element of a and a first element of b\n",
    "# The return value is a1+b1, and it is that added to a list\n",
    "print(summed)\n",
    "# Output: [5, 7, 9]\n"
   ]
  },
  {
   "cell_type": "code",
   "execution_count": 38,
   "id": "c7b153e4",
   "metadata": {},
   "outputs": [
    {
     "data": {
      "text/plain": [
       "[1, 2, 3, 4, 5, 6]"
      ]
     },
     "execution_count": 38,
     "metadata": {},
     "output_type": "execute_result"
    }
   ],
   "source": [
    "a = [1, 2, 3]\n",
    "b = [4, 5, 6]\n",
    "a+b"
   ]
  },
  {
   "cell_type": "markdown",
   "id": "c40f1a51",
   "metadata": {},
   "source": [
    "## ndarray svojstva"
   ]
  },
  {
   "cell_type": "code",
   "execution_count": null,
   "id": "c16040ad",
   "metadata": {},
   "outputs": [
    {
     "data": {
      "text/plain": [
       "5"
      ]
     },
     "execution_count": 45,
     "metadata": {},
     "output_type": "execute_result"
    }
   ],
   "source": [
    "# property size dohvaca broj elemenatata u nizu\n",
    "import numpy as np\n",
    "polje=np.array([1,2,3,4,5])\n",
    "polje.size\n"
   ]
  },
  {
   "cell_type": "code",
   "execution_count": 44,
   "id": "b06dc02f",
   "metadata": {},
   "outputs": [
    {
     "data": {
      "text/plain": [
       "9"
      ]
     },
     "execution_count": 44,
     "metadata": {},
     "output_type": "execute_result"
    }
   ],
   "source": [
    "polje_ndim=np.array([[1,2,3],[4,5,6], [7,8,9]])\n",
    "polje_ndim.size"
   ]
  },
  {
   "cell_type": "code",
   "execution_count": 1,
   "id": "14713bb4",
   "metadata": {},
   "outputs": [
    {
     "ename": "NameError",
     "evalue": "name 'np' is not defined",
     "output_type": "error",
     "traceback": [
      "\u001b[1;31m---------------------------------------------------------------------------\u001b[0m",
      "\u001b[1;31mNameError\u001b[0m                                 Traceback (most recent call last)",
      "Cell \u001b[1;32mIn[1], line 2\u001b[0m\n\u001b[0;32m      1\u001b[0m \u001b[38;5;66;03m# Bitno za definiciju polja:\u001b[39;00m\n\u001b[1;32m----> 2\u001b[0m np\u001b[38;5;241m.\u001b[39marray([\u001b[38;5;241m1\u001b[39m, \u001b[38;5;241m2\u001b[39m, \u001b[38;5;241m3\u001b[39m]) \u001b[38;5;66;03m# shape je (3,) ovo je 1D vektor s 3 elementa, nema redaka ni stupaca\u001b[39;00m\n\u001b[0;32m      3\u001b[0m np\u001b[38;5;241m.\u001b[39marray([[\u001b[38;5;241m1\u001b[39m,\u001b[38;5;241m2\u001b[39m,\u001b[38;5;241m3\u001b[39m]]) \u001b[38;5;66;03m# ovdje je shape (1, 3) 1 redak   i 3 stupca, znaci 2D matrica\u001b[39;00m\n\u001b[0;32m      4\u001b[0m np\u001b[38;5;241m.\u001b[39marray([[\u001b[38;5;241m1\u001b[39m],[\u001b[38;5;241m2\u001b[39m],[\u001b[38;5;241m3\u001b[39m]])\n",
      "\u001b[1;31mNameError\u001b[0m: name 'np' is not defined"
     ]
    }
   ],
   "source": [
    "# Bitno za definiciju polja:\n",
    "np.array([1, 2, 3]) # shape je (3,) ovo je 1D vektor s 3 elementa, nema redaka ni stupaca\n",
    "np.array([[1,2,3]]) # ovdje je shape (1, 3) 1 redak   i 3 stupca, znaci 2D matrica\n",
    "np.array([[1],[2],[3]]) # ovdje je shape (3, 1) 3 retka  i 1 stupac, znaci 2D matrica"
   ]
  },
  {
   "cell_type": "code",
   "execution_count": 48,
   "id": "1b61e403",
   "metadata": {},
   "outputs": [
    {
     "name": "stdout",
     "output_type": "stream",
     "text": [
      "1\n",
      "2\n",
      "3\n"
     ]
    }
   ],
   "source": [
    "# property ndim dohvaca broj dimenzija ndarray tipa. Za niz je to 1, za matricu je 2. \n",
    "# Ako bi array bio napravljen od dvije liste, a svaka lista sadrzi jos dvije liste. onda bi rezultat bio 3\n",
    "print(polje.ndim)\n",
    "print(polje_ndim.ndim)\n",
    "\n",
    "polje_3dim=np.array([\n",
    "    [[1, 2], [3, 4]],\n",
    "    [[5, 6], [7, 8]]\n",
    "])\n",
    "print(polje_3dim.ndim)"
   ]
  },
  {
   "cell_type": "code",
   "execution_count": 49,
   "id": "7be8afd6",
   "metadata": {},
   "outputs": [
    {
     "name": "stdout",
     "output_type": "stream",
     "text": [
      "(5,)\n",
      "(3, 3)\n",
      "(2, 2, 2)\n"
     ]
    }
   ],
   "source": [
    "# property shape vraca tuple koji govori koliko je ndarray velik po dimenzijama\n",
    "print(polje.shape)\n",
    "print(polje_ndim.shape)\n",
    "print(polje_3dim.shape)"
   ]
  },
  {
   "cell_type": "code",
   "execution_count": null,
   "id": "254746a3",
   "metadata": {},
   "outputs": [
    {
     "name": "stdout",
     "output_type": "stream",
     "text": [
      "int64\n",
      "8\n",
      "64\n"
     ]
    }
   ],
   "source": [
    "# ndarray je namijenjen za rad s velikim kolicinama podaka\n",
    "# property dtpye daje tip podatka u array\n",
    "# property itemsize daje podatak koliko memorije zauzima jedan podatak u arrayu\n",
    "# property nbytes daje podatak o zauzecu memorije u bytovima\n",
    "\n",
    "print(polje_3dim.dtype)\n",
    "print(polje_3dim.itemsize)\n",
    "print(polje_3dim.nbytes)\n"
   ]
  },
  {
   "cell_type": "markdown",
   "id": "784e5092",
   "metadata": {},
   "source": [
    "### ndarray metode i funkcije"
   ]
  },
  {
   "cell_type": "code",
   "execution_count": 53,
   "id": "b69b6575",
   "metadata": {},
   "outputs": [
    {
     "name": "stdout",
     "output_type": "stream",
     "text": [
      "(2, 2, 2)\n",
      "(2, 4)\n"
     ]
    }
   ],
   "source": [
    "# reshape metoda kojom se mijenja oblik odnosno shape array-a. prima tuple kao argument, ali umnozak argumenata mora biti isti kao i\n",
    "# umnozak velicina dimenzija pocetnog ndarray-a\n",
    "\n",
    "print(polje_3dim.shape) #umnozak dimenatija je 2x2x2=8\n",
    "polje_3dim=polje_3dim.reshape(2,4) # ne mijenja originalni objekt, treba assignati\n",
    "print(polje_3dim.shape)"
   ]
  },
  {
   "cell_type": "code",
   "execution_count": 54,
   "id": "34f2209b",
   "metadata": {},
   "outputs": [
    {
     "data": {
      "text/plain": [
       "array([[[0.],\n",
       "        [0.]],\n",
       "\n",
       "       [[0.],\n",
       "        [0.]],\n",
       "\n",
       "       [[0.],\n",
       "        [0.]]])"
      ]
     },
     "execution_count": 54,
     "metadata": {},
     "output_type": "execute_result"
    }
   ],
   "source": [
    "np.zeros((3,2,1)) # stvara ndarry dimenzije 3 samo s nulama"
   ]
  },
  {
   "cell_type": "code",
   "execution_count": 55,
   "id": "f04db72b",
   "metadata": {},
   "outputs": [
    {
     "data": {
      "text/plain": [
       "array([[[1.],\n",
       "        [1.]],\n",
       "\n",
       "       [[1.],\n",
       "        [1.]],\n",
       "\n",
       "       [[1.],\n",
       "        [1.]]])"
      ]
     },
     "execution_count": 55,
     "metadata": {},
     "output_type": "execute_result"
    }
   ],
   "source": [
    "np.ones((3,2,1)) # stvara ndarry dimenzije 3 samo s jedincama"
   ]
  },
  {
   "cell_type": "code",
   "execution_count": 56,
   "id": "b0d82e84",
   "metadata": {},
   "outputs": [
    {
     "data": {
      "text/plain": [
       "array([[[7],\n",
       "        [7]],\n",
       "\n",
       "       [[7],\n",
       "        [7]],\n",
       "\n",
       "       [[7],\n",
       "        [7]]])"
      ]
     },
     "execution_count": 56,
     "metadata": {},
     "output_type": "execute_result"
    }
   ],
   "source": [
    "np.full((3,2,1), 7) # stvara ndarry dimenzije 3 samo s sedmicama, vrijednost je drugi argument!"
   ]
  },
  {
   "cell_type": "code",
   "execution_count": 61,
   "id": "b805c2f0",
   "metadata": {},
   "outputs": [
    {
     "name": "stdout",
     "output_type": "stream",
     "text": [
      "[ 3  7 11]\n",
      "int64\n",
      "(3,)\n",
      "1\n"
     ]
    }
   ],
   "source": [
    "polje_arange=np.arange(3,15,4) # stvara 1D array pocevsi od 3, s korakom 4, do vrijednosti 15, 15 nije ukljucen\n",
    "print(polje_arange)\n",
    "print(polje_arange.dtype)\n",
    "print(polje_arange.shape)\n",
    "print(polje_arange.ndim)"
   ]
  },
  {
   "cell_type": "code",
   "execution_count": 62,
   "id": "18900956",
   "metadata": {},
   "outputs": [
    {
     "name": "stdout",
     "output_type": "stream",
     "text": [
      "[ 3.  5.  7.  9. 11. 13. 15.]\n",
      "float64\n",
      "(7,)\n",
      "1\n"
     ]
    }
   ],
   "source": [
    "polje_linspace=np.linspace(3,15,7) # kreira 1D array s pocetkom 3, krajem na 14(ukljuceno) i daje 7 elemenata\n",
    "print(polje_linspace)\n",
    "print(polje_linspace.dtype)\n",
    "print(polje_linspace.shape)\n",
    "print(polje_linspace.ndim)"
   ]
  },
  {
   "cell_type": "code",
   "execution_count": null,
   "id": "c86c69f1",
   "metadata": {},
   "outputs": [
    {
     "name": "stdout",
     "output_type": "stream",
     "text": [
      "[[ 0.03108908 -1.53051518 -1.53978892 -1.42620969  0.58738526]\n",
      " [-0.1182661  -1.31545992 -1.35779948  0.36235298 -1.05973874]\n",
      " [-0.21131177  1.13573206 -0.33770928  0.28383753 -0.65780897]\n",
      " [-1.08476643  2.89684642  1.7463597   0.70156744 -2.17995667]]\n",
      "float64\n",
      "(4, 5)\n",
      "2\n"
     ]
    }
   ],
   "source": [
    "#ndarray slucajnih brojeva, funkciji se predaje velicine dimenzija\n",
    "\n",
    "polje_random=np.random.randn(4,5)\n",
    "print(polje_random)\n",
    "print(polje_random.dtype)\n",
    "print(polje_random.shape)\n",
    "print(polje_random.ndim)"
   ]
  },
  {
   "cell_type": "code",
   "execution_count": 117,
   "id": "7a979efc",
   "metadata": {},
   "outputs": [
    {
     "name": "stdout",
     "output_type": "stream",
     "text": [
      "Niz1:  [-4. -3. -2. -1.  0.  1.  2.  3.  4.]\n",
      "Niz2:  [ 0.10569467  0.29794326 -0.91120316 -0.52735975  0.23478274  1.40421368\n",
      " -0.21904326 -1.45467997  0.44939562]\n",
      "Konkatenirani niz:  [-4.         -3.         -2.         -1.          0.          1.\n",
      "  2.          3.          4.          0.10569467  0.29794326 -0.91120316\n",
      " -0.52735975  0.23478274  1.40421368 -0.21904326 -1.45467997  0.44939562]\n",
      "Konkatenirani niz- dimenzija:  (18,)\n",
      "Vstack niz:  [[-4.         -3.         -2.         -1.          0.          1.\n",
      "   2.          3.          4.        ]\n",
      " [ 0.10569467  0.29794326 -0.91120316 -0.52735975  0.23478274  1.40421368\n",
      "  -0.21904326 -1.45467997  0.44939562]]\n",
      "Vstack niz - dimenzija:  (2, 9)\n",
      "Hstack niz:  [-4.         -3.         -2.         -1.          0.          1.\n",
      "  2.          3.          4.          0.10569467  0.29794326 -0.91120316\n",
      " -0.52735975  0.23478274  1.40421368 -0.21904326 -1.45467997  0.44939562]\n",
      "Hstack niz - dimenzija:  (18,)\n"
     ]
    }
   ],
   "source": [
    "# za povezivanje i razdvajanje\n",
    "\n",
    "# Funkcija concatenate (generalizacij hstack i vstack)\n",
    "niz1=np.linspace(-4,4,9)\n",
    "niz2=np.random.randn(9)\n",
    "print(\"Niz1: \", niz1)\n",
    "print(\"Niz2: \", niz2)\n",
    "\n",
    "# axis=0 is join along rows, axis =1 columns. In a 1D array, only axis 0 existis, concatenate elements\n",
    "niz_concat=np.concatenate([niz1, niz2], axis=0) # primjeti listu\n",
    "print(\"Konkatenirani niz: \", niz_concat)\n",
    "print(\"Konkatenirani niz- dimenzija: \", niz_concat.shape)\n",
    "\n",
    "# Funkcija vstack\n",
    "niz_vstack=np.vstack([niz1, niz2])\n",
    "print(\"Vstack niz: \", niz_vstack)\n",
    "print(\"Vstack niz - dimenzija: \", niz_vstack.shape) # mijenja se dimenzija \n",
    "# Funkcija hstack\n",
    "niz_hstack=np.hstack([niz1, niz2])\n",
    "print(\"Hstack niz: \", niz_hstack)\n",
    "print(\"Hstack niz - dimenzija: \", niz_hstack.shape)\n",
    "\n",
    "\n"
   ]
  },
  {
   "cell_type": "code",
   "execution_count": 126,
   "id": "a6e3bf3c",
   "metadata": {},
   "outputs": [
    {
     "name": "stdout",
     "output_type": "stream",
     "text": [
      "[16.  9.  4.  1.  0.  1.  8. 27. 64.]\n",
      "[ 16.   9.   4.  -1.   0.   1.  16.  81. 256.]\n",
      "Nonunique:  [1. 1. 1. 1. 1. 1. 1. 1. 1.]\n",
      "Unique:  [1.]\n",
      "Sortiran:  [-8.85786439e-01 -6.71584887e-01 -2.60044677e-04  3.55463550e-01\n",
      "  6.12887878e-01  7.49165651e-01  1.55734276e+00  1.83926301e+00\n",
      "  1.84751372e+00]\n"
     ]
    }
   ],
   "source": [
    "# Za filtriranje i sortiranje vrijednosti elemenata u nizovima koristi se where, select, unique i sort\n",
    "# where\n",
    "niz=np.linspace(-4,4,9)\n",
    "niz_where=np.where(niz<0, niz**2, niz**3) # funkcija ne mijenja originalni niz, treba assign\n",
    "print(niz_where)\n",
    "\n",
    "# select - prima listu uvjeta i nakon nje listu operacija koje se izvrsavaju ako je uvjet zadovoljen\n",
    "niz_select=np.select([niz<-1, niz<2,niz>=2], [niz**2,niz**3, niz**4]) # funkcija ne mijenja originalni niz, treba assign\n",
    "print(niz_select)\n",
    "\n",
    "# unique - izbacuje sve duplikate iz niza\n",
    "niz_nonunique=np.ones((9,))\n",
    "print(\"Nonunique: \", niz_nonunique)\n",
    "niz_unique=np.unique(niz_nonunique)\n",
    "print(\"Unique: \", niz_unique)\n",
    "\n",
    "#sort - sortira niz\n",
    "niz_random=np.random.randn(9)\n",
    "niz_sortiran=np.sort(niz_random)\n",
    "print(\"Sortiran: \", niz_sortiran)"
   ]
  },
  {
   "cell_type": "markdown",
   "id": "6c70bf0b",
   "metadata": {},
   "source": [
    "__Dijeljenje i spajanje array-a__\n",
    "\n",
    "arr.shape is (4, 4) — 4 rows and 4 columns.\n",
    "<div class=\"alert alert-block alert-info\">\n",
    "arr = np.array([\n",
    "    [ 1,  2,  3,  4],\n",
    "    [ 5,  6,  7,  8],\n",
    "    [ 9, 10, 11, 12],\n",
    "    [13, 14, 15, 16]\n",
    "]) \n",
    "</div>\n",
    "\n",
    "1. np.split() - Splits along a specific axis, which you must specify manually.\n",
    "\n",
    "        1. Split into 2 parts along axis 1 (columns)\n",
    "<div class=\"alert alert-block alert-info\">\n",
    "        split_arr = np.split(arr, 2, axis=1)\n",
    "        </br>\n",
    "        [array([[ 1,  2],\n",
    "                [ 5,  6],\n",
    "                [ 9, 10],\n",
    "                [13, 14]]),\n",
    "        array([ [ 3,  4],\n",
    "                [ 7,  8],\n",
    "                [11, 12],\n",
    "                [15, 16]])]\n",
    "</div>\n",
    "\n",
    "This split it vertically (like hsplit), because we told it to split along columns (axis=1).\n",
    "\n",
    "2. np.hsplit() - This is shorthand for splitting horizontally (splitting columns).\n",
    "hsplit_arr = np.hsplit(arr, 2)\n",
    "Same result as split(..., axis=1)!\n",
    "\n",
    "3. np.vsplit() - This splits vertically (splitting rows).\n",
    "vsplit_arr = np.vsplit(arr, 2)\n",
    "\n",
    "<div class=\"alert alert-block alert-info\">\n",
    "        vsplit_arr = np.vsplit(arr, 2)\n",
    "        </br>\n",
    "        [array([[1,  2,  3,  4],\n",
    "        [5,  6,  7,  8]]),\n",
    "        array([[ 9, 10, 11, 12],\n",
    "        [13, 14, 15, 16]])]\n",
    "</div>\n",
    "\n",
    "Each part has 2 rows and 4 columns — so we split it horizontally across the middle (more rows).\n"
   ]
  },
  {
   "cell_type": "markdown",
   "id": "845e045d",
   "metadata": {},
   "source": [
    "__Spremanje i ucitavanje arraya__\n",
    "\n",
    "Array se moze pospremiti u datoteku, nastane datoteka .npy i ucitati iz datotekte. Naredbe su:\n",
    "\n",
    "- np.save('ime_datoteke', array)\n",
    "- ucitani_array=np.load('ime_datoteke.npy')"
   ]
  },
  {
   "cell_type": "markdown",
   "id": "303fb0cf",
   "metadata": {},
   "source": [
    "__slicing array-a__"
   ]
  },
  {
   "cell_type": "code",
   "execution_count": 105,
   "id": "9d4c0bd2",
   "metadata": {},
   "outputs": [
    {
     "name": "stdout",
     "output_type": "stream",
     "text": [
      "[1 2 3 4]\n",
      "[5 6 7 8]\n",
      "[1 2 3 4 5]\n",
      "[1 3]\n",
      "[6 7]\n"
     ]
    }
   ],
   "source": [
    "polje_3dim\n",
    "#array([[1, 2, 3, 4],\n",
    "#       [5, 6, 7, 8]])\n",
    "\n",
    "# prvi redak\n",
    "print(polje_3dim[0])\n",
    "# drugi redak\n",
    "print(polje_3dim[1])\n",
    "# polje_3dim[2] ce vratit gresku da index-a nema, ali polje_3dim[1:7], iako dalje od 1 ni nema, ce samo ispisati redak 1\n",
    "print(polje)#1D polje\n",
    "#[1 2 3 4 5]\n",
    "print(polje[0:3:2]) #za 1D ovo znaci idi od 0 do 3 elementa, s korakom 2, ne ukljucujuci 3ci\n",
    "#za visedimenzionalne array-e\n",
    "# iz retka s indexom 1, uzmi podatke iz stupaca s indexom 1 do 3, 3 nije ukljuceno s korakom 1\n",
    "print(polje_3dim[1,1:3:1])"
   ]
  },
  {
   "cell_type": "markdown",
   "id": "73f115f7",
   "metadata": {},
   "source": [
    "__Linerarna algebra__\n",
    "\n",
    "1. **Vektori**\n",
    "- Vektore mozemo zbrajati, oduzima i mnoziti sa skalarom\n",
    "- Dulijnu vektora(aka normu) racunamo: np.linalg.norm(vektor)\n",
    "2. **Matrice**\n",
    "- Podrazumijeva se da ima vise od jedne dimenzije\n",
    "- Matrice mozemo zbrajati, oduzima i mnoziti sa skalarom\n",
    "- Matricno mnozenje je posebni nacin mnozenja prema definiciji iz linearne algebre"
   ]
  },
  {
   "cell_type": "code",
   "execution_count": 133,
   "id": "f250f756",
   "metadata": {},
   "outputs": [
    {
     "name": "stdout",
     "output_type": "stream",
     "text": [
      "[[2 0 3]]\n",
      "2\n",
      "(1, 3)\n"
     ]
    }
   ],
   "source": [
    "A=np.matrix([2,0,3])\n",
    "print(A)\n",
    "print(A.ndim)\n",
    "print(A.shape)"
   ]
  },
  {
   "cell_type": "code",
   "execution_count": 132,
   "id": "5a8b74c2",
   "metadata": {},
   "outputs": [
    {
     "name": "stdout",
     "output_type": "stream",
     "text": [
      "[2 0 3]\n",
      "1\n",
      "(3,)\n"
     ]
    }
   ],
   "source": [
    "B=np.array([2,0,3])\n",
    "print(B)\n",
    "print(B.ndim)\n",
    "print(B.shape)"
   ]
  },
  {
   "cell_type": "code",
   "execution_count": 138,
   "id": "2cb4f59c",
   "metadata": {},
   "outputs": [
    {
     "data": {
      "text/plain": [
       "matrix([[2, 1],\n",
       "        [0, 4],\n",
       "        [3, 1]])"
      ]
     },
     "execution_count": 138,
     "metadata": {},
     "output_type": "execute_result"
    }
   ],
   "source": [
    "A=np.matrix([[2,0,3],[1,4,1]])\n",
    "np.transpose(A)"
   ]
  },
  {
   "cell_type": "code",
   "execution_count": null,
   "id": "2a36c4b4",
   "metadata": {},
   "outputs": [],
   "source": [
    "# definiranje objekta matrice\n",
    "A=np.matrix([[2,0,3],[1,4,1]])\n",
    "B=np.matrix([[1,1,1],[2,3,4]])\n",
    "# Matricno mnozenje objekata matrix \n",
    "C=A*B # operator *\n",
    "# Elementwise mnozenje objekata tupa matrix\n",
    "C=np.multiply(A,B)\n",
    "# Matricno mnozenje objekata tipa ndarray, npr. za nizove\n",
    "np.array([1,2,3]) @ np.array([4,5,6,])\n",
    "\n",
    "# Jedincna matrica\n",
    "I=np.identity(5) #uvijek kvadratna, dobije se matrica velicine 5x5, ali objekt je ndarray, ne matrix\n",
    "\n",
    "# Transponirana matrica\n",
    "# Moze se kreirati pomocu funkcije ili pomocu svojsta ili metode\n",
    "np.transpose(A)\n",
    "A.T #svojstvo\n",
    "A.transpose()\n",
    "\n",
    "# Inverz matrice\n",
    "np.linalg.inv(A)\n",
    "\n",
    "# Za rjesavanje linearnih matricnih jednadzbi, kao primjer s pekarom, koristi se np.linalg.solve\n",
    "x=np.linalg.solve(A, b.transpose())\n",
    "\n",
    "# Pseudoinverz matrice je genralizacija inverza matrice, a koristi se za trazenje linearnog modela koji najbolje opisuje podatke\n",
    "# Linerani koeficijenti pravca kojeg trazimo su k, b za  y=kx+b\n",
    "# Koristi se funkcija polyfit\n",
    "# x i y su nasi podaci, npr. x datumi, a y se izmjerene temperature\n",
    "k, b=np.polyfit(x,y,1) "
   ]
  }
 ],
 "metadata": {
  "kernelspec": {
   "display_name": "Python 3",
   "language": "python",
   "name": "python3"
  },
  "language_info": {
   "codemirror_mode": {
    "name": "ipython",
    "version": 3
   },
   "file_extension": ".py",
   "mimetype": "text/x-python",
   "name": "python",
   "nbconvert_exporter": "python",
   "pygments_lexer": "ipython3",
   "version": "3.12.9"
  }
 },
 "nbformat": 4,
 "nbformat_minor": 5
}

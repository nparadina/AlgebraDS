{
 "cells": [
  {
   "cell_type": "code",
   "execution_count": 116,
   "id": "36c35006",
   "metadata": {},
   "outputs": [],
   "source": [
    "moj_dict={}"
   ]
  },
  {
   "cell_type": "markdown",
   "id": "9918bf3c",
   "metadata": {},
   "source": [
    "Python *strings* are \"immutable\" which means they cannot be changed after they are created (Java strings also use this immutable style). Like many other popular programming languages, strings in Python are arrays of bytes representing unicode characters.However, Python does not have a character data type, a single character is simply a string with a length of 1.Square brackets can be used to access elements of the string.Since strings can't be changed, we construct *new* strings as we go to represent computed values.Strings in python are surrounded by either single quotation marks, or double quotation marks. Strings are ordered: You can index and slice them and Iterable: Can loop through characters.\n",
    "\n",
    "A *list* is a data structure in Python that is a mutable, or changeable, ordered sequence of elements. Each element or value that is inside of a list is called an item. Just as strings are defined as characters between quotes, lists are defined by having values between square brackets [ ]. Duplicates in a list a allowed. List are not hashable, can not be used as a dictionarz key.\n",
    "\n",
    "In Python, a *tuple* is a built-in data type that allows you to create immutable sequences of values. The values or items in a tuple can be of any type and mixed.  Can be nested: ((1, 2), (3, 4)). Because tuples are immutable, they can be used as dictionary keys.\n",
    "Tuples are immutable objects and lists are mutable objects. Once defined, tuples have a fixed length and lists have a dynamic length. Tuples use less memory and are faster to access than to lists. Tuple syntax uses round brackets or parenthesis, and list syntax uses square brackets.\n",
    "\n",
    "*Sets* are a mutable collection of distinct (unique) immutable values that are unordered (No indexing or slicing).Sets are iterable: Loop through them.\n",
    "\n",
    "In Python, a *dictionary* (or dict) is a built-in data type for storing data in key-value pairs. While keys have to be immutable (e.g., integers or strings), values can have any type, including lists or other dictionaries. Order is preserved (since Python 3.7+)"
   ]
  },
  {
   "cell_type": "code",
   "execution_count": 40,
   "id": "d2ddd4ee",
   "metadata": {},
   "outputs": [
    {
     "data": {
      "text/plain": [
       "set"
      ]
     },
     "execution_count": 40,
     "metadata": {},
     "output_type": "execute_result"
    }
   ],
   "source": [
    "#inicijalizacija s praznim, ne moze samo preko zagrada \n",
    "moj_set=set()\n",
    "type(moj_set)"
   ]
  },
  {
   "cell_type": "code",
   "execution_count": 41,
   "id": "e2afeb0d",
   "metadata": {},
   "outputs": [
    {
     "data": {
      "text/plain": [
       "set"
      ]
     },
     "execution_count": 41,
     "metadata": {},
     "output_type": "execute_result"
    }
   ],
   "source": [
    "#inicijalizacija s podacima, moze s viticastm zagradama\n",
    "moj_set={\"Ana\",\"Marko\",\"Mario\"}\n",
    "type(moj_set)"
   ]
  },
  {
   "cell_type": "markdown",
   "id": "1ba81414",
   "metadata": {},
   "source": [
    "The most relevant commands and properties with tuples:\n",
    "\n",
    "Accessing Elements\n",
    "t[0]  # First element\n",
    "t[-1] # Last element\n",
    "\n",
    "Slicing\n",
    "t[1:3]  # Returns a tuple with elements from index 1 to 2\n",
    "\n",
    "Tuple Methods\n",
    "t.count(x)   # Number of times x appears\n",
    "t.index(x)   # First index of x\n",
    "\n",
    "Unpacking Tuples\n",
    "a, b, c = (1, 2, 3)\n",
    "Extended unpacking: a, *b, c = (1, 2, 3, 4, 5)  # a=1, b=[2,3,4], c=5\n",
    "b in this example is cast to list\n",
    "\n",
    "Looping Through Tuples\n",
    "for item in t:\n",
    "    print(item)\n",
    "\n",
    " Membership Test\n",
    " 3 in t        # True if 3 is an element of t\n",
    "\n",
    "Tuple Concatenation and Repetition\n",
    "t + (4, 5)    # (1, 2, 3, 4, 5)\n",
    "t * 2         # (1, 2, 3, 1, 2, 3) -- but none change the original t\n",
    "\n",
    "Nested Tuples\n",
    "nested = ((1, 2), (3, 4), (5, 6))\n",
    "\n",
    "Accessing elements\n",
    "print(nested[0])     # (1, 2)\n",
    "print(nested[0][1])  # 2\n",
    "\n",
    "Iterating through nested tuples\n",
    "for a, b in nested:\n",
    "    print(f\"a = {a}, b = {b}\")\n",
    "\n",
    "Looping with Unpacking\n",
    "pairs = [(1, 'a'), (2, 'b'), (3, 'c')]\n",
    "\n",
    "for number, letter in pairs:\n",
    "    print(f\"{number} => {letter}\")\n",
    "\n",
    "With enumerate:\n",
    "words = ['alpha', 'beta', 'gamma']\n",
    "for i, word in enumerate(words):\n",
    "    print(f\"{i}: {word}\")\n"
   ]
  },
  {
   "cell_type": "code",
   "execution_count": 42,
   "id": "d021ef79",
   "metadata": {},
   "outputs": [
    {
     "data": {
      "text/plain": [
       "list"
      ]
     },
     "execution_count": 42,
     "metadata": {},
     "output_type": "execute_result"
    }
   ],
   "source": [
    "a, *b, c = (1, 2, 3, 4, 5)\n",
    "type(b)"
   ]
  },
  {
   "cell_type": "code",
   "execution_count": 43,
   "id": "8659f964",
   "metadata": {},
   "outputs": [
    {
     "data": {
      "text/plain": [
       "(1, 2, 3, 1, 2, 3)"
      ]
     },
     "execution_count": 43,
     "metadata": {},
     "output_type": "execute_result"
    }
   ],
   "source": [
    "t=(1,2,3)\n",
    "t2= t + (4, 5)    # (1, 2, 3, 4, 5)\n",
    "t3=t * 2         # (1, 2, 3, 1, 2, 3)\n",
    "t3"
   ]
  },
  {
   "cell_type": "code",
   "execution_count": 44,
   "id": "1ab57e26",
   "metadata": {},
   "outputs": [
    {
     "name": "stdout",
     "output_type": "stream",
     "text": [
      "a = 1, b = 2\n",
      "a = 3, b = 4\n",
      "a = 5, b = 6\n"
     ]
    }
   ],
   "source": [
    "nested = ((1, 2), (3, 4), (5, 6))\n",
    "for a, b in nested:\n",
    "    print(f\"a = {a}, b = {b}\")"
   ]
  },
  {
   "cell_type": "markdown",
   "id": "4c60a1a6",
   "metadata": {},
   "source": [
    "The most relevant commands and properties with list:\n",
    "my_list.append(10)        # Add to end\n",
    "my_list.insert(1, 99)     # Insert at index 1\n",
    "my_list.extend([4, 5])    # Add multiple elements\n",
    "\n",
    "my_list.remove(\"a\")       # Remove first matching value\n",
    "my_list.pop()             # Remove last element\n",
    "my_list.pop(2)            # Remove at index 2\n",
    "my_list.clear()           # Remove all items\n",
    "\n",
    "my_list.index(3)          # Index of first occurrence\n",
    "my_list.count(\"b\")        # Count occurrences of \"b\"\n",
    "\n",
    "my_list.sort()            # Sort list in place\n",
    "my_list.reverse()         # Reverse list in place\n",
    "\n",
    "#For non-destructive sorting\n",
    "sorted_list = sorted(my_list)\n",
    "reversed_list = list(reversed(my_list))\n",
    "\n",
    "for item in my_list:\n",
    "    print(item)\n",
    "\n",
    "#With index\n",
    "for i, item in enumerate(my_list):\n",
    "    print(i, item)\n",
    "\n",
    "#List comprehension\n",
    "squares = [x**2 for x in range(5)]  # [0, 1, 4, 9, 16]\n",
    "\n",
    "3 in my_list        # True if 3 is in the list\n",
    "\"x\" not in my_list  # True if \"x\" is not\n",
    "\n",
    "#Flatten a nested list (1 level deep)\n",
    "nested = [[1, 2], [3, 4]]\n",
    "flat = [item for sublist in nested for item in sublist]\n",
    "\n",
    "#Remove duplicates (order not guaranteed)\n",
    "unique = list(set(my_list))\n",
    "\n",
    "#Deep copy, native copy() method for list is always a shallow copy\n",
    "import copy\n",
    "\n",
    "original = [[1, 2], [3, 4]]\n",
    "deep = copy.deepcopy(original)\n",
    "\n",
    "deep[0][0] = 999\n",
    "\n",
    "print(original)  # [[1, 2], [3, 4]] ✅ Safe\n",
    "print(deep)      # [[999, 2], [3, 4]]\n"
   ]
  },
  {
   "cell_type": "code",
   "execution_count": 45,
   "id": "412e4d83",
   "metadata": {},
   "outputs": [
    {
     "data": {
      "text/plain": [
       "[1, 0, 1, 0, 1, 0, 1, 0, 1, 0]"
      ]
     },
     "execution_count": 45,
     "metadata": {},
     "output_type": "execute_result"
    }
   ],
   "source": [
    "#my_list=[1 for x in range(10) if x%2==0]\n",
    "my_list=[1 if x%2==0 else 0 for x in range(10)]\n",
    "my_list"
   ]
  },
  {
   "cell_type": "markdown",
   "id": "1c557869",
   "metadata": {},
   "source": [
    "The most relevant commands and properties with set:\n",
    "s.add(4)         # Add element\n",
    "s.remove(2)      # Remove element (raises error if not found)\n",
    "s.discard(2)     # Remove if present (no error)\n",
    "s.pop()          # Remove and return arbitrary element\n",
    "s.clear()        # Empty the set\n",
    "\n",
    "a = {1, 2, 3}\n",
    "b = {3, 4, 5}\n",
    "\n",
    "\n",
    "Union a.union(b)\n",
    "Intersection  a & b or a.intersection(b)  {3}\n",
    "Difference  a - b or a.difference(b)   {1, 2}\n",
    "Symmetric Difference   a ^ b or a.symmetric_difference(b)   {1, 2, 4, 5}\n",
    "Subset   a <= b or a.issubset(b)   False\n",
    "Superset   a >= b or a.issuperset(b)   False\n",
    "Disjoint   a.isdisjoint(b)   False\n",
    "isdisjoint() method checks whether two sets have any common elements. If no common elements exist, it returns True ; otherwise, it returns False\n",
    "\n",
    "Looping Through a Set\n",
    "for item in s:\n",
    "    print(item)\n",
    "\n",
    "Membership Testing\n",
    "3 in s         # True if 3 is in the set\n",
    "5 not in s     # True if 5 is not in the set\n",
    "\n",
    "Set Comprehension\n",
    "squared = {x**2 for x in range(5)} # {0, 1, 4, 9, 16}\n",
    "\n",
    "Frozen Sets (Immutable Sets)\n",
    "fs = frozenset([1, 2, 3])\n",
    "#fs.add(4) → ❌ will raise an error\n"
   ]
  },
  {
   "cell_type": "code",
   "execution_count": 46,
   "id": "b211ae91",
   "metadata": {},
   "outputs": [
    {
     "data": {
      "text/plain": [
       "{1, 2, 3, 4, 5}"
      ]
     },
     "execution_count": 46,
     "metadata": {},
     "output_type": "execute_result"
    }
   ],
   "source": [
    "a = {1, 2, 3}\n",
    "b = {3, 4, 5}\n",
    "\n",
    "a.union(b)\n"
   ]
  },
  {
   "cell_type": "code",
   "execution_count": 47,
   "id": "b9d46f7e",
   "metadata": {},
   "outputs": [
    {
     "data": {
      "text/plain": [
       "{3}"
      ]
     },
     "execution_count": 47,
     "metadata": {},
     "output_type": "execute_result"
    }
   ],
   "source": [
    "a.intersection(b)"
   ]
  },
  {
   "cell_type": "code",
   "execution_count": 48,
   "id": "72076c5b",
   "metadata": {},
   "outputs": [
    {
     "data": {
      "text/plain": [
       "{4, 5}"
      ]
     },
     "execution_count": 48,
     "metadata": {},
     "output_type": "execute_result"
    }
   ],
   "source": [
    "b.difference(a)"
   ]
  },
  {
   "cell_type": "code",
   "execution_count": 49,
   "id": "16553fa6",
   "metadata": {},
   "outputs": [
    {
     "data": {
      "text/plain": [
       "{1, 2}"
      ]
     },
     "execution_count": 49,
     "metadata": {},
     "output_type": "execute_result"
    }
   ],
   "source": [
    "a.difference(b)"
   ]
  },
  {
   "cell_type": "code",
   "execution_count": 50,
   "id": "f98cc853",
   "metadata": {},
   "outputs": [
    {
     "data": {
      "text/plain": [
       "{1, 2, 4, 5}"
      ]
     },
     "execution_count": 50,
     "metadata": {},
     "output_type": "execute_result"
    }
   ],
   "source": [
    "a.symmetric_difference(b) "
   ]
  },
  {
   "cell_type": "code",
   "execution_count": 51,
   "id": "d7106a91",
   "metadata": {},
   "outputs": [
    {
     "data": {
      "text/plain": [
       "dict"
      ]
     },
     "execution_count": 51,
     "metadata": {},
     "output_type": "execute_result"
    }
   ],
   "source": [
    "text = \"hello hello world\"\n",
    "freq = {}\n",
    "for word in text.split():\n",
    "    freq[word] = freq.get(word, 0) + 1\n",
    "type(freq)"
   ]
  },
  {
   "cell_type": "markdown",
   "id": "afeeee80",
   "metadata": {},
   "source": [
    "The most relevant commands and properties with dictionary:\n",
    "my_dict = {\"name\": \"Alice\", \"age\": 25}\n",
    "my_dict = dict(name=\"Bob\", age=30)\n",
    "my_dict = dict([(\"a\", 1), (\"b\", 2)])\n",
    "\n",
    "my_dict[\"name\"]        # Get value\n",
    "my_dict[\"age\"] = 26    # Update value\n",
    "my_dict[\"city\"] = \"NY\" # Add key-value pair\n",
    "\n",
    "my_dict.keys()         # dict_keys(['name', 'age', 'city'])\n",
    "my_dict.values()       # dict_values(['Alice', 25, 'NY'])\n",
    "my_dict.items()        # dict_items([('name', 'Alice'), ...])\n",
    "\n",
    "my_dict.setdefault(\"country\", \"USA\") #Adds key only if it doesn't exist\n",
    "\n",
    "my_dict.update({\"age\": 28, \"gender\": \"female\"})  # Merge/update\n",
    "\n",
    "my_dict.pop(\"age\")           # Removes key & returns its value\n",
    "my_dict.popitem()            # Removes and returns last (key, value)\n",
    "del my_dict[\"city\"]          # Deletes key from dict\n",
    "my_dict.clear()              # Removes all items\n",
    "\n",
    "len(my_dict)                # Number of key-value pairs\n",
    "\"age\" in my_dict            # Membership test\n",
    "list(my_dict)               # List of keys\n",
    "\n",
    "#Keys only\n",
    "for key in my_dict:\n",
    "    print(key)\n",
    "\n",
    "#Keys and values\n",
    "for key, value in my_dict.items():\n",
    "    print(f\"{key}: {value}\")\n",
    "\n",
    "#Dictionary Comprehension\n",
    "squares = {x: x**2 for x in range(5)} #{0: 0, 1: 1, 2: 4, 3: 9, 4: 16}\n",
    "\n",
    "shallow = my_dict.copy()         # Shallow copy\n",
    "import copy\n",
    "deep = copy.deepcopy(my_dict)    # Deep copy (for nested dicts)\n",
    "\n",
    "#Nesting & Complex Structures\n",
    "people = {\n",
    "    \"alice\": {\"age\": 25, \"city\": \"Paris\"},\n",
    "    \"bob\": {\"age\": 30, \"city\": \"NY\"}\n",
    "}\n",
    "\n",
    "Task                                | Method or Function\n",
    "Get value (safe)                    | dict.get(key)\n",
    "Add or update key                   | dict[key] = value\n",
    "Add default if missing              | setdefault()\n",
    "#Interesting use of setdefault():\n",
    "from collections import defaultdict  # or just use setdefault manually\n",
    "\n",
    "data = [(\"fruit\", \"apple\"), (\"fruit\", \"banana\"), (\"veg\", \"carrot\")]\n",
    "\n",
    "grouped = {}\n",
    "for category, item in data:\n",
    "    grouped.setdefault(category, []).append(item)\n",
    "\n",
    "print(grouped) # {'fruit': ['apple', 'banana'], 'veg': ['carrot']}\n",
    "\n",
    "Loop through key–value pairs        | for k, v in dict.items()\n",
    "Merge two dicts                     | dict.update()\n",
    "Create from keys                    | dict.fromkeys(keys,defaultvalue) - This method creates a new dictionary with the specified keys (a list of keys) and all values set to the same default, None by defualt.\n",
    "keys = [\"a\", \"b\", \"c\"]\n",
    "my_dict = dict.fromkeys(keys)\n",
    "\n",
    "print(my_dict)# Output: {'a': None, 'b': None, 'c': None}\n"
   ]
  },
  {
   "cell_type": "code",
   "execution_count": 52,
   "id": "01e86f83",
   "metadata": {},
   "outputs": [
    {
     "data": {
      "text/plain": [
       "30"
      ]
     },
     "execution_count": 52,
     "metadata": {},
     "output_type": "execute_result"
    }
   ],
   "source": [
    "my_dict = dict(name=\"Bob\", age=30, surname=\"Dod\", age_one=36)\n",
    "my_dict \n",
    "my_dict.get(\"age\")"
   ]
  },
  {
   "cell_type": "code",
   "execution_count": 53,
   "id": "fa4c3fd0",
   "metadata": {},
   "outputs": [
    {
     "data": {
      "text/plain": [
       "{'a': 1, 'b': 2}"
      ]
     },
     "execution_count": 53,
     "metadata": {},
     "output_type": "execute_result"
    }
   ],
   "source": [
    "my_dict = dict([(\"a\", 1), (\"b\", 2)])\n",
    "my_dict "
   ]
  },
  {
   "cell_type": "markdown",
   "id": "8355a350",
   "metadata": {},
   "source": [
    "The most relevant commands and properties with strings:\n",
    "s.lower()        # 'hello'\n",
    "s.upper()        # 'HELLO'\n",
    "s.capitalize()   # 'Hello'\n",
    "s.title()        # 'Hello World'\n",
    "s.strip()        # removes leading/trailing whitespace\n",
    "s.replace(\"l\", \"x\")  # 'hexxo'\n",
    "s.startswith(\"he\")  # True\n",
    "s.endswith(\"lo\")    # True\n",
    "s.find(\"l\")         # 2 (first index of 'l')\n",
    "s.rfind(\"l\")        # 3 (last index of 'l')\n",
    "s.count(\"l\")        # 2\n",
    "s.isalpha()      # True if only letters\n",
    "s.isdigit()      # True if only digits\n",
    "s.isalnum()      # True if alphanumeric\n",
    "s.isspace()      # True if only whitespace\n",
    "s.islower()      # True if all lowercase\n",
    "s.isupper()      # True if all uppercase\n",
    "\"hello world\".split()        # ['hello', 'world']\n",
    "\"one,two,three\".split(\",\")   # ['one', 'two', 'three']\n",
    "\"-\".join(['a', 'b', 'c'])    # 'a-b-c'\n",
    "s.center(10)      # '  hello   '\n",
    "s.ljust(10, '*')  # 'hello*****'\n",
    "s.rjust(10, '-')  # '-----hello'\n",
    "\n",
    "\n",
    "String Formatting\n",
    "f-strings (Recommended in Python 3.6+)\n",
    "name = \"Alice\"\n",
    "f\"Hello, {name}!\"  # 'Hello, Alice!'\n",
    "\n"
   ]
  },
  {
   "cell_type": "markdown",
   "id": "99ad1561",
   "metadata": {},
   "source": [
    "The most used relevant basic python functions:\n",
    "len(t)       # Number of elements\n",
    "min(t)       # Minimum (if elements are comparable)\n",
    "max(t)       # Maximum\n",
    "sum(t)       # Sum of numeric elements\n",
    "enumerate() is a built-in function that adds a counter to an iterable (like a list, tuple, string, etc.) and returns it as an enumerate object, which you can loop through.\n",
    "sorted(s)        # returns a sorted list of characters.can be called on a set, but still returns a sorted list\n",
    "list(s)          # converts to list of characters\n",
    "ord('A')         # 65 (ASCII code)\n",
    "chr(65)          # 'A'\n"
   ]
  },
  {
   "cell_type": "code",
   "execution_count": 54,
   "id": "66b5ab74",
   "metadata": {},
   "outputs": [
    {
     "name": "stdout",
     "output_type": "stream",
     "text": [
      "[5, 7, 9]\n"
     ]
    }
   ],
   "source": [
    "#Map example\n",
    "a = [1, 2, 3]\n",
    "b = [4, 5, 6]\n",
    "\n",
    "summed = list(map(lambda x, y: x + y, a, b)) #map(function, list), here function is lambda x, y: x + y and the two arguments are two list a and b\n",
    "# The reason that the addition happens element ist that map work on the first element of a and a first element of b\n",
    "# The return value is a1+b1, and it is that added to a list\n",
    "print(summed)\n",
    "# Output: [5, 7, 9]\n"
   ]
  },
  {
   "cell_type": "code",
   "execution_count": 55,
   "id": "c7b153e4",
   "metadata": {},
   "outputs": [
    {
     "data": {
      "text/plain": [
       "[1, 2, 3, 4, 5, 6]"
      ]
     },
     "execution_count": 55,
     "metadata": {},
     "output_type": "execute_result"
    }
   ],
   "source": [
    "a = [1, 2, 3]\n",
    "b = [4, 5, 6]\n",
    "a+b"
   ]
  },
  {
   "cell_type": "markdown",
   "id": "c40f1a51",
   "metadata": {},
   "source": [
    "## ndarray svojstva"
   ]
  },
  {
   "cell_type": "code",
   "execution_count": 56,
   "id": "c16040ad",
   "metadata": {},
   "outputs": [
    {
     "data": {
      "text/plain": [
       "5"
      ]
     },
     "execution_count": 56,
     "metadata": {},
     "output_type": "execute_result"
    }
   ],
   "source": [
    "# property size dohvaca broj elemenatata u nizu\n",
    "import numpy as np\n",
    "polje=np.array([1,2,3,4,5])\n",
    "polje.size\n"
   ]
  },
  {
   "cell_type": "code",
   "execution_count": 57,
   "id": "b06dc02f",
   "metadata": {},
   "outputs": [
    {
     "data": {
      "text/plain": [
       "9"
      ]
     },
     "execution_count": 57,
     "metadata": {},
     "output_type": "execute_result"
    }
   ],
   "source": [
    "polje_ndim=np.array([[1,2,3],[4,5,6], [7,8,9]])\n",
    "polje_ndim.size"
   ]
  },
  {
   "cell_type": "code",
   "execution_count": 58,
   "id": "14713bb4",
   "metadata": {},
   "outputs": [
    {
     "data": {
      "text/plain": [
       "array([[1],\n",
       "       [2],\n",
       "       [3]])"
      ]
     },
     "execution_count": 58,
     "metadata": {},
     "output_type": "execute_result"
    }
   ],
   "source": [
    "# Bitno za definiciju polja:\n",
    "np.array([1, 2, 3]) # shape je (3,) ovo je 1D vektor s 3 elementa, nema redaka ni stupaca\n",
    "np.array([[1,2,3]]) # ovdje je shape (1, 3) 1 redak   i 3 stupca, znaci 2D matrica\n",
    "np.array([[1],[2],[3]]) # ovdje je shape (3, 1) 3 retka  i 1 stupac, znaci 2D matrica"
   ]
  },
  {
   "cell_type": "code",
   "execution_count": 59,
   "id": "1b61e403",
   "metadata": {},
   "outputs": [
    {
     "name": "stdout",
     "output_type": "stream",
     "text": [
      "1\n",
      "2\n",
      "3\n"
     ]
    }
   ],
   "source": [
    "# property ndim dohvaca broj dimenzija ndarray tipa. Za niz je to 1, za matricu je 2. \n",
    "# Ako bi array bio napravljen od dvije liste, a svaka lista sadrzi jos dvije liste. onda bi rezultat bio 3\n",
    "print(polje.ndim)\n",
    "print(polje_ndim.ndim)\n",
    "\n",
    "polje_3dim=np.array([\n",
    "    [[1, 2], [3, 4]],\n",
    "    [[5, 6], [7, 8]]\n",
    "])\n",
    "print(polje_3dim.ndim)"
   ]
  },
  {
   "cell_type": "code",
   "execution_count": 60,
   "id": "7be8afd6",
   "metadata": {},
   "outputs": [
    {
     "name": "stdout",
     "output_type": "stream",
     "text": [
      "(5,)\n",
      "(3, 3)\n",
      "(2, 2, 2)\n"
     ]
    }
   ],
   "source": [
    "# property shape vraca tuple koji govori koliko je ndarray velik po dimenzijama\n",
    "print(polje.shape)\n",
    "print(polje_ndim.shape)\n",
    "print(polje_3dim.shape)"
   ]
  },
  {
   "cell_type": "code",
   "execution_count": 61,
   "id": "254746a3",
   "metadata": {},
   "outputs": [
    {
     "name": "stdout",
     "output_type": "stream",
     "text": [
      "int64\n",
      "8\n",
      "64\n"
     ]
    }
   ],
   "source": [
    "# ndarray je namijenjen za rad s velikim kolicinama podaka\n",
    "# property dtpye daje tip podatka u array\n",
    "# property itemsize daje podatak koliko memorije zauzima jedan podatak u arrayu\n",
    "# property nbytes daje podatak o zauzecu memorije u bytovima\n",
    "\n",
    "print(polje_3dim.dtype)\n",
    "print(polje_3dim.itemsize)\n",
    "print(polje_3dim.nbytes)\n"
   ]
  },
  {
   "cell_type": "markdown",
   "id": "784e5092",
   "metadata": {},
   "source": [
    "### ndarray metode i funkcije"
   ]
  },
  {
   "cell_type": "code",
   "execution_count": 62,
   "id": "b69b6575",
   "metadata": {},
   "outputs": [
    {
     "name": "stdout",
     "output_type": "stream",
     "text": [
      "(2, 2, 2)\n",
      "(2, 4)\n"
     ]
    }
   ],
   "source": [
    "# reshape metoda kojom se mijenja oblik odnosno shape array-a. prima tuple kao argument, ali umnozak argumenata mora biti isti kao i\n",
    "# umnozak velicina dimenzija pocetnog ndarray-a\n",
    "\n",
    "print(polje_3dim.shape) #umnozak dimenatija je 2x2x2=8\n",
    "polje_3dim=polje_3dim.reshape(2,4) # ne mijenja originalni objekt, treba assignati\n",
    "print(polje_3dim.shape)"
   ]
  },
  {
   "cell_type": "code",
   "execution_count": 63,
   "id": "34f2209b",
   "metadata": {},
   "outputs": [
    {
     "data": {
      "text/plain": [
       "array([[[0.],\n",
       "        [0.]],\n",
       "\n",
       "       [[0.],\n",
       "        [0.]],\n",
       "\n",
       "       [[0.],\n",
       "        [0.]]])"
      ]
     },
     "execution_count": 63,
     "metadata": {},
     "output_type": "execute_result"
    }
   ],
   "source": [
    "np.zeros((3,2,1)) # stvara ndarry dimenzije 3 samo s nulama"
   ]
  },
  {
   "cell_type": "code",
   "execution_count": 64,
   "id": "f04db72b",
   "metadata": {},
   "outputs": [
    {
     "data": {
      "text/plain": [
       "array([[[1.],\n",
       "        [1.]],\n",
       "\n",
       "       [[1.],\n",
       "        [1.]],\n",
       "\n",
       "       [[1.],\n",
       "        [1.]]])"
      ]
     },
     "execution_count": 64,
     "metadata": {},
     "output_type": "execute_result"
    }
   ],
   "source": [
    "np.ones((3,2,1)) # stvara ndarry dimenzije 3 samo s jedincama"
   ]
  },
  {
   "cell_type": "code",
   "execution_count": 65,
   "id": "b0d82e84",
   "metadata": {},
   "outputs": [
    {
     "data": {
      "text/plain": [
       "array([[[7],\n",
       "        [7]],\n",
       "\n",
       "       [[7],\n",
       "        [7]],\n",
       "\n",
       "       [[7],\n",
       "        [7]]])"
      ]
     },
     "execution_count": 65,
     "metadata": {},
     "output_type": "execute_result"
    }
   ],
   "source": [
    "np.full((3,2,1), 7) # stvara ndarry dimenzije 3 samo s sedmicama, vrijednost je drugi argument!"
   ]
  },
  {
   "cell_type": "code",
   "execution_count": 66,
   "id": "b805c2f0",
   "metadata": {},
   "outputs": [
    {
     "name": "stdout",
     "output_type": "stream",
     "text": [
      "[ 3  7 11]\n",
      "int64\n",
      "(3,)\n",
      "1\n"
     ]
    }
   ],
   "source": [
    "polje_arange=np.arange(3,15,4) # stvara 1D array pocevsi od 3, s korakom 4, do vrijednosti 15, 15 nije ukljucen\n",
    "print(polje_arange)\n",
    "print(polje_arange.dtype)\n",
    "print(polje_arange.shape)\n",
    "print(polje_arange.ndim)"
   ]
  },
  {
   "cell_type": "code",
   "execution_count": 67,
   "id": "18900956",
   "metadata": {},
   "outputs": [
    {
     "name": "stdout",
     "output_type": "stream",
     "text": [
      "[ 3.  5.  7.  9. 11. 13. 15.]\n",
      "float64\n",
      "(7,)\n",
      "1\n"
     ]
    }
   ],
   "source": [
    "polje_linspace=np.linspace(3,15,7) # kreira 1D array s pocetkom 3, krajem na 14(ukljuceno) i daje 7 elemenata\n",
    "print(polje_linspace)\n",
    "print(polje_linspace.dtype)\n",
    "print(polje_linspace.shape)\n",
    "print(polje_linspace.ndim)"
   ]
  },
  {
   "cell_type": "code",
   "execution_count": 68,
   "id": "c86c69f1",
   "metadata": {},
   "outputs": [
    {
     "name": "stdout",
     "output_type": "stream",
     "text": [
      "[[ 0.70973473  0.72511005 -1.92685009 -0.76517046  2.14002484]\n",
      " [ 0.12526944  1.51771721 -0.67011198 -0.83258398  0.31749146]\n",
      " [ 0.29431618 -0.54355047 -0.17480256  0.68994531  0.90986402]\n",
      " [-0.82630892  1.7963247  -1.08331448  0.72770201  0.83796592]]\n",
      "float64\n",
      "(4, 5)\n",
      "2\n"
     ]
    }
   ],
   "source": [
    "#ndarray slucajnih brojeva, funkciji se predaje velicine dimenzija\n",
    "\n",
    "polje_random=np.random.randn(4,5)\n",
    "print(polje_random)\n",
    "print(polje_random.dtype)\n",
    "print(polje_random.shape)\n",
    "print(polje_random.ndim)"
   ]
  },
  {
   "cell_type": "code",
   "execution_count": 69,
   "id": "7a979efc",
   "metadata": {},
   "outputs": [
    {
     "name": "stdout",
     "output_type": "stream",
     "text": [
      "Niz1:  [-4. -3. -2. -1.  0.  1.  2.  3.  4.]\n",
      "Niz2:  [ 0.45182395  2.69414775  0.48776326 -2.09653973  0.43754633 -1.10945259\n",
      "  1.64828193 -0.58479666  0.0043087 ]\n",
      "Konkatenirani niz:  [-4.         -3.         -2.         -1.          0.          1.\n",
      "  2.          3.          4.          0.45182395  2.69414775  0.48776326\n",
      " -2.09653973  0.43754633 -1.10945259  1.64828193 -0.58479666  0.0043087 ]\n",
      "Konkatenirani niz- dimenzija:  (18,)\n",
      "Vstack niz:  [[-4.         -3.         -2.         -1.          0.          1.\n",
      "   2.          3.          4.        ]\n",
      " [ 0.45182395  2.69414775  0.48776326 -2.09653973  0.43754633 -1.10945259\n",
      "   1.64828193 -0.58479666  0.0043087 ]]\n",
      "Vstack niz - dimenzija:  (2, 9)\n",
      "Hstack niz:  [-4.         -3.         -2.         -1.          0.          1.\n",
      "  2.          3.          4.          0.45182395  2.69414775  0.48776326\n",
      " -2.09653973  0.43754633 -1.10945259  1.64828193 -0.58479666  0.0043087 ]\n",
      "Hstack niz - dimenzija:  (18,)\n"
     ]
    }
   ],
   "source": [
    "# za povezivanje i razdvajanje\n",
    "\n",
    "# Funkcija concatenate (generalizacij hstack i vstack)\n",
    "niz1=np.linspace(-4,4,9)\n",
    "niz2=np.random.randn(9)\n",
    "print(\"Niz1: \", niz1)\n",
    "print(\"Niz2: \", niz2)\n",
    "\n",
    "# axis=0 is join along rows, axis =1 columns. In a 1D array, only axis 0 existis, concatenate elements\n",
    "niz_concat=np.concatenate([niz1, niz2], axis=0) # primjeti listu\n",
    "print(\"Konkatenirani niz: \", niz_concat)\n",
    "print(\"Konkatenirani niz- dimenzija: \", niz_concat.shape)\n",
    "\n",
    "# Funkcija vstack\n",
    "niz_vstack=np.vstack([niz1, niz2])\n",
    "print(\"Vstack niz: \", niz_vstack)\n",
    "print(\"Vstack niz - dimenzija: \", niz_vstack.shape) # mijenja se dimenzija \n",
    "# Funkcija hstack\n",
    "niz_hstack=np.hstack([niz1, niz2])\n",
    "print(\"Hstack niz: \", niz_hstack)\n",
    "print(\"Hstack niz - dimenzija: \", niz_hstack.shape)\n",
    "\n",
    "\n"
   ]
  },
  {
   "cell_type": "code",
   "execution_count": 70,
   "id": "a6e3bf3c",
   "metadata": {},
   "outputs": [
    {
     "name": "stdout",
     "output_type": "stream",
     "text": [
      "[16.  9.  4.  1.  0.  1.  8. 27. 64.]\n",
      "[ 16.   9.   4.  -1.   0.   1.  16.  81. 256.]\n",
      "Nonunique:  [1. 1. 1. 1. 1. 1. 1. 1. 1.]\n",
      "Unique:  [1.]\n",
      "Sortiran:  [-1.25592918 -0.96894221 -0.8688544  -0.78479919 -0.19537297 -0.08358528\n",
      "  0.1509369   0.43484466  1.43661817]\n"
     ]
    }
   ],
   "source": [
    "# Za filtriranje i sortiranje vrijednosti elemenata u nizovima koristi se where, select, unique i sort\n",
    "# where\n",
    "niz=np.linspace(-4,4,9)\n",
    "niz_where=np.where(niz<0, niz**2, niz**3) # funkcija ne mijenja originalni niz, treba assign\n",
    "print(niz_where)\n",
    "\n",
    "# select - prima listu uvjeta i nakon nje listu operacija koje se izvrsavaju ako je uvjet zadovoljen\n",
    "niz_select=np.select([niz<-1, niz<2,niz>=2], [niz**2,niz**3, niz**4]) # funkcija ne mijenja originalni niz, treba assign\n",
    "print(niz_select)\n",
    "\n",
    "# unique - izbacuje sve duplikate iz niza\n",
    "niz_nonunique=np.ones((9,))\n",
    "print(\"Nonunique: \", niz_nonunique)\n",
    "niz_unique=np.unique(niz_nonunique)\n",
    "print(\"Unique: \", niz_unique)\n",
    "\n",
    "#sort - sortira niz\n",
    "niz_random=np.random.randn(9)\n",
    "niz_sortiran=np.sort(niz_random)\n",
    "print(\"Sortiran: \", niz_sortiran)"
   ]
  },
  {
   "cell_type": "markdown",
   "id": "6c70bf0b",
   "metadata": {},
   "source": [
    "__Dijeljenje i spajanje array-a__\n",
    "\n",
    "arr.shape is (4, 4) — 4 rows and 4 columns.\n",
    "<div class=\"alert alert-block alert-info\">\n",
    "arr = np.array([\n",
    "    [ 1,  2,  3,  4],\n",
    "    [ 5,  6,  7,  8],\n",
    "    [ 9, 10, 11, 12],\n",
    "    [13, 14, 15, 16]\n",
    "]) \n",
    "</div>\n",
    "\n",
    "1. np.split() - Splits along a specific axis, which you must specify manually.\n",
    "\n",
    "        1. Split into 2 parts along axis 1 (columns)\n",
    "<div class=\"alert alert-block alert-info\">\n",
    "        split_arr = np.split(arr, 2, axis=1)\n",
    "        </br>\n",
    "        [array([[ 1,  2],\n",
    "                [ 5,  6],\n",
    "                [ 9, 10],\n",
    "                [13, 14]]),\n",
    "        array([ [ 3,  4],\n",
    "                [ 7,  8],\n",
    "                [11, 12],\n",
    "                [15, 16]])]\n",
    "</div>\n",
    "\n",
    "This split it vertically (like hsplit), because we told it to split along columns (axis=1).\n",
    "\n",
    "2. np.hsplit() - This is shorthand for splitting horizontally (splitting columns).\n",
    "hsplit_arr = np.hsplit(arr, 2)\n",
    "Same result as split(..., axis=1)!\n",
    "\n",
    "3. np.vsplit() - This splits vertically (splitting rows).\n",
    "vsplit_arr = np.vsplit(arr, 2)\n",
    "\n",
    "<div class=\"alert alert-block alert-info\">\n",
    "        vsplit_arr = np.vsplit(arr, 2)\n",
    "        </br>\n",
    "        [array([[1,  2,  3,  4],\n",
    "        [5,  6,  7,  8]]),\n",
    "        array([[ 9, 10, 11, 12],\n",
    "        [13, 14, 15, 16]])]\n",
    "</div>\n",
    "\n",
    "Each part has 2 rows and 4 columns — so we split it horizontally across the middle (more rows).\n"
   ]
  },
  {
   "cell_type": "markdown",
   "id": "845e045d",
   "metadata": {},
   "source": [
    "__Spremanje i ucitavanje arraya__\n",
    "\n",
    "Array se moze pospremiti u datoteku, nastane datoteka .npy i ucitati iz datotekte. Naredbe su:\n",
    "\n",
    "- np.save('ime_datoteke', array)\n",
    "- ucitani_array=np.load('ime_datoteke.npy')"
   ]
  },
  {
   "cell_type": "markdown",
   "id": "303fb0cf",
   "metadata": {},
   "source": [
    "__slicing array-a__"
   ]
  },
  {
   "cell_type": "code",
   "execution_count": 71,
   "id": "9d4c0bd2",
   "metadata": {},
   "outputs": [
    {
     "name": "stdout",
     "output_type": "stream",
     "text": [
      "[1 2 3 4]\n",
      "[5 6 7 8]\n",
      "[1 2 3 4 5]\n",
      "[1 3]\n",
      "[6 7]\n"
     ]
    }
   ],
   "source": [
    "polje_3dim\n",
    "#array([[1, 2, 3, 4],\n",
    "#       [5, 6, 7, 8]])\n",
    "\n",
    "# prvi redak\n",
    "print(polje_3dim[0])\n",
    "# drugi redak\n",
    "print(polje_3dim[1])\n",
    "# polje_3dim[2] ce vratit gresku da index-a nema, ali polje_3dim[1:7], iako dalje od 1 ni nema, ce samo ispisati redak 1\n",
    "print(polje)#1D polje\n",
    "#[1 2 3 4 5]\n",
    "print(polje[0:3:2]) #za 1D ovo znaci idi od 0 do 3 elementa, s korakom 2, ne ukljucujuci 3ci\n",
    "#za visedimenzionalne array-e\n",
    "# iz retka s indexom 1, uzmi podatke iz stupaca s indexom 1 do 3, 3 nije ukljuceno s korakom 1\n",
    "print(polje_3dim[1,1:3:1])"
   ]
  },
  {
   "cell_type": "markdown",
   "id": "73f115f7",
   "metadata": {},
   "source": [
    "__Linerarna algebra__\n",
    "\n",
    "1. **Vektori**\n",
    "- Vektore mozemo zbrajati, oduzima i mnoziti sa skalarom\n",
    "- Dulijnu vektora(aka normu) racunamo: np.linalg.norm(vektor)\n",
    "2. **Matrice**\n",
    "- Podrazumijeva se da ima vise od jedne dimenzije\n",
    "- Matrice mozemo zbrajati, oduzima i mnoziti sa skalarom\n",
    "- Matricno mnozenje je posebni nacin mnozenja prema definiciji iz linearne algebre"
   ]
  },
  {
   "cell_type": "code",
   "execution_count": 72,
   "id": "f250f756",
   "metadata": {},
   "outputs": [
    {
     "name": "stdout",
     "output_type": "stream",
     "text": [
      "[[2 0 3]]\n",
      "2\n",
      "(1, 3)\n"
     ]
    }
   ],
   "source": [
    "A=np.matrix([2,0,3])\n",
    "print(A)\n",
    "print(A.ndim)\n",
    "print(A.shape)"
   ]
  },
  {
   "cell_type": "code",
   "execution_count": 73,
   "id": "5a8b74c2",
   "metadata": {},
   "outputs": [
    {
     "name": "stdout",
     "output_type": "stream",
     "text": [
      "[2 0 3]\n",
      "1\n",
      "(3,)\n"
     ]
    }
   ],
   "source": [
    "B=np.array([2,0,3])\n",
    "print(B)\n",
    "print(B.ndim)\n",
    "print(B.shape)"
   ]
  },
  {
   "cell_type": "code",
   "execution_count": 74,
   "id": "2cb4f59c",
   "metadata": {},
   "outputs": [
    {
     "data": {
      "text/plain": [
       "matrix([[2, 1],\n",
       "        [0, 4],\n",
       "        [3, 1]])"
      ]
     },
     "execution_count": 74,
     "metadata": {},
     "output_type": "execute_result"
    }
   ],
   "source": [
    "A=np.matrix([[2,0,3],[1,4,1]])\n",
    "np.transpose(A)"
   ]
  },
  {
   "cell_type": "code",
   "execution_count": 89,
   "id": "2a36c4b4",
   "metadata": {},
   "outputs": [
    {
     "name": "stdout",
     "output_type": "stream",
     "text": [
      "[[2. 0. 3.]\n",
      " [1. 4. 1.]\n",
      " [1. 1. 1.]]\n"
     ]
    },
    {
     "data": {
      "text/plain": [
       "matrix([[-1.        , -1.        ,  4.        ],\n",
       "        [ 0.        ,  0.33333333, -0.33333333],\n",
       "        [ 1.        ,  0.66666667, -2.66666667]])"
      ]
     },
     "execution_count": 89,
     "metadata": {},
     "output_type": "execute_result"
    }
   ],
   "source": [
    "# definiranje objekta matrice\n",
    "A=np.matrix([[2,0,3],[1,4,1]])\n",
    "B=np.matrix([[1,1,1],[2,3,4]])\n",
    "# Matricno mnozenje objekata matrix \n",
    "C=A*B.T # operator *\n",
    "# Elementwise mnozenje objekata tupa matrix\n",
    "C=np.multiply(A,B)\n",
    "# Matricno mnozenje objekata tipa ndarray, npr. za nizove\n",
    "np.array([1,2,3]) @ np.array([4,5,6,])\n",
    "\n",
    "# Jedincna matrica\n",
    "I=np.identity(5) #uvijek kvadratna, dobije se matrica velicine 5x5, ali objekt je ndarray, ne matrix\n",
    "\n",
    "# Transponirana matrica\n",
    "# Moze se kreirati pomocu funkcije ili pomocu svojsta ili metode\n",
    "np.transpose(A)\n",
    "A.T #svojstvo\n",
    "A.transpose()\n",
    "\n",
    "ones= np.ones((1,3))\n",
    "\n",
    "A=np.vstack([A,ones])\n",
    "print(A)\n",
    "# Inverz matrice\n",
    "np.linalg.inv(A)\n",
    "\n",
    "# Za rjesavanje linearnih matricnih jednadzbi, kao primjer s pekarom, koristi se np.linalg.solve\n",
    "#x=np.linalg.solve(A, b.transpose())\n",
    "\n",
    "# Pseudoinverz matrice je genralizacija inverza matrice, a koristi se za trazenje linearnog modela koji najbolje opisuje podatke\n",
    "# Linerani koeficijenti pravca kojeg trazimo su k, b za  y=kx+b\n",
    "# Koristi se funkcija polyfit\n",
    "# x i y su nasi podaci, npr. x datumi, a y se izmjerene temperature\n",
    "#k, b=np.polyfit(x,y,1) "
   ]
  },
  {
   "cell_type": "markdown",
   "id": "9c53cb53",
   "metadata": {},
   "source": [
    "## Pandas - Dataframe & Series"
   ]
  },
  {
   "cell_type": "code",
   "execution_count": 52,
   "id": "c5ffdf5b",
   "metadata": {},
   "outputs": [
    {
     "name": "stdout",
     "output_type": "stream",
     "text": [
      "<class 'pandas.core.frame.DataFrame'>\n",
      "RangeIndex: 3 entries, 0 to 2\n",
      "Data columns (total 3 columns):\n",
      " #   Column   Non-Null Count  Dtype \n",
      "---  ------   --------------  ----- \n",
      " 0   Ime      3 non-null      object\n",
      " 1   Prezime  3 non-null      object\n",
      " 2   Bodovi   3 non-null      int64 \n",
      "dtypes: int64(1), object(2)\n",
      "memory usage: 204.0+ bytes\n"
     ]
    },
    {
     "name": "stderr",
     "output_type": "stream",
     "text": [
      "C:\\Users\\nikap\\AppData\\Local\\Temp\\ipykernel_10708\\2497691684.py:85: FutureWarning: DataFrame.interpolate with object dtype is deprecated and will raise in a future version. Call obj.infer_objects(copy=False) before interpolating instead.\n",
      "  data_frame.interpolate()\n",
      "C:\\Users\\nikap\\AppData\\Local\\Temp\\ipykernel_10708\\2497691684.py:86: FutureWarning: DataFrame.interpolate with object dtype is deprecated and will raise in a future version. Call obj.infer_objects(copy=False) before interpolating instead.\n",
      "  data_frame.interpolate(method='linear') #odabir metode interpolacije je bitan\n"
     ]
    },
    {
     "data": {
      "text/plain": [
       "0     2.0\n",
       "1    80.0\n",
       "2    64.0\n",
       "Name: Bodovi, dtype: float64"
      ]
     },
     "execution_count": 52,
     "metadata": {},
     "output_type": "execute_result"
    }
   ],
   "source": [
    "import pandas as pd\n",
    "# Dataframe je moguce kreirati iz dictionionary-a\n",
    "polaznici={'Ime':['Pero', 'Ivan','Josip'], 'Prezime':['Peric', 'Ivic', 'Novak'], 'Bodovi':[2,80,64] }\n",
    "data_frame=pd.DataFrame(polaznici)\n",
    "data_frame\n",
    "# Series se isto moze kreirari iz dioctionary-a, asamo kljuc postane index, a vrijednost su elementi retka.\n",
    "imena={'Prvi':'Marko', 'Drugi':'Pero','Treci':'Jan'}\n",
    "series=pd.Series(imena)\n",
    "\n",
    "\n",
    "#Dohvacanje po retcima\n",
    "data_frame.loc[0] # prvi redak po nazivu indexa\n",
    "series.loc['Prvi'] # prvi redak po nazivu indexa\n",
    "data_frame.iloc[0] # prvi redak po integeru indexa\n",
    "#dohvacanje po stupcima\n",
    "data_frame['Ime']\n",
    "data_frame.Ime\n",
    "# dohvacanje kombinacije redaka i stupaca - loc\n",
    "data_frame.loc[[0,2], ['Ime', 'Prezime']]\n",
    "# slice\n",
    "data_frame.iloc[0:2:1] #pocetak, kraj(ne ulazi) i skok\n",
    "\n",
    "# za prikaz bitni su head i tail metode; defaultno vraca 5 ako se argumnet ne navede\n",
    "data_frame.head(5)\n",
    "data_frame.tail(6)\n",
    "\n",
    "# citanje podataka iz csv-a\n",
    "podaci=pd.read_csv(r'C:\\Users\\nikap\\Downloads\\Data\\Data\\Filmovi\\movie_dataset.csv')\n",
    "# pisanje u csv\n",
    "data_frame.to_csv(r'C:\\Users\\nikap\\Downloads\\Data\\Data\\podaci.csv')\n",
    "\n",
    "# metoda info\n",
    "# vraca informacije o: tipu podatka po koloni, koliko je popunjenih celija po koloni\n",
    "# vraca informaciju o zauzecu memorije\n",
    "data_frame.info()\n",
    "\n",
    "# metoda describe\n",
    "# vraca statiticke podatke o dataframe, po deafultu samo za numericke kolone, npr. mean , min, max, std\n",
    "# ako predamo argiment include=\"all\" vratit ce mjere i za tekstualne kolone poput top ili frequency\n",
    "data_frame.describe(include='all')\n",
    "\n",
    "# property shape\n",
    "# vraca tupke s brojem redaka i stupaca; radi i za dataframe i za series (tj.dimenzije tablice)\n",
    "data_frame.shape\n",
    "series.shape\n",
    "\n",
    "# property columns\n",
    "#vraca nazive kolona u dataframe-u\n",
    "data_frame.columns\n",
    "\n",
    "# metoda isnull i isna\n",
    "# vraca novi dataframe gdje je boolean True i Falso ovisno o tome je li u originalnom dataframe-u vrijednost u koloni None ili Nan\n",
    "data_frame.isnull()\n",
    "# metoda copy - za kreiranje kopij dataframe-a\n",
    "kopijy=data_frame.copy()\n",
    "\n",
    "# metode drop(), dropna() i drop_duplicates()\n",
    "# brisanje stupaca opcenito\n",
    "data_frame.drop(columns=['Ime', 'Prezime']) # ne mijenja originalni dataframe\n",
    "# brisanje redaka opcenito\n",
    "data_frame.drop([1,2]) # ne mijenja originalni dataframe\n",
    "# brisanje redaka s dropna()\n",
    "data_frame.dropna() # default brise retke\n",
    "data_frame.dropna(how='all') # brise sve retke ciju su svi elementi prazni\n",
    "#brisanjes stupaca s dropna()\n",
    "data_frame.dropna(axis=1) #brise stupce\n",
    "data_frame.dropna(axis='columns') #brise stupce\n",
    "data_frame.dropna(axis='columns',how='all') # brise sve stupce ciju su svi elementi prazni\n",
    "# brisanje dupliciranih redaka s drop_duplicates()\n",
    "data_frame.drop_duplicates() # brise sve retko koji su duplicirani po svim stupcima\n",
    "\n",
    "# metoda fillna()\n",
    "# popunjavanja None ili NaN vrijednosti s fiksnom vrijednosti ili s fiksnom statistickom velicinom\n",
    "data_frame['Bodovi'].fillna(0) # popuni sve s nulom\n",
    "data_frame['Bodovi'].fillna(data_frame['Bodovi'].mean) # popuni sa srednjom vrijednosti kolone Bodovi\n",
    "\n",
    "# metoda replace()\n",
    "# zamijenja  postojeceg elementa s novim, cesto se koristi za korekciju nekonzistetnog ili praznog teksta\n",
    "data_frame['Ime'].replace(to_replace=['Luka', 'Marko'], value='Ivica')\n",
    "# moze se zvat nad cijelim dataframe-om ili samo nad jednim stupcem\n",
    "\n",
    "# metoda interpolate()\n",
    "# popunjava nedstajuce vrijednosti  interpolacijom izmedu poznatih vrijednosti\n",
    "# poredak podataka, posebno vremenski poredak, je bitan prije provedbe interpolacije\n",
    "data_frame.interpolate()\n",
    "data_frame.interpolate(method='linear') #odabir metode interpolacije je bitan\n",
    "\n",
    "# metoda sort_values() - sortiranje\n",
    "data_frame.sort_values(by=['Bodovi'], ascending=False)\n",
    "\n",
    "# metoda value_counts() - prebrajavanje podataka\n",
    "# vraca frekvenciju svakog jedinstvenog reda (kombinacije svih podataka po stupcima) u dataframe-u \n",
    "data_frame.value_counts()\n",
    "# obicno se poziva za konkretan stupac\n",
    "\n",
    "# filtriranje\n",
    "# AND je &, OR je |\n",
    "data_frame[(data_frame['Ime']=='Marko') & (data_frame['Bodovi']>50)]\n",
    "\n",
    "# metoda agg() agregacijska funkcija\n",
    "# Agregiramo podatak u dataframe s postojecom funckijom ili nekom koju smo sami napisali\n",
    "data_frame.agg(['sum','min'])\n",
    "# sum ce tesktualne podatke konkatenirati u jedan string\n",
    "\n",
    "# metoda corr() korelacija\n",
    "# vraca koeficijent linearne korelacije svake kolone sa svakom\n",
    "# treba biti specificirano da je numeric_only=True\n",
    "data_frame.corr(numeric_only=True)\n",
    "\n",
    "# groupby() metoda\n",
    "data_frame.groupby(['Ime'])['Bodovi'].mean()\n",
    "# bez da je specificirana agregacijska funkcija vraca samo DataFrameGroupBy objekt\n",
    "\n",
    "# pd.pivot_table funkcija\n",
    "# parametri su:\n",
    "# values - podaci po kojima zelimo agregirati\n",
    "# index - retci koje zelimo u tablici\n",
    "# columns - stupci koje zelimo u tablici\n",
    "# aggfunc - funkcija s kojom se radi agregacija\n",
    "pd.pivot_table(data_frame, values=['Bodovi'],index=[\"Ime\"],  columns=['Prezime'],  aggfunc='count')\n",
    "\n",
    "# transformacija string podataka u DataFrame-u\n",
    "data_frame['Ime'].str.capitalize() # nakon str property-a sve metode od stringa rade\n",
    "\n",
    "# metoda astype() za kastanje\n",
    "data_frame['Bodovi'].astype(float)"
   ]
  },
  {
   "cell_type": "markdown",
   "id": "7ecb1d0a",
   "metadata": {},
   "source": [
    "## Matplotlib"
   ]
  },
  {
   "cell_type": "code",
   "execution_count": null,
   "id": "f026a390",
   "metadata": {},
   "outputs": [
    {
     "data": {
      "text/plain": [
       "[<matplotlib.lines.Line2D at 0x1efc0fcfda0>]"
      ]
     },
     "execution_count": 6,
     "metadata": {},
     "output_type": "execute_result"
    },
    {
     "data": {
      "image/png": "[encoded data removed]",
      "text/plain": [
       "<Figure size 640x480 with 1 Axes>"
      ]
     },
     "metadata": {},
     "output_type": "display_data"
    }
   ],
   "source": [
    "import matplotlib.pyplot as plt\n",
    "import pandas as pd\n",
    "\n",
    "pod={\"temperatura\":[11111,22200,33030,40444,51234,60554,70050],\\\n",
    "      \"datum\":['2020-01','2020-02','2020-03','2020-04','2020-05','2020-06','2020-07']\n",
    "    }\n",
    "df=pd.DataFrame(pod)\n",
    "df.datum=pd.to_datetime(df.datum, format='%Y-%m')\n",
    "\n",
    "# osnovni plot\n",
    "plt.plot(df.datum, df.temperatura)\n",
    "# uz dodavanje stila\n",
    "plt.plot(df.datum, df.temperatura,'X:m') #marker, vrsta linije, boja"
   ]
  },
  {
   "cell_type": "code",
   "execution_count": null,
   "id": "80b0e9dd",
   "metadata": {},
   "outputs": [
    {
     "data": {
      "text/plain": [
       "[<matplotlib.lines.Line2D at 0x1efc11f2c30>]"
      ]
     },
     "execution_count": 20,
     "metadata": {},
     "output_type": "execute_result"
    },
    {
     "data": {
      "image/png": "[encoded data removed]",
      "text/plain": [
       "<Figure size 800x800 with 2 Axes>"
      ]
     },
     "metadata": {},
     "output_type": "display_data"
    }
   ],
   "source": [
    "# metode figure() - za kreiranje Figure objekta koji je osnovni objekt kod iscrtavanja\n",
    "# figure kreira okvir i omogucuje da se unutar tog okvira definiraju podokviri\n",
    "\n",
    "okvir=plt.figure(figsize=(8,8))\n",
    "\n",
    "\n",
    "# metoda add_axes() - za definiranj podgrafova\n",
    "# 10% from left, 10% from bottom, 90%width of the okvir, 90% height of the okvir\n",
    "vanjski_graf=okvir.add_axes((0.1,0.1,0.9,0.9))\n",
    "# 70% from left, 70% from bottom, 25%width of the okvir, 250% height of the okvir\n",
    "unutarnji_graf=okvir.add_axes((0.7,0.7,0.25,0.25))\n",
    "#nacin crtanja unutar pojedinog grafa\n",
    "unutarnji_graf.plot([1,2,3,4], [10,20,25,30])"
   ]
  },
  {
   "cell_type": "code",
   "execution_count": 29,
   "id": "df285522",
   "metadata": {},
   "outputs": [
    {
     "data": {
      "text/plain": [
       "[<matplotlib.lines.Line2D at 0x1efc3ae9580>]"
      ]
     },
     "execution_count": 29,
     "metadata": {},
     "output_type": "execute_result"
    },
    {
     "data": {
      "image/png": "[encoded data removed]",
      "text/plain": [
       "<Figure size 800x800 with 4 Axes>"
      ]
     },
     "metadata": {},
     "output_type": "display_data"
    }
   ],
   "source": [
    "# metoda add_gridspec\n",
    "\n",
    "okvir=plt.figure(figsize=(8,8))\n",
    "gs=okvir.add_gridspec(3,3) # postavke mreze, 3 retka i 3 stupca\n",
    "\n",
    "# metoda add_sublots() - definira podgrafove po gridu-u\n",
    "# moze se koristiti i bez add_gridspec(), ali onda su svi grafovi istih velicina\n",
    "\n",
    "gore_lijevo=okvir.add_subplot(gs[0,0]) #prvi red i prvi stupac\n",
    "sredina_lijevo= okvir.add_subplot(gs[1,0]) #drugi red i prvi stupac\n",
    "gore_desno_debeli=okvir.add_subplot(gs[:2,1:])\n",
    "dolje=okvir.add_subplot(gs[2,:]) #cijeli treci red\n",
    "\n",
    "gore_desno_debeli.plot([1,2,3,4], [10,20,25,30])"
   ]
  },
  {
   "cell_type": "code",
   "execution_count": null,
   "id": "8bb30000",
   "metadata": {},
   "outputs": [
    {
     "data": {
      "image/png": "[encoded data removed]",
      "text/plain": [
       "<Figure size 640x480 with 2 Axes>"
      ]
     },
     "execution_count": 32,
     "metadata": {},
     "output_type": "execute_result"
    },
    {
     "data": {
      "image/png": "[encoded data removed]",
      "text/plain": [
       "<Figure size 640x480 with 2 Axes>"
      ]
     },
     "metadata": {},
     "output_type": "display_data"
    }
   ],
   "source": [
    "# funkcija subplots() - kreiran figure i podgrafove od jednom\n",
    "\n",
    "# stvori figure objekt okvir i u njemu predvidi broj redova 1 i broj stupaca 2 - bit ce dva grafa\n",
    "okvir, osi=plt.subplots(1, 2) \n",
    "\n",
    "osi[0].plot(df.datum, df.temperatura)\n",
    "osi[1].plot([1,2,3,4], [10,20,25,30])\n",
    "\n",
    "#ispisuje u Jupyter Notebooks jos jednom figure objekt\n",
    "okvir"
   ]
  },
  {
   "cell_type": "markdown",
   "id": "d8f9076a",
   "metadata": {},
   "source": [
    "## scikit-learn"
   ]
  },
  {
   "cell_type": "code",
   "execution_count": 56,
   "id": "cb6e710e",
   "metadata": {},
   "outputs": [
    {
     "name": "stdout",
     "output_type": "stream",
     "text": [
      " Tocnost modela  0.65\n",
      "\n",
      " Izvjestaj: \n",
      "               precision    recall  f1-score   support\n",
      "\n",
      "      setosa       1.00      1.00      1.00        31\n",
      "  versicolor       0.00      0.00      0.00        37\n",
      "   virginica       0.50      1.00      0.67        37\n",
      "\n",
      "    accuracy                           0.65       105\n",
      "   macro avg       0.50      0.67      0.56       105\n",
      "weighted avg       0.47      0.65      0.53       105\n",
      "\n"
     ]
    },
    {
     "name": "stderr",
     "output_type": "stream",
     "text": [
      "c:\\Users\\nikap\\anaconda3\\envs\\my_env_4\\Lib\\site-packages\\sklearn\\metrics\\_classification.py:1565: UndefinedMetricWarning: Precision is ill-defined and being set to 0.0 in labels with no predicted samples. Use `zero_division` parameter to control this behavior.\n",
      "  _warn_prf(average, modifier, f\"{metric.capitalize()} is\", len(result))\n",
      "c:\\Users\\nikap\\anaconda3\\envs\\my_env_4\\Lib\\site-packages\\sklearn\\metrics\\_classification.py:1565: UndefinedMetricWarning: Precision is ill-defined and being set to 0.0 in labels with no predicted samples. Use `zero_division` parameter to control this behavior.\n",
      "  _warn_prf(average, modifier, f\"{metric.capitalize()} is\", len(result))\n",
      "c:\\Users\\nikap\\anaconda3\\envs\\my_env_4\\Lib\\site-packages\\sklearn\\metrics\\_classification.py:1565: UndefinedMetricWarning: Precision is ill-defined and being set to 0.0 in labels with no predicted samples. Use `zero_division` parameter to control this behavior.\n",
      "  _warn_prf(average, modifier, f\"{metric.capitalize()} is\", len(result))\n"
     ]
    }
   ],
   "source": [
    "# Metoda klasifikacije - Naive Bayes\n",
    "\n",
    "# Loadanje podataka - ne mora doci iz scikit-learna, obicno su to nasi podaci\n",
    "from sklearn.datasets import load_iris\n",
    "# Loadanje metode za razdavanje trening i testnog set-a\n",
    "from sklearn.model_selection import train_test_split\n",
    "# Loadanje modela\n",
    "from sklearn.naive_bayes import ComplementNB\n",
    "# Loadnje metrika za ocjenu rada modela\n",
    "from sklearn.metrics import accuracy_score, classification_report\n",
    "\n",
    "# inicijalizacija podataka  - specificno za dataset iris\n",
    "iris=load_iris()\n",
    "#print(type(iris)) #tipa Bunch\n",
    "X=iris.data # ulazni podaci, znacajke cvijeca u listi\n",
    "y=iris.target # izlazni rezultati, kategorija po ulaznoj znacajki\n",
    "\n",
    "# inicijalizacijam modela\n",
    "model=ComplementNB()\n",
    "\n",
    "# kreiranje testnog i trening seta\n",
    "X_test,X_train, y_test, y_train=train_test_split(X,y, test_size=0.3, random_state=42)\n",
    "\n",
    "# treniranje modela\n",
    "model.fit(X_train, y_train)\n",
    "\n",
    "# predikcije modela\n",
    "y_predict=model.predict(X_test)\n",
    "\n",
    "# ocjena ispravnosti, usporedba istine u y_test i predikcije u y_predict\n",
    "accuracy=accuracy_score(y_test, y_predict)\n",
    "print(f' Tocnost modela {accuracy: .2f}')\n",
    "report=classification_report(y_test, y_predict, target_names=iris.target_names)\n",
    "print(f'\\n Izvjestaj: \\n {report}')\n",
    "\n"
   ]
  },
  {
   "cell_type": "code",
   "execution_count": null,
   "id": "4c353c25",
   "metadata": {},
   "outputs": [],
   "source": [
    "# korisne naredbe\n",
    "\n",
    "# fumnkcija np.meshgrid() kreira dva 2D array-a\n",
    "xx,yy=np.meshgrid(np.arange(x_min, x_max,0.01), np.arange(y_min, y_max, 0.01))\n",
    "# metoda ravel() izravna sve retke 2D array-a u 1D array sekvencijalno jedan za drugim\n",
    "# ovo ima smisla ako se nakon toga zove funkcija _c[]\n",
    "xx.ravel()\n",
    "# np._C[] pretvara izravnane podatje natrag u 2D array \n",
    "np.c_[xx.ravel(), yy.ravel()]\n",
    "\n",
    "# funkcija plt.scatter() s argumentima\n",
    "# c=y farabaj tocke ovisno o vrijednosti y\n",
    "# cmap= plt.cm.Paired shema boja\n",
    "# edgecolors='k' crna boja krugova\n",
    "plt.scatter(X[:,0], X[:,1], c=y, cmap=plt.cm.Paired, edgecolors='k')\n",
    "# funckija plt.countourf() radi popunjeni plot, obicno s meshgridom\n",
    "# xx i yy su x i y koordinate, Z je podijela, mora biti velicine XX, alpha je transparentnost i cmap je kolor shema\n",
    "plt.contourf(xx,yy,Z, alpha=0.8, cmap=plt.cm.Paired)\n"
   ]
  },
  {
   "cell_type": "code",
   "execution_count": 57,
   "id": "956a835a",
   "metadata": {},
   "outputs": [],
   "source": [
    "import numpy as np\n",
    "import matplotlib.pyplot as plt"
   ]
  },
  {
   "cell_type": "code",
   "execution_count": 58,
   "id": "c1f9c152",
   "metadata": {},
   "outputs": [],
   "source": [
    "from sklearn.cluster import KMeans\n",
    "from sklearn.model_selection import train_test_split"
   ]
  },
  {
   "cell_type": "code",
   "execution_count": 59,
   "id": "062347a7",
   "metadata": {},
   "outputs": [
    {
     "data": {
      "text/plain": [
       "<matplotlib.collections.PathCollection at 0x1efb72f2a80>"
      ]
     },
     "execution_count": 59,
     "metadata": {},
     "output_type": "execute_result"
    },
    {
     "data": {
      "image/png": "[encoded data removed]",
      "text/plain": [
       "<Figure size 640x480 with 1 Axes>"
      ]
     },
     "metadata": {},
     "output_type": "display_data"
    }
   ],
   "source": [
    "# ucitavanje podataka svaki element X, Y koordinate\n",
    "X=np.array([[5.1, 3.5],[4.9,3.0],[4.7, 3.2],[6.6,4.6],[6.3,4.4],[6.8,4.8],[5.0,3.6],[6.4,4.5],[5.3,3.9],[6.5,4.75]])\n",
    "plt.scatter(X[:, 0], X[:,1])"
   ]
  },
  {
   "cell_type": "code",
   "execution_count": 62,
   "id": "2f26a9ec",
   "metadata": {},
   "outputs": [
    {
     "name": "stderr",
     "output_type": "stream",
     "text": [
      "c:\\Users\\nikap\\anaconda3\\envs\\my_env_4\\Lib\\site-packages\\sklearn\\cluster\\_kmeans.py:1419: UserWarning: KMeans is known to have a memory leak on Windows with MKL, when there are less chunks than available threads. You can avoid it by setting the environment variable OMP_NUM_THREADS=1.\n",
      "  warnings.warn(\n"
     ]
    },
    {
     "data": {
      "text/html": [
       "<style>#sk-container-id-2 {\n",
       "  /* Definition of color scheme common for light and dark mode */\n",
       "  --sklearn-color-text: #000;\n",
       "  --sklearn-color-text-muted: #666;\n",
       "  --sklearn-color-line: gray;\n",
       "  /* Definition of color scheme for unfitted estimators */\n",
       "  --sklearn-color-unfitted-level-0: #fff5e6;\n",
       "  --sklearn-color-unfitted-level-1: #f6e4d2;\n",
       "  --sklearn-color-unfitted-level-2: #ffe0b3;\n",
       "  --sklearn-color-unfitted-level-3: chocolate;\n",
       "  /* Definition of color scheme for fitted estimators */\n",
       "  --sklearn-color-fitted-level-0: #f0f8ff;\n",
       "  --sklearn-color-fitted-level-1: #d4ebff;\n",
       "  --sklearn-color-fitted-level-2: #b3dbfd;\n",
       "  --sklearn-color-fitted-level-3: cornflowerblue;\n",
       "\n",
       "  /* Specific color for light theme */\n",
       "  --sklearn-color-text-on-default-background: var(--sg-text-color, var(--theme-code-foreground, var(--jp-content-font-color1, black)));\n",
       "  --sklearn-color-background: var(--sg-background-color, var(--theme-background, var(--jp-layout-color0, white)));\n",
       "  --sklearn-color-border-box: var(--sg-text-color, var(--theme-code-foreground, var(--jp-content-font-color1, black)));\n",
       "  --sklearn-color-icon: #696969;\n",
       "\n",
       "  @media (prefers-color-scheme: dark) {\n",
       "    /* Redefinition of color scheme for dark theme */\n",
       "    --sklearn-color-text-on-default-background: var(--sg-text-color, var(--theme-code-foreground, var(--jp-content-font-color1, white)));\n",
       "    --sklearn-color-background: var(--sg-background-color, var(--theme-background, var(--jp-layout-color0, #111)));\n",
       "    --sklearn-color-border-box: var(--sg-text-color, var(--theme-code-foreground, var(--jp-content-font-color1, white)));\n",
       "    --sklearn-color-icon: #878787;\n",
       "  }\n",
       "}\n",
       "\n",
       "#sk-container-id-2 {\n",
       "  color: var(--sklearn-color-text);\n",
       "}\n",
       "\n",
       "#sk-container-id-2 pre {\n",
       "  padding: 0;\n",
       "}\n",
       "\n",
       "#sk-container-id-2 input.sk-hidden--visually {\n",
       "  border: 0;\n",
       "  clip: rect(1px 1px 1px 1px);\n",
       "  clip: rect(1px, 1px, 1px, 1px);\n",
       "  height: 1px;\n",
       "  margin: -1px;\n",
       "  overflow: hidden;\n",
       "  padding: 0;\n",
       "  position: absolute;\n",
       "  width: 1px;\n",
       "}\n",
       "\n",
       "#sk-container-id-2 div.sk-dashed-wrapped {\n",
       "  border: 1px dashed var(--sklearn-color-line);\n",
       "  margin: 0 0.4em 0.5em 0.4em;\n",
       "  box-sizing: border-box;\n",
       "  padding-bottom: 0.4em;\n",
       "  background-color: var(--sklearn-color-background);\n",
       "}\n",
       "\n",
       "#sk-container-id-2 div.sk-container {\n",
       "  /* jupyter's `normalize.less` sets `[hidden] { display: none; }`\n",
       "     but bootstrap.min.css set `[hidden] { display: none !important; }`\n",
       "     so we also need the `!important` here to be able to override the\n",
       "     default hidden behavior on the sphinx rendered scikit-learn.org.\n",
       "     See: https://github.com/scikit-learn/scikit-learn/issues/21755 */\n",
       "  display: inline-block !important;\n",
       "  position: relative;\n",
       "}\n",
       "\n",
       "#sk-container-id-2 div.sk-text-repr-fallback {\n",
       "  display: none;\n",
       "}\n",
       "\n",
       "div.sk-parallel-item,\n",
       "div.sk-serial,\n",
       "div.sk-item {\n",
       "  /* draw centered vertical line to link estimators */\n",
       "  background-image: linear-gradient(var(--sklearn-color-text-on-default-background), var(--sklearn-color-text-on-default-background));\n",
       "  background-size: 2px 100%;\n",
       "  background-repeat: no-repeat;\n",
       "  background-position: center center;\n",
       "}\n",
       "\n",
       "/* Parallel-specific style estimator block */\n",
       "\n",
       "#sk-container-id-2 div.sk-parallel-item::after {\n",
       "  content: \"\";\n",
       "  width: 100%;\n",
       "  border-bottom: 2px solid var(--sklearn-color-text-on-default-background);\n",
       "  flex-grow: 1;\n",
       "}\n",
       "\n",
       "#sk-container-id-2 div.sk-parallel {\n",
       "  display: flex;\n",
       "  align-items: stretch;\n",
       "  justify-content: center;\n",
       "  background-color: var(--sklearn-color-background);\n",
       "  position: relative;\n",
       "}\n",
       "\n",
       "#sk-container-id-2 div.sk-parallel-item {\n",
       "  display: flex;\n",
       "  flex-direction: column;\n",
       "}\n",
       "\n",
       "#sk-container-id-2 div.sk-parallel-item:first-child::after {\n",
       "  align-self: flex-end;\n",
       "  width: 50%;\n",
       "}\n",
       "\n",
       "#sk-container-id-2 div.sk-parallel-item:last-child::after {\n",
       "  align-self: flex-start;\n",
       "  width: 50%;\n",
       "}\n",
       "\n",
       "#sk-container-id-2 div.sk-parallel-item:only-child::after {\n",
       "  width: 0;\n",
       "}\n",
       "\n",
       "/* Serial-specific style estimator block */\n",
       "\n",
       "#sk-container-id-2 div.sk-serial {\n",
       "  display: flex;\n",
       "  flex-direction: column;\n",
       "  align-items: center;\n",
       "  background-color: var(--sklearn-color-background);\n",
       "  padding-right: 1em;\n",
       "  padding-left: 1em;\n",
       "}\n",
       "\n",
       "\n",
       "/* Toggleable style: style used for estimator/Pipeline/ColumnTransformer box that is\n",
       "clickable and can be expanded/collapsed.\n",
       "- Pipeline and ColumnTransformer use this feature and define the default style\n",
       "- Estimators will overwrite some part of the style using the `sk-estimator` class\n",
       "*/\n",
       "\n",
       "/* Pipeline and ColumnTransformer style (default) */\n",
       "\n",
       "#sk-container-id-2 div.sk-toggleable {\n",
       "  /* Default theme specific background. It is overwritten whether we have a\n",
       "  specific estimator or a Pipeline/ColumnTransformer */\n",
       "  background-color: var(--sklearn-color-background);\n",
       "}\n",
       "\n",
       "/* Toggleable label */\n",
       "#sk-container-id-2 label.sk-toggleable__label {\n",
       "  cursor: pointer;\n",
       "  display: flex;\n",
       "  width: 100%;\n",
       "  margin-bottom: 0;\n",
       "  padding: 0.5em;\n",
       "  box-sizing: border-box;\n",
       "  text-align: center;\n",
       "  align-items: start;\n",
       "  justify-content: space-between;\n",
       "  gap: 0.5em;\n",
       "}\n",
       "\n",
       "#sk-container-id-2 label.sk-toggleable__label .caption {\n",
       "  font-size: 0.6rem;\n",
       "  font-weight: lighter;\n",
       "  color: var(--sklearn-color-text-muted);\n",
       "}\n",
       "\n",
       "#sk-container-id-2 label.sk-toggleable__label-arrow:before {\n",
       "  /* Arrow on the left of the label */\n",
       "  content: \"▸\";\n",
       "  float: left;\n",
       "  margin-right: 0.25em;\n",
       "  color: var(--sklearn-color-icon);\n",
       "}\n",
       "\n",
       "#sk-container-id-2 label.sk-toggleable__label-arrow:hover:before {\n",
       "  color: var(--sklearn-color-text);\n",
       "}\n",
       "\n",
       "/* Toggleable content - dropdown */\n",
       "\n",
       "#sk-container-id-2 div.sk-toggleable__content {\n",
       "  max-height: 0;\n",
       "  max-width: 0;\n",
       "  overflow: hidden;\n",
       "  text-align: left;\n",
       "  /* unfitted */\n",
       "  background-color: var(--sklearn-color-unfitted-level-0);\n",
       "}\n",
       "\n",
       "#sk-container-id-2 div.sk-toggleable__content.fitted {\n",
       "  /* fitted */\n",
       "  background-color: var(--sklearn-color-fitted-level-0);\n",
       "}\n",
       "\n",
       "#sk-container-id-2 div.sk-toggleable__content pre {\n",
       "  margin: 0.2em;\n",
       "  border-radius: 0.25em;\n",
       "  color: var(--sklearn-color-text);\n",
       "  /* unfitted */\n",
       "  background-color: var(--sklearn-color-unfitted-level-0);\n",
       "}\n",
       "\n",
       "#sk-container-id-2 div.sk-toggleable__content.fitted pre {\n",
       "  /* unfitted */\n",
       "  background-color: var(--sklearn-color-fitted-level-0);\n",
       "}\n",
       "\n",
       "#sk-container-id-2 input.sk-toggleable__control:checked~div.sk-toggleable__content {\n",
       "  /* Expand drop-down */\n",
       "  max-height: 200px;\n",
       "  max-width: 100%;\n",
       "  overflow: auto;\n",
       "}\n",
       "\n",
       "#sk-container-id-2 input.sk-toggleable__control:checked~label.sk-toggleable__label-arrow:before {\n",
       "  content: \"▾\";\n",
       "}\n",
       "\n",
       "/* Pipeline/ColumnTransformer-specific style */\n",
       "\n",
       "#sk-container-id-2 div.sk-label input.sk-toggleable__control:checked~label.sk-toggleable__label {\n",
       "  color: var(--sklearn-color-text);\n",
       "  background-color: var(--sklearn-color-unfitted-level-2);\n",
       "}\n",
       "\n",
       "#sk-container-id-2 div.sk-label.fitted input.sk-toggleable__control:checked~label.sk-toggleable__label {\n",
       "  background-color: var(--sklearn-color-fitted-level-2);\n",
       "}\n",
       "\n",
       "/* Estimator-specific style */\n",
       "\n",
       "/* Colorize estimator box */\n",
       "#sk-container-id-2 div.sk-estimator input.sk-toggleable__control:checked~label.sk-toggleable__label {\n",
       "  /* unfitted */\n",
       "  background-color: var(--sklearn-color-unfitted-level-2);\n",
       "}\n",
       "\n",
       "#sk-container-id-2 div.sk-estimator.fitted input.sk-toggleable__control:checked~label.sk-toggleable__label {\n",
       "  /* fitted */\n",
       "  background-color: var(--sklearn-color-fitted-level-2);\n",
       "}\n",
       "\n",
       "#sk-container-id-2 div.sk-label label.sk-toggleable__label,\n",
       "#sk-container-id-2 div.sk-label label {\n",
       "  /* The background is the default theme color */\n",
       "  color: var(--sklearn-color-text-on-default-background);\n",
       "}\n",
       "\n",
       "/* On hover, darken the color of the background */\n",
       "#sk-container-id-2 div.sk-label:hover label.sk-toggleable__label {\n",
       "  color: var(--sklearn-color-text);\n",
       "  background-color: var(--sklearn-color-unfitted-level-2);\n",
       "}\n",
       "\n",
       "/* Label box, darken color on hover, fitted */\n",
       "#sk-container-id-2 div.sk-label.fitted:hover label.sk-toggleable__label.fitted {\n",
       "  color: var(--sklearn-color-text);\n",
       "  background-color: var(--sklearn-color-fitted-level-2);\n",
       "}\n",
       "\n",
       "/* Estimator label */\n",
       "\n",
       "#sk-container-id-2 div.sk-label label {\n",
       "  font-family: monospace;\n",
       "  font-weight: bold;\n",
       "  display: inline-block;\n",
       "  line-height: 1.2em;\n",
       "}\n",
       "\n",
       "#sk-container-id-2 div.sk-label-container {\n",
       "  text-align: center;\n",
       "}\n",
       "\n",
       "/* Estimator-specific */\n",
       "#sk-container-id-2 div.sk-estimator {\n",
       "  font-family: monospace;\n",
       "  border: 1px dotted var(--sklearn-color-border-box);\n",
       "  border-radius: 0.25em;\n",
       "  box-sizing: border-box;\n",
       "  margin-bottom: 0.5em;\n",
       "  /* unfitted */\n",
       "  background-color: var(--sklearn-color-unfitted-level-0);\n",
       "}\n",
       "\n",
       "#sk-container-id-2 div.sk-estimator.fitted {\n",
       "  /* fitted */\n",
       "  background-color: var(--sklearn-color-fitted-level-0);\n",
       "}\n",
       "\n",
       "/* on hover */\n",
       "#sk-container-id-2 div.sk-estimator:hover {\n",
       "  /* unfitted */\n",
       "  background-color: var(--sklearn-color-unfitted-level-2);\n",
       "}\n",
       "\n",
       "#sk-container-id-2 div.sk-estimator.fitted:hover {\n",
       "  /* fitted */\n",
       "  background-color: var(--sklearn-color-fitted-level-2);\n",
       "}\n",
       "\n",
       "/* Specification for estimator info (e.g. \"i\" and \"?\") */\n",
       "\n",
       "/* Common style for \"i\" and \"?\" */\n",
       "\n",
       ".sk-estimator-doc-link,\n",
       "a:link.sk-estimator-doc-link,\n",
       "a:visited.sk-estimator-doc-link {\n",
       "  float: right;\n",
       "  font-size: smaller;\n",
       "  line-height: 1em;\n",
       "  font-family: monospace;\n",
       "  background-color: var(--sklearn-color-background);\n",
       "  border-radius: 1em;\n",
       "  height: 1em;\n",
       "  width: 1em;\n",
       "  text-decoration: none !important;\n",
       "  margin-left: 0.5em;\n",
       "  text-align: center;\n",
       "  /* unfitted */\n",
       "  border: var(--sklearn-color-unfitted-level-1) 1pt solid;\n",
       "  color: var(--sklearn-color-unfitted-level-1);\n",
       "}\n",
       "\n",
       ".sk-estimator-doc-link.fitted,\n",
       "a:link.sk-estimator-doc-link.fitted,\n",
       "a:visited.sk-estimator-doc-link.fitted {\n",
       "  /* fitted */\n",
       "  border: var(--sklearn-color-fitted-level-1) 1pt solid;\n",
       "  color: var(--sklearn-color-fitted-level-1);\n",
       "}\n",
       "\n",
       "/* On hover */\n",
       "div.sk-estimator:hover .sk-estimator-doc-link:hover,\n",
       ".sk-estimator-doc-link:hover,\n",
       "div.sk-label-container:hover .sk-estimator-doc-link:hover,\n",
       ".sk-estimator-doc-link:hover {\n",
       "  /* unfitted */\n",
       "  background-color: var(--sklearn-color-unfitted-level-3);\n",
       "  color: var(--sklearn-color-background);\n",
       "  text-decoration: none;\n",
       "}\n",
       "\n",
       "div.sk-estimator.fitted:hover .sk-estimator-doc-link.fitted:hover,\n",
       ".sk-estimator-doc-link.fitted:hover,\n",
       "div.sk-label-container:hover .sk-estimator-doc-link.fitted:hover,\n",
       ".sk-estimator-doc-link.fitted:hover {\n",
       "  /* fitted */\n",
       "  background-color: var(--sklearn-color-fitted-level-3);\n",
       "  color: var(--sklearn-color-background);\n",
       "  text-decoration: none;\n",
       "}\n",
       "\n",
       "/* Span, style for the box shown on hovering the info icon */\n",
       ".sk-estimator-doc-link span {\n",
       "  display: none;\n",
       "  z-index: 9999;\n",
       "  position: relative;\n",
       "  font-weight: normal;\n",
       "  right: .2ex;\n",
       "  padding: .5ex;\n",
       "  margin: .5ex;\n",
       "  width: min-content;\n",
       "  min-width: 20ex;\n",
       "  max-width: 50ex;\n",
       "  color: var(--sklearn-color-text);\n",
       "  box-shadow: 2pt 2pt 4pt #999;\n",
       "  /* unfitted */\n",
       "  background: var(--sklearn-color-unfitted-level-0);\n",
       "  border: .5pt solid var(--sklearn-color-unfitted-level-3);\n",
       "}\n",
       "\n",
       ".sk-estimator-doc-link.fitted span {\n",
       "  /* fitted */\n",
       "  background: var(--sklearn-color-fitted-level-0);\n",
       "  border: var(--sklearn-color-fitted-level-3);\n",
       "}\n",
       "\n",
       ".sk-estimator-doc-link:hover span {\n",
       "  display: block;\n",
       "}\n",
       "\n",
       "/* \"?\"-specific style due to the `<a>` HTML tag */\n",
       "\n",
       "#sk-container-id-2 a.estimator_doc_link {\n",
       "  float: right;\n",
       "  font-size: 1rem;\n",
       "  line-height: 1em;\n",
       "  font-family: monospace;\n",
       "  background-color: var(--sklearn-color-background);\n",
       "  border-radius: 1rem;\n",
       "  height: 1rem;\n",
       "  width: 1rem;\n",
       "  text-decoration: none;\n",
       "  /* unfitted */\n",
       "  color: var(--sklearn-color-unfitted-level-1);\n",
       "  border: var(--sklearn-color-unfitted-level-1) 1pt solid;\n",
       "}\n",
       "\n",
       "#sk-container-id-2 a.estimator_doc_link.fitted {\n",
       "  /* fitted */\n",
       "  border: var(--sklearn-color-fitted-level-1) 1pt solid;\n",
       "  color: var(--sklearn-color-fitted-level-1);\n",
       "}\n",
       "\n",
       "/* On hover */\n",
       "#sk-container-id-2 a.estimator_doc_link:hover {\n",
       "  /* unfitted */\n",
       "  background-color: var(--sklearn-color-unfitted-level-3);\n",
       "  color: var(--sklearn-color-background);\n",
       "  text-decoration: none;\n",
       "}\n",
       "\n",
       "#sk-container-id-2 a.estimator_doc_link.fitted:hover {\n",
       "  /* fitted */\n",
       "  background-color: var(--sklearn-color-fitted-level-3);\n",
       "}\n",
       "</style><div id=\"sk-container-id-2\" class=\"sk-top-container\"><div class=\"sk-text-repr-fallback\"><pre>KMeans(n_clusters=2, random_state=42)</pre><b>In a Jupyter environment, please rerun this cell to show the HTML representation or trust the notebook. <br />On GitHub, the HTML representation is unable to render, please try loading this page with nbviewer.org.</b></div><div class=\"sk-container\" hidden><div class=\"sk-item\"><div class=\"sk-estimator fitted sk-toggleable\"><input class=\"sk-toggleable__control sk-hidden--visually\" id=\"sk-estimator-id-2\" type=\"checkbox\" checked><label for=\"sk-estimator-id-2\" class=\"sk-toggleable__label fitted sk-toggleable__label-arrow\"><div><div>KMeans</div></div><div><a class=\"sk-estimator-doc-link fitted\" rel=\"noreferrer\" target=\"_blank\" href=\"https://scikit-learn.org/1.6/modules/generated/sklearn.cluster.KMeans.html\">?<span>Documentation for KMeans</span></a><span class=\"sk-estimator-doc-link fitted\">i<span>Fitted</span></span></div></label><div class=\"sk-toggleable__content fitted\"><pre>KMeans(n_clusters=2, random_state=42)</pre></div> </div></div></div></div>"
      ],
      "text/plain": [
       "KMeans(n_clusters=2, random_state=42)"
      ]
     },
     "execution_count": 62,
     "metadata": {},
     "output_type": "execute_result"
    }
   ],
   "source": [
    "# inicijalitacija modela; ovdje se predaju ulazni parametri\n",
    "model_kmeans=KMeans(n_clusters=2, random_state=42)\n",
    "\n",
    "model_kmeans.fit(X)"
   ]
  },
  {
   "cell_type": "code",
   "execution_count": 68,
   "id": "59866e78",
   "metadata": {},
   "outputs": [
    {
     "data": {
      "text/plain": [
       "array([[6.52, 4.61],\n",
       "       [5.  , 3.44]])"
      ]
     },
     "execution_count": 68,
     "metadata": {},
     "output_type": "execute_result"
    }
   ],
   "source": [
    "y_predict=model_kmeans.predict(X)\n",
    "\n",
    "#bitna znacajka kmeans\n",
    "centroidi=model_kmeans.cluster_centers_\n",
    "centroidi\n",
    "\n"
   ]
  },
  {
   "cell_type": "code",
   "execution_count": 69,
   "id": "276c253a",
   "metadata": {},
   "outputs": [
    {
     "data": {
      "text/plain": [
       "<matplotlib.collections.PathCollection at 0x1efdbfc8e90>"
      ]
     },
     "execution_count": 69,
     "metadata": {},
     "output_type": "execute_result"
    },
    {
     "data": {
      "image/png": "[encoded data removed]",
      "text/plain": [
       "<Figure size 800x800 with 1 Axes>"
      ]
     },
     "metadata": {},
     "output_type": "display_data"
    }
   ],
   "source": [
    "plt.figure(figsize=(8,8))\n",
    "plt.scatter(X[:,0], X[:,1], c=y_predict, s=50, cmap='viridis')\n",
    "plt.scatter(centroidi[:,0], centroidi[:,1], c=\"red\", s=200, marker=\"X\", label=\"Centroidi\")"
   ]
  },
  {
   "cell_type": "code",
   "execution_count": 70,
   "id": "3208f5b8",
   "metadata": {},
   "outputs": [],
   "source": [
    "# metoda linearne  regresije - predikacija\n",
    "\n",
    "from sklearn.linear_model import LinearRegression\n",
    "from sklearn.preprocessing import PolynomialFeatures\n",
    "from sklearn.metrics import  mean_squared_error, r2_score\n"
   ]
  },
  {
   "cell_type": "code",
   "execution_count": null,
   "id": "b55201bf",
   "metadata": {},
   "outputs": [
    {
     "data": {
      "text/plain": [
       "<matplotlib.collections.PathCollection at 0x1efdc029400>"
      ]
     },
     "execution_count": 71,
     "metadata": {},
     "output_type": "execute_result"
    },
    {
     "data": {
      "image/png": "[encoded data removed]",
      "text/plain": [
       "<Figure size 640x480 with 1 Axes>"
      ]
     },
     "metadata": {},
     "output_type": "display_data"
    }
   ],
   "source": [
    "X=6*np.random.rand(100,1) -2 #rand su samo integeri\n",
    "y=0.5*X**2+X+2+np.random.randn(100,1) #randn() je iz normalne distribucije\n",
    "\n",
    "plt.scatter(X,y)"
   ]
  },
  {
   "cell_type": "code",
   "execution_count": 96,
   "id": "edb3f732",
   "metadata": {},
   "outputs": [
    {
     "data": {
      "text/html": [
       "<style>#sk-container-id-4 {\n",
       "  /* Definition of color scheme common for light and dark mode */\n",
       "  --sklearn-color-text: #000;\n",
       "  --sklearn-color-text-muted: #666;\n",
       "  --sklearn-color-line: gray;\n",
       "  /* Definition of color scheme for unfitted estimators */\n",
       "  --sklearn-color-unfitted-level-0: #fff5e6;\n",
       "  --sklearn-color-unfitted-level-1: #f6e4d2;\n",
       "  --sklearn-color-unfitted-level-2: #ffe0b3;\n",
       "  --sklearn-color-unfitted-level-3: chocolate;\n",
       "  /* Definition of color scheme for fitted estimators */\n",
       "  --sklearn-color-fitted-level-0: #f0f8ff;\n",
       "  --sklearn-color-fitted-level-1: #d4ebff;\n",
       "  --sklearn-color-fitted-level-2: #b3dbfd;\n",
       "  --sklearn-color-fitted-level-3: cornflowerblue;\n",
       "\n",
       "  /* Specific color for light theme */\n",
       "  --sklearn-color-text-on-default-background: var(--sg-text-color, var(--theme-code-foreground, var(--jp-content-font-color1, black)));\n",
       "  --sklearn-color-background: var(--sg-background-color, var(--theme-background, var(--jp-layout-color0, white)));\n",
       "  --sklearn-color-border-box: var(--sg-text-color, var(--theme-code-foreground, var(--jp-content-font-color1, black)));\n",
       "  --sklearn-color-icon: #696969;\n",
       "\n",
       "  @media (prefers-color-scheme: dark) {\n",
       "    /* Redefinition of color scheme for dark theme */\n",
       "    --sklearn-color-text-on-default-background: var(--sg-text-color, var(--theme-code-foreground, var(--jp-content-font-color1, white)));\n",
       "    --sklearn-color-background: var(--sg-background-color, var(--theme-background, var(--jp-layout-color0, #111)));\n",
       "    --sklearn-color-border-box: var(--sg-text-color, var(--theme-code-foreground, var(--jp-content-font-color1, white)));\n",
       "    --sklearn-color-icon: #878787;\n",
       "  }\n",
       "}\n",
       "\n",
       "#sk-container-id-4 {\n",
       "  color: var(--sklearn-color-text);\n",
       "}\n",
       "\n",
       "#sk-container-id-4 pre {\n",
       "  padding: 0;\n",
       "}\n",
       "\n",
       "#sk-container-id-4 input.sk-hidden--visually {\n",
       "  border: 0;\n",
       "  clip: rect(1px 1px 1px 1px);\n",
       "  clip: rect(1px, 1px, 1px, 1px);\n",
       "  height: 1px;\n",
       "  margin: -1px;\n",
       "  overflow: hidden;\n",
       "  padding: 0;\n",
       "  position: absolute;\n",
       "  width: 1px;\n",
       "}\n",
       "\n",
       "#sk-container-id-4 div.sk-dashed-wrapped {\n",
       "  border: 1px dashed var(--sklearn-color-line);\n",
       "  margin: 0 0.4em 0.5em 0.4em;\n",
       "  box-sizing: border-box;\n",
       "  padding-bottom: 0.4em;\n",
       "  background-color: var(--sklearn-color-background);\n",
       "}\n",
       "\n",
       "#sk-container-id-4 div.sk-container {\n",
       "  /* jupyter's `normalize.less` sets `[hidden] { display: none; }`\n",
       "     but bootstrap.min.css set `[hidden] { display: none !important; }`\n",
       "     so we also need the `!important` here to be able to override the\n",
       "     default hidden behavior on the sphinx rendered scikit-learn.org.\n",
       "     See: https://github.com/scikit-learn/scikit-learn/issues/21755 */\n",
       "  display: inline-block !important;\n",
       "  position: relative;\n",
       "}\n",
       "\n",
       "#sk-container-id-4 div.sk-text-repr-fallback {\n",
       "  display: none;\n",
       "}\n",
       "\n",
       "div.sk-parallel-item,\n",
       "div.sk-serial,\n",
       "div.sk-item {\n",
       "  /* draw centered vertical line to link estimators */\n",
       "  background-image: linear-gradient(var(--sklearn-color-text-on-default-background), var(--sklearn-color-text-on-default-background));\n",
       "  background-size: 2px 100%;\n",
       "  background-repeat: no-repeat;\n",
       "  background-position: center center;\n",
       "}\n",
       "\n",
       "/* Parallel-specific style estimator block */\n",
       "\n",
       "#sk-container-id-4 div.sk-parallel-item::after {\n",
       "  content: \"\";\n",
       "  width: 100%;\n",
       "  border-bottom: 2px solid var(--sklearn-color-text-on-default-background);\n",
       "  flex-grow: 1;\n",
       "}\n",
       "\n",
       "#sk-container-id-4 div.sk-parallel {\n",
       "  display: flex;\n",
       "  align-items: stretch;\n",
       "  justify-content: center;\n",
       "  background-color: var(--sklearn-color-background);\n",
       "  position: relative;\n",
       "}\n",
       "\n",
       "#sk-container-id-4 div.sk-parallel-item {\n",
       "  display: flex;\n",
       "  flex-direction: column;\n",
       "}\n",
       "\n",
       "#sk-container-id-4 div.sk-parallel-item:first-child::after {\n",
       "  align-self: flex-end;\n",
       "  width: 50%;\n",
       "}\n",
       "\n",
       "#sk-container-id-4 div.sk-parallel-item:last-child::after {\n",
       "  align-self: flex-start;\n",
       "  width: 50%;\n",
       "}\n",
       "\n",
       "#sk-container-id-4 div.sk-parallel-item:only-child::after {\n",
       "  width: 0;\n",
       "}\n",
       "\n",
       "/* Serial-specific style estimator block */\n",
       "\n",
       "#sk-container-id-4 div.sk-serial {\n",
       "  display: flex;\n",
       "  flex-direction: column;\n",
       "  align-items: center;\n",
       "  background-color: var(--sklearn-color-background);\n",
       "  padding-right: 1em;\n",
       "  padding-left: 1em;\n",
       "}\n",
       "\n",
       "\n",
       "/* Toggleable style: style used for estimator/Pipeline/ColumnTransformer box that is\n",
       "clickable and can be expanded/collapsed.\n",
       "- Pipeline and ColumnTransformer use this feature and define the default style\n",
       "- Estimators will overwrite some part of the style using the `sk-estimator` class\n",
       "*/\n",
       "\n",
       "/* Pipeline and ColumnTransformer style (default) */\n",
       "\n",
       "#sk-container-id-4 div.sk-toggleable {\n",
       "  /* Default theme specific background. It is overwritten whether we have a\n",
       "  specific estimator or a Pipeline/ColumnTransformer */\n",
       "  background-color: var(--sklearn-color-background);\n",
       "}\n",
       "\n",
       "/* Toggleable label */\n",
       "#sk-container-id-4 label.sk-toggleable__label {\n",
       "  cursor: pointer;\n",
       "  display: flex;\n",
       "  width: 100%;\n",
       "  margin-bottom: 0;\n",
       "  padding: 0.5em;\n",
       "  box-sizing: border-box;\n",
       "  text-align: center;\n",
       "  align-items: start;\n",
       "  justify-content: space-between;\n",
       "  gap: 0.5em;\n",
       "}\n",
       "\n",
       "#sk-container-id-4 label.sk-toggleable__label .caption {\n",
       "  font-size: 0.6rem;\n",
       "  font-weight: lighter;\n",
       "  color: var(--sklearn-color-text-muted);\n",
       "}\n",
       "\n",
       "#sk-container-id-4 label.sk-toggleable__label-arrow:before {\n",
       "  /* Arrow on the left of the label */\n",
       "  content: \"▸\";\n",
       "  float: left;\n",
       "  margin-right: 0.25em;\n",
       "  color: var(--sklearn-color-icon);\n",
       "}\n",
       "\n",
       "#sk-container-id-4 label.sk-toggleable__label-arrow:hover:before {\n",
       "  color: var(--sklearn-color-text);\n",
       "}\n",
       "\n",
       "/* Toggleable content - dropdown */\n",
       "\n",
       "#sk-container-id-4 div.sk-toggleable__content {\n",
       "  max-height: 0;\n",
       "  max-width: 0;\n",
       "  overflow: hidden;\n",
       "  text-align: left;\n",
       "  /* unfitted */\n",
       "  background-color: var(--sklearn-color-unfitted-level-0);\n",
       "}\n",
       "\n",
       "#sk-container-id-4 div.sk-toggleable__content.fitted {\n",
       "  /* fitted */\n",
       "  background-color: var(--sklearn-color-fitted-level-0);\n",
       "}\n",
       "\n",
       "#sk-container-id-4 div.sk-toggleable__content pre {\n",
       "  margin: 0.2em;\n",
       "  border-radius: 0.25em;\n",
       "  color: var(--sklearn-color-text);\n",
       "  /* unfitted */\n",
       "  background-color: var(--sklearn-color-unfitted-level-0);\n",
       "}\n",
       "\n",
       "#sk-container-id-4 div.sk-toggleable__content.fitted pre {\n",
       "  /* unfitted */\n",
       "  background-color: var(--sklearn-color-fitted-level-0);\n",
       "}\n",
       "\n",
       "#sk-container-id-4 input.sk-toggleable__control:checked~div.sk-toggleable__content {\n",
       "  /* Expand drop-down */\n",
       "  max-height: 200px;\n",
       "  max-width: 100%;\n",
       "  overflow: auto;\n",
       "}\n",
       "\n",
       "#sk-container-id-4 input.sk-toggleable__control:checked~label.sk-toggleable__label-arrow:before {\n",
       "  content: \"▾\";\n",
       "}\n",
       "\n",
       "/* Pipeline/ColumnTransformer-specific style */\n",
       "\n",
       "#sk-container-id-4 div.sk-label input.sk-toggleable__control:checked~label.sk-toggleable__label {\n",
       "  color: var(--sklearn-color-text);\n",
       "  background-color: var(--sklearn-color-unfitted-level-2);\n",
       "}\n",
       "\n",
       "#sk-container-id-4 div.sk-label.fitted input.sk-toggleable__control:checked~label.sk-toggleable__label {\n",
       "  background-color: var(--sklearn-color-fitted-level-2);\n",
       "}\n",
       "\n",
       "/* Estimator-specific style */\n",
       "\n",
       "/* Colorize estimator box */\n",
       "#sk-container-id-4 div.sk-estimator input.sk-toggleable__control:checked~label.sk-toggleable__label {\n",
       "  /* unfitted */\n",
       "  background-color: var(--sklearn-color-unfitted-level-2);\n",
       "}\n",
       "\n",
       "#sk-container-id-4 div.sk-estimator.fitted input.sk-toggleable__control:checked~label.sk-toggleable__label {\n",
       "  /* fitted */\n",
       "  background-color: var(--sklearn-color-fitted-level-2);\n",
       "}\n",
       "\n",
       "#sk-container-id-4 div.sk-label label.sk-toggleable__label,\n",
       "#sk-container-id-4 div.sk-label label {\n",
       "  /* The background is the default theme color */\n",
       "  color: var(--sklearn-color-text-on-default-background);\n",
       "}\n",
       "\n",
       "/* On hover, darken the color of the background */\n",
       "#sk-container-id-4 div.sk-label:hover label.sk-toggleable__label {\n",
       "  color: var(--sklearn-color-text);\n",
       "  background-color: var(--sklearn-color-unfitted-level-2);\n",
       "}\n",
       "\n",
       "/* Label box, darken color on hover, fitted */\n",
       "#sk-container-id-4 div.sk-label.fitted:hover label.sk-toggleable__label.fitted {\n",
       "  color: var(--sklearn-color-text);\n",
       "  background-color: var(--sklearn-color-fitted-level-2);\n",
       "}\n",
       "\n",
       "/* Estimator label */\n",
       "\n",
       "#sk-container-id-4 div.sk-label label {\n",
       "  font-family: monospace;\n",
       "  font-weight: bold;\n",
       "  display: inline-block;\n",
       "  line-height: 1.2em;\n",
       "}\n",
       "\n",
       "#sk-container-id-4 div.sk-label-container {\n",
       "  text-align: center;\n",
       "}\n",
       "\n",
       "/* Estimator-specific */\n",
       "#sk-container-id-4 div.sk-estimator {\n",
       "  font-family: monospace;\n",
       "  border: 1px dotted var(--sklearn-color-border-box);\n",
       "  border-radius: 0.25em;\n",
       "  box-sizing: border-box;\n",
       "  margin-bottom: 0.5em;\n",
       "  /* unfitted */\n",
       "  background-color: var(--sklearn-color-unfitted-level-0);\n",
       "}\n",
       "\n",
       "#sk-container-id-4 div.sk-estimator.fitted {\n",
       "  /* fitted */\n",
       "  background-color: var(--sklearn-color-fitted-level-0);\n",
       "}\n",
       "\n",
       "/* on hover */\n",
       "#sk-container-id-4 div.sk-estimator:hover {\n",
       "  /* unfitted */\n",
       "  background-color: var(--sklearn-color-unfitted-level-2);\n",
       "}\n",
       "\n",
       "#sk-container-id-4 div.sk-estimator.fitted:hover {\n",
       "  /* fitted */\n",
       "  background-color: var(--sklearn-color-fitted-level-2);\n",
       "}\n",
       "\n",
       "/* Specification for estimator info (e.g. \"i\" and \"?\") */\n",
       "\n",
       "/* Common style for \"i\" and \"?\" */\n",
       "\n",
       ".sk-estimator-doc-link,\n",
       "a:link.sk-estimator-doc-link,\n",
       "a:visited.sk-estimator-doc-link {\n",
       "  float: right;\n",
       "  font-size: smaller;\n",
       "  line-height: 1em;\n",
       "  font-family: monospace;\n",
       "  background-color: var(--sklearn-color-background);\n",
       "  border-radius: 1em;\n",
       "  height: 1em;\n",
       "  width: 1em;\n",
       "  text-decoration: none !important;\n",
       "  margin-left: 0.5em;\n",
       "  text-align: center;\n",
       "  /* unfitted */\n",
       "  border: var(--sklearn-color-unfitted-level-1) 1pt solid;\n",
       "  color: var(--sklearn-color-unfitted-level-1);\n",
       "}\n",
       "\n",
       ".sk-estimator-doc-link.fitted,\n",
       "a:link.sk-estimator-doc-link.fitted,\n",
       "a:visited.sk-estimator-doc-link.fitted {\n",
       "  /* fitted */\n",
       "  border: var(--sklearn-color-fitted-level-1) 1pt solid;\n",
       "  color: var(--sklearn-color-fitted-level-1);\n",
       "}\n",
       "\n",
       "/* On hover */\n",
       "div.sk-estimator:hover .sk-estimator-doc-link:hover,\n",
       ".sk-estimator-doc-link:hover,\n",
       "div.sk-label-container:hover .sk-estimator-doc-link:hover,\n",
       ".sk-estimator-doc-link:hover {\n",
       "  /* unfitted */\n",
       "  background-color: var(--sklearn-color-unfitted-level-3);\n",
       "  color: var(--sklearn-color-background);\n",
       "  text-decoration: none;\n",
       "}\n",
       "\n",
       "div.sk-estimator.fitted:hover .sk-estimator-doc-link.fitted:hover,\n",
       ".sk-estimator-doc-link.fitted:hover,\n",
       "div.sk-label-container:hover .sk-estimator-doc-link.fitted:hover,\n",
       ".sk-estimator-doc-link.fitted:hover {\n",
       "  /* fitted */\n",
       "  background-color: var(--sklearn-color-fitted-level-3);\n",
       "  color: var(--sklearn-color-background);\n",
       "  text-decoration: none;\n",
       "}\n",
       "\n",
       "/* Span, style for the box shown on hovering the info icon */\n",
       ".sk-estimator-doc-link span {\n",
       "  display: none;\n",
       "  z-index: 9999;\n",
       "  position: relative;\n",
       "  font-weight: normal;\n",
       "  right: .2ex;\n",
       "  padding: .5ex;\n",
       "  margin: .5ex;\n",
       "  width: min-content;\n",
       "  min-width: 20ex;\n",
       "  max-width: 50ex;\n",
       "  color: var(--sklearn-color-text);\n",
       "  box-shadow: 2pt 2pt 4pt #999;\n",
       "  /* unfitted */\n",
       "  background: var(--sklearn-color-unfitted-level-0);\n",
       "  border: .5pt solid var(--sklearn-color-unfitted-level-3);\n",
       "}\n",
       "\n",
       ".sk-estimator-doc-link.fitted span {\n",
       "  /* fitted */\n",
       "  background: var(--sklearn-color-fitted-level-0);\n",
       "  border: var(--sklearn-color-fitted-level-3);\n",
       "}\n",
       "\n",
       ".sk-estimator-doc-link:hover span {\n",
       "  display: block;\n",
       "}\n",
       "\n",
       "/* \"?\"-specific style due to the `<a>` HTML tag */\n",
       "\n",
       "#sk-container-id-4 a.estimator_doc_link {\n",
       "  float: right;\n",
       "  font-size: 1rem;\n",
       "  line-height: 1em;\n",
       "  font-family: monospace;\n",
       "  background-color: var(--sklearn-color-background);\n",
       "  border-radius: 1rem;\n",
       "  height: 1rem;\n",
       "  width: 1rem;\n",
       "  text-decoration: none;\n",
       "  /* unfitted */\n",
       "  color: var(--sklearn-color-unfitted-level-1);\n",
       "  border: var(--sklearn-color-unfitted-level-1) 1pt solid;\n",
       "}\n",
       "\n",
       "#sk-container-id-4 a.estimator_doc_link.fitted {\n",
       "  /* fitted */\n",
       "  border: var(--sklearn-color-fitted-level-1) 1pt solid;\n",
       "  color: var(--sklearn-color-fitted-level-1);\n",
       "}\n",
       "\n",
       "/* On hover */\n",
       "#sk-container-id-4 a.estimator_doc_link:hover {\n",
       "  /* unfitted */\n",
       "  background-color: var(--sklearn-color-unfitted-level-3);\n",
       "  color: var(--sklearn-color-background);\n",
       "  text-decoration: none;\n",
       "}\n",
       "\n",
       "#sk-container-id-4 a.estimator_doc_link.fitted:hover {\n",
       "  /* fitted */\n",
       "  background-color: var(--sklearn-color-fitted-level-3);\n",
       "}\n",
       "</style><div id=\"sk-container-id-4\" class=\"sk-top-container\"><div class=\"sk-text-repr-fallback\"><pre>LinearRegression()</pre><b>In a Jupyter environment, please rerun this cell to show the HTML representation or trust the notebook. <br />On GitHub, the HTML representation is unable to render, please try loading this page with nbviewer.org.</b></div><div class=\"sk-container\" hidden><div class=\"sk-item\"><div class=\"sk-estimator fitted sk-toggleable\"><input class=\"sk-toggleable__control sk-hidden--visually\" id=\"sk-estimator-id-4\" type=\"checkbox\" checked><label for=\"sk-estimator-id-4\" class=\"sk-toggleable__label fitted sk-toggleable__label-arrow\"><div><div>LinearRegression</div></div><div><a class=\"sk-estimator-doc-link fitted\" rel=\"noreferrer\" target=\"_blank\" href=\"https://scikit-learn.org/1.6/modules/generated/sklearn.linear_model.LinearRegression.html\">?<span>Documentation for LinearRegression</span></a><span class=\"sk-estimator-doc-link fitted\">i<span>Fitted</span></span></div></label><div class=\"sk-toggleable__content fitted\"><pre>LinearRegression()</pre></div> </div></div></div></div>"
      ],
      "text/plain": [
       "LinearRegression()"
      ]
     },
     "execution_count": 96,
     "metadata": {},
     "output_type": "execute_result"
    }
   ],
   "source": [
    "model_lingres=LinearRegression()\n",
    "model_lingres.fit(X,y)"
   ]
  },
  {
   "cell_type": "code",
   "execution_count": 97,
   "id": "e44692a6",
   "metadata": {},
   "outputs": [],
   "source": [
    "y_predict=model_lingres.predict(X)"
   ]
  },
  {
   "cell_type": "code",
   "execution_count": 99,
   "id": "61a84816",
   "metadata": {},
   "outputs": [
    {
     "data": {
      "text/plain": [
       "[<matplotlib.lines.Line2D at 0x1efdcbdc2f0>]"
      ]
     },
     "execution_count": 99,
     "metadata": {},
     "output_type": "execute_result"
    },
    {
     "data": {
      "image/png": "[encoded data removed]",
      "text/plain": [
       "<Figure size 800x800 with 1 Axes>"
      ]
     },
     "metadata": {},
     "output_type": "display_data"
    }
   ],
   "source": [
    "# funkcija argsort()\n",
    "# funkcija vraca redosljed index-a koji bi trebao vaziti kakko bi vrijednosti array-a bile sortirana\n",
    "# vraca uvijek 1D, 1 kolona i n redova\n",
    "sort_idx=np.argsort(X, axis=0)\n",
    "# metoda flatten() samo 1D array pretvori u obicno array bet dimenzija, samo elementi\n",
    "sort_idx=sort_idx.flatten()\n",
    "# kreiranje novog sortirnog niza\n",
    "X_sorted=X[sort_idx]\n",
    "y_predict_sorted=y_predict[sort_idx]\n",
    "\n",
    "plt.figure(figsize=(8,8))\n",
    "#crta pocetne tocke\n",
    "plt.scatter(X,y,c=\"blue\")\n",
    "plt.plot(X_sorted, y_predict_sorted, color=\"red\")\n",
    "\n"
   ]
  },
  {
   "cell_type": "code",
   "execution_count": null,
   "id": "22e6dc32",
   "metadata": {},
   "outputs": [
    {
     "data": {
      "text/plain": [
       "array([[ 1.00000000e+00,  8.16508666e-01,  6.66686402e-01],\n",
       "       [ 1.00000000e+00,  1.14975740e+00,  1.32194208e+00],\n",
       "       [ 1.00000000e+00, -1.21453683e+00,  1.47509972e+00],\n",
       "       [ 1.00000000e+00,  2.46660112e+00,  6.08412111e+00],\n",
       "       [ 1.00000000e+00, -1.17746822e+00,  1.38643141e+00],\n",
       "       [ 1.00000000e+00,  3.37748690e+00,  1.14074178e+01],\n",
       "       [ 1.00000000e+00,  2.45946967e+00,  6.04899107e+00],\n",
       "       [ 1.00000000e+00,  3.56693399e+00,  1.27230181e+01],\n",
       "       [ 1.00000000e+00,  1.19573572e+00,  1.42978391e+00],\n",
       "       [ 1.00000000e+00, -1.93390392e+00,  3.73998439e+00],\n",
       "       [ 1.00000000e+00,  2.39995607e+00,  5.75978916e+00],\n",
       "       [ 1.00000000e+00,  3.26232843e+00,  1.06427868e+01],\n",
       "       [ 1.00000000e+00, -9.95627409e-01,  9.91273938e-01],\n",
       "       [ 1.00000000e+00,  3.43774451e+00,  1.18180873e+01],\n",
       "       [ 1.00000000e+00, -6.58810231e-01,  4.34030921e-01],\n",
       "       [ 1.00000000e+00,  2.83926239e+00,  8.06141094e+00],\n",
       "       [ 1.00000000e+00,  2.33138680e+00,  5.43536441e+00],\n",
       "       [ 1.00000000e+00,  2.44336388e+00,  5.97002705e+00],\n",
       "       [ 1.00000000e+00,  3.45950766e+00,  1.19681932e+01],\n",
       "       [ 1.00000000e+00, -8.05063698e-01,  6.48127559e-01],\n",
       "       [ 1.00000000e+00, -1.37528806e+00,  1.89141725e+00],\n",
       "       [ 1.00000000e+00,  5.14221706e-01,  2.64423963e-01],\n",
       "       [ 1.00000000e+00,  3.37860710e-01,  1.14149859e-01],\n",
       "       [ 1.00000000e+00,  8.60618179e-01,  7.40663651e-01],\n",
       "       [ 1.00000000e+00,  1.27724048e+00,  1.63134323e+00],\n",
       "       [ 1.00000000e+00,  1.46747031e+00,  2.15346911e+00],\n",
       "       [ 1.00000000e+00, -1.66144516e-02,  2.76040004e-04],\n",
       "       [ 1.00000000e+00,  4.67845421e-02,  2.18879338e-03],\n",
       "       [ 1.00000000e+00, -1.70440659e+00,  2.90500181e+00],\n",
       "       [ 1.00000000e+00, -1.97146479e+00,  3.88667343e+00],\n",
       "       [ 1.00000000e+00, -6.29105217e-01,  3.95773374e-01],\n",
       "       [ 1.00000000e+00,  1.90400683e+00,  3.62524201e+00],\n",
       "       [ 1.00000000e+00,  2.95212676e+00,  8.71505240e+00],\n",
       "       [ 1.00000000e+00, -5.30340966e-02,  2.81261540e-03],\n",
       "       [ 1.00000000e+00,  1.84603785e+00,  3.40785575e+00],\n",
       "       [ 1.00000000e+00, -7.02388880e-01,  4.93350139e-01],\n",
       "       [ 1.00000000e+00, -1.38906903e+00,  1.92951276e+00],\n",
       "       [ 1.00000000e+00,  2.15673666e+00,  4.65151300e+00],\n",
       "       [ 1.00000000e+00,  8.16029689e-02,  6.65904453e-03],\n",
       "       [ 1.00000000e+00,  3.48040410e+00,  1.21132127e+01],\n",
       "       [ 1.00000000e+00,  3.77800911e+00,  1.42733529e+01],\n",
       "       [ 1.00000000e+00, -5.43687772e-01,  2.95596394e-01],\n",
       "       [ 1.00000000e+00, -3.94131731e-01,  1.55339822e-01],\n",
       "       [ 1.00000000e+00, -6.89848027e-01,  4.75890300e-01],\n",
       "       [ 1.00000000e+00,  3.56076014e+00,  1.26790128e+01],\n",
       "       [ 1.00000000e+00,  1.64460993e+00,  2.70474181e+00],\n",
       "       [ 1.00000000e+00,  1.43420523e+00,  2.05694463e+00],\n",
       "       [ 1.00000000e+00,  1.13436809e+00,  1.28679096e+00],\n",
       "       [ 1.00000000e+00, -1.47730196e+00,  2.18242109e+00],\n",
       "       [ 1.00000000e+00,  3.03343653e+00,  9.20173715e+00],\n",
       "       [ 1.00000000e+00, -1.50739285e-01,  2.27223320e-02],\n",
       "       [ 1.00000000e+00,  1.73740585e+00,  3.01857910e+00],\n",
       "       [ 1.00000000e+00,  1.05499175e+00,  1.11300758e+00],\n",
       "       [ 1.00000000e+00,  8.16457049e-01,  6.66602112e-01],\n",
       "       [ 1.00000000e+00, -1.97298910e+00,  3.89268597e+00],\n",
       "       [ 1.00000000e+00,  8.07264305e-02,  6.51675658e-03],\n",
       "       [ 1.00000000e+00,  1.92969795e+00,  3.72373417e+00],\n",
       "       [ 1.00000000e+00,  2.47286538e-01,  6.11506319e-02],\n",
       "       [ 1.00000000e+00, -1.38847992e+00,  1.92787650e+00],\n",
       "       [ 1.00000000e+00,  1.04902315e+00,  1.10044957e+00],\n",
       "       [ 1.00000000e+00,  2.90141880e+00,  8.41823107e+00],\n",
       "       [ 1.00000000e+00,  1.86935963e+00,  3.49450544e+00],\n",
       "       [ 1.00000000e+00, -1.40280706e+00,  1.96786765e+00],\n",
       "       [ 1.00000000e+00, -1.93314715e+00,  3.73705789e+00],\n",
       "       [ 1.00000000e+00,  2.85602130e+00,  8.15685767e+00],\n",
       "       [ 1.00000000e+00, -7.30677272e-01,  5.33889276e-01],\n",
       "       [ 1.00000000e+00, -7.86918702e-01,  6.19241044e-01],\n",
       "       [ 1.00000000e+00,  8.81154658e-01,  7.76433531e-01],\n",
       "       [ 1.00000000e+00,  1.07707405e+00,  1.16008851e+00],\n",
       "       [ 1.00000000e+00,  1.65369631e+00,  2.73471149e+00],\n",
       "       [ 1.00000000e+00, -1.81388415e+00,  3.29017573e+00],\n",
       "       [ 1.00000000e+00,  3.16831694e+00,  1.00382322e+01],\n",
       "       [ 1.00000000e+00,  2.36203225e+00,  5.57919633e+00],\n",
       "       [ 1.00000000e+00, -7.70673741e-01,  5.93938015e-01],\n",
       "       [ 1.00000000e+00,  2.60372068e+00,  6.77936137e+00],\n",
       "       [ 1.00000000e+00,  3.98065431e+00,  1.58456087e+01],\n",
       "       [ 1.00000000e+00, -8.51054014e-01,  7.24292935e-01],\n",
       "       [ 1.00000000e+00,  3.16736649e+00,  1.00322105e+01],\n",
       "       [ 1.00000000e+00, -2.45059650e-01,  6.00542323e-02],\n",
       "       [ 1.00000000e+00, -1.08839226e+00,  1.18459771e+00],\n",
       "       [ 1.00000000e+00,  1.15733223e-01,  1.33941788e-02],\n",
       "       [ 1.00000000e+00,  2.94546443e+00,  8.67576074e+00],\n",
       "       [ 1.00000000e+00,  3.76228988e+00,  1.41548252e+01],\n",
       "       [ 1.00000000e+00,  2.56033507e+00,  6.55531566e+00],\n",
       "       [ 1.00000000e+00, -1.01261394e+00,  1.02538700e+00],\n",
       "       [ 1.00000000e+00,  2.35121803e+00,  5.52822622e+00],\n",
       "       [ 1.00000000e+00,  3.21477810e+00,  1.03347982e+01],\n",
       "       [ 1.00000000e+00,  2.57055063e+00,  6.60773052e+00],\n",
       "       [ 1.00000000e+00, -1.21765357e+00,  1.48268022e+00],\n",
       "       [ 1.00000000e+00, -4.70093834e-01,  2.20988213e-01],\n",
       "       [ 1.00000000e+00, -1.49767971e+00,  2.24304450e+00],\n",
       "       [ 1.00000000e+00,  2.52680053e+00,  6.38472094e+00],\n",
       "       [ 1.00000000e+00,  4.16762791e-01,  1.73691224e-01],\n",
       "       [ 1.00000000e+00,  2.93429766e+00,  8.61010278e+00],\n",
       "       [ 1.00000000e+00,  8.92946662e-02,  7.97353742e-03],\n",
       "       [ 1.00000000e+00,  2.10185918e+00,  4.41781201e+00],\n",
       "       [ 1.00000000e+00, -2.95337827e-01,  8.72244321e-02],\n",
       "       [ 1.00000000e+00,  3.57942887e+00,  1.28123111e+01],\n",
       "       [ 1.00000000e+00,  2.92613430e+00,  8.56226194e+00],\n",
       "       [ 1.00000000e+00, -2.90660098e-01,  8.44832925e-02]])"
      ]
     },
     "execution_count": 101,
     "metadata": {},
     "output_type": "execute_result"
    }
   ],
   "source": [
    "# kada je iz scatter plot vidjljivo da podaci nisu dobro aproksimirani pravcem treba:\n",
    "# povecati podacima dimenziju\n",
    "# promjeniti model da nije linearan\n",
    "\n",
    "# povecanje dimenzije podataka - koristenje from sklearn.preprocessing import PolynomialFeatures\n",
    "poly= PolynomialFeatures(degree=2)\n",
    "X_poly=poly.fit_transform(X)\n",
    "X_poly\n",
    "\n"
   ]
  },
  {
   "cell_type": "code",
   "execution_count": null,
   "id": "228b4871",
   "metadata": {},
   "outputs": [
    {
     "data": {
      "text/plain": [
       "[<matplotlib.lines.Line2D at 0x1efdef99460>]"
      ]
     },
     "execution_count": 110,
     "metadata": {},
     "output_type": "execute_result"
    },
    {
     "data": {
      "image/png": "[encoded data removed]",
      "text/plain": [
       "<Figure size 800x800 with 1 Axes>"
      ]
     },
     "metadata": {},
     "output_type": "display_data"
    }
   ],
   "source": [
    "model_2_lin=LinearRegression()\n",
    "model_2_lin.fit(X_poly,y)\n",
    "\n",
    "y_predict=model_2_lin.predict(X_poly)\n",
    "\n",
    "# ponovno za crtanje linije predikcije moramo sortirati po originalnom X-u\n",
    "# i temeljem originalog X-a moramo sortirati y_predict\n",
    "sort_idx=np.argsort(X, axis=0).flatten()\n",
    "X_sorted=X[sort_idx]\n",
    "y_predict_sorted=y_predict[sort_idx]\n",
    "\n",
    "plt.figure(figsize=(8,8))\n",
    "plt.scatter(X,y, c=\"blue\")\n",
    "plt.plot(X_sorted, y_predict_sorted, c=\"red\")\n"
   ]
  },
  {
   "cell_type": "code",
   "execution_count": 112,
   "id": "ed92ec4d",
   "metadata": {},
   "outputs": [
    {
     "data": {
      "text/plain": [
       "0.9786930269874423"
      ]
     },
     "execution_count": 112,
     "metadata": {},
     "output_type": "execute_result"
    }
   ],
   "source": [
    "# mean_squered error\n",
    "# kvadrati razlike predviden od prave vrijednosti su u brojniku\n",
    "# time male grreske postaju manje, a velike jos vece\n",
    "srednja_kvadratna_pogreska=mean_squared_error(y,y_predict)\n",
    "srednja_kvadratna_pogreska"
   ]
  },
  {
   "cell_type": "code",
   "execution_count": 114,
   "id": "bb127ecc",
   "metadata": {},
   "outputs": [
    {
     "data": {
      "text/plain": [
       "0.9250258368411313"
      ]
     },
     "execution_count": 114,
     "metadata": {},
     "output_type": "execute_result"
    }
   ],
   "source": [
    " # R-square metrika\n",
    "# Racuna se kao 1 minus omjer suma kvadrata razlika stvarne vrijednosti i predvidanja i suma kvadrata razlika stvarne vrijednosti od prosjeka stvarnih vrijednosti\n",
    "# Govori koliko je model bolji od toga da netko samo stalno gada prosjek\n",
    "# krece se od -1 losije od prosjeka, 0 isto kao projekt i 1 apsolutno dobro\n",
    "\n",
    "r2=r2_score(y,y_predict)\n",
    "r2\n"
   ]
  },
  {
   "cell_type": "code",
   "execution_count": 115,
   "id": "a6719f3f",
   "metadata": {},
   "outputs": [],
   "source": [
    "# metrike kod grupiranja\n",
    "# Mjeri koliko su tocke udaljenje od svog centroida\n",
    "# Trazi se broj grupa za koji ce greska oko centrioida biti mala, a nakon nekog broj grupa ta greska slabije pada i to je onda koljeno\n",
    "\n"
   ]
  },
  {
   "cell_type": "markdown",
   "id": "b2d80664",
   "metadata": {},
   "source": [
    "### Confusion Matrix\n",
    "Pokazuje brojcano TP, TN, FP i FN\n",
    "Iz nje se racunaju dalje metrike\n",
    "\n",
    "__Tocnost (accuracy)__\n",
    "Broj ispravni primjera (TP i TN) kroz ukupan broj primjera.\n",
    "Ako je jedna klasa dominantna i nju smo naucili, tocnost ce ispasti super, ali s biasom\n",
    "\n",
    "__Preciznost (precision)__\n",
    "Broj TP kroz (TP+FP)\n",
    "\n",
    "__Odziv (recall)__ \n",
    "Broj TP kroz (TP+FN)\n",
    "\n",
    "__Fallout__\n",
    "Broj FP kroz (FP+ TN)\n",
    "\n",
    "__Specificnost__\n",
    "Broj TN kroz (TN+FP)\n",
    "\n",
    "__Mjera F1__\n",
    "Je harmonijska sredina izmedu precisiona i recall-a (2/(1/P+1/R))\n",
    "\n",
    "__Mjera F Beta__\n",
    "Poopcenje F1 mjere. Racuna se kao ((1+beta)^2*PR)/(b^2P+R)\n",
    "\n"
   ]
  },
  {
   "cell_type": "markdown",
   "id": "3b98eb92",
   "metadata": {},
   "source": [
    "## ucitavanje csv-a"
   ]
  },
  {
   "cell_type": "code",
   "execution_count": null,
   "id": "42acc9f6",
   "metadata": {},
   "outputs": [],
   "source": []
  },
  {
   "cell_type": "markdown",
   "id": "21421d6f",
   "metadata": {},
   "source": []
  },
  {
   "cell_type": "markdown",
   "id": "30a5bf09",
   "metadata": {},
   "source": [
    "## ucitavanje baze"
   ]
  },
  {
   "cell_type": "markdown",
   "id": "a9cce6ae",
   "metadata": {},
   "source": []
  },
  {
   "cell_type": "markdown",
   "id": "d77b576c",
   "metadata": {},
   "source": [
    "## ucitavanje XML-a"
   ]
  },
  {
   "cell_type": "markdown",
   "id": "1b078561",
   "metadata": {},
   "source": []
  },
  {
   "cell_type": "markdown",
   "id": "ea04e34c",
   "metadata": {},
   "source": [
    "## pseudoinverz"
   ]
  }
 ],
 "metadata": {
  "kernelspec": {
   "display_name": "Python 3",
   "language": "python",
   "name": "python3"
  },
  "language_info": {
   "codemirror_mode": {
    "name": "ipython",
    "version": 3
   },
   "file_extension": ".py",
   "mimetype": "text/x-python",
   "name": "python",
   "nbconvert_exporter": "python",
   "pygments_lexer": "ipython3",
   "version": "3.12.9"
  }
 },
 "nbformat": 4,
 "nbformat_minor": 5
}

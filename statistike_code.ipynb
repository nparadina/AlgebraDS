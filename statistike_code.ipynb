{
 "cells": [
  {
   "cell_type": "markdown",
   "id": "2399b6f1",
   "metadata": {},
   "source": [
    "1. Medijan"
   ]
  },
  {
   "cell_type": "code",
   "execution_count": 71,
   "id": "ec13359e",
   "metadata": {},
   "outputs": [],
   "source": [
    "def calc_median(incomming_list):\n",
    "    len_list=len(incomming_list)\n",
    "    incomming_list.sort()\n",
    "    \n",
    "    if not incomming_list:\n",
    "        return -1\n",
    "\n",
    "    if len_list%2==0:\n",
    "        median_calc=(incomming_list[len_list//2]+incomming_list[len_list//2-1])/2\n",
    "    else:\n",
    "        median_calc=incomming_list[len_list//2]\n",
    "    return median_calc"
   ]
  },
  {
   "cell_type": "code",
   "execution_count": 67,
   "id": "dfb3d9fa",
   "metadata": {},
   "outputs": [
    {
     "name": "stdout",
     "output_type": "stream",
     "text": [
      "[1, 3, 4, 6, 7]\n",
      "2\n"
     ]
    },
    {
     "data": {
      "text/plain": [
       "4"
      ]
     },
     "execution_count": 67,
     "metadata": {},
     "output_type": "execute_result"
    }
   ],
   "source": [
    "lista=[1,6,7,3,4]\n",
    "calc_median(lista)"
   ]
  },
  {
   "cell_type": "markdown",
   "id": "b52bd13f",
   "metadata": {},
   "source": [
    "2. Mod\n"
   ]
  },
  {
   "cell_type": "code",
   "execution_count": 55,
   "id": "f7453ecb",
   "metadata": {},
   "outputs": [],
   "source": [
    "def calc_mod(incomming_list):\n",
    "    if not incomming_list:\n",
    "        return -1\n",
    "    keys=list(set(incomming_list))\n",
    "    frekvencije={}\n",
    "    frekvencije=frekvencije.fromkeys(keys,0)\n",
    "\n",
    "    for elem in incomming_list:\n",
    "        frekvencije[elem]+=1\n",
    "    \n",
    "    frekvencija_max=max(frekvencije.values())\n",
    "    modovi=[]\n",
    "\n",
    "    for key, value in frekvencije.items():\n",
    "        if value==frekvencija_max:\n",
    "            modovi.append(key)\n",
    "    return modovi"
   ]
  },
  {
   "cell_type": "code",
   "execution_count": 54,
   "id": "892079d8",
   "metadata": {},
   "outputs": [
    {
     "name": "stdout",
     "output_type": "stream",
     "text": [
      "{1: 1, 2: 1, 3: 1, 4: 1, 5: 3, 7: 3}\n",
      "3\n"
     ]
    },
    {
     "data": {
      "text/plain": [
       "[5, 7]"
      ]
     },
     "execution_count": 54,
     "metadata": {},
     "output_type": "execute_result"
    }
   ],
   "source": [
    "lista=[1,2,3,4,5,5,5,7,7,7]\n",
    "calc_mod(lista)"
   ]
  },
  {
   "cell_type": "markdown",
   "id": "29dd36ea",
   "metadata": {
    "vscode": {
     "languageId": "plaintext"
    }
   },
   "source": [
    "3. Frekvencija"
   ]
  },
  {
   "cell_type": "code",
   "execution_count": 56,
   "id": "24036673",
   "metadata": {},
   "outputs": [],
   "source": [
    "def calc_freq(incomming_list):\n",
    "    if not incomming_list:\n",
    "        return -1\n",
    "    keys=set(incomming_list)\n",
    "    freq_dic={}\n",
    "    freq_dic=freq_dic.fromkeys(keys, 0)\n",
    "\n",
    "    for elem in incomming_list:\n",
    "        freq_dic[elem]+=1\n",
    "    return freq_dic"
   ]
  },
  {
   "cell_type": "code",
   "execution_count": 57,
   "id": "5bad16f5",
   "metadata": {},
   "outputs": [
    {
     "data": {
      "text/plain": [
       "{1: 1, 2: 1, 3: 1, 4: 1, 5: 3, 7: 3}"
      ]
     },
     "execution_count": 57,
     "metadata": {},
     "output_type": "execute_result"
    }
   ],
   "source": [
    "lista=[1,2,3,4,5,5,5,7,7,7]\n",
    "calc_freq(lista)"
   ]
  },
  {
   "cell_type": "markdown",
   "id": "074c6179",
   "metadata": {},
   "source": [
    "4. Kvantili"
   ]
  },
  {
   "cell_type": "code",
   "execution_count": 72,
   "id": "b4873cf1",
   "metadata": {},
   "outputs": [],
   "source": [
    "\n",
    "def cal_quantil(incomming_list):\n",
    "    if not incomming_list:\n",
    "        return -1\n",
    "    incomming_list.sort()\n",
    "    q2=calc_median(incomming_list)\n",
    "    even=False\n",
    "    if len(incomming_list)%2==0:\n",
    "        even=True\n",
    "    #q1&q3\n",
    "    if even:\n",
    "        q1_list=incomming_list[:len(incomming_list)//2]\n",
    "        q3_list=incomming_list[len(incomming_list)//2:]\n",
    "    else:\n",
    "        q1_list=incomming_list[:len(incomming_list)//2]\n",
    "        q3_list=incomming_list[len(incomming_list)//2+1:]\n",
    "    \n",
    "    q1=calc_median(q1_list)\n",
    "    q3=calc_median(q3_list)\n",
    "\n",
    "    q4=incomming_list[-1]\n",
    "\n",
    "    return q1, q2, q3, q4"
   ]
  },
  {
   "cell_type": "code",
   "execution_count": 146,
   "id": "f048c379",
   "metadata": {},
   "outputs": [
    {
     "name": "stdout",
     "output_type": "stream",
     "text": [
      "5.5\n",
      "9.0\n",
      "21.5\n",
      "300\n"
     ]
    }
   ],
   "source": [
    "lista=[1,5,6,7,11,19,24,300]\n",
    "q1, q2, q3, q4=cal_quantil(lista)\n",
    "print(q1)\n",
    "print(q2)\n",
    "print(q3)\n",
    "print(q4)"
   ]
  },
  {
   "cell_type": "markdown",
   "id": "625159ad",
   "metadata": {},
   "source": [
    "5. IQR"
   ]
  },
  {
   "cell_type": "code",
   "execution_count": null,
   "id": "5a8a6a48",
   "metadata": {},
   "outputs": [],
   "source": [
    "def calc_iqr(q1,q3):\n",
    "    return q3-q1"
   ]
  },
  {
   "cell_type": "code",
   "execution_count": 81,
   "id": "c4ade5c8",
   "metadata": {},
   "outputs": [
    {
     "data": {
      "text/plain": [
       "2.0"
      ]
     },
     "execution_count": 81,
     "metadata": {},
     "output_type": "execute_result"
    }
   ],
   "source": [
    "iqr=calc_iqr(q1,q3)\n",
    "iqr"
   ]
  },
  {
   "cell_type": "markdown",
   "id": "eeca6b94",
   "metadata": {},
   "source": [
    "6. Mean\n"
   ]
  },
  {
   "cell_type": "code",
   "execution_count": 101,
   "id": "b9b6211f",
   "metadata": {},
   "outputs": [],
   "source": [
    "def calc_mean(incomming_list):\n",
    "    if not incomming_list:\n",
    "        return -1\n",
    "    sum=0\n",
    "    for elem in incomming_list:\n",
    "        sum=sum+elem\n",
    "    mean=sum/len(incomming_list)\n",
    "\n",
    "    return mean"
   ]
  },
  {
   "cell_type": "code",
   "execution_count": 102,
   "id": "1a23a23d",
   "metadata": {},
   "outputs": [],
   "source": [
    "lista=[5, 6, 7, 8]\n",
    "srednja_vrijednost=calc_mean(lista)"
   ]
  },
  {
   "cell_type": "markdown",
   "id": "b1f1795d",
   "metadata": {},
   "source": [
    "7. Varijanca i standardna devijacija"
   ]
  },
  {
   "cell_type": "code",
   "execution_count": 103,
   "id": "965f1673",
   "metadata": {},
   "outputs": [],
   "source": [
    "import math as m\n",
    "def cal_var_std(incomming_list):\n",
    "    if not incomming_list:\n",
    "        return -1\n",
    "\n",
    "    srednja_vrijednost=calc_mean(incomming_list)\n",
    "    print(srednja_vrijednost)\n",
    "    suma_kvadrata=0\n",
    "    for elem in incomming_list:\n",
    "            suma_kvadrata=suma_kvadrata+(elem-srednja_vrijednost)**2\n",
    "    varijanca=suma_kvadrata/len(incomming_list)\n",
    "    std_devijacija=m.sqrt(varijanca)\n",
    "\n",
    "    return varijanca, std_devijacija"
   ]
  },
  {
   "cell_type": "code",
   "execution_count": 104,
   "id": "29aa49a5",
   "metadata": {},
   "outputs": [
    {
     "name": "stdout",
     "output_type": "stream",
     "text": [
      "6.5\n",
      "Std_var 1.25, Varijanca 1.118033988749895\n"
     ]
    }
   ],
   "source": [
    "lista=[5, 6, 7, 8]\n",
    "varijanca, std_devijacija=cal_var_std(lista)\n",
    "print(f'Std_var {varijanca}, Varijanca {std_devijacija}')"
   ]
  },
  {
   "cell_type": "markdown",
   "id": "6658a658",
   "metadata": {},
   "source": [
    "8. Korelacija"
   ]
  },
  {
   "cell_type": "code",
   "execution_count": 132,
   "id": "73619cac",
   "metadata": {},
   "outputs": [],
   "source": [
    "def calc_corr(incomming_list1, incomming_list2):\n",
    "    if not incomming_list1 or not incomming_list2:\n",
    "        return -1\n",
    "    srednja_vrijednost_1=calc_mean(incomming_list1)\n",
    "    srednja_vrijednost_2=calc_mean(incomming_list2)\n",
    "\n",
    "    def calc_suma_kvadrata(incomming_list, mean):\n",
    "        suma_kvadrata=0\n",
    "        srednja_vrijednost=mean\n",
    "\n",
    "        for elem in incomming_list:\n",
    "            suma_kvadrata=suma_kvadrata+(elem-srednja_vrijednost)**2\n",
    "        return suma_kvadrata\n",
    "    \n",
    "    suma_kvadrarata2=calc_suma_kvadrata(incomming_list2, srednja_vrijednost_2)\n",
    "    suma_kvadrarata1=calc_suma_kvadrata(incomming_list1, srednja_vrijednost_1)\n",
    "    \n",
    "\n",
    "    zbroj=0\n",
    "    for i, value in enumerate(incomming_list1):\n",
    "        zbroj=zbroj+(incomming_list1[i]-srednja_vrijednost_1)*(incomming_list2[i]-srednja_vrijednost_2)\n",
    "\n",
    "    korelacija=zbroj/m.sqrt(suma_kvadrarata1*suma_kvadrarata2)\n",
    "    return korelacija\n",
    "   "
   ]
  },
  {
   "cell_type": "code",
   "execution_count": 134,
   "id": "630276fc",
   "metadata": {},
   "outputs": [
    {
     "data": {
      "text/plain": [
       "1.0"
      ]
     },
     "execution_count": 134,
     "metadata": {},
     "output_type": "execute_result"
    }
   ],
   "source": [
    "lista1=[5, 6, 7, 8]\n",
    "lista2=[1, 2, 3, 4]\n",
    "\n",
    "korelacija=calc_corr(lista1, lista2)\n",
    "korelacija"
   ]
  },
  {
   "cell_type": "code",
   "execution_count": 143,
   "id": "8ec115b8",
   "metadata": {},
   "outputs": [],
   "source": [
    "def izracunaj_kvantil(lista, kvantil):\n",
    "    kvantili={1:0.25, 2:0.5, 3:0.75, 4:1}\n",
    "\n",
    "    broj_elemenata=len(lista)\n",
    "    sortirana_lista=sorted(lista)\n",
    "    index=int((broj_elemenata-1)*kvantili[kvantil])\n",
    "\n",
    "    return sortirana_lista[index]\n"
   ]
  },
  {
   "cell_type": "code",
   "execution_count": 144,
   "id": "950da14e",
   "metadata": {},
   "outputs": [
    {
     "name": "stdout",
     "output_type": "stream",
     "text": [
      "5\n",
      "7\n",
      "19\n",
      "300\n"
     ]
    }
   ],
   "source": [
    "brojevi =[1,5,6,7,11,19,24,300]\n",
    "print(izracunaj_kvantil(brojevi,1))\n",
    "print(izracunaj_kvantil(brojevi,2))\n",
    "print(izracunaj_kvantil(brojevi,3))\n",
    "print(izracunaj_kvantil(brojevi,4))"
   ]
  }
 ],
 "metadata": {
  "kernelspec": {
   "display_name": "Python 3",
   "language": "python",
   "name": "python3"
  },
  "language_info": {
   "codemirror_mode": {
    "name": "ipython",
    "version": 3
   },
   "file_extension": ".py",
   "mimetype": "text/x-python",
   "name": "python",
   "nbconvert_exporter": "python",
   "pygments_lexer": "ipython3",
   "version": "3.12.9"
  }
 },
 "nbformat": 4,
 "nbformat_minor": 5
}

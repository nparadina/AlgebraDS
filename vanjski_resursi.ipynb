{
 "cells": [
  {
   "cell_type": "code",
   "execution_count": 1,
   "metadata": {},
   "outputs": [],
   "source": [
    "#1. otvaranej vanjskog resursa\n",
    "datotetka = open(\"test.txt\", \"w\")\n",
    "#2. rad vanjski\n",
    "datotetka.write(\"Neki novi tekst\")\n",
    "#3. zatvaranje\n",
    "datotetka.close()"
   ]
  },
  {
   "cell_type": "code",
   "execution_count": 2,
   "metadata": {},
   "outputs": [
    {
     "data": {
      "text/plain": [
       "'Neki novi tekst'"
      ]
     },
     "execution_count": 2,
     "metadata": {},
     "output_type": "execute_result"
    }
   ],
   "source": [
    "#1. otvaranej vanjskog resursa\n",
    "datotetka = open(\"test.txt\", \"r\")\n",
    "#2. rad vanjski\n",
    "sadrzaj = datotetka.read()\n",
    "#3. zatvaranje\n",
    "datotetka.close()\n",
    "\n",
    "sadrzaj"
   ]
  },
  {
   "cell_type": "code",
   "execution_count": 3,
   "metadata": {},
   "outputs": [],
   "source": [
    "#1. otvaranej vanjskog resursa\n",
    "datotetka = open(\"binarana_datotetka.dat\", \"wb\")\n",
    "#2. rad vanjski\n",
    "datotetka.write(bytearray([0xFF, 0x00, 0x7F, 0x80]))\n",
    "#3. zatvaranje\n",
    "datotetka.close()"
   ]
  },
  {
   "cell_type": "code",
   "execution_count": 4,
   "metadata": {},
   "outputs": [],
   "source": [
    "datotetka = None\n",
    "try:\n",
    "    #1. otvaranej vanjskog resursa\n",
    "    datotetka = open(\"binarana_datotetka.dat\", \"wb\")\n",
    "    #2. rad vanjski\n",
    "    datotetka.write(bytearray([0xFF, 0x00, 0x7F, 0x80]))\n",
    "finally:\n",
    "    if datotetka:\n",
    "        datotetka.close()"
   ]
  },
  {
   "cell_type": "code",
   "execution_count": 1,
   "metadata": {},
   "outputs": [],
   "source": [
    "polaznici = \"\"\"Ime,Prezime,Ocjena\n",
    "Pero,Peric,5\n",
    "Ivan,Ivic,3\n",
    "Ana,Anic,4\n",
    "Leo,Leic,1\n",
    "\"\"\"\n",
    "\n",
    "datotetka = open(\"polaznici.csv\", \"w\")\n",
    "\n",
    "datotetka.write(polaznici)\n",
    "datotetka.close()\n"
   ]
  },
  {
   "cell_type": "code",
   "execution_count": null,
   "metadata": {},
   "outputs": [],
   "source": [
    "with open(\"polaznici.csv\", \"w\") as datotetka:\n",
    "    datotetka.write(polaznici)"
   ]
  },
  {
   "cell_type": "code",
   "execution_count": 6,
   "metadata": {},
   "outputs": [],
   "source": [
    "import csv"
   ]
  },
  {
   "cell_type": "code",
   "execution_count": null,
   "metadata": {},
   "outputs": [
    {
     "name": "stdout",
     "output_type": "stream",
     "text": [
      "<class '_csv.reader'>\n",
      "['Ime', 'Prezime', 'Ocjena']\n",
      "['Pero', 'Peric', '5']\n",
      "['Ivan', 'Ivic', '3']\n",
      "['Ana', 'Anic', '4']\n",
      "['Leo', 'Leic', '1']\n"
     ]
    }
   ],
   "source": [
    "with open(\"polaznici.csv\", \"r\") as csvfile:\n",
    "    polaznici = csv.reader(csvfile, delimiter=\",\")\n",
    "    print(type(polaznici))\n",
    "    for red in polaznici:\n",
    "        print(red)"
   ]
  },
  {
   "cell_type": "code",
   "execution_count": null,
   "metadata": {},
   "outputs": [
    {
     "name": "stdout",
     "output_type": "stream",
     "text": [
      "<_csv.reader object at 0x00000228941BBD00>\n",
      "<_csv.reader object at 0x00000228941BBD60>\n",
      "<_csv.reader object at 0x00000228941BBD00>\n",
      "<_csv.reader object at 0x00000228941BBD60>\n",
      "<_csv.reader object at 0x00000228941BBD00>\n"
     ]
    }
   ],
   "source": [
    "with open(\"polaznici.csv\", \"r\") as csvfile:\n",
    "    for linija in csvfile:\n",
    "        \n",
    "        "
   ]
  },
  {
   "cell_type": "code",
   "execution_count": null,
   "metadata": {},
   "outputs": [],
   "source": [
    "%pip install requests"
   ]
  },
  {
   "cell_type": "code",
   "execution_count": 8,
   "metadata": {},
   "outputs": [
    {
     "name": "stdout",
     "output_type": "stream",
     "text": [
      "<Response [200]>\n"
     ]
    }
   ],
   "source": [
    "import requests\n",
    "import xml.etree.ElementTree as ET\n",
    "\n",
    "request = requests.get(\"https://vrijeme.hr/hrvatska_n.xml\")\n",
    "sadrzaj = request.text\n",
    "root = ET.fromstring(sadrzaj)\n",
    "\n",
    "podaci = dict()\n",
    "\n",
    "for child in root:\n",
    "    if child.tag == \"Grad\":\n",
    "        podaci[child.find(\"GradIme\").text] = dict()\n",
    "        for subchild in child:\n",
    "            if subchild.tag == \"Podatci\":\n",
    "                for podatak in subchild:\n",
    "                    podaci[child.find(\"GradIme\").text][podatak.tag] = podatak.text\n",
    "                    \n",
    "                    \n",
    "print(request)"
   ]
  },
  {
   "cell_type": "code",
   "execution_count": null,
   "metadata": {},
   "outputs": [],
   "source": [
    "import sqlite3\n",
    "\n",
    "konekcija = sqlite3.connect('vremenska_prognoza.db')\n",
    "pokazivac = konekcija.cursor()\n",
    "\n",
    "pokazivac.execute('''\n",
    "                  CREATE TABLE IF NOT EXISTS vrijeme (\n",
    "                      grad TEXT,\n",
    "                      datum TEXT,\n",
    "                      temperatura REAL\n",
    "                  );\n",
    "                  ''')\n",
    "\n",
    "konekcija.commit()\n",
    "\n",
    "podatci = [\n",
    "    ('New York', '2024-06-01', 24.0),\n",
    "    ('Los Angeles', '2024-06-01', 29.0),\n",
    "    ('Chicago', '2024-06-01', 21.0),\n",
    "    ('Houston', '2024-06-01', 32.0),\n",
    "    ('Phoenix', '2024-06-01', 40.0),\n",
    "    ('Philadelphia', '2024-06-01', 25.5),\n",
    "    ('San Antonio', '2024-06-01', 35.0),\n",
    "    ('San Diego', '2024-06-01', 26.5),\n",
    "    ('Dallas', '2024-06-01', 33.0),\n",
    "    ('San Jose', '2024-06-01', 25.0),\n",
    "    ('Austin', '2024-06-01', 34.0),\n",
    "    ('Jacksonville', '2024-06-01', 31.0),\n",
    "    ('Fort Worth', '2024-06-01', 32.5),\n",
    "    ('Columbus', '2024-06-01', 22.0),\n",
    "    ('San Francisco', '2024-06-01', 20.0),\n",
    "    ('Charlotte', '2024-06-01', 27.5),\n",
    "    ('Indianapolis', '2024-06-01', 23.0),\n",
    "    ('Seattle', '2024-06-01', 18.5),\n",
    "    ('Denver', '2024-06-01', 29.5),\n",
    "    ('Washington', '2024-06-01', 26.5)\n",
    "]\n",
    "\n",
    "pokazivac.executemany('''\n",
    "                      INSERT INTO vrijeme (grad, datum, temperatura)\n",
    "                      VALUES (?, ?, ?);\n",
    "                      ''', podatci)\n",
    "\n",
    "konekcija.commit()\n",
    "\n"
   ]
  },
  {
   "cell_type": "code",
   "execution_count": 16,
   "metadata": {},
   "outputs": [
    {
     "name": "stdout",
     "output_type": "stream",
     "text": [
      "[('New York', '2024-06-01', 24.0), ('Los Angeles', '2024-06-01', 29.0), ('Chicago', '2024-06-01', 21.0), ('Houston', '2024-06-01', 32.0), ('Phoenix', '2024-06-01', 40.0), ('Philadelphia', '2024-06-01', 25.5), ('San Antonio', '2024-06-01', 35.0), ('San Diego', '2024-06-01', 26.5), ('Dallas', '2024-06-01', 33.0), ('San Jose', '2024-06-01', 25.0), ('Austin', '2024-06-01', 34.0), ('Jacksonville', '2024-06-01', 31.0), ('Fort Worth', '2024-06-01', 32.5), ('Columbus', '2024-06-01', 22.0), ('San Francisco', '2024-06-01', 20.0), ('Charlotte', '2024-06-01', 27.5), ('Indianapolis', '2024-06-01', 23.0), ('Seattle', '2024-06-01', 18.5), ('Denver', '2024-06-01', 29.5), ('Washington', '2024-06-01', 26.5)]\n"
     ]
    }
   ],
   "source": [
    "pokazivac.execute(\"SELECT * FROM vrijeme\")\n",
    "\n",
    "# podatci_baza = []\n",
    "# for red in pokazivac.fetchall():\n",
    "#     podatci_baza.append(red)\n",
    "    \n",
    "podatci_baza = [red for red in pokazivac.fetchall()]\n",
    "\n",
    "print(podatci_baza)\n"
   ]
  },
  {
   "cell_type": "code",
   "execution_count": 17,
   "metadata": {},
   "outputs": [],
   "source": [
    "pokazivac.close()\n",
    "konekcija.close()"
   ]
  },
  {
   "cell_type": "code",
   "execution_count": null,
   "metadata": {},
   "outputs": [],
   "source": [
    "pokazivac.execute(\"SELECT * FROM vrijeme WHERE temperatura > 29\")"
   ]
  }
 ],
 "metadata": {
  "kernelspec": {
   "display_name": "Python 3",
   "language": "python",
   "name": "python3"
  },
  "language_info": {
   "codemirror_mode": {
    "name": "ipython",
    "version": 3
   },
   "file_extension": ".py",
   "mimetype": "text/x-python",
   "name": "python",
   "nbconvert_exporter": "python",
   "pygments_lexer": "ipython3",
   "version": "3.12.9"
  }
 },
 "nbformat": 4,
 "nbformat_minor": 2
}

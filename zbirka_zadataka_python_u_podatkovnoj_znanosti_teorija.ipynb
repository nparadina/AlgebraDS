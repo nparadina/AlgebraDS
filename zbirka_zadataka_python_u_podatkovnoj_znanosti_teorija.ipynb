{
 "cells": [
  {
   "cell_type": "markdown",
   "id": "1c0b8cf2",
   "metadata": {},
   "source": [
    "<div class=\"alert alert-block alert-warning\">\n",
    "  <b>Pitanje:</b> Cemu sluze klase u Pythonu?\n",
    "</div>\n",
    "<div class=\"alert alert-block alert-info\">\n",
    "  <b>Odgovor: Klase su predlosci za kreiranje objekata, specificnih tipova podataka za koje su definirana svojstva (atributi) i ponasanje (metode). Kroz nasljedivanja ili samo ekstenziju, omogucuju da se dijelovi napisanog programskog koda ponovno koriste i prosire</b>\n",
    "</div>"
   ]
  },
  {
   "cell_type": "markdown",
   "id": "37ddfa9f",
   "metadata": {},
   "source": []
  },
  {
   "cell_type": "markdown",
   "id": "c4c7b1f7",
   "metadata": {},
   "source": [
    "<div class=\"alert alert-block alert-warning\">\n",
    "  <b>Pitanje:</b> Cemu sluze instance u Pythonu?\n",
    "</div>\n",
    "<div class=\"alert alert-block alert-info\">\n",
    "  <b>Odgovor: Instanca je specificni objekt koji je nastao iz klase. Svaka instanca sprema jedinstvene podatke za objekt. Instanca moze dodatno imati svoje atribute, koji su dadni samo za tu instancu nekad nakon kreiranja, ali samim kreiranjem nasljeduje sve atribute same klase i metode. Primjer recimo klase auto i pojedinih modela auta </b>\n",
    "</div>"
   ]
  },
  {
   "cell_type": "markdown",
   "id": "9cb042dd",
   "metadata": {},
   "source": []
  },
  {
   "cell_type": "markdown",
   "id": "f896f241",
   "metadata": {},
   "source": [
    "<div class=\"alert alert-block alert-warning\">\n",
    "  <b>Pitanje:</b> Cemu sluze moduli u Pythonu?\n",
    "</div>\n",
    "<div class=\"alert alert-block alert-info\">\n",
    "  <b>Odgovor: Programski kod se razdavaja u module kako bi bio laksi za odrzavanje i kako bi se mogao dijeliti. Kroz module se omogucava i da se dijelovi koda ponovno upotrebljavaju na nacin da logiku razdvojimo u manje komade i po potrebi mozemo importirati sto nam treba. Neki moduli su ugradeni u distribuciju, drugi su razvijeni od trece strane, ali  zajednicki je da nam omogucuje koristenje naprednih funkcionalnosti bez da ih moramo sami pisati. Iako po potrebi mozemo i sami pisati module te bi u pravilu neki veci projekt trebao biti skup modula.</b>\n",
    "</div>"
   ]
  },
  {
   "cell_type": "markdown",
   "id": "9a182896",
   "metadata": {},
   "source": []
  },
  {
   "cell_type": "markdown",
   "id": "c2bd1df9",
   "metadata": {},
   "source": [
    "<div class=\"alert alert-block alert-warning\">\n",
    "  <b>Pitanje:</b> Cemu sluze paketi u Pythonu?\n",
    "</div>\n",
    "<div class=\"alert alert-block alert-info\">\n",
    "  <b>Odgovor:</b> Paketi u Pythonu sluze da se vise modula organizira u foldersku strukturu prema temi ili namijeni, paket je biti kolekcija po smislu povezanih modula koji su grupirani pod jednim imenom. Paket je u biti folder u kojem se obavezno mora nalazit __init__.py datoteka koja moze i  ne mora biti prazna.\n",
    "  \n",
    "  - game\n",
    "    - init__.py\n",
    "    - player.py         # defines Player class\n",
    "    - enemy.py          # defines Enemy class\n",
    "    - levels/\n",
    "      - init__.py\n",
    "      - level1.py     # level-specific code\n",
    "\n",
    "  - from game import player\n",
    "  - rom game.levels import level1\n",
    "\n",
    "\n",
    "Za velike projekte organizacije u pakete je ocekivana jer podrazumijeva da olaksava navigaciju, testiranje i ponovnu upotrebu vec napisanog koda. Npr. numpy, pandas ili matplotlib.pyplot to su sve paketi. \n",
    "</div>"
   ]
  },
  {
   "cell_type": "markdown",
   "id": "3655033d",
   "metadata": {},
   "source": []
  },
  {
   "cell_type": "markdown",
   "id": "3226ca8b",
   "metadata": {},
   "source": [
    "<div class=\"alert alert-block alert-warning\">\n",
    "  <b>Pitanje:</b> Što je Anaconda?\n",
    "</div>\n",
    "<div class=\"alert alert-block alert-info\">\n",
    "  <b>Odgovor:</b> Anaconda je distribucija Pythona koje je namijenjena podatkovnoj znanosti. a razvijena je od strane Anaconda Inc. te doalzi s velikim brojem vec instaliranih biblioteka i alata. Ukljucuje:\n",
    "  - Conda alat upravljanje paketima i virtualnim okruzenjima\n",
    "  - unaprijed instalirane datoteke npr. Numpy, pandas, Matplotlib, Scipy,  sckit-learn\n",
    "  - integraciju s Jupyter NOtbookom\n",
    "  Anconda je dostupna za instalaciju na Windowsima, macOs i Linuxu\n",
    "</div>"
   ]
  },
  {
   "cell_type": "markdown",
   "id": "bb518bb4",
   "metadata": {},
   "source": []
  },
  {
   "cell_type": "markdown",
   "id": "cb9b4d1e",
   "metadata": {},
   "source": [
    "<div class=\"alert alert-block alert-warning\">\n",
    "  <b>Pitanje:</b> Koja je razlika izmedu Anaconde i \"normalnog\" (obicnog) Python?\n",
    "</div>\n",
    "<div class=\"alert alert-block alert-info\">\n",
    "  <b>Odgovor:</b> Obican Python ne dolazi s niti jednim preinstaliranim paketom i sve sto kasnije treba za kreiranje projekata se mora rucno instalirati pomocu pip-a. Anaconda Python distribucija dolazi s velikom kolicnom vec predinstaliranih paketa te uz integraciju s Jupyter Noteboksoom. Takoder, Anconda nudi i opcionalno GUI Anaconda Navigator za upravljanje paketima i okolinima, kao alternativu conda alatu. \n",
    "</div>"
   ]
  },
  {
   "cell_type": "markdown",
   "id": "b089740e",
   "metadata": {},
   "source": []
  },
  {
   "cell_type": "markdown",
   "id": "e75045ad",
   "metadata": {
    "vscode": {
     "languageId": "plaintext"
    }
   },
   "source": [
    "<div class=\"alert alert-block alert-warning\">\n",
    "  <b>Pitanje:</b> Sto je to podatkovna znanost?\n",
    "</div>\n",
    "<div class=\"alert alert-block alert-info\">\n",
    "  <b>Odgovor:</b> Podatkovna znanost je interdisciplinarno akademsko poodrucje koje ukljucuje statistiku,racunarsku znanost, znanstvene metode, vizualizaciju, algoritme i sustave za estrakciju i ektrapolaciju znanje i uvida (data mining) iz strkturiranih i nestrukturiranih podataka koji sadrze sum. Za podatkovnu znanost bitna je i strucnost u podrucju ciji se podaci analiziraju. \n",
    "</div>"
   ]
  },
  {
   "cell_type": "code",
   "execution_count": null,
   "id": "212ae20d",
   "metadata": {},
   "outputs": [],
   "source": []
  },
  {
   "cell_type": "markdown",
   "id": "b81fcb8c",
   "metadata": {},
   "source": [
    "<div class=\"alert alert-block alert-warning\">\n",
    "  <b>Pitanje:</b> Koja podrucja sacinjavaju podatkovnu znanost i kako svaki od tih podrucja pridonosi, drugim rjecima, kako nam to podrucje olaksava rad u podatkovnoj znnaosti ili na koje probleme bi mogli naletjeti ako ne bi korisitili to podrucje?\n",
    "</div>\n",
    "<div class=\"alert alert-block alert-info\">\n",
    "  <b>Odgovor:</b>\n",
    "  \n",
    "  1. Statistika je grana matematike koja obuhvaca sakupljanje, analizu, interpretaciju i prezentaciju podataka te izradu previdanja koja se temelje na tim podacima.\n",
    "  2. Racunarska znanost izucava racunala i algoritamske procese. Algoritamski procesi s u kontekstu podatkovne znanosti koriste za automatizaciju analize stoga je bitna i vjestina programiranje. \n",
    "  3. Znanstvena metoda je strukturirani i sustavni pristup s cvrsto definiranim koracima istrazivanju podataka, stvaranju hipoteze i donosenju odluke. Npr, jedan proces znanstvene metode: postavljanje pitanja, istrazivanje = prikupljanje informacija o problemu, postavljanje hipoteze, izvodenje eksperimenta uz prikupljene podatke, analiza, izvjesce i ponavljanje postupka. \n",
    "  4. Vizualizacija - su razne metode prikaza podataka npr. u kooridnatnom sustavu, hsitogrami, tortni grafikoni. Vizualizacija je bitna jer analiticar cesto iz vizualnog prikaza moze uociti pravila u podacima koja nisu lako vidljiva iz samih npr. tablicnih podataka. \n",
    "  5. Ekstrakcija je sakupljanje novih informacija iz sirovnih podataka\n",
    "  6. Ektrapolacija je predvidanje na temelju podataka (npr. na temelju oucenih veza izmedu podataka)\n",
    "  7. Strukturirani podaci su oni podaci cije je formalno definirani model poznat. Nestrukturirani podaci poput teksta, slike ili audio zapisa nemaju na taj nacin definiranu strukturu. \n",
    "</div>"
   ]
  },
  {
   "cell_type": "markdown",
   "id": "7ec8eff0",
   "metadata": {},
   "source": []
  },
  {
   "cell_type": "markdown",
   "id": "d9392d56",
   "metadata": {},
   "source": [
    "<div class=\"alert alert-block alert-warning\">\n",
    "  <b>Pitanje:</b> Zasto Big Data nije isto sto i podatkovna znanost?\n",
    "</div>\n",
    "<div class=\"alert alert-block alert-info\">\n",
    "  <b>Odgovor:</b> Big data predstavlja tehniku za prikupljanje, pohranu te obradu velike kolicine podataka. Samo podrucje moze biti dio potreba u podatkovnoj znanosti, ali je podatkovna znanost siri pojam. \n",
    "</div>"
   ]
  },
  {
   "cell_type": "markdown",
   "id": "09bb8865",
   "metadata": {},
   "source": []
  },
  {
   "cell_type": "markdown",
   "id": "4e82a21b",
   "metadata": {},
   "source": [
    "<div class=\"alert alert-block alert-warning\">\n",
    "  <b>Pitanje:</b> Zasto Data Mining nije isto sto i podatkovna znanost?\n",
    "</div>\n",
    "<div class=\"alert alert-block alert-info\">\n",
    "  <b>Odgovor:</b> Data mining je tehnika za otkrivanje vitalnih i vaznih informacija unutar podataka. Samo podrucje je relevatno za ektrakciju i eskrapolaciju novih znanja i uvida iz podataka, sto je sastavna disciplina podatkovne znanosti. \n",
    "</div>"
   ]
  },
  {
   "cell_type": "markdown",
   "id": "5a9e4ef7",
   "metadata": {},
   "source": []
  },
  {
   "cell_type": "markdown",
   "id": "5cc4c1bb",
   "metadata": {},
   "source": [
    "<div class=\"alert alert-block alert-warning\">\n",
    "  <b>Pitanje:</b> Zasto Business Intelligence nije isto sto i podatkovna znanost?\n",
    "</div>\n",
    "<div class=\"alert alert-block alert-info\">\n",
    "  <b>Odgovor:</b> Business intelligence se bavi analizom poslovnih podataka, u kontekstu podatkovne znanosti donosi ekspertizu u poslovnom podrucju i omogucuje uspjesnu ekstrakciju i ekstrapolaciju novih znanja iz dostupnih podataka. \n",
    "</div>"
   ]
  },
  {
   "cell_type": "markdown",
   "id": "2d9e80ba",
   "metadata": {},
   "source": []
  },
  {
   "cell_type": "markdown",
   "id": "bb827c99",
   "metadata": {},
   "source": [
    "<div class=\"alert alert-block alert-warning\">\n",
    "  <b>Pitanje:</b> Zasto Umjetna Inteligencija nije isto sto i podatkovna znanost?\n",
    "</div>\n",
    "<div class=\"alert alert-block alert-info\">\n",
    "  <b>Odgovor:</b> Umjetna inteligencija je tehnika primjene modela dobivenih obradom podataka kako bi se predvidjela budcnosti, dogadaji i trendovi. Koristi se i sire od same podatkovne znanosti,npr. u automatici, robotici..\n",
    "</div>"
   ]
  },
  {
   "cell_type": "markdown",
   "id": "c65a7c9b",
   "metadata": {},
   "source": []
  },
  {
   "cell_type": "markdown",
   "id": "d54cc2a6",
   "metadata": {},
   "source": [
    "<div class=\"alert alert-block alert-warning\">\n",
    "  <b>Pitanje:</b> Sto je ekstrakcija?\n",
    "</div>\n",
    "<div class=\"alert alert-block alert-info\">\n",
    "  <b>Odgovor:</b>\n",
    "  Ektrakcija znanja je sakupljanje novih informacije iz sirovih podataka, npr. prema podacima o prodaji dva artikla mozemo doci do zakljucaka kako postaviti omjer cijena da bismo maksimirali zaradu. \n",
    "</div>"
   ]
  },
  {
   "cell_type": "markdown",
   "id": "fe7759ca",
   "metadata": {},
   "source": []
  },
  {
   "cell_type": "markdown",
   "id": "3c337e58",
   "metadata": {},
   "source": [
    "<div class=\"alert alert-block alert-warning\">\n",
    "  <b>Pitanje:</b> Sto je ekstrapolacija?\n",
    "</div>\n",
    "<div class=\"alert alert-block alert-info\">\n",
    "  <b>Odgovor:</b>\n",
    "  Ektrapolacija se odnosi na predvidanje temeljno na uocenim vezama medu podacima kroz analizu. Npr. kombinacija tipa kupaca i proizvoda koji kupuje nam moze omoguciti koje ce proizvode novi kupac kupiti.  \n",
    "</div>"
   ]
  },
  {
   "cell_type": "markdown",
   "id": "bd95887c",
   "metadata": {},
   "source": []
  },
  {
   "cell_type": "markdown",
   "id": "dbdcc049",
   "metadata": {},
   "source": [
    "<div class=\"alert alert-block alert-warning\">\n",
    "  <b>Pitanje:</b> Sto je sum u podatcima, i zasto nastaje?\n",
    "</div>\n",
    "<div class=\"alert alert-block alert-info\">\n",
    "  <b>Odgovor:</b>\n",
    "  Sum je nepravilnost u podacima koja se moze javiti iz razlicitih izvora npr. zbog neispravnih instrumenata s kojima vrsimo mjerenja, zbog nedostupnih podataka tj. rupa u podacima, zbog okoline (npr. prevelika vlaga u zraku), zbogh pogresaka u nacinu prikupljanja uzorka npr. krivim odabirom uzorka populacije ili ljudskom pogreskom. \n",
    "</div>"
   ]
  },
  {
   "cell_type": "markdown",
   "id": "775ff5c3",
   "metadata": {},
   "source": []
  },
  {
   "cell_type": "markdown",
   "id": "0c56812a",
   "metadata": {},
   "source": [
    "<div class=\"alert alert-block alert-warning\">\n",
    "  <b>Pitanje:</b> Koja je razlika izmedu strukturiranih i nestrukturiranih podataka?\n",
    "</div>\n",
    "<div class=\"alert alert-block alert-info\">\n",
    "  <b>Odgovor:</b>\n",
    "  Strukturirani podacima imaju formalno definirani model. Kod nestrukturiranih podataka model nije poznat, to su npr. tekst, slika ili audio zapis. \n",
    "</div>"
   ]
  },
  {
   "cell_type": "markdown",
   "id": "43157c94",
   "metadata": {},
   "source": []
  },
  {
   "cell_type": "markdown",
   "id": "cd1f36e0",
   "metadata": {},
   "source": [
    "<div class=\"alert alert-block alert-warning\">\n",
    "  <b>Pitanje:</b> Napise korake koje imamo prilikom procesa obrade podataka, drugim rjecima procesni lanac u podatkovnoj znanosti, odnosno koje korake radimo da bi dosli od pitanja do odgovora?\n",
    "</div>\n",
    "<div class=\"alert alert-block alert-info\">\n",
    "  <b>Odgovor:</b>\n",
    "\n",
    "  1. Prikupljanje podataka (ZM: Postavljenje pitanje, prikupljanje informacija)\n",
    "  2. Ucitavanje podataka (ZM: Postavljanje hipoteze, izvodenje eksperimenta, prikupljane podataka)\n",
    "  3. Ciscenje i strukturiranje podatka (ZM: Postavljanje hipoteze, izvodenje eksperimenta, prikupljane podataka)\n",
    "  4. Istrazivanje podataka (ZM: Postavljanje hipoteze, izvodenje eksperimenta, prikupljane podataka)\n",
    "  5. Stvaranje modela (ZM: Postavljanje hipoteze, izvodenje eksperimenta, prikupljane podataka)\n",
    "  6. Izrada izvjesca (ZM: Analiza i izvjesce)\n",
    "  7. Revizija (ZM: Ponovaljanje postupka)\n",
    "</div>"
   ]
  },
  {
   "cell_type": "markdown",
   "id": "48b1d77b",
   "metadata": {},
   "source": []
  },
  {
   "cell_type": "markdown",
   "id": "d4077368",
   "metadata": {},
   "source": [
    "<div class=\"alert alert-block alert-warning\">\n",
    "  <b>Pitanje:</b> Sta radimo pod korakom, prikupljanje podataka?\n",
    "</div>\n",
    "<div class=\"alert alert-block alert-info\">\n",
    "  <b>Odgovor:</b>\n",
    "  Prikupljamo podatake iz raznih izvora koji mogu biti:\n",
    "  \n",
    "  - baze podataka\n",
    "  - datoteke\n",
    "  - internet\n",
    "  - senzori\n",
    "  - rucno uneseni podaci\n",
    " \n",
    " Za sto efikasnije prikupljanje podataka sluzimo se automatiziranim skriptama koje smo sami izradili ili robusnim ETL rjesnjima, ovisno o problemu koji rjesavamo.  \n",
    "</div>"
   ]
  },
  {
   "cell_type": "markdown",
   "id": "f84c979d",
   "metadata": {},
   "source": []
  },
  {
   "cell_type": "markdown",
   "id": "a75278cb",
   "metadata": {},
   "source": [
    "<div class=\"alert alert-block alert-warning\">\n",
    "  <b>Pitanje:</b> Nabroji par tehnika prikupljanja podataka?\n",
    "</div>\n",
    "<div class=\"alert alert-block alert-info\">\n",
    "  <b>Odgovor:</b>\n",
    "  \n",
    "  1. Ankete i upitnici ili rucno uneseni podaci\n",
    "  2. Izlazni podaci iz sensora ili IoT uredaja\n",
    "  3. Povezivanje putem API na izvore strukturiranih podataka\n",
    "  4. Web scraping\n",
    "  5. Prikupljanje javno dostupnih objava i podataka s drustvenih mreza\n",
    "  6. Dohvati iz baza podatka\n",
    "\n",
    "  Kako bismo sto efikasnije prikupili podatke, moze sami razviti automatizirani skriptu ili upotrijebiti robusnija ETL rjesenja (npr. Excel ima ETL mogucnosti kod ucitavanja u Data Model)\n",
    "\n",
    "\n",
    "</div>"
   ]
  },
  {
   "cell_type": "markdown",
   "id": "d47d4b36",
   "metadata": {},
   "source": []
  },
  {
   "cell_type": "markdown",
   "id": "564a9521",
   "metadata": {},
   "source": [
    "<div class=\"alert alert-block alert-warning\">\n",
    "  <b>Pitanje:</b> Nabroji par izvora podataka?\n",
    "</div>\n",
    "<div class=\"alert alert-block alert-info\">\n",
    "  <b>Odgovor:</b>\n",
    "  \n",
    "  1. Ankete i upitnici ili rucno uneseni podaci\n",
    "  2. Izlazni podaci iz sensora ili IoT uredaja\n",
    "  3. Povezivanje putem API na izvore strukturiranih podataka\n",
    "  4. Web scraping s Interneta\n",
    "  5. Prikupljanje javno dostupnih objava i podataka s drustvenih mreza\n",
    "  6. Dohvati iz baza podatka\n",
    "</div>"
   ]
  },
  {
   "cell_type": "markdown",
   "id": "28bf46fc",
   "metadata": {},
   "source": []
  },
  {
   "cell_type": "markdown",
   "id": "cc93f07b",
   "metadata": {},
   "source": [
    "<div class=\"alert alert-block alert-warning\">\n",
    "  <b>Pitanje:</b> Sto radimo prilikom ucitavanja podataka?\n",
    "</div>\n",
    "<div class=\"alert alert-block alert-info\">\n",
    "  <b>Odgovor:</b>\n",
    "  Prilikom ucitavanja podataka iz raznih izvora podatke je potrebno pohraniti. To je moguce u SQL ili NoSQL bazu, Data Lake (Amazon S3), claod storage ili ako se ne radi o velikoj kolicini podataka direktno u memoriju ili na lokalni disk racunala. Vec u ovom koraku moguce je poceti sa strukturiranjem podataka\n",
    "</div>"
   ]
  },
  {
   "cell_type": "markdown",
   "id": "dfe1e2cb",
   "metadata": {},
   "source": []
  },
  {
   "cell_type": "markdown",
   "id": "4953aaec",
   "metadata": {},
   "source": [
    "<div class=\"alert alert-block alert-warning\">\n",
    "  <b>Pitanje:</b> Sta radimo pod korakom, ciscenje podataka?\n",
    "</div>\n",
    "<div class=\"alert alert-block alert-info\">\n",
    "  <b>Odgovor:</b>\n",
    "  Ciscenje i strukturiranje podataka podrazumijeva pronalazenje anomalija u podacima koje je potrebno ispraviti; npr. duplikati, nekonzistetnost (ista osoba dva datuma rodenje, format vremenske zone ili razlicite mjerne jedince), podaci koji nedostaju. Anomalije je moguce odbaciti ili nadograditi, odabir ovisi o problemu koji se rjesava. Nakon proces ciscenja podaci dobivaju svoju strukturu te ih je moguce dalje pohraniti ili direktno koristiti. \n",
    "</div>"
   ]
  },
  {
   "cell_type": "markdown",
   "id": "4efaf7a4",
   "metadata": {},
   "source": []
  },
  {
   "cell_type": "markdown",
   "id": "0f9a4284",
   "metadata": {},
   "source": [
    "<div class=\"alert alert-block alert-warning\">\n",
    "  <b>Pitanje:</b> Nabrojite par razloga zasto je bitno cistiti podatke, odnsno na koje bismo probleme naletjeli ako to ne napravimo?\n",
    "</div>\n",
    "<div class=\"alert alert-block alert-info\">\n",
    "  <b>Odgovor:</b>\n",
    "  Podaci mogu sadrzavati nedostajuce vrijednosti, duplikate ili nekonzistetne podatke. Bilo kakve daljnje operacije nad podacima npr. matematocke operacije ili izracunavanje statistike ce biti potencijalno pogresno ako baratamo s duplikatima ili NoNe vrijednostima. Moguce su i pogreske u programskog kodu gdje zbog svega navednom nisu moguce opcije grupiranje ili pivotiranje jer podaci nisu kategorijski.\n",
    "</div>"
   ]
  },
  {
   "cell_type": "markdown",
   "id": "9195e42d",
   "metadata": {},
   "source": []
  },
  {
   "cell_type": "markdown",
   "id": "b9b757a4",
   "metadata": {},
   "source": [
    "<div class=\"alert alert-block alert-warning\">\n",
    "  <b>Pitanje:</b> Sta radimo pod korakom, strukturiranje podataka?\n",
    "</div>\n",
    "<div class=\"alert alert-block alert-info\">\n",
    "  <b>Odgovor:</b>\n",
    "  Nakon ciscenja struktura podataka nam je poznata te nove podatke mozemo pohraniti u bazu ili direktno ucitati i daljnoj obradi i analizi. \n",
    "</div>"
   ]
  },
  {
   "cell_type": "markdown",
   "id": "ef6314fd",
   "metadata": {},
   "source": []
  },
  {
   "cell_type": "markdown",
   "id": "5d5b46d3",
   "metadata": {},
   "source": [
    "<div class=\"alert alert-block alert-warning\">\n",
    "  <b>Pitanje:</b> Sta radimo pod korakom, istrazivanje podataka?\n",
    "</div>\n",
    "<div class=\"alert alert-block alert-info\">\n",
    "  <b>Odgovor:</b>\n",
    "  U koraku istrazivanja prucavamo podatke, npr. radimo vizualizaciju ili racunamo statisticke mjere. Ovdje ujedno pocinje i data mining.\n",
    "</div>"
   ]
  },
  {
   "cell_type": "markdown",
   "id": "1ca87257",
   "metadata": {},
   "source": []
  },
  {
   "cell_type": "markdown",
   "id": "e8476b56",
   "metadata": {},
   "source": [
    "<div class=\"alert alert-block alert-warning\">\n",
    "  <b>Pitanje:</b> Zasto nam je bitna vizualizacija prilikom analize podataka?\n",
    "</div>\n",
    "<div class=\"alert alert-block alert-info\">\n",
    "  <b>Odgovor:</b>\n",
    "  Obicno ljudski mozak bolje uocava pravilnosti pri vizualicija podataka nego pogledom na same sirove podatke. Na taj nacin se lakse uocavaju odstupanja (outlieri), trendovi, grupe, ali i nepravilnosti koje nisu ranije uocene kod ciscenja podataka. Takoder, za potrebe izvjestaj, vizualizacija omogucava lakse razumijevanje materije. \n",
    "</div>"
   ]
  },
  {
   "cell_type": "markdown",
   "id": "75e21eba",
   "metadata": {},
   "source": []
  },
  {
   "cell_type": "markdown",
   "id": "57b016ed",
   "metadata": {},
   "source": [
    "<div class=\"alert alert-block alert-warning\">\n",
    "  <b>Pitanje:</b> Zasto nam treba numericka analiza podataka? \n",
    "</div>\n",
    "<div class=\"alert alert-block alert-info\">\n",
    "  <b>Odgovor:</b>\n",
    "  Numericka analiza podataka se koristi za otkrivanje znacenja u podacima. Ulaz je za izgradnju modela su upravo numericki podaci, koje smo ranije potencijalno sortirali ili ima izracunali srednju vrijednost ili standardnu varijaciju ili korelaciju medu njima. \n",
    "</div>"
   ]
  },
  {
   "cell_type": "markdown",
   "id": "f9c242a1",
   "metadata": {},
   "source": []
  },
  {
   "cell_type": "markdown",
   "id": "5110bbdc",
   "metadata": {},
   "source": [
    "<div class=\"alert alert-block alert-warning\">\n",
    "  <b>Pitanje:</b> Sta radimo pod korakom, stvaranje modela?\n",
    "</div>\n",
    "<div class=\"alert alert-block alert-info\">\n",
    "  <b>Odgovor:</b>\n",
    "  Model je matematicki opis (npr. formula) stvarnosti, odnosno stavrnih objekata i procesa. Stvaranje modela ukljucuje odabir model i njegovu validaciju. Podaci su nam ulaz u model i moraju odgovarajuce opisivati fenomen koji modeliramo jer na osnovu njih model predvida rezultat ili donosi neku odluku. Matematicki model moze biti bilo kakav sustav, ali mora biti formalno definiran. \n",
    "</div>"
   ]
  },
  {
   "cell_type": "markdown",
   "id": "6e494f91",
   "metadata": {},
   "source": []
  },
  {
   "cell_type": "markdown",
   "id": "b1d938fe",
   "metadata": {},
   "source": [
    "<div class=\"alert alert-block alert-warning\">\n",
    "  <b>Pitanje:</b> Objasnite svojim rjecima, sto je to model?\n",
    "</div>\n",
    "<div class=\"alert alert-block alert-info\">\n",
    "  <b>Odgovor:</b>\n",
    "  Model je matematicki opis stavrnosti (npr. formula), odnosno opis stvarnih objekata i procesa. Moze biti bilo kakav sustav, ali mora biti formalno definirani. Model na osnovu ulaznih podataka previda ishod ili donosi odluku, zato je neophodno da podaci adekvatno opsuju fenomen koji modeliramo. Svaki model, nakon odabira samog modela se mora validirati. \n",
    "</div>"
   ]
  },
  {
   "cell_type": "markdown",
   "id": "732731f0",
   "metadata": {},
   "source": []
  },
  {
   "cell_type": "markdown",
   "id": "7b58f57d",
   "metadata": {},
   "source": [
    "<div class=\"alert alert-block alert-warning\">\n",
    "  <b>Pitanje:</b> Sta radimo pod korakom, izrada izvjesca, zasto nam je on bitan?\n",
    "</div>\n",
    "<div class=\"alert alert-block alert-info\">\n",
    "  <b>Odgovor:</b>\n",
    "  Izrada izvjesca ukljucuje vizualizaciju podataka i modela (npr. Tableau ili Power BI ili npr Matplot lib). U izvjescu je takoder i definiran opis postupka obrade podataka i nas zakljucak.\n",
    "</div>"
   ]
  },
  {
   "cell_type": "markdown",
   "id": "173f0e78",
   "metadata": {},
   "source": []
  },
  {
   "cell_type": "markdown",
   "id": "dc3251d7",
   "metadata": {},
   "source": [
    "<div class=\"alert alert-block alert-warning\">\n",
    "  <b>Pitanje:</b> Sta radimo pod korakom, revizija, zasto nam je ona bitan?\n",
    "</div>\n",
    "<div class=\"alert alert-block alert-info\">\n",
    "  <b>Odgovor:</b>\n",
    "  Postupak mora biti ponovljiv i rezultati se moraju moci provjeriti. Moguce je da se provjerom utvrdi da se dogodila greska, ali i stalnim rastopm, i generiranjem podataka, podaci koje su koristeni zastarjevaju i s vremena na vrijeme treba provjeriti kako se model ponasa s novijim podacima i imaju li novi podaci u sebi dodatno znanje. \n",
    "</div>"
   ]
  },
  {
   "cell_type": "markdown",
   "id": "b130d6da",
   "metadata": {},
   "source": []
  },
  {
   "cell_type": "markdown",
   "id": "6595a92c",
   "metadata": {},
   "source": [
    "<div class=\"alert alert-block alert-warning\">\n",
    "  <b>Pitanje:</b> Sto je to apstrakcija i zasto nam je ona korisna prilikom stvaranja modela, drugim rjecima kako nam ona pomaze?\n",
    "</div>\n",
    "<div class=\"alert alert-block alert-info\">\n",
    "  <b>Odgovor:</b>\n",
    "  Apstrakcija je ciljano usmjerivanj na vazne informacije i sakrivanje ili odbacivanje nepotrebne kompleksnosti. Kod kreiranje modela, apstrakcijom pojednostavljujemo model, ali da nam model i dalje radi sa zadovoljavajucom mjerom tocnosti (npr. prihavtljivom varijancom).\n",
    "</div>"
   ]
  },
  {
   "cell_type": "code",
   "execution_count": null,
   "id": "ade18685",
   "metadata": {},
   "outputs": [],
   "source": []
  },
  {
   "cell_type": "markdown",
   "id": "0d4ae837",
   "metadata": {},
   "source": [
    "<div class=\"alert alert-block alert-warning\">\n",
    "  <b>Pitanje:</b> Sto je to virtualno okruzenje, koje su mu prednosti, i koje mane?\n",
    "</div>\n",
    "<div class=\"alert alert-block alert-info\">\n",
    "  <b>Odgovor:</b>\n",
    "  Virtualno okruzenje je folder koji sadrzi zasebnu konfiguraciju Pythona skupa s posebno verzijom Python interpretera, instaliranim paketima i njihovim verzijama i ovisnostima te s pip skriptom pomocu koje se mogu instalirati dodatni paketi za to vritualno okruzenje. Virtualno okruztenje je komponenata Pythona koja je neovisna o IDE-u. Koristenje virtualnih paketa donosi sljedece koristi. :\n",
    "  \n",
    "  1. Izolaciju - svaki projekt ima svoje virtualno okruzenje s vlastitim paketima. Na jednom racunalo istovremeno mozemo imati vise verzija Pythona i modula bez međudobnog utjecaja. \n",
    "  2. Upravljanje ovisnostima - izolacija jedno virtualno okruzenje jedan projekt nam omogucuje da upravljamo specificnim verzijama paketa za svaki projekt. Ako recimo projekti trebaju dvije razlicite verzije pandas-a, a mi koristimo samo jedan globalni Python, doci ce do konflikata\n",
    "  3. Ponovljivost - Korištenje pripremljenih okruženja na drugim racunalima, kako bi programski kod radio na identican nacin. \n",
    "\n",
    "  Mana je da moramo za vrijeme rada na projektu znati koje nam virtualno okruzenje treba i aktivirati ga, u suprotnom ako se nalazimo u pogresnom virtualnom okruzenju ili u globalnom Pythonu, moguce je uopce nemamo instalirane potrebne module. Isto ako se nalazimo u pogresnom virtualnom okruzenju, riskiramo da u njega instaliramo pakete ili verzije paketa koje nam ne trebaju. Takoder, treba izbjegavati da se za svaki skriptu stvara novo virtualno okruzenje jer se s velikim broje skripti gubi upravljivost. \n",
    "</div>"
   ]
  },
  {
   "cell_type": "code",
   "execution_count": null,
   "id": "5617ae4c",
   "metadata": {},
   "outputs": [],
   "source": []
  },
  {
   "cell_type": "markdown",
   "id": "650cf3ec",
   "metadata": {},
   "source": [
    "<div class=\"alert alert-block alert-warning\">\n",
    "  <b>Pitanje:</b> Zasto bi bilo dobro kreirati virtualno okruzenje, navedi par primjera?\n",
    "</div>\n",
    "<div class=\"alert alert-block alert-info\">\n",
    "  <b>Odgovor:</b>\n",
    "  \n",
    "  1. Ako se radi na vise projekata instovremeno od kojih neki trebaju razlicite verzije nekog paketa. Globalno ne mogu dvije verzije biti instalirane istovremeno\n",
    "  2. Ako vise kolega istovremeno radi na projektu, kreiranje virtualnog okruzenja omogucuje da svi rade na istom virtualnom okruzenju\n",
    "  \n",
    "  - You freeze dependencies with pip freeze > requirements.txt\n",
    "  - Teammates create the same environment with pip install -r requirements.txt\n",
    "  3. Ako zelimo testirani ponasanje gotovog projekta na novijoj verziji paketa koji je sastavnim dio projekta, ne mijenjamo postojeci paket vec za njega napravimo novi okruzenje koje ukljucuje noviju verziju paketa za koju zelimo testriati ponasanje\n",
    "</div>"
   ]
  },
  {
   "cell_type": "markdown",
   "id": "b0e9584d",
   "metadata": {},
   "source": []
  },
  {
   "cell_type": "markdown",
   "id": "fdb03648",
   "metadata": {},
   "source": [
    "<div class=\"alert alert-block alert-warning\">\n",
    "  <b>Pitanje:</b> Nabroji par nacina kako mozemo napraviti virtualno okruzenje?\n",
    "</div>\n",
    "<div class=\"alert alert-block alert-info\">\n",
    "  <b>Odgovor:</b>\n",
    "\n",
    "  1. Pomocu terminala - postoji Python ugradeni modul za kreiranje virtualnog okruzenja. Nakon kreiranja vritualno okruzenje je potrebno aktivirati i zatim instalirati potrebne datoteke. Virtualno okruzenje se moze i deaktivirati. \n",
    "  2. Pomocu conda alata\n",
    "  Aktivnosti su se jednake, iako su naredbe drugacije. Moguce je kreirati okruzenje, aktivirati okruzenje, instalirati pakete i finalno dekativirati okruzenje\n",
    "    - Iz korisnickog sucelja Anaconda Navigatora (iako u pozadini je i dalje conda terminal)\n",
    "</div>"
   ]
  },
  {
   "cell_type": "code",
   "execution_count": null,
   "id": "5401c0a6",
   "metadata": {},
   "outputs": [],
   "source": [
    "# pomocu Python terminala\n",
    "\n",
    "python -m venv myenv  #kreiranje virtualnog okruzenja\n",
    "myenv\\Scripts\\activate #pokretanje odnosno aktivacija\n",
    "pip install pandas #instalacija paketa \n",
    "pip install -r requirement.txt #instalacija vise paketa odjenom koju su instalirani u requirements.txt\n",
    "deactivate\n",
    "\n",
    "# pomocu conda alata\n",
    "\n",
    "conda create -n myenv python=3.12 anaconda #kreiranje virtualnog okruzenja\n",
    "source activate myenv #pokretanje odnosno aktivacija\n",
    "conda install -n myenv requests #instalacija paketa\n",
    "source deactivate \n",
    "conda remove -n myenv -all #Brisanje virtualnog okruzenje"
   ]
  },
  {
   "cell_type": "markdown",
   "id": "88f641c9",
   "metadata": {},
   "source": []
  },
  {
   "cell_type": "markdown",
   "id": "82070655",
   "metadata": {},
   "source": [
    "<div class=\"alert alert-block alert-warning\">\n",
    "  <b>Pitanje:</b> Sto su to nedostajeci podatci (missing data), odnsno podatci koji fale?\n",
    "</div>\n",
    "<div class=\"alert alert-block alert-info\">\n",
    "  <b>Odgovor:</b>\n",
    "  Podacu koji nedostaju (missing data) su prazne ili nedefinirane vrijednosti ili opcenito nedostajuce vrijednosti u skupu podataka koje su ocekivanje. Podaci nedsoatju zbog pogresaka kod popunjavanja podataka, jer podaci uopce nisu prikupljeni, jer je doslo do kvara na senzoru ili pogreske u odgovoru nekog API-a ili su podaci uklonjeni ili maskirani kako bi se ocuvala povjerljivost ili privatnost. Obicno su vrijenosti nepostojecih podataka NaN, NonNe, prazana string \"\" ili rijede umjetno ubacene vrijednosti popot \"N/A\", \"-999\", \"/\".\n",
    "</div>"
   ]
  },
  {
   "cell_type": "markdown",
   "id": "400b2b6d",
   "metadata": {},
   "source": []
  },
  {
   "cell_type": "markdown",
   "id": "11a6f394",
   "metadata": {},
   "source": [
    "<div class=\"alert alert-block alert-warning\">\n",
    "  <b>Pitanje:</b> Nabrojite par uzroka zbog kojih moze doci do nedostajecih podataka (missing data)?\n",
    "</div>\n",
    "<div class=\"alert alert-block alert-info\">\n",
    "  <b>Odgovor:</b>\n",
    "  Do nedostajucih podataka moze doci zbog gresaka kod popunjavanja podatka, zato sto podaci uopce nisu ni prikupljeni, zato sto doslo do kvara na senzoru s kojeg prikupljamo podatake iili zato sto npr. odgovor API nije vratio sve ocekivane podatke, a nekada podaci nedostaju jer su maskirani ili uklonjeni zbog zastite povjerljivisti ili/i privatnosti. \n",
    "</div>"
   ]
  },
  {
   "cell_type": "markdown",
   "id": "5fccc913",
   "metadata": {},
   "source": []
  },
  {
   "cell_type": "markdown",
   "id": "fb6ff9f4",
   "metadata": {},
   "source": [
    "<div class=\"alert alert-block alert-warning\">\n",
    "  <b>Pitanje:</b> Nabrojite par nacina kako mozemo nadomjestit nedostajuce podatke (missing data)?\n",
    "</div>\n",
    "<div class=\"alert alert-block alert-info\">\n",
    "  <b>Odgovor:</b>\n",
    "  Nedostajuce podatke mozemo nadomjestiti sa:\n",
    "\n",
    "  1. Uklanjanjen podataka koji nedostaju (sto ima smisla ako je takvih podataka malo i ako su unutar seta podataka rasporedeni slucajni). Koristimo df.dropna() za uklanjenje podataka po retcima ili df.dropna(axis=1) za uklanjenja stupca s vrijednostima koje nedostaju\n",
    "  2. Popunjavanje pomocu metode fillna()- metoda ce s predefiniranom vrijenosti popuniti sve podatke za koje nade NoNe ili NaN. Metoda ne mijenja prazan string ili 0 vrijednosti jer ih smatra validnim vrijednostima. Npr. df.fillna(0, inplace=True) ce u postojecem  df dataframe sve NaN vrijdnosti zamijeniti s 0.  Metoda fillna() se moze iskoriti i za popunjavanje praznih podataka pomocu jedne od statistika koja se moze izracunati nad podacima (mean, mod, median). Npr. df['age'].fillna(df['age'].mean(), inplace=True) ppounjava prazne podatke o godina s srednjom vrijednosti svih godina koje imamo u podacima. \n",
    "  3. Popunjavanje pomocu metode replace() -  mijenja postojeci element s novim elementom. Korisna je kada zelimo zamijeniti nekonzistetni ili nedostajuci tekst ili format. Npr. za nekonzistetne vrijednosti df.replace(to_replace=[\"Zagreb\", \"10000 Zagreb\"], value=\"Zagreb 10000\"), ovdje se  svugdje u dataframeu vrijednosti Zagreb i 10000 Zagreb mijenjaju u Zagreb 10000. Drugi primjer kada imamo u podacima prazan string, df.replce(\"\", \"Missing data\", inplace=True), direktno mijenja sve vrijednosti u kojima nade prazan tekst s frazom \"Missing\".\n",
    "  4. Popunjavanje metodom interpolate()\n",
    "  Vrsi se interpolacija nad podacima koji nedostaju. Vrlo je bitan poredak podataka kod interpolacije i metoda interpolacije koja se odabire. Npr. df.interpolate(method=\"linear\") koristi lineranu interpolaciju. Koristenje metode interpolate() ima smisla kada radimo s podacima za koje postoji vremenski niz ili barem vezani numericki poredak. Ako podaci nedostaju na pocetku ili na kraju seta podataka, metoda ionterpolate() nece vratiti rezultate. \n",
    "</div>"
   ]
  },
  {
   "cell_type": "markdown",
   "id": "df8b0190",
   "metadata": {},
   "source": []
  },
  {
   "cell_type": "markdown",
   "id": "67a8ef16",
   "metadata": {},
   "source": [
    "<div class=\"alert alert-block alert-warning\">\n",
    "  <b>Pitanje:</b> Objasnite kad bi ste koristili koji nacin prilikom nadomjestanja nedostajucih podataka (missing data)?\n",
    "</div>\n",
    "<div class=\"alert alert-block alert-info\">\n",
    "  <b>Odgovor:</b>\n",
    "  \n",
    "  1. Uklanjanje podataka s metodeom df.dropna() ima smisla samo ako je broj podataka koji nedostaju u dataframu mali i slucajno rasporeden. \n",
    "  2. Popunjavanje s fiksnom vrijednosti  metodom df.fillna(0, inplace=True) npr. ako imamo set podataka o potrosnji pojedinog kupaca po mjesecu. Ako znamo da kupac taj mjesec nije kupovao, ali u iznosu potrosenje stoji vrijednost NaN, mozemo je zamijenjiti s 0. \n",
    "  3. Popunjavanje s fiksnom statistikom mjerom metodom fillna() df.age.fillna(df.age.mean(), inplace=True). Npr ako skupljamo podatke o posudenim knjigama u studentskoj knjiznici i za pojedinu posudbu nam nedostaju godine studenta koji je posudio knjigu. Obzirom da se koncentriramo samo na odredni uski raspon godina i ako pretpostavimo da dominanatno u nasem setu podataka imamo godine studenta kod svake posudbe, mozemo nedostajuci podatak zamijeniti sa srednjom vrijednosti pod svih godina starosti svih studenata ili uz srednju vrijednost svih  godina starosti onih studenata koji su posudli knjigu koja za koju nam informacija nedostaje. \n",
    "  4. Popunjavanje s metodom replace()\n",
    "  Primjer za koristenje replace metode je kod popravljanje nekonzistentnih vrijednosti, tipa imena gradova koja se mogu unositi s i bez postanskog broja ili postanski broj moze biti prije ili nakon nazova grada. Ili ako zelimo vrijednosti unesene s kraticama npr. NY za New York zamijeniti s punim nazivom. \n",
    "  5. Popunjavanje s metodom interpolate()\n",
    "  Dobro je kada znamo da nam je set podataka ureden po vremenskom ili numericki poredanom nizu i ako nam podaci fale unutar, a ne na pocetku i na kraju seta.  Npr, sakupljamo temperature dnevno po nekoliko puta i unutar mjeseca nam nedostaje nekoliko podataka o temepraturi jer je senzor zakazao ili osoba koja je zaduzena za ocitanje nije popunila podatke. Znajuci temperature prije i poslje mozemo nedostajuce vrijednosti zamijeniti s interpolate() metodom \n",
    "</div>"
   ]
  },
  {
   "cell_type": "markdown",
   "id": "e356453b",
   "metadata": {},
   "source": []
  },
  {
   "cell_type": "markdown",
   "id": "9387803d",
   "metadata": {},
   "source": [
    "<div class=\"alert alert-block alert-warning\">\n",
    "  <b>Pitanje:</b> Sto je to interpolacija?\n",
    "</div>\n",
    "<div class=\"alert alert-block alert-info\">\n",
    "  <b>Odgovor:</b>\n",
    "  Metoda kojom se nedostajuce vrijednosti popunjavaju prema okolinim podacima procijenjujuci koja bi vrijednost tih podataka mogla biti, dok npr. fillna samo unosi jednu vrijednost uvijek. Po defaultu kotisti se linearna interpolacije (pravac izmedu poznatih tocaka), ali postoje i druge metode poput polynomial ili time. \n",
    "</div>"
   ]
  },
  {
   "cell_type": "markdown",
   "id": "0d267cb6",
   "metadata": {},
   "source": []
  },
  {
   "cell_type": "markdown",
   "id": "a1f90270",
   "metadata": {},
   "source": [
    "<div class=\"alert alert-block alert-warning\">\n",
    "  <b>Pitanje:</b> Koji je preduvjet za koristenje interpolacije?\n",
    "</div>\n",
    "<div class=\"alert alert-block alert-info\">\n",
    "  <b>Odgovor:</b>\n",
    "  Preduvjet je da su podaci uredeni po vremenskom slijedu (ili po numerickom poretku). \n",
    "</div>"
   ]
  },
  {
   "cell_type": "markdown",
   "id": "0378ab86",
   "metadata": {},
   "source": []
  },
  {
   "cell_type": "markdown",
   "id": "cceada40",
   "metadata": {},
   "source": [
    "<div class=\"alert alert-block alert-warning\">\n",
    "  <b>Pitanje:</b> Kada bi koristili istu vrijednost za sve nedostajuce podatke te kolone, koje su mane tog pristupa, kada to nije dobar nacin, navedite par primjera za svaki slucaj?\n",
    "</div>\n",
    "<div class=\"alert alert-block alert-info\">\n",
    "  <b>Odgovor:</b>\n",
    "  Popunjava s jednom vrijednoscu podatke koji nedostaju moze biti korisno kada nam smisleno cinjenica da podaci nedostaju ima fiksni znacaj. Npr. ako sakupljmo podatke o dnevnoj potrosnji gradana, i za neki od dana podatak za osobu XY ne postoji, mozemo npr. poznavajuci nase mjerenje i ostale rezulatate za taj dan  pretpostaviti da kupnje za tog korisnika na dan nije bilo i popuniti podatak s 0. Ili s nekom iznosom minimalne dnevne potrošnje koja se ocekuje od svakog gradanina.\n",
    "  Mane ovakvog pristupa su nam mogu unjeti pogresku u podatke zbog nase krive pretpostavke o tome sto je pozadini nedostajuceg podatka. Popunjavanjem podataka mozemo \"sakriti\" mane u mehanizmu unosa podataka i time sprijeciti rjesavanje problema na mjestu izvora problema. Takoder, ako se pri popunjavanju vodimo krivim pretpostavka u podatke moze unjeti pogresku ili bias ili stvoriti obrasce kojih ne bi trebalo biti. Npr. ako sakupljamo podatke o visini i tezini stanovnista i ako sve podatke koji nam nedostaju zamijenimo s fiksnom vrijesnoti 0, sigurno smo znacajno utjecal na srednju vrijednost uzroka i  pomakli prosjecnu visinu i tezinu nize nego bi trebala biti. \n",
    "</div>"
   ]
  },
  {
   "cell_type": "markdown",
   "id": "48fe3289",
   "metadata": {},
   "source": []
  },
  {
   "cell_type": "markdown",
   "id": "97f7df3e",
   "metadata": {},
   "source": [
    "<div class=\"alert alert-block alert-warning\">\n",
    "  <b>Pitanje:</b> koje su mane tog pristupa, kada to nije dobar nacin, navedite par primjera za svaki slucaj?\n",
    "</div>\n",
    "<div class=\"alert alert-block alert-info\">\n",
    "  <b>Odgovor:</b>\n",
    "  Ako podatke koji nedostaju odlucimo zamijeniti s nekom vrijednoscu pod krivom pretpostavkom koja bi to vrijednost trebala biti mozemo u podatke uvesti bias, pogresku ili stvoriti obrasce kojih ne bi trebalo biti. Npr. ako imamo podatke o visini i tezini stanovnistva i neki podaci nedostaju, ako ih samo zamijenimo s 0, sigurno smo uveli pogresku u izracun prosjecne visine i tezine uzorka stanovnista i pomakli vrijednosti nize nego bi trebale biti. Takoder, sustavim popunjavanjem podatka koji nedostaju potencijalno otezavamo detekciju i otklanjenje greske ili kvara na mjestu gdje se podaci stvaraju. \n",
    "</div>"
   ]
  },
  {
   "cell_type": "markdown",
   "id": "2a336ed1",
   "metadata": {},
   "source": []
  },
  {
   "cell_type": "markdown",
   "id": "4dbb46a2",
   "metadata": {},
   "source": [
    "<div class=\"alert alert-block alert-warning\">\n",
    "  <b>Pitanje:</b> Sto je to linearna algebra?\n",
    "</div>\n",
    "<div class=\"alert alert-block alert-info\">\n",
    "  <b>Odgovor:</b>\n",
    "  Linerana alegbra je grana matematika koja se bavi vektorskim prostorima, lineranim operatorma i sustavima lineranih jednadzbi. \n",
    "</div>"
   ]
  },
  {
   "cell_type": "markdown",
   "id": "e2e9927e",
   "metadata": {},
   "source": []
  },
  {
   "cell_type": "markdown",
   "id": "064b36a5",
   "metadata": {},
   "source": [
    "<div class=\"alert alert-block alert-warning\">\n",
    "  <b>Pitanje:</b> Sto je to statistika?\n",
    "</div>\n",
    "<div class=\"alert alert-block alert-info\">\n",
    "  <b>Odgovor:</b>\n",
    "  Statistika je grana matematike koja obuhvaca sakupljanje, analizu, interpretaciju i prezenatciju podataka te predvidanja na temelju tih podataka. \n",
    "</div>"
   ]
  },
  {
   "cell_type": "markdown",
   "id": "71aeb30a",
   "metadata": {},
   "source": []
  },
  {
   "cell_type": "markdown",
   "id": "f43036e4",
   "metadata": {},
   "source": [
    "<div class=\"alert alert-block alert-warning\">\n",
    "  <b>Pitanje:</b> Nabroji par primjera iz stvarnog svijeta kako bi nam statistika mogla pomoc?\n",
    "</div>\n",
    "<div class=\"alert alert-block alert-info\">\n",
    "  <b>Odgovor:</b>\n",
    "  Prikupljanje podataka o analizi zadovoljstva korisnika. Znajuci raspon, srednju vrijendnost i stabdadnu devijaciju, mozemo zakljuciti kako nas novi proizvod ili ponuda prolazi kod korisnika i u kojoj mjeri se njihova misljanje razilaze.\n",
    "  Ako imamo problema s krivim tlakom, biljezeci tlak tokom nekog perioda mozemo dobiti srijednu vrijednost tlaka, i npr. usporediti srednju vrijedost prije i nakon primanja lijeka da utvrdimo je li lijek imao efekt. \n",
    "</div>"
   ]
  },
  {
   "cell_type": "markdown",
   "id": "a13a457c",
   "metadata": {},
   "source": []
  },
  {
   "cell_type": "markdown",
   "id": "0b96edb8",
   "metadata": {},
   "source": [
    "<div class=\"alert alert-block alert-warning\">\n",
    "  <b>Pitanje:</b> Nabroji par primjera iz stvarnog svijeta kako bi nam linearna algebra mogla pomoc?\n",
    "</div>\n",
    "<div class=\"alert alert-block alert-info\">\n",
    "  <b>Odgovor:</b>\n",
    "  Danas se linerana algebra koristi u racunalnoj grafici i animaciji, kroz matrice se modeliraju 3D objekti, a vektorima se prati pozicija, smjer i pokret kako bi se dobila realisticna animacija. Nadalje koristi je streaming platforme popt Netflix za modeliranje korisnicki preferenci i znacajki sadrzaja kroz matrice kako bi se korisniku nudio njemu sto prilagodeniji sadrzak. Ili u financijama kroz modeliranje ponude i potraznje kroz jednadzbe s matricama kako bi nasla optimalna strategija za nepoznanice koje zelimmo odrediti tipa troskovi ili profit. \n",
    "</div>"
   ]
  },
  {
   "cell_type": "markdown",
   "id": "c99de3e0",
   "metadata": {},
   "source": []
  },
  {
   "cell_type": "markdown",
   "id": "f4ab120b",
   "metadata": {
    "vscode": {
     "languageId": "plaintext"
    }
   },
   "source": [
    "<div class=\"alert alert-block alert-warning\">\n",
    "  <b>Pitanje:</b> Sto je to matrica?\n",
    "</div>\n",
    "<div class=\"alert alert-block alert-info\">\n",
    "  <b>Odgovor:</b>\n",
    "  Matrica je tablicni matematicki prikaz podataka koje proucavamo koje su definirane svojim broj redaka i stupaca. \n",
    "</div>"
   ]
  },
  {
   "cell_type": "markdown",
   "id": "6370d0c6",
   "metadata": {},
   "source": []
  },
  {
   "cell_type": "markdown",
   "id": "30ee6f8c",
   "metadata": {},
   "source": [
    "<div class=\"alert alert-block alert-warning\">\n",
    "  <b>Pitanje:</b> Sto je to inverz matrica?\n",
    "</div>\n",
    "<div class=\"alert alert-block alert-info\">\n",
    "  <b>Odgovor:</b>\n",
    "  Inverz matrice je matrica s kojom moremo pomnoziti originalnu matricu da bismo dobili jedincinu matricu. A*A^-1=I. Samo kvadratne matrice mogu imati inverz,a nekada inverz ne mora ni postojati, cak ni za kvadratne matrice. \n",
    "</div>"
   ]
  },
  {
   "cell_type": "markdown",
   "id": "92816256",
   "metadata": {},
   "source": []
  },
  {
   "cell_type": "markdown",
   "id": "1f0bbe35",
   "metadata": {},
   "source": [
    "<div class=\"alert alert-block alert-warning\">\n",
    "  <b>Pitanje:</b> Sto je to pseudoinverz matrica?\n",
    "</div>\n",
    "<div class=\"alert alert-block alert-info\">\n",
    "  <b>Odgovor:</b>\n",
    "  Pseudoinverz se koristi kada matrica nema inverz, oznacava se s A^+. Da bismo rjesili jednadzbu Ax=b, pri cemu matrica A nema inverz,koristimo pseudoinverz da bismo se priblizili efektu koji inverz matrice inace ima. \n",
    "  Pa pisemo x=A^+b, odnosno x=(A^TA)^-1A^Tb ili ako je matrica (A^TA) singularna i nema time nema inverz x=A^T(AA^T)^-1\n",
    "\n",
    "</div>"
   ]
  },
  {
   "cell_type": "markdown",
   "id": "43d867ac",
   "metadata": {},
   "source": []
  },
  {
   "cell_type": "markdown",
   "id": "8dff5238",
   "metadata": {},
   "source": [
    "<div class=\"alert alert-block alert-warning\">\n",
    "  <b>Pitanje:</b> Koja je motivacija za koristenje matrica i linearne algebre, drugim rjecima zasto bi koristili matrice i linearnu algebru?\n",
    "</div>\n",
    "<div class=\"alert alert-block alert-info\">\n",
    "  <b>Odgovor:</b>\n",
    "  Sustavi linearanih jednadzbi, posebno kada imamo veliki broj podataka, brze se rjesavaju pomocu linerane algebre. Slike su matrice piksela i za transformaciju slike koristi se linerana algebra. Matrice su dobar alat za rotaciju i skaliranje te pracenje pokreta, zato se cestio koriste u 3d igrama te za simulacije. \n",
    "</div>"
   ]
  },
  {
   "cell_type": "markdown",
   "id": "4587980e",
   "metadata": {},
   "source": []
  },
  {
   "cell_type": "markdown",
   "id": "63e5748c",
   "metadata": {},
   "source": [
    "<div class=\"alert alert-block alert-warning\">\n",
    "  <b>Pitanje:</b> Navedite primjere matrica iz stvarnog svijeta?\n",
    "</div>\n",
    "<div class=\"alert alert-block alert-info\">\n",
    "  <b>Odgovor:</b>\n",
    "  Matrica ocjena pojeding stundenta gdje je svaki redak jedan student, a u stupcima su ocijene pojedinih predmeta. Ili npr. zapis automatiziranog ocitavanja mjerenja nekog senzora gdje u redtku datum, a u stupcima ocitanja za svaki sat\n",
    "</div>"
   ]
  },
  {
   "cell_type": "markdown",
   "id": "c23826a7",
   "metadata": {},
   "source": []
  },
  {
   "cell_type": "markdown",
   "id": "cb1cf134",
   "metadata": {},
   "source": [
    "<div class=\"alert alert-block alert-warning\">\n",
    "  <b>Pitanje:</b> Nabroji python module koje smo koristili tokom ovog tecaja?\n",
    "</div>\n",
    "<div class=\"alert alert-block alert-info\">\n",
    "  <b>Odgovor: Numpy, Pandas, scikit-learn, Matplotlib </b>\n",
    "</div>"
   ]
  },
  {
   "cell_type": "markdown",
   "id": "e5dbab77",
   "metadata": {},
   "source": []
  },
  {
   "cell_type": "markdown",
   "id": "622af996",
   "metadata": {},
   "source": [
    "<div class=\"alert alert-block alert-warning\">\n",
    "  <b>Pitanje:</b> Sto je Numpy?\n",
    "</div>\n",
    "<div class=\"alert alert-block alert-info\">\n",
    "  <b>Odgovor:</b> \n",
    "  Numpy je Pythom bibioliteka namjenjena za kompleksne matematicke proracune. Napisana je u programskom jeziku C, zbog cega operacije nad podacima moze obavljati puno brze nego Python sa svojim tipovima podataka. Bioblioteka ima Python sucelje zbog cega ju se moze koristiti kao i svaku drugu Python biblioteku. Izmedu ostalog nudi mnogo matematickih operacija, generator nasumicnih brojeva, pruza podrsku za linearnu algebru i Fourieovu transformaciju. \n",
    "</div>"
   ]
  },
  {
   "cell_type": "markdown",
   "id": "1d0375f4",
   "metadata": {},
   "source": []
  },
  {
   "cell_type": "markdown",
   "id": "00b57b52",
   "metadata": {},
   "source": [
    "<div class=\"alert alert-block alert-warning\">\n",
    "  <b>Pitanje:</b> Sto je razlika liste i ndarray\n",
    "</div>\n",
    "<div class=\"alert alert-block alert-info\">\n",
    "  <b>Odgovor:</b>\n",
    "  Array je kolekcija istog tipa podaka (ali ne moraju biti samo cijeli brojevi), dok lista moze sadrzavati vise tipova podataka. Array podrzava matematicke operacije nad elementima, npr. mnozenje liste rezultira dupliciranjem liste, dok mnozenje s arrayom mnozi elemente arraya. Nije zamisljen za mijenjanje elemenata iako je podrzano. Definicija liste je koristenje uglatih zagrada ili list() funkcije [1,2,3], dok se ndarray kreira s np.array([1,2,3]). Ndarray je dio numpy biblioteke i njegova implementiran je u C kodu. Ndarray podrzava vektorizaciju, znaci da se moze izbjeci iteraranje pomocu petlji koje su potrebne za liste.\n",
    "</div>"
   ]
  },
  {
   "cell_type": "markdown",
   "id": "16e3c837",
   "metadata": {},
   "source": []
  },
  {
   "cell_type": "markdown",
   "id": "70c00799",
   "metadata": {},
   "source": [
    "<div class=\"alert alert-block alert-warning\">\n",
    "  <b>Pitanje:</b> Koja su dva razreda koja smo koristili u Numpy?\n",
    "</div>\n",
    "<div class=\"alert alert-block alert-info\">\n",
    "  <b>Odgovor:</b>\n",
    "  Koristili smo ndarray i matrix\n",
    "</div>"
   ]
  },
  {
   "cell_type": "markdown",
   "id": "81630d14",
   "metadata": {},
   "source": []
  },
  {
   "cell_type": "markdown",
   "id": "2e636c6d",
   "metadata": {},
   "source": [
    "<div class=\"alert alert-block alert-warning\">\n",
    "  <b>Pitanje:</b> Sto je Pandas?\n",
    "</div>\n",
    "<div class=\"alert alert-block alert-info\">\n",
    "  <b>Odgovor:</b>\n",
    "  Pandas je Python biblioteka koja sluzi za manipulaciju, analizu i vizualizaciju podataka. \n",
    "</div>"
   ]
  },
  {
   "cell_type": "markdown",
   "id": "a0a825db",
   "metadata": {},
   "source": []
  },
  {
   "cell_type": "markdown",
   "id": "da95a32b",
   "metadata": {},
   "source": [
    "<div class=\"alert alert-block alert-warning\">\n",
    "  <b>Pitanje:</b> Koja su dva razreda koja smo koristili u Pandasu?\n",
    "</div>\n",
    "<div class=\"alert alert-block alert-info\">\n",
    "  <b>Odgovor:</b>\n",
    "  Koristili smo dataframe i series. \n",
    "</div>"
   ]
  },
  {
   "cell_type": "markdown",
   "id": "bdc97486",
   "metadata": {},
   "source": []
  },
  {
   "cell_type": "markdown",
   "id": "86752c29",
   "metadata": {},
   "source": [
    "<div class=\"alert alert-block alert-warning\">\n",
    "  <b>Pitanje:</b> Kojom naredbom u Pandasu ocitavamo csv file koji ima podatke odjeljenje ;?\n",
    "</div>\n",
    "<div class=\"alert alert-block alert-info\">\n",
    "  <b>Odgovor:</b>\n",
    "  podaci=pd.read_csv(r'C:\\Users\\mojPath\\mall_customers.csv', delimiter=';')\n",
    "</div>"
   ]
  },
  {
   "cell_type": "markdown",
   "id": "6b9e29ed",
   "metadata": {},
   "source": []
  },
  {
   "cell_type": "markdown",
   "id": "0ad7c704",
   "metadata": {},
   "source": [
    "<div class=\"alert alert-block alert-warning\">\n",
    "  <b>Pitanje:</b> Kojom naredbom u Pandasu ocitavamo csv file koji ima podatke odjeljenje :?\n",
    "</div>\n",
    "<div class=\"alert alert-block alert-info\">\n",
    "  <b>Odgovor:</b>\n",
    "  podaci=pd.read_csv(r'C:\\Users\\mojPath\\podaci.csv', delimiter=':')\n",
    "</div>"
   ]
  },
  {
   "cell_type": "markdown",
   "id": "9f2100cc",
   "metadata": {},
   "source": []
  },
  {
   "cell_type": "markdown",
   "id": "a198c757",
   "metadata": {},
   "source": [
    "<div class=\"alert alert-block alert-warning\">\n",
    "  <b>Pitanje:</b> U Pandasu sto nam daje naredba <b>describe()</b>?\n",
    "</div>\n",
    "<div class=\"alert alert-block alert-info\">\n",
    "  <b>Odgovor:</b>\n",
    "  Metodom describe() ispisat ce se neke statistike po stupcima dataframe-a. Npr koliko u stupcu ima praznih vrijednosti, koliko je jedinstvenih vrijednosti itd...\n",
    "</div>"
   ]
  },
  {
   "cell_type": "markdown",
   "id": "fc3ae431",
   "metadata": {},
   "source": []
  },
  {
   "cell_type": "markdown",
   "id": "0f92cf60",
   "metadata": {},
   "source": [
    "<div class=\"alert alert-block alert-warning\">\n",
    "  <b>Pitanje:</b> U Pandasu sto nam daje naredba <b>corr()</b>?\n",
    "</div>\n",
    "<div class=\"alert alert-block alert-info\">\n",
    "  <b>Odgovor:</b>\n",
    "  Daje nam mjeru linerarne povezanosti izmedu setova podataka. Metoda df.corr() vraca korelaciju izmedu stupaca.\n",
    "</div>"
   ]
  },
  {
   "cell_type": "markdown",
   "id": "0aabebe5",
   "metadata": {},
   "source": []
  },
  {
   "cell_type": "markdown",
   "id": "0412f68d",
   "metadata": {},
   "source": [
    "<div class=\"alert alert-block alert-warning\">\n",
    "  <b>Pitanje:</b> U Pandasu sto nam daje naredba <b>head(13)</b>?\n",
    "</div>\n",
    "<div class=\"alert alert-block alert-info\">\n",
    "  <b>Odgovor:</b>\n",
    "  Ispisat ce se prvih 13 redaka dataframe. \n",
    "</div>"
   ]
  },
  {
   "cell_type": "markdown",
   "id": "a0840333",
   "metadata": {},
   "source": []
  },
  {
   "cell_type": "markdown",
   "id": "d7ac50d5",
   "metadata": {},
   "source": [
    "<div class=\"alert alert-block alert-warning\">\n",
    "  <b>Pitanje:</b> U Pandasu sto nam daje naredba <b>tail(3)</b>?\n",
    "</div>\n",
    "<div class=\"alert alert-block alert-info\">\n",
    "  <b>Odgovor:</b>\n",
    "  Ispisat ce se zadnjih 3 retka dataframe-a\n",
    "</div>"
   ]
  },
  {
   "cell_type": "markdown",
   "id": "7459490f",
   "metadata": {},
   "source": []
  },
  {
   "cell_type": "markdown",
   "id": "4c2d7eb2",
   "metadata": {},
   "source": [
    "<div class=\"alert alert-block alert-warning\">\n",
    "  <b>Pitanje:</b> U Pandasu sto nam daje naredba <b>info()</b>?\n",
    "</div>\n",
    "<div class=\"alert alert-block alert-info\">\n",
    "  <b>Odgovor:</b>\n",
    "  Pomocu metode info() dobit cemo podatke o dataframe-u, npr. nazive stupaca, koliko je popunjenih celija u stupcu, kojeg je stupac tipa. Osim toga biti ce ispisana i  vrijednost koliko podaci zauzimaju memorije.  \n",
    "</div>"
   ]
  },
  {
   "cell_type": "markdown",
   "id": "350c5692",
   "metadata": {},
   "source": []
  },
  {
   "cell_type": "markdown",
   "id": "ea01b4b3",
   "metadata": {},
   "source": [
    "<div class=\"alert alert-block alert-warning\">\n",
    "  <b>Pitanje:</b> U Pandasu sto nam daje naredba <b>.isnull()</b>?\n",
    "</div>\n",
    "<div class=\"alert alert-block alert-info\">\n",
    "  <b>Odgovor:</b>\n",
    "  Metodom isnull() dobijemo novi dataframe koji sadrzi boolean podatke je li celija prazna ili nije. Radi isto sto i isna()\n",
    "</div>"
   ]
  },
  {
   "cell_type": "markdown",
   "id": "c68eea19",
   "metadata": {},
   "source": []
  },
  {
   "cell_type": "markdown",
   "id": "537f7d69",
   "metadata": {},
   "source": [
    "<div class=\"alert alert-block alert-warning\">\n",
    "  <b>Pitanje:</b> U Pandasu sto nam daje naredba <b>.isna()</b>?\n",
    "</div>\n",
    "<div class=\"alert alert-block alert-info\">\n",
    "  <b>Odgovor:</b>\n",
    "  Metodom isna() dobijemo novi dataframe koji sadrzi boolean podataka je li u celiji None ili NaN. Radi isto sto is isnull()\n",
    "</div>"
   ]
  },
  {
   "cell_type": "markdown",
   "id": "a624aa1c",
   "metadata": {},
   "source": []
  },
  {
   "cell_type": "markdown",
   "id": "063c89a7",
   "metadata": {},
   "source": [
    "<div class=\"alert alert-block alert-warning\">\n",
    "  <b>Pitanje:</b> U Pandasu sto nam daje naredba <b>.shape</b>?\n",
    "</div>\n",
    "<div class=\"alert alert-block alert-info\">\n",
    "  <b>Odgovor:</b>\n",
    "  Shape je property, daje dimenzije tablice, u obliku broja redaka i broja stupaca tablice.\n",
    "</div>"
   ]
  },
  {
   "cell_type": "markdown",
   "id": "4344014c",
   "metadata": {},
   "source": []
  },
  {
   "cell_type": "markdown",
   "id": "209ea6d7",
   "metadata": {},
   "source": [
    "<div class=\"alert alert-block alert-warning\">\n",
    "  <b>Pitanje:</b> U Pandasu sto nam daje naredba <b>.dtypes</b>?\n",
    "</div>\n",
    "<div class=\"alert alert-block alert-info\">\n",
    "  <b>Odgovor:</b>\n",
    "  Property dtypes vraca vrstu podataka za svak kolonu dataframe-a.\n",
    "</div>"
   ]
  },
  {
   "cell_type": "markdown",
   "id": "92153f5c",
   "metadata": {},
   "source": []
  },
  {
   "cell_type": "markdown",
   "id": "4082ef09",
   "metadata": {},
   "source": [
    "<div class=\"alert alert-block alert-warning\">\n",
    "  <b>Pitanje:</b> U Pandasu sto radi naredba <b>.fillna()</b>?\n",
    "</div>\n",
    "<div class=\"alert alert-block alert-info\">\n",
    "  <b>Odgovor:</b>\n",
    "  Metoda fillna() popunjava prazne vrijednosti (NoNe ili NaN) dataframe-a s zadanom vrijednosti. Ili ako je pozvana nad samo jedinomm stupcem dataframe-a onda samo u tom stupcu. \n",
    "</div>"
   ]
  },
  {
   "cell_type": "markdown",
   "id": "15f75245",
   "metadata": {},
   "source": []
  },
  {
   "cell_type": "markdown",
   "id": "30f16ea4",
   "metadata": {},
   "source": [
    "<div class=\"alert alert-block alert-warning\">\n",
    "  <b>Pitanje:</b> U Pandasu sto radi naredba <b>.ffill()</b>?\n",
    "</div>\n",
    "<div class=\"alert alert-block alert-info\">\n",
    "  <b>Odgovor:</b>\n",
    "  Metoda koja popunjava prazne vrijednosti (NaN ili None) s zadnjom poznatom vrijednosti od prvog retka  prema zadnjem \n",
    "</div>"
   ]
  },
  {
   "cell_type": "markdown",
   "id": "893a8c3d",
   "metadata": {},
   "source": []
  },
  {
   "cell_type": "markdown",
   "id": "48897a93",
   "metadata": {},
   "source": [
    "<div class=\"alert alert-block alert-warning\">\n",
    "  <b>Pitanje:</b> U Pandasu sto radi naredba <b>.bfill()</b>?\n",
    "</div>\n",
    "<div class=\"alert alert-block alert-info\">\n",
    "  <b>Odgovor:</b>\n",
    "  Metoda koja popunjava prazne vrijednosti(NaN ili None) s prethodno poznatom vrijednosti od zadnjeg redtka prema prvom. \n",
    "</div>"
   ]
  },
  {
   "cell_type": "markdown",
   "id": "d1fbeb7a",
   "metadata": {},
   "source": []
  },
  {
   "cell_type": "markdown",
   "id": "f790d8c9",
   "metadata": {},
   "source": [
    "<div class=\"alert alert-block alert-warning\">\n",
    "  <b>Pitanje:</b> U Pandasu sto radi naredba <b>.interpolate(method=\"linear\")</b>?\n",
    "</div>\n",
    "<div class=\"alert alert-block alert-info\">\n",
    "  <b>Odgovor:</b>\n",
    "  Metoda interpolate() mijenja podatke koji nedostaju pomocu interpolacije. Kod upotrebe ove metode, bitan je poredak podataka i koju vrstu intepolacije zelimo.\n",
    "  df.interpolate(method=\"linerar\")\n",
    "</div>"
   ]
  },
  {
   "cell_type": "markdown",
   "id": "a74e47dd",
   "metadata": {},
   "source": []
  },
  {
   "cell_type": "markdown",
   "id": "a7e62fed",
   "metadata": {},
   "source": [
    "<div class=\"alert alert-block alert-warning\">\n",
    "  <b>Pitanje:</b> U Pandasu sto radi naredba <b>.plot.hist()</b>?\n",
    "</div>\n",
    "<div class=\"alert alert-block alert-info\">\n",
    "  <b>Odgovor:</b>\n",
    "  Metoda plot.hist() crta histogram podataka za objekt Series ili za jednu kolonu dataframe-a s ciljen uocavanja distribucije podataka i za uocavanje eventualnih outliere-a\n",
    "</div>"
   ]
  },
  {
   "cell_type": "markdown",
   "id": "9777afa6",
   "metadata": {},
   "source": []
  },
  {
   "cell_type": "markdown",
   "id": "1b20969e",
   "metadata": {},
   "source": [
    "<div class=\"alert alert-block alert-warning\">\n",
    "  <b>Pitanje:</b> U Pandasu sto radi naredba <b>.plot.scatter()</b>?\n",
    "</div>\n",
    "<div class=\"alert alert-block alert-info\">\n",
    "  <b>Odgovor:</b>\n",
    "  Metoda plot.scatter() crta scatter plot koji pokazuje odnosno izmedu dvije numericke kolone; svaka tocka u scatter plot predstavlja x i y par iz tih numerickih kolona. Scatter plotom se vizualno uocava veza izmedu dviju kolona. \n",
    "</div>"
   ]
  },
  {
   "cell_type": "markdown",
   "id": "29f7b6f6",
   "metadata": {},
   "source": []
  },
  {
   "cell_type": "markdown",
   "id": "cf0b6081",
   "metadata": {},
   "source": [
    "<div class=\"alert alert-block alert-warning\">\n",
    "  <b>Pitanje:</b> U Pandasu sto radi naredba <b>.plot()</b>?\n",
    "</div>\n",
    "<div class=\"alert alert-block alert-info\">\n",
    "  <b>Odgovor:</b>\n",
    "  Plot matoda bez daljnjih argumenata crta line plot. Ako je pozvana nad cijelim dataframeom, nacrtat ce line plot za svaku kolonu. \n",
    "</div>"
   ]
  },
  {
   "cell_type": "markdown",
   "id": "31bb827a",
   "metadata": {},
   "source": []
  },
  {
   "cell_type": "markdown",
   "id": "d2a33681",
   "metadata": {},
   "source": [
    "<div class=\"alert alert-block alert-warning\">\n",
    "  <b>Pitanje:</b> U pandasu koja je razlika izmedu naredbi <b>.plot(kind=\"hist\")</b> i <b>.plot.hist()</b>?\n",
    "</div>\n",
    "<div class=\"alert alert-block alert-info\">\n",
    "  <b>Odgovor:</b>\n",
    "  Ne, nema razlike, obje crtaju histogram. \n",
    "</div>"
   ]
  },
  {
   "cell_type": "markdown",
   "id": "47cd7e66",
   "metadata": {},
   "source": []
  },
  {
   "cell_type": "markdown",
   "id": "51ed719b",
   "metadata": {},
   "source": [
    "<div class=\"alert alert-block alert-warning\">\n",
    "  <b>Pitanje:</b> U pandasu koja je razlika izmedu naredbi <b>.plot(kind=\"scatter\")</b> i <b>.plot.scatter()</b>?\n",
    "</div>\n",
    "<div class=\"alert alert-block alert-info\">\n",
    "  <b>Odgovor:</b>\n",
    "  Ne, nema razlike, obje crtaju scatter plot. \n",
    "</div>"
   ]
  },
  {
   "cell_type": "markdown",
   "id": "7d708d04",
   "metadata": {},
   "source": []
  },
  {
   "cell_type": "markdown",
   "id": "506e2aad",
   "metadata": {},
   "source": [
    "<div class=\"alert alert-block alert-warning\">\n",
    "  <b>Pitanje:</b> U pandasu koja je razlika izmedu naredbi <b>.describe()</b> i <b>.describe(include=\"all\")</b>?\n",
    "</div>\n",
    "<div class=\"alert alert-block alert-info\">\n",
    "  <b>Odgovor:</b>\n",
    "  Metode pozvana kao describe() bez daljnjih argumenata ce vratit statistke po stupcima samo za numericke stupce, dok describe(include=\"all\") vraca detalje za sve vrsze stupaca pa onda nisu ukljucene samo numericke statike kao count, mean, std, min, max vec ovisno o vrsti kolone, npr. unique, top(najcesca vrijednost)n i freq (broj puta koji se najucestalija vrijednost pojavljuje). \n",
    "</div>"
   ]
  },
  {
   "cell_type": "markdown",
   "id": "0201fa0a",
   "metadata": {},
   "source": []
  },
  {
   "cell_type": "markdown",
   "id": "80c8801c",
   "metadata": {},
   "source": [
    "<div class=\"alert alert-block alert-warning\">\n",
    "  <b>Pitanje:</b> Sto je pivotiranje tablice i za koje probleme bi ju koristili?\n",
    "</div>\n",
    "<div class=\"alert alert-block alert-info\">\n",
    "  <b>Odgovor:</b>\n",
    "  Pivotiranje tablice sluzi za transformaciju podataka u tablici na nacin da se podaci grupiraju po retcima i stupcima. Podake se moze prebrojati, sumirati njihove vrijednosti, izracunati mjere poput srednje vrijednosti, minimuma ili maksimimu. Koristimo pivot obicno kada moramo sumirati veliki set podataka za pojedinu svrhu, npr. kumulativna zarada od praje pojedinog proizvoda po gradovima, kada podatke zelimo grupirati po kategoriji ili nad podacima izracunati neku statiticku mjeru. Grupiranje nam takoder omogucuje da lakse usporednimo podatke, npr. prodajne brojke kumulativno po regiji. \n",
    "</div>"
   ]
  },
  {
   "cell_type": "markdown",
   "id": "10776878",
   "metadata": {},
   "source": []
  },
  {
   "cell_type": "markdown",
   "id": "c76b0936",
   "metadata": {},
   "source": [
    "<div class=\"alert alert-block alert-warning\">\n",
    "  <b>Pitanje:</b> Sto je grupiranje i za koje probleme bi ju koristili?\n",
    "</div>\n",
    "<div class=\"alert alert-block alert-info\">\n",
    "  <b>Odgovor:</b>\n",
    "  groupby() metodu cemo koristiti kada zelimo elemente dataframe-a grupirati po nekoj koloni te za tu grupu napraviti neku kalkulaciju (mean, sum itd.) po vrijednostima te iste ili druge(ih) kolone(a). Agregacijska funcija moze biti i join metoda za stringove, ne nuzno samo matematicke operacije.\n",
    "</div>"
   ]
  },
  {
   "cell_type": "markdown",
   "id": "80d167b2",
   "metadata": {},
   "source": []
  },
  {
   "cell_type": "markdown",
   "id": "a4bf9d39",
   "metadata": {},
   "source": [
    "<div class=\"alert alert-block alert-warning\">\n",
    "  <b>Pitanje:</b> U Pandasu sto radi naredba <b>pd.pivot_table()</b>?\n",
    "</div>\n",
    "<div class=\"alert alert-block alert-info\">\n",
    "  <b>Odgovor:</b>\n",
    "  Ako se **funkcija** pd.pivot_table(df) samo s dataframeom kao argumetom, po defaultu ce sve tekstualne kolone postati indexi, a  za sve numericke kolone ce se odraditi agregaciju s funkcijom mean.  \n",
    "</div>"
   ]
  },
  {
   "cell_type": "markdown",
   "id": "2aff0d70",
   "metadata": {},
   "source": []
  },
  {
   "cell_type": "markdown",
   "id": "61ecc7aa",
   "metadata": {},
   "source": [
    "<div class=\"alert alert-block alert-warning\">\n",
    "  <b>Pitanje:</b> U Pandasu sto radi naredba <b>.groupby()</b>?\n",
    "</div>\n",
    "<div class=\"alert alert-block alert-info\">\n",
    "  <b>Odgovor:</b>\n",
    "  df.groupby(\"kolona\") je metoda koja se mora pozvati s kolonom kao argumentom po kojoj se radi grupiranje. Ova metoda vraca DataFrameGroupBy object po odabranoj koloni. Kako bi se odradila kalkulacija po numerickim kolonama, nad DataFrameGroupBy treba se pozvati agregacijska metoda poput mean()\n",
    "</div>"
   ]
  },
  {
   "cell_type": "markdown",
   "id": "25b1075d",
   "metadata": {},
   "source": []
  },
  {
   "cell_type": "markdown",
   "id": "785eb29b",
   "metadata": {},
   "source": [
    "<div class=\"alert alert-block alert-warning\">\n",
    "  <b>Pitanje:</b> U Pandasu kod naredbe <b>pd.pivot_table()</b> sto radi funkcija agregacije?\n",
    "</div>\n",
    "<div class=\"alert alert-block alert-info\">\n",
    "  <b>Odgovor:</b>\n",
    "  Funkcija agregacije definira na koji nacin ce se izvrsiti kalkulacija numerickih kolona, tj. kako da se agregiraju numericke vrijednosti koje pripradaju u istu grupu. Defaultna agregacijska funkcija je mean. \n",
    "</div>"
   ]
  },
  {
   "cell_type": "markdown",
   "id": "2fd31473",
   "metadata": {},
   "source": []
  },
  {
   "cell_type": "markdown",
   "id": "a52c7b5b",
   "metadata": {},
   "source": [
    "<div class=\"alert alert-block alert-warning\">\n",
    "  <b>Pitanje:</b> U Pandasu kod naredbe <b>.groupby()</b> koju jos naredbu moramo izvesti da bi dobili novi data frame i zasto to moramo napravit?\n",
    "</div>\n",
    "<div class=\"alert alert-block alert-info\">\n",
    "  <b>Odgovor:</b>\n",
    "  Moramo pozvati narednu koja definira agregacijsku metodu za vrijednosti koje pripadaju odredenjoj grupi, npr. df.groupby('Name').mean(). U supronom groupby metoda nam vraca DataFrameGroupBy objekt. \n",
    "</div>"
   ]
  },
  {
   "cell_type": "markdown",
   "id": "a11007ad",
   "metadata": {},
   "source": []
  },
  {
   "cell_type": "markdown",
   "id": "4b25626d",
   "metadata": {},
   "source": [
    "<div class=\"alert alert-block alert-warning\">\n",
    "  <b>Pitanje:</b> U Pandasu sto radi naredba <b>.dropna()</b>?\n",
    "</div>\n",
    "<div class=\"alert alert-block alert-info\">\n",
    "  <b>Odgovor:</b>\n",
    "  Metoda df.dropna() po default uklanja sve retke u kojima se nalazi barem jedna nedostajuca vrijednost (NaN ili NoNe). \n",
    "</div>"
   ]
  },
  {
   "cell_type": "markdown",
   "id": "5bfc75e1",
   "metadata": {},
   "source": []
  },
  {
   "cell_type": "markdown",
   "id": "431481c9",
   "metadata": {},
   "source": [
    "<div class=\"alert alert-block alert-warning\">\n",
    "  <b>Pitanje:</b> U Pandasu sto radi naredba <b>.drop()</b>?\n",
    "</div>\n",
    "<div class=\"alert alert-block alert-info\">\n",
    "  <b>Odgovor:</b>\n",
    "  Metoda df.drop() ukljanja retke koje treba identificirati predajuci index retka kojeg zelimo izbrisati. Ako zelimo predati vise indexa odjednom, mozemo predati listu. Ako se zeli bristi stupci, treba predati argumet axis=1. \n",
    "</div>"
   ]
  },
  {
   "cell_type": "markdown",
   "id": "10f03879",
   "metadata": {},
   "source": []
  },
  {
   "cell_type": "markdown",
   "id": "f8a9ffb1",
   "metadata": {},
   "source": [
    "<div class=\"alert alert-block alert-warning\">\n",
    "  <b>Pitanje:</b> U Pandasu sto radi naredba <b>.value_counts()</b> cemu je ona jednaka?\n",
    "</div>\n",
    "<div class=\"alert alert-block alert-info\">\n",
    "  <b>Odgovor:</b>\n",
    "  df.value_counts() je metoda koja vraca Series objekt koji sadrzi broj jedinstvenih vrijednosti po svakoj koloni dataframe-a. Vrijednosti u kolonama su indexi u ovom series objektu. \n",
    "</div>"
   ]
  },
  {
   "cell_type": "markdown",
   "id": "4707eb64",
   "metadata": {},
   "source": []
  },
  {
   "cell_type": "markdown",
   "id": "e1afb663",
   "metadata": {},
   "source": [
    "<div class=\"alert alert-block alert-warning\">\n",
    "  <b>Pitanje:</b> U Pandasu sto radi naredba <b>df[df.zarada < df.zarada.mean() & df.zarada > df.zarada.median()]</b>, kako se zove ovaj postupak, korak?\n",
    "</div>\n",
    "<div class=\"alert alert-block alert-info\">\n",
    "  <b>Odgovor:</b>\n",
    "  Ovo je primjer koraka filtriranja. Rezultat ce biti dataframe koji sadrzi sve retke iz originalno dataframe-a df u kojima je vrijednosti u koloni zarada manja od prosjecne zarade, a istovremeno je ta ista vrijednost veca od mediana zarade. \n",
    "</div>"
   ]
  },
  {
   "cell_type": "markdown",
   "id": "eacf06d0",
   "metadata": {},
   "source": []
  },
  {
   "cell_type": "markdown",
   "id": "d2548da0",
   "metadata": {},
   "source": [
    "<div class=\"alert alert-block alert-warning\">\n",
    "  <b>Pitanje:</b> U Pandasu sto radi naredba <b>df[df.zarada < df.zarada.mean() | df.zarada > df.zarada.median()]</b> kako se zove ovaj postupak, korak?\n",
    "</div>\n",
    "<div class=\"alert alert-block alert-info\">\n",
    "  <b>Odgovor:</b>\n",
    "   Ovo je primjer koraka filtriranja. Rezultat ce biti dataframe koji sadrzi sve retke iz originalno dataframe-a df u kojima je vrijednosti u koloni zarada manje od prosjecne zarade, ili ako je  vrijednost u koloni zarada veca od mediana zarade. \n",
    "</div>"
   ]
  },
  {
   "cell_type": "markdown",
   "id": "7c38feea",
   "metadata": {},
   "source": []
  },
  {
   "cell_type": "markdown",
   "id": "977a6731",
   "metadata": {},
   "source": [
    "<div class=\"alert alert-block alert-warning\">\n",
    "  <b>Pitanje:</b> Kako u pandasu radimo filtriranje podataka?\n",
    "</div>\n",
    "<div class=\"alert alert-block alert-info\">\n",
    "  <b>Odgovor:</b>\n",
    "  Jedna vrta filtriranja podataka se moze smatrati i brisanje podataka koristenje metoda dropna(), drop() i drop_duplicates(). Moze filtrirati i prema proizvoljnom kriterijuna nacina da iz dataframe-a odabremo samo specificne retke koji sukladni sa zadanim kriterijem ili vise kriterija. Npr. df[(df[\"Price\"]>100) & (df[\"Price\"]&lt;200)]. Operatori & i | se koriste za logicki uvjet i i ili. \n",
    "</div>"
   ]
  },
  {
   "cell_type": "markdown",
   "id": "9ebcacda",
   "metadata": {},
   "source": []
  },
  {
   "cell_type": "markdown",
   "id": "62dda258",
   "metadata": {},
   "source": [
    "<div class=\"alert alert-block alert-warning\">\n",
    "  <b>Pitanje:</b> Sto je Matplotlib?\n",
    "</div>\n",
    "<div class=\"alert alert-block alert-info\">\n",
    "  <b>Odgovor:</b>\n",
    "  Matplotlib je jedna od Python biblioteka koja je namijenjana za graficki prikaz podataka.\n",
    "  Bitne znacajke Matplotlib biblioteke su:\n",
    "\n",
    "  1. Stvaranje visokokvalitetnih vizualnih prikaza\n",
    "  2. Prikazi su inetraktivni, mogu se uvecavati, pomicati i mijenjati\n",
    "  3. Prilogodavanje stila i grafova\n",
    "  4. Spremanje grafova u razlicite ormate\n",
    "  5. Integracija s Jupyter Notebookom\n",
    "  6. Temelj za puno ostalih Python biblioteka\n",
    "</div>"
   ]
  },
  {
   "cell_type": "markdown",
   "id": "72ae5bf7",
   "metadata": {},
   "source": []
  },
  {
   "cell_type": "markdown",
   "id": "abb54d76",
   "metadata": {},
   "source": [
    "<div class=\"alert alert-block alert-warning\">\n",
    "  <b>Pitanje:</b> Koji je glavni razred u Matplotlibu?\n",
    "</div>\n",
    "<div class=\"alert alert-block alert-info\">\n",
    "  <b>Odgovor:</b>\n",
    "  Glavni razred je Figure. \n",
    "</div>"
   ]
  },
  {
   "cell_type": "markdown",
   "id": "b0efdce8",
   "metadata": {},
   "source": []
  },
  {
   "cell_type": "markdown",
   "id": "94d81577",
   "metadata": {},
   "source": [
    "<div class=\"alert alert-block alert-warning\">\n",
    "  <b>Pitanje:</b> Sto Je Scikit-learn?\n",
    "</div>\n",
    "<div class=\"alert alert-block alert-info\">\n",
    "  <b>Odgovor:</b>\n",
    "  scikit-learn je jedan od Python biblioteka za strojno ucenje. To je open source biblioteka.  Osnovne karakteristike scikit-learn biblioteke:\n",
    "  \n",
    "  1. Raznolikost algoritama za klasifikaciju, regresiju, grupiranje, redukciju dimenzionalnosti i detekciju anomalija poput logisticke regresije, SVM-a(Support Vector Machines), k-srednjih vrijednosti (k-means) i PCA(Principal Componenet Analysis)\n",
    "  2. Jednostavno koristenje - svi algoritmi i alati u sci-kit learnu imaju dosljedne API-je\n",
    "  3. Lako se integrira s ostalim Python bibliotekama poput Numpy, Pandas i Matplotliba-a\n",
    "  4. Nudi razne alate za ciscenje, normalizaciju, skaliranje i podjelu podataka na testni i treninig set.\n",
    "  5. Nudi alate zanmodeliranje, validaciju, kros-validaciju, grid-search za optimizaciju hiperparametara i razne metrike za evaluaciju performanski\n",
    "  6. Zbog kompatibilnosti i skalabilsnoti prilagoden je za akademsku i industrijsku upotrebu\n",
    "</div>"
   ]
  },
  {
   "cell_type": "markdown",
   "id": "c92e3ac6",
   "metadata": {},
   "source": []
  },
  {
   "cell_type": "markdown",
   "id": "47f550be",
   "metadata": {},
   "source": [
    "<div class=\"alert alert-block alert-warning\">\n",
    "  <b>Pitanje:</b> Zasto bi koristili Numpy, a ne neku drugi drugi python matematicki modul?\n",
    "</div>\n",
    "<div class=\"alert alert-block alert-info\">\n",
    "  <b>Odgovor:</b>\n",
    "</div>"
   ]
  },
  {
   "cell_type": "markdown",
   "id": "db3d13e8",
   "metadata": {},
   "source": []
  },
  {
   "cell_type": "markdown",
   "id": "2cdc9f11",
   "metadata": {
    "vscode": {
     "languageId": "plaintext"
    }
   },
   "source": [
    "<div class=\"alert alert-block alert-warning\">\n",
    "  <b>Pitanje:</b> Zasto bi koristili Matplotlib, a ne neku drugi drugi python graficki modul?\n",
    "</div>\n",
    "<div class=\"alert alert-block alert-info\">\n",
    "  <b>Odgovor:</b>\n",
    "</div>"
   ]
  },
  {
   "cell_type": "markdown",
   "id": "8f7b89d1",
   "metadata": {},
   "source": []
  },
  {
   "cell_type": "markdown",
   "id": "4561c919",
   "metadata": {
    "vscode": {
     "languageId": "plaintext"
    }
   },
   "source": [
    "<div class=\"alert alert-block alert-warning\">\n",
    "  <b>Pitanje:</b> Zasto bi koristili Scikit-learn, a ne neku drugi drugi python modul za strojno ucenje?\n",
    "</div>\n",
    "<div class=\"alert alert-block alert-info\">\n",
    "  <b>Odgovor:</b>\n",
    "</div>"
   ]
  },
  {
   "cell_type": "markdown",
   "id": "4b62d33f",
   "metadata": {},
   "source": []
  },
  {
   "cell_type": "code",
   "execution_count": null,
   "id": "f4559ddd",
   "metadata": {},
   "outputs": [],
   "source": []
  },
  {
   "cell_type": "markdown",
   "id": "8aca17ab",
   "metadata": {
    "vscode": {
     "languageId": "plaintext"
    }
   },
   "source": [
    "<div class=\"alert alert-block alert-warning\">\n",
    "  <b>Pitanje:</b> Zasto bi koristili Pandas, a ne neku drugi drugi python modul za podatkovnu znanost?\n",
    "</div>\n",
    "<div class=\"alert alert-block alert-info\">\n",
    "  <b>Odgovor:</b>\n",
    "</div>"
   ]
  },
  {
   "cell_type": "markdown",
   "id": "3aa18863",
   "metadata": {},
   "source": []
  },
  {
   "cell_type": "markdown",
   "id": "7adc3c73",
   "metadata": {},
   "source": [
    "<div class=\"alert alert-block alert-warning\">\n",
    "  <b>Pitanje:</b> Nabrojite par mjera sredisnjih tendencija, i objasnite sto nam govori sredisnja tendencija?\n",
    "</div>\n",
    "<div class=\"alert alert-block alert-info\">\n",
    "  <b>Odgovor:</b>\n",
    "  Mjere sredisnjih tendencija su srednja vrijednost, median i mod. \n",
    "</div>"
   ]
  },
  {
   "cell_type": "markdown",
   "id": "c1c87b35",
   "metadata": {},
   "source": []
  },
  {
   "cell_type": "markdown",
   "id": "7e73dbe8",
   "metadata": {},
   "source": [
    "<div class=\"alert alert-block alert-warning\">\n",
    "  <b>Pitanje:</b> Nad kojim problemima je dobro koristiti srednja vrijednost kao pokazatelj sredisnje tendencije, a kad ju ne mozemo koristiti?\n",
    "</div>\n",
    "<div class=\"alert alert-block alert-info\">\n",
    "  <b>Odgovor:</b>\n",
    "  Ako su podaci uniformno distribuirani i nemaju outlier-e, onda je dobro korostiti mean. Ako su podaci nepravilno distribuirani, onda je bolje koristit median. \n",
    "</div>"
   ]
  },
  {
   "cell_type": "markdown",
   "id": "54294825",
   "metadata": {},
   "source": []
  },
  {
   "cell_type": "markdown",
   "id": "169d9e21",
   "metadata": {},
   "source": [
    "<div class=\"alert alert-block alert-warning\">\n",
    "  <b>Pitanje:</b> Nad kojim problemima je dobro koristiti medijan kao pokazatelj sredisnje tendencije, a kad ju ne mozemo koristiti?\n",
    "</div>\n",
    "<div class=\"alert alert-block alert-info\">\n",
    "  <b>Odgovor:</b>\n",
    "  Median se obicno koristi kada su podaci nepravilno distribuirani i kada su uredeni. Ako se podaci ne mogu poredati, ne mozemo koristiti median (npr. popis stvari za kupovinu, lista posjetitelja web stranice). \n",
    "</div>"
   ]
  },
  {
   "cell_type": "markdown",
   "id": "f277e762",
   "metadata": {},
   "source": []
  },
  {
   "cell_type": "markdown",
   "id": "c1323856",
   "metadata": {},
   "source": [
    "<div class=\"alert alert-block alert-warning\">\n",
    "  <b>Pitanje:</b> Nad kojim problemima je dobro koristiti mod kao pokazatelj sredisnje tendencije, a kad ju ne mozemo koristiti?\n",
    "</div>\n",
    "<div class=\"alert alert-block alert-info\">\n",
    "  <b>Odgovor:</b>\n",
    "  Mod odreduju najucestaliju vrijednost u setu podataka. Mod se moze primjeniti i na numericke i na kategoricne setove podataka. Medutim kad imamo kategoricni set podatka, ostale mjere centralne tendencije kao mean ili median nemaju smisla, mod ima. \n",
    "</div>"
   ]
  },
  {
   "cell_type": "markdown",
   "id": "5873b742",
   "metadata": {},
   "source": []
  },
  {
   "cell_type": "markdown",
   "id": "3c39f747",
   "metadata": {},
   "source": [
    "<div class=\"alert alert-block alert-warning\">\n",
    "  <b>Pitanje:</b> Nad kojim problemima je dobro koristiti harmonijsku sredinu kao pokazatelj sredisnje tendencije, a kad ju ne mozemo koristiti?\n",
    "</div>\n",
    "<div class=\"alert alert-block alert-info\">\n",
    "  <b>Odgovor:</b>\n",
    "  Harmonijska sredina kao mjere sredisnje tendencije. Obicno se koristi za iztacunavanje sredisnje vrijednosti kod omjera npr. brzina ili P/E u financijama. Dobije se dijeljnjem broj podataka sa sumom reciprocnih vrijednosti podataka. S harmijskom sredinom, zbog njezinog reciprocnog karaktera, veci se znacaj daje manjim vrijednostima u setu padataka, cime se mozemo \"rjesiti\" velikih outliera. S druge strane, naglasit ce outlier-e niskih vrijednosti. Stoga kod setova s takvim outliereima ne bismo trebali koristiti harmonijsku sredinu. Ne mozemo je koristiti ako je jedna od vrijednosti u setu podataka nula, jer nula nije dozvoljenja u nazivniku. \n",
    "\n",
    "</div>"
   ]
  },
  {
   "cell_type": "markdown",
   "id": "9bf16e58",
   "metadata": {},
   "source": []
  },
  {
   "cell_type": "markdown",
   "id": "b6ed387e",
   "metadata": {},
   "source": [
    "<div class=\"alert alert-block alert-warning\">\n",
    "  <b>Pitanje:</b> Nad kojim problemima je dobro koristiti geometrijsku sredinu kao pokazatelj sredisnje tendencije, a kad ju ne mozemo koristiti?\n",
    "</div>\n",
    "<div class=\"alert alert-block alert-info\">\n",
    "  <b>Odgovor:</b>\n",
    "  Geometrijska sredina je n-ti korijenje umnoska n vrijednosti. Obicno se koristi kada racunamo srednju vrijednosti izvedenica poput postoka zarade ili kamatnih stopa. Za negativne vrijednosti nije moguce racunati geometrijsku sredinu jer to ne dozvoljava operacija korjena. \n",
    "</div>"
   ]
  },
  {
   "cell_type": "markdown",
   "id": "9b0d641e",
   "metadata": {},
   "source": []
  },
  {
   "cell_type": "markdown",
   "id": "96b604bd",
   "metadata": {},
   "source": [
    "<div class=\"alert alert-block alert-warning\">\n",
    "  <b>Pitanje:</b> Nad kojim problemima je dobro koristiti interkvartilni prosjek kao pokazatelj rasprsenosti, a kad ju ne mozemo koristiti?\n",
    "</div>\n",
    "<div class=\"alert alert-block alert-info\">\n",
    "  <b>Odgovor:</b>\n",
    "  Interkvartilni prosjek je najbolje koristi kao mjeru raspresenosti kod nepravilnih distribucija. Kako uzima vrijednosti iz sredine distribucije,outlieri ne bi smjeli imati utjecaj na IQR sto ga cini problematicnim za detekciju outliere-a.  \n",
    "</div>"
   ]
  },
  {
   "cell_type": "markdown",
   "id": "2b596573",
   "metadata": {},
   "source": []
  },
  {
   "cell_type": "markdown",
   "id": "6216f3ed",
   "metadata": {},
   "source": [
    "<div class=\"alert alert-block alert-warning\">\n",
    "  <b>Pitanje:</b> Koje sve mjere rasprsenosti/disperzije/varijabilnosti imamo, nabroji ih par, i objasnite sto nam govori mjera rasprsenosti/disperzije/varijabilnosti?\n",
    "</div>\n",
    "<div class=\"alert alert-block alert-info\">\n",
    "  <b>Odgovor:</b>\n",
    "  Mjere rasprsenosi su:\n",
    "  \n",
    "  1. Raspon- razlika najvece i najmanje vrijednosti u setu podataka\n",
    "  2. Standarda devijacija - porsjecna udaljenost vrijednosti o srednje vrijednosi i varijanca mjere rasprsenosti oko srednje vrijednosti. \n",
    "  3. Kvartili: dijele uredeni skup na 4 jednala dijela. Prvi kvartil predstavlja 25% podataka, drugio kvartil je jednak medianu, treci kvartil je 75% podataka i cetvrti kvartil je najveca vrijednost u skupu. IQR je razlika Q3-Q1 - mjeri koliko su podaci raspreni oko medijana, u sredini distribucije. \n",
    "</div>"
   ]
  },
  {
   "cell_type": "markdown",
   "id": "d45dbaeb",
   "metadata": {},
   "source": []
  },
  {
   "cell_type": "markdown",
   "id": "5e7257b9",
   "metadata": {},
   "source": [
    "<div class=\"alert alert-block alert-warning\">\n",
    "  <b>Pitanje:</b> Nad kojim problemima je dobro koristiti raspon(range) kao pokazatelj rasprsenosti, a kad ju ne mozemo koristiti?\n",
    "</div>\n",
    "<div class=\"alert alert-block alert-info\">\n",
    "  <b>Odgovor:</b>\n",
    "  Koristenjem range-a mozemo lakse uociti ekstreme (najvece i najmanje vrijednosti). Ali upravo zbog toga i nije dobra mjera raspresnosti jer uzima u obzir samo ektreme ne i cijeli set podataka. Kada su podaci uniformano distribuirani bez outlier-a pruza vise informacije. \n",
    "</div>"
   ]
  },
  {
   "cell_type": "markdown",
   "id": "7f361413",
   "metadata": {},
   "source": []
  },
  {
   "cell_type": "markdown",
   "id": "f26c697f",
   "metadata": {},
   "source": [
    "<div class=\"alert alert-block alert-warning\">\n",
    "  <b>Pitanje:</b> Nad kojim problemima je dobro koristiti varijanca kao pokazatelj rasprsenosti, a kad ju ne mozemo koristiti?\n",
    "</div>\n",
    "<div class=\"alert alert-block alert-info\">\n",
    "  <b>Odgovor:</b>\n",
    "  Ako nam je distribucija podataka uniformna, dobro je koristiti varijancu kao mjeru rasprsnosti. Set podataka s outlierima ne bi bio pogodan jer outlieri imaju veliki utjecaj na izracun. \n",
    "</div>"
   ]
  },
  {
   "cell_type": "markdown",
   "id": "0b4b8c4d",
   "metadata": {},
   "source": []
  },
  {
   "cell_type": "markdown",
   "id": "9792a3a4",
   "metadata": {},
   "source": [
    "<div class=\"alert alert-block alert-warning\">\n",
    "  <b>Pitanje:</b> Nad kojim problemima je dobro koristiti standardna devijacija kao pokazatelj rasprsenosti, a kad ju ne mozemo koristiti?\n",
    "</div>\n",
    "<div class=\"alert alert-block alert-info\">\n",
    "  <b>Odgovor:</b>\n",
    "  Ako nam je distribucija podataka uniformna, dobro je koristiti standardnu devijaciju kao mjeru rasprsnosti. Set podataka s outlierima ne bi bio pogodan jer outlieri imaju veliki utjecaj na izracun. \n",
    "</div>"
   ]
  },
  {
   "cell_type": "markdown",
   "id": "6dd04e66",
   "metadata": {},
   "source": []
  },
  {
   "cell_type": "markdown",
   "id": "12a2bc3b",
   "metadata": {},
   "source": [
    "<div class=\"alert alert-block alert-warning\">\n",
    "  <b>Pitanje:</b> Jesu li standardna devijacija i varijanca povezane?\n",
    "</div>\n",
    "<div class=\"alert alert-block alert-info\">\n",
    "  <b>Odgovor:</b>\n",
    "  Varijanca je prosjecna suma kvadvarata odustupanja vrijednosti od srednje vrijednosti. Pokazuje raspresnost vrijdnosti oko srednje vrijednosti. Standardna devijacija je drugi korijen varijance, t, prosjecna udaljenost podataka od srednje vrijednosti. \n",
    "</div>"
   ]
  },
  {
   "cell_type": "markdown",
   "id": "2c02c5e1",
   "metadata": {},
   "source": []
  },
  {
   "cell_type": "markdown",
   "id": "d6a75c65",
   "metadata": {},
   "source": [
    "<div class=\"alert alert-block alert-warning\">\n",
    "  <b>Pitanje:</b> Nad kojim problemima je dobar kvantil kao pokazatelj rasprsenosti, a kad ju ne mozemo koristiti?\n",
    "</div>\n",
    "<div class=\"alert alert-block alert-info\">\n",
    "  <b>Odgovor:</b>\n",
    "  Kvartili se obicno koristi kod setova podataka koje je moguce urediti i obicno ako su nepravilne disibucije, odnosno upravo nam racunanje kvartila moze pokazati koliko je distribucija nepravilna. \n",
    "</div>"
   ]
  },
  {
   "cell_type": "markdown",
   "id": "d3dc70c8",
   "metadata": {},
   "source": []
  },
  {
   "cell_type": "markdown",
   "id": "735c9561",
   "metadata": {},
   "source": [
    "<div class=\"alert alert-block alert-warning\">\n",
    "  <b>Pitanje:</b> Koliko kvantila imamo, i sto predstavljaju?\n",
    "</div>\n",
    "<div class=\"alert alert-block alert-info\">\n",
    "  <b>Odgovor:</b>\n",
    "  Imamo 4 kavrtila. Prvi predstavlja 25% podataka, drugi je medijan, treci je 75% podataka, a 4 kvartil je najveca vrijednost u uzorku. \n",
    "</div>"
   ]
  },
  {
   "cell_type": "markdown",
   "id": "96ba66bd",
   "metadata": {},
   "source": []
  },
  {
   "cell_type": "markdown",
   "id": "7dfb36bb",
   "metadata": {},
   "source": [
    "<div class=\"alert alert-block alert-warning\">\n",
    "  <b>Pitanje:</b> Drugi kvantil ima popularniji naziv, koji?\n",
    "</div>\n",
    "<div class=\"alert alert-block alert-info\">\n",
    "  <b>Odgovor:</b>\n",
    "  Medijan\n",
    "</div>"
   ]
  },
  {
   "cell_type": "markdown",
   "id": "158a741a",
   "metadata": {},
   "source": []
  },
  {
   "cell_type": "markdown",
   "id": "dd97f7ca",
   "metadata": {},
   "source": [
    "<div class=\"alert alert-block alert-warning\">\n",
    "  <b>Pitanje:</b> Sto je to interkvartilni raspon (IQR)\n",
    "</div>\n",
    "<div class=\"alert alert-block alert-info\">\n",
    "  <b>Odgovor:</b>\n",
    "  Razlika Q3-Q1\n",
    "</div>"
   ]
  },
  {
   "cell_type": "markdown",
   "id": "820d2e82",
   "metadata": {},
   "source": []
  },
  {
   "cell_type": "markdown",
   "id": "2751a87f",
   "metadata": {},
   "source": [
    "<div class=\"alert alert-block alert-warning\">\n",
    "  <b>Pitanje:</b> Nad kojim problemima je dobar interkvartilni raspon (IQR) kao pokazatelj rasprsenosti, a kad ju ne mozemo koristiti?\n",
    "</div>\n",
    "<div class=\"alert alert-block alert-info\">\n",
    "  <b>Odgovor:</b>\n",
    "  IQR je dobar pokazatelj raspresnoti 50% podaka oko medijana, i obicno se koristi kao mjera kod nepravilnih distribucija. Ali iz IQR ne mozemo iscitati outliere-a. \n",
    "</div>"
   ]
  },
  {
   "cell_type": "markdown",
   "id": "a1829f13",
   "metadata": {},
   "source": []
  },
  {
   "cell_type": "markdown",
   "id": "86d24c82",
   "metadata": {},
   "source": [
    "<div class=\"alert alert-block alert-warning\">\n",
    "  <b>Pitanje:</b> Sto je to frekvencija?\n",
    "</div>\n",
    "<div class=\"alert alert-block alert-info\">\n",
    "  <b>Odgovor:</b>\n",
    "  Broj pojavljivanja odredene vrijednosti ili odredeni skupine vrijenodnosti u setu podataka. \n",
    "</div>"
   ]
  },
  {
   "cell_type": "markdown",
   "id": "91c3ea28",
   "metadata": {},
   "source": []
  },
  {
   "cell_type": "markdown",
   "id": "c910d164",
   "metadata": {},
   "source": [
    "<div class=\"alert alert-block alert-warning\">\n",
    "  <b>Pitanje:</b> Sto je to relativna frekvencija?\n",
    "</div>\n",
    "<div class=\"alert alert-block alert-info\">\n",
    "  <b>Odgovor:</b>\n",
    "  Udio ili postatak ukupnog broja podataka koji pripadaju nekoj kategoriji. \n",
    "</div>"
   ]
  },
  {
   "cell_type": "markdown",
   "id": "61ee25cd",
   "metadata": {},
   "source": []
  },
  {
   "cell_type": "markdown",
   "id": "f53c99d8",
   "metadata": {},
   "source": [
    "<div class=\"alert alert-block alert-warning\">\n",
    "  <b>Pitanje:</b> Za sto nam moze posluziti relativna frekvencija?\n",
    "</div>\n",
    "<div class=\"alert alert-block alert-info\">\n",
    "  <b>Odgovor:</b>\n",
    "  Racunanjem relativne frekvencije mozemo donjeti zakljucak kako o odnosima razlicitih dogadaju ili kategrija u ukupnom setu podataka. Takoder, kao se radi o udjelu, ako imamo dva seta podatka koji mjere podatke mejre u razlicitim jedinicima(npr. cm i inch), na taj nacin ih mozemo usporedivati. \n",
    "</div>"
   ]
  },
  {
   "cell_type": "markdown",
   "id": "89609351",
   "metadata": {},
   "source": []
  },
  {
   "cell_type": "markdown",
   "id": "c57735aa",
   "metadata": {
    "vscode": {
     "languageId": "plaintext"
    }
   },
   "source": [
    "<div class=\"alert alert-block alert-warning\">\n",
    "  <b>Pitanje:</b> Sto je to korelacija?\n",
    "</div>\n",
    "<div class=\"alert alert-block alert-info\">\n",
    "  <b>Odgovor:</b>\n",
    "  Korelacija mjeri snagu i smjer linearne povezanosti izmedu dvije varijable. Najcesce je koristen Pearsonov koeficijnt korelacije. \n",
    "</div>"
   ]
  },
  {
   "cell_type": "markdown",
   "id": "ff9bc78f",
   "metadata": {},
   "source": []
  },
  {
   "cell_type": "markdown",
   "id": "a1664735",
   "metadata": {},
   "source": [
    "<div class=\"alert alert-block alert-warning\">\n",
    "  <b>Pitanje:</b> Za sto sve mozemo koristiti korelaciju u podatkovnoj znanosti?\n",
    "</div>\n",
    "<div class=\"alert alert-block alert-info\">\n",
    "  <b>Odgovor:</b>\n",
    "  Mozemo utvrditi postojili li i u kojoj mjeri linerana zavisnost dvije varijeble i znati njezin smjer. \n",
    "</div>"
   ]
  },
  {
   "cell_type": "markdown",
   "id": "5898acf9",
   "metadata": {},
   "source": []
  },
  {
   "cell_type": "markdown",
   "id": "3bd269c2",
   "metadata": {},
   "source": [
    "<div class=\"alert alert-block alert-warning\">\n",
    "  <b>Pitanje:</b> U koje nas sve probleme moze dovesti ne poznavanje potpuno pojma korelacije, navedite ih par?\n",
    "</div>\n",
    "<div class=\"alert alert-block alert-info\">\n",
    "  <b>Odgovor:</b>\n",
    "  Korelacija je mjera linearne ovisnosti dvije varijable. Ako izmedu varijabli ne postoji linearna veza, to ne znaci da ne  postoji neka druga ovisnost te dvije varijable i ne mozemo kategoricki tvrditi da su one nezavisne. \n",
    "</div>"
   ]
  },
  {
   "cell_type": "markdown",
   "id": "1aa1cf27",
   "metadata": {},
   "source": []
  },
  {
   "cell_type": "markdown",
   "id": "cbb299a3",
   "metadata": {},
   "source": [
    "<div class=\"alert alert-block alert-warning\">\n",
    "  <b>Pitanje:</b> Koji tip grafa u vecini slucajeva najbolje prikazuje korelaciju, da li ona postoji ili ne?\n",
    "</div>\n",
    "<div class=\"alert alert-block alert-info\">\n",
    "  <b>Odgovor:</b>\n",
    "  Scatterplot\n",
    "</div>"
   ]
  },
  {
   "cell_type": "markdown",
   "id": "33407d74",
   "metadata": {},
   "source": []
  },
  {
   "cell_type": "markdown",
   "id": "a5c9adbb",
   "metadata": {},
   "source": [
    "<div class=\"alert alert-block alert-warning\">\n",
    "  <b>Pitanje:</b> Koji su potencijalni problemi tog grafa koji prikazuje korelaciju najbolje, i koji graf nam je alternativa za te situacije?\n",
    "</div>\n",
    "<div class=\"alert alert-block alert-info\">\n",
    "  <b>Odgovor:</b>\n",
    "  Ako imamo premali ili preveliki broj podataka, scatter plot graf nam ne omogucuje da donosimo zakljucke. Iz premalog broja podataka, bilo koji trend koji bismo uocili je sasvim slucajan, a kod pevelikom broja podataka tocke na grafu ce nam se preklapati i ne cemo moci uciti siru sliku. Takoder, ako od prije znamo da nam dvije varijable nisu ni na koji nacin povezane, scatter plot nece donjeti nikakvu daljnju informaciju. \n",
    "</div>"
   ]
  },
  {
   "cell_type": "markdown",
   "id": "be538fac",
   "metadata": {},
   "source": []
  },
  {
   "cell_type": "markdown",
   "id": "3464a6de",
   "metadata": {},
   "source": [
    "\n",
    "<div class=\"alert alert-block alert-warning\">\n",
    "  <b>Pitanje:</b> Sto je to autokorelacija, i cemu nam sluzi ili sta nam govori?\n",
    "</div>\n",
    "<div class=\"alert alert-block alert-info\">\n",
    "  <b>Odgovor:</b>\n",
    "  Autokorelacija se odnosi na korelaciju jedne te iste varijable u dva razlicita vremenska intervala. Korisna je za trazenje ponavljajuceg uzorka u nizu podataka. \n",
    "</div>"
   ]
  },
  {
   "cell_type": "markdown",
   "id": "b24e24d3",
   "metadata": {},
   "source": []
  },
  {
   "cell_type": "markdown",
   "id": "515a7f69",
   "metadata": {},
   "source": [
    "<div class=\"alert alert-block alert-warning\">\n",
    "  <b>Pitanje:</b> Koji je raspon vrijednosti korelacije (Pearsonov koeficijent korelacije)?\n",
    "</div>\n",
    "<div class=\"alert alert-block alert-info\">\n",
    "  <b>Odgovor:</b>\n",
    "</div> Vrijednosti su izmedu -1 i 1"
   ]
  },
  {
   "cell_type": "markdown",
   "id": "d9f1526b",
   "metadata": {},
   "source": []
  },
  {
   "cell_type": "markdown",
   "id": "227995ee",
   "metadata": {},
   "source": [
    "<div class=\"alert alert-block alert-warning\">\n",
    "  <b>Pitanje:</b> Sta znace brojevi -1, 0 i 1 u korelacije (Pearsonov koeficijent korelacije)?\n",
    "</div>\n",
    "<div class=\"alert alert-block alert-info\">\n",
    "  <b>Odgovor:</b>\n",
    "  \n",
    "  - -1 savrsena negativna linearna korelacija\n",
    "  - 0 ne postojanje linearne korelacije\n",
    "  - 1 savrsenja pozitivna linerana korelacija\n",
    "</div>"
   ]
  },
  {
   "cell_type": "markdown",
   "id": "7bc9e914",
   "metadata": {},
   "source": []
  },
  {
   "cell_type": "markdown",
   "id": "2f4c4ed9",
   "metadata": {},
   "source": [
    "<div class=\"alert alert-block alert-warning\">\n",
    "  <b>Pitanje:</b> Imaju li isti znacaj sto se tice povezanosti pozitivni i negativni koeficijenti korelacije npr. -1 i 1?\n",
    "</div>\n",
    "<div class=\"alert alert-block alert-info\">\n",
    "  <b>Odgovor:</b>\n",
    "  Da, razlika je samo radi li se o pozitivnoj ili negativnoj linearnoj korelaciji\n",
    "</div>"
   ]
  },
  {
   "cell_type": "markdown",
   "id": "7a7b4d8d",
   "metadata": {},
   "source": []
  },
  {
   "cell_type": "markdown",
   "id": "d93065c3",
   "metadata": {},
   "source": [
    "<div class=\"alert alert-block alert-warning\">\n",
    "  <b>Pitanje:</b> Ako korelacija postoji, da li imamo automatski uzrokocno posljedicnu vezu, drugim rijecima imamo li potvrdu ako postoji jaka korleacija izmedu dviju varijabli da je jedan varijabla uzrok, a druga posljedica?\n",
    "</div>\n",
    "<div class=\"alert alert-block alert-info\">\n",
    "  <b>Odgovor:</b>\n",
    "  Ne, korelacija samo potvrduju da postoji veza izmedu dvije varijable, njezin smjer i mjeru. Kauzaciji znaci da jedan dogadaj uzrokuje drugi. Ako nam dvije varijable imaju slican odaziv na vanjski dogadaj, koeficijent korelacije medu njima bi mogao biti znacajan, ali svejedno jedna nije uzrok druge. \n",
    "</div>"
   ]
  },
  {
   "cell_type": "markdown",
   "id": "bb556f86",
   "metadata": {},
   "source": []
  },
  {
   "cell_type": "markdown",
   "id": "7283ef82",
   "metadata": {},
   "source": [
    "<div class=\"alert alert-block alert-warning\">\n",
    "  <b>Pitanje:</b> Koji je raspon vrijednosti za vjerojatnost nekog dogadaja?\n",
    "</div>\n",
    "<div class=\"alert alert-block alert-info\">\n",
    "  <b>Odgovor:</b>\n",
    "</div> Od 0 do 1"
   ]
  },
  {
   "cell_type": "code",
   "execution_count": null,
   "id": "a06a0932",
   "metadata": {},
   "outputs": [],
   "source": []
  },
  {
   "cell_type": "markdown",
   "id": "611e7b4b",
   "metadata": {},
   "source": []
  },
  {
   "cell_type": "markdown",
   "id": "cec5687d",
   "metadata": {},
   "source": [
    "<div class=\"alert alert-block alert-warning\">\n",
    "  <b>Pitanje:</b> Sta znaci da su dva dogadaja nezavisna, a sta znaci da su zavisna, dajte par primjer za svaku?\n",
    "</div>\n",
    "<div class=\"alert alert-block alert-info\">\n",
    "  <b>Odgovor:</b>\n",
    "  Dva dogadaju s neovisna ako je vjerojatnost nastanka jednog dogadaja nije pod utjecajem nastanka drugog dogadaja. U suprotnom su zavisni. Primjer nezavisnih dogadaja je bacanje novcica ili kocke. Primjer zavisnih dogadaja je biranje karata iz spila karata gdje nakon sto izvucemo prvu kartu, tu kartu vise ne vracamo u spil. \n",
    "</div>"
   ]
  },
  {
   "cell_type": "markdown",
   "id": "df7621ee",
   "metadata": {},
   "source": []
  },
  {
   "cell_type": "markdown",
   "id": "982f2f0e",
   "metadata": {},
   "source": [
    "<div class=\"alert alert-block alert-warning\">\n",
    "  <b>Pitanje:</b> Sto je to histogram, sta nam on sve govori?\n",
    "</div>\n",
    "<div class=\"alert alert-block alert-info\">\n",
    "  <b>Odgovor:</b>\n",
    "  Histogram je graficki prikaz koji prikazuje frekvenciju pojavljivanja podataka u odrednoj grupi. Obicno je prikazan s pravokutnicima gdje je povrsina pravokutnika jednaka frekvenciji varijable, a duzina sirini grupe definirane za te podatke. Ako su sirine grupa iste, time zapravo visina pravokutnika pokazuje koliko podataka upada u definiranu grupu. Iz njega mozemo donjeti zakljucak o distribuciji varijable. \n",
    "\n",
    "</div>"
   ]
  },
  {
   "cell_type": "markdown",
   "id": "d30d9f76",
   "metadata": {},
   "source": []
  },
  {
   "cell_type": "markdown",
   "id": "56481204",
   "metadata": {},
   "source": [
    "<div class=\"alert alert-block alert-warning\">\n",
    "  <b>Pitanje:</b> Koliko je kolona potrebno da bi se izracunao/nacrtao jedan histogram?\n",
    "</div>\n",
    "<div class=\"alert alert-block alert-info\">\n",
    "  <b>Odgovor:</b>\n",
    "  Jedna kolona\n",
    "</div>"
   ]
  },
  {
   "cell_type": "markdown",
   "id": "5512eda0",
   "metadata": {},
   "source": []
  },
  {
   "cell_type": "markdown",
   "id": "0b78e1c5",
   "metadata": {},
   "source": [
    "<div class=\"alert alert-block alert-warning\">\n",
    "  <b>Pitanje:</b> Kako racunamo histogram?\n",
    "</div>\n",
    "<div class=\"alert alert-block alert-info\">\n",
    "  <b>Odgovor:</b>\n",
    "\n",
    "  1. Odredimo grupe\n",
    "  2. Izbrojimo frekvenciju pojavljivanja vrijednosti u pojedinoj grupi\n",
    "  3. Na osi X graficki nacrtamo grupe\n",
    "  4. Na osi Y crtamo frekvenciju\n",
    "</div>"
   ]
  },
  {
   "cell_type": "markdown",
   "id": "4cc0651e",
   "metadata": {},
   "source": []
  },
  {
   "cell_type": "markdown",
   "id": "64220a06",
   "metadata": {},
   "source": [
    "<div class=\"alert alert-block alert-warning\">\n",
    "  <b>Pitanje:</b> Kako dolazimo iz histograma, do modela distribucije te varijable?\n",
    "</div>\n",
    "<div class=\"alert alert-block alert-info\">\n",
    "  <b>Odgovor:</b>\n",
    "  Normalna distribucija na histogramu ce pratiti oblik zvona s samo jednim vrhom i biti ce simtricna oko srednje vrijednosti. \n",
    "  Ako vecina podataka lezi na lijevoj strani srednje vrijednosti i broj grupa u koje smo kategorizirali podatke je veci s desne strane od srednje vrijednosti onda imamo distribuciju koja je desno (pozitivno) skewed. \n",
    "</div>"
   ]
  },
  {
   "cell_type": "markdown",
   "id": "420d7566",
   "metadata": {},
   "source": []
  },
  {
   "cell_type": "markdown",
   "id": "ae557276",
   "metadata": {},
   "source": [
    "<div class=\"alert alert-block alert-warning\">\n",
    "  <b>Pitanje:</b> Sto je to vjerojatnost (probability), a sto izglednost (likelihood), objasnite razliku ta dva pojma?\n",
    "</div>\n",
    "<div class=\"alert alert-block alert-info\">\n",
    "  <b>Odgovor:</b>\n",
    "  Vjerojatnost odreduje sansu da se neki dogadaj dogodi. Dok izglednost mjeri prilagodenost modela na uzorak podataka, tj. kolike su sanse da vrijednost iz naseg uzorka odgovora pretpostavljenoj distribuciji modela. Npr. ako imamo paket jabuka kojima su tezine distribuirane po normalnoj distribuciji s srednjom vrijednosti X1 i standadnom distribucijom std1, onda mozemo odrediti vjerojatnost da se jabuka bude tezine X1+3.  Ako imamo jabuku poznate tezine z, onda mozemo po nasoj ditribuciji reci da je izglednost da je dio nase distrubucije neki y. Ako za istu jabuku pretposavimo neku drugu distribuciju, izglednost ce se promijeniti. \n",
    "</div>"
   ]
  },
  {
   "cell_type": "markdown",
   "id": "4d91f594",
   "metadata": {},
   "source": []
  },
  {
   "cell_type": "markdown",
   "id": "e08bf114",
   "metadata": {},
   "source": [
    "<div class=\"alert alert-block alert-warning\">\n",
    "  <b>Pitanje:</b> Nabrojite korake koje radimo kada zelimo istrenirati model pomocu scikit-learna?\n",
    "</div>\n",
    "<div class=\"alert alert-block alert-info\">\n",
    "  <b>Odgovor:</b>\n",
    "  \n",
    "  1. importirati sklearn\n",
    "  - import sklearn\n",
    "  2. Ovisno sto radimo, mozemo moramo i importirati scikit- learn's Dataset from sklearn.dataset\n",
    "  - import dataset1\n",
    "  - data=dataset1\n",
    "  3. Ovisno o nasem modelu, gradimo testing i treninig set, koristeci funkciju train_test_split\n",
    "  - from sklearn.model_selection import train_test_split\n",
    "  - train, test, train_labels, test_labels=train_test_split(feature, labels, test_size=0.33, random_state=42)\n",
    "  4. importiranje modela i inicijalizacija klasifikatora\n",
    "  - from sklearn.naive_bayes import GaussianNB\n",
    "  - gnb=GaussianNB()\n",
    "  5. treniranje klasifikatora\n",
    "  - model=gnb.fit(train, train_labels)\n",
    "  6. predikcija\n",
    "  - pred=gnb.predict(test)\n",
    "  7. ocjena tocnosti modela\n",
    "  - from sklearn.metrics import accuracy_score\n",
    "  - accuracy_score(test_labels, preds) \n",
    "\n",
    "</div>"
   ]
  },
  {
   "cell_type": "markdown",
   "id": "66c6e44d",
   "metadata": {},
   "source": []
  },
  {
   "cell_type": "markdown",
   "id": "0c850bb2",
   "metadata": {},
   "source": [
    "<div class=\"alert alert-block alert-warning\">\n",
    "  <b>Pitanje:</b> Sto je to nadzirano ucenje?\n",
    "</div>\n",
    "<div class=\"alert alert-block alert-info\">\n",
    "  <b>Odgovor:</b>\n",
    "  Nadzirano ucenje je treniranje modela pomocu oznacenih uzoraka gdje znamo na osnovu uzorka podataka kakav izlazni rezultat modela ocekujemo za ulazne parametre. Primjeri su klasifikacija i regresija. \n",
    "</div>"
   ]
  },
  {
   "cell_type": "markdown",
   "id": "cbff3432",
   "metadata": {},
   "source": []
  },
  {
   "cell_type": "markdown",
   "id": "c3164892",
   "metadata": {},
   "source": [
    "<div class=\"alert alert-block alert-warning\">\n",
    "  <b>Pitanje:</b> Sto je to nenadzirano ucenje?\n",
    "</div>\n",
    "<div class=\"alert alert-block alert-info\">\n",
    "  <b>Odgovor:</b>\n",
    "  Nenadzirno ucenje je stvaranje modela kojei moze izvuci uzorke iz neoznacenih podataka pronalazeci inheretne slicnosti izmedu ulaznih podataka npr. algoritam K srednjih vrijednosti.\n",
    "</div>"
   ]
  },
  {
   "cell_type": "markdown",
   "id": "de636ac7",
   "metadata": {},
   "source": []
  },
  {
   "cell_type": "markdown",
   "id": "fe3473e3",
   "metadata": {},
   "source": [
    "<div class=\"alert alert-block alert-warning\">\n",
    "  <b>Pitanje:</b> Koja je razlika izmedu nadziranog i nenadziranog ucenja?\n",
    "</div>\n",
    "<div class=\"alert alert-block alert-info\">\n",
    "  <b>Odgovor:</b>\n",
    "  Nadzirano ucenje je kada se model razvija nad oznacenim klasificiranim podacima tj. za ulazne parametre iz uzoroka znamo koji odgovor modela ocekujemo i mozemo usporediti njegovu tocnost. To su klasifikacija i regresija. Nenadzirano ucenje je kada nemamo oznaceni uzlazni set podataka, vec model sam zakljucuju bitne slicnosti medupodacima kako bi ih grupirao, primjer je K-means. \n",
    "</div>"
   ]
  },
  {
   "cell_type": "markdown",
   "id": "7a115a1a",
   "metadata": {},
   "source": []
  },
  {
   "cell_type": "markdown",
   "id": "07e90dfd",
   "metadata": {},
   "source": [
    "<div class=\"alert alert-block alert-warning\">\n",
    "  <b>Pitanje:</b> Sto je to klasifikacija i cemu sluzi?\n",
    "</div>\n",
    "<div class=\"alert alert-block alert-info\">\n",
    "  <b>Odgovor:</b>\n",
    "  Klasifikacija je razvrstavanje podataka u jednu od definiranih kategorija. Koristimo je kada zelimo da model nauciti pravilno rasporediti ulazne podatke u jednu od kategorija. \n",
    "</div>"
   ]
  },
  {
   "cell_type": "markdown",
   "id": "ae2b6842",
   "metadata": {},
   "source": []
  },
  {
   "cell_type": "markdown",
   "id": "9800de38",
   "metadata": {},
   "source": [
    "<div class=\"alert alert-block alert-warning\">\n",
    "  <b>Pitanje:</b> Navedite par primjera iz stvarnog zivota za koji bismo koristili model klasifikacije?\n",
    "</div>\n",
    "<div class=\"alert alert-block alert-info\">\n",
    "  <b>Odgovor:</b>\n",
    "  Filter SPAM poste, ulazna posta se razvrstava kao SPAM ili ne SPAM. \n",
    "</div>"
   ]
  },
  {
   "cell_type": "markdown",
   "id": "a068013c",
   "metadata": {},
   "source": []
  },
  {
   "cell_type": "markdown",
   "id": "d847db3d",
   "metadata": {},
   "source": [
    "<div class=\"alert alert-block alert-warning\">\n",
    "  <b>Pitanje:</b> Kojoj skupini pripada klasifikacija, nadziranog ili nenadziranog ucenja i zasto?\n",
    "</div>\n",
    "<div class=\"alert alert-block alert-info\">\n",
    "  <b>Odgovor:</b>\n",
    "  Pripada nadziranom ucenju jer koristimo treninig set poznatih ulaznih i izlaznih paramatera da naucimo model. \n",
    "</div>"
   ]
  },
  {
   "cell_type": "markdown",
   "id": "b3e96211",
   "metadata": {},
   "source": []
  },
  {
   "cell_type": "markdown",
   "id": "b59305c7",
   "metadata": {},
   "source": [
    "<div class=\"alert alert-block alert-warning\">\n",
    "  <b>Pitanje:</b> Sto je to regresija i cemu sluzi?\n",
    "</div>\n",
    "<div class=\"alert alert-block alert-info\">\n",
    "  <b>Odgovor:</b>\n",
    "  Regresija je predvidanje vrijednnosti kontinuiranih podataka\n",
    "</div>"
   ]
  },
  {
   "cell_type": "markdown",
   "id": "d2613e28",
   "metadata": {},
   "source": []
  },
  {
   "cell_type": "markdown",
   "id": "4cbea08d",
   "metadata": {},
   "source": [
    "<div class=\"alert alert-block alert-warning\">\n",
    "  <b>Pitanje:</b> Navedite par primjera iz stvarnog zivota za koji bismo koristili regresiju?\n",
    "</div>\n",
    "<div class=\"alert alert-block alert-info\">\n",
    "  <b>Odgovor:</b>\n",
    "  Za predvidanje rezultata izbora npr. temeljem informacija o medijskoj eksponiranosti kandidata u nekom periodu ili predvidanje poslovnih rezulatat temeljem podataka iz prodaje.  \n",
    "</div>"
   ]
  },
  {
   "cell_type": "markdown",
   "id": "fcf60332",
   "metadata": {},
   "source": []
  },
  {
   "cell_type": "markdown",
   "id": "13351b23",
   "metadata": {},
   "source": [
    "<div class=\"alert alert-block alert-warning\">\n",
    "  <b>Pitanje:</b> Kojoj skupini pripada regresija, nadziranog ili nenadziranog ucenja i zasto?\n",
    "</div>\n",
    "<div class=\"alert alert-block alert-info\">\n",
    "  <b>Odgovor:</b>\n",
    "  Regresija pripada u skupinu nadziranog ucenja jer se model trenirana s ulaznim i poznatim izlaznim parametrima. \n",
    "</div>"
   ]
  },
  {
   "cell_type": "markdown",
   "id": "d3a4b3a3",
   "metadata": {},
   "source": []
  },
  {
   "cell_type": "markdown",
   "id": "db7f6abc",
   "metadata": {},
   "source": [
    "<div class=\"alert alert-block alert-warning\">\n",
    "  <b>Pitanje:</b> Koja su razlike izmedu regresije i klasifikacije, navedite ih par?\n",
    "</div>\n",
    "<div class=\"alert alert-block alert-info\">\n",
    "  <b>Odgovor:</b>\n",
    "  Klasifikacija razvrstava podatke u jednu od dostupnih kategorija dok regresija na osnovu ulaznih paramatara odreduje vrijednost kontinuiranog podataka. Npr. klasifikacija je ulaznu visinu djetata kategorizirati kao visok ili nizak, dok ce regresija temeljenm podataka o starosti i spolu djetata pokusati predvijeti tocnu visinu djetata. Regresija se koristi kada zelimo numericke kontunirane izlazne podatke, dok se klasifikacija koristi kada zelimo za izlaz kategoricne dikretne vrijednosti. \n",
    "</div>"
   ]
  },
  {
   "cell_type": "code",
   "execution_count": null,
   "id": "de1f40b1",
   "metadata": {},
   "outputs": [],
   "source": []
  },
  {
   "cell_type": "markdown",
   "id": "474bb5d9",
   "metadata": {},
   "source": []
  },
  {
   "cell_type": "markdown",
   "id": "ed5f1402",
   "metadata": {},
   "source": [
    "<div class=\"alert alert-block alert-warning\">\n",
    "  <b>Pitanje:</b> Sto je to model grupiranja\n",
    "</div>\n",
    "<div class=\"alert alert-block alert-info\">\n",
    "  <b>Odgovor:</b>\n",
    "  Automatska preraspodjela podataka u grupe. \n",
    "</div>"
   ]
  },
  {
   "cell_type": "markdown",
   "id": "089a9e02",
   "metadata": {},
   "source": []
  },
  {
   "cell_type": "markdown",
   "id": "3453036c",
   "metadata": {},
   "source": [
    "<div class=\"alert alert-block alert-warning\">\n",
    "  <b>Pitanje:</b> Navedite par primjera iz stvarnog zivota za koji bismo koristili model grupiranja?\n",
    "</div>\n",
    "<div class=\"alert alert-block alert-info\">\n",
    "  <b>Odgovor:</b>\n",
    "  Odredivanje grupa potrosaca temeljem podataka o potrosnji ili odredivanje ciljanih skupina za marketinsku komapanju temeljem kreditnog rejting i podataka o potroscakim navikama. \n",
    "</div>"
   ]
  },
  {
   "cell_type": "markdown",
   "id": "45ab70f1",
   "metadata": {},
   "source": []
  },
  {
   "cell_type": "markdown",
   "id": "f39af083",
   "metadata": {},
   "source": [
    "<div class=\"alert alert-block alert-warning\">\n",
    "  <b>Pitanje:</b> Kojoj skupini pripada model grupiranja, nadziranog ili nenadziranog ucenja i zasto?\n",
    "</div>\n",
    "<div class=\"alert alert-block alert-info\">\n",
    "  <b>Odgovor:</b>\n",
    "  Grupiranje je nenadzirano ucenje jer algoritam sam odreduje skupine bez da su podaci od ranije klasificirani.  \n",
    "</div>"
   ]
  },
  {
   "cell_type": "markdown",
   "id": "8a2cab66",
   "metadata": {},
   "source": []
  },
  {
   "cell_type": "markdown",
   "id": "a25be23b",
   "metadata": {},
   "source": [
    "<div class=\"alert alert-block alert-warning\">\n",
    "  <b>Pitanje:</b> Koja su razlike izmedu regresije i grupiranja, navedite ih par?\n",
    "</div>\n",
    "<div class=\"alert alert-block alert-info\">\n",
    "  <b>Odgovor:</b>\n",
    "\n",
    "  1. Regresija je nadzirano ucenje, a clustering nenadzirano\n",
    "  2. Cilj clusteringa je da se slicne podatke razvrsta u grupe, dok je cilj regresije da predvidi vrijednost kontinuiranog podataka\n",
    "\n",
    "</div>"
   ]
  },
  {
   "cell_type": "markdown",
   "id": "982bf964",
   "metadata": {},
   "source": []
  },
  {
   "cell_type": "markdown",
   "id": "38bfa731",
   "metadata": {},
   "source": [
    "<div class=\"alert alert-block alert-warning\">\n",
    "  <b>Pitanje:</b> Koja su razlike izmedu grupiranja i klasifikacije, navedite ih par?\n",
    "</div>\n",
    "<div class=\"alert alert-block alert-info\">\n",
    "  <b>Odgovor:</b>\n",
    "  \n",
    "  1. Klasiikacija je nadzirano ucenje, a clustering nenadzirano\n",
    "  2. Cilj clusteringa je da se slicne podatke razvrsta u grupe, dok je cilj klasifikacije da novi ulatzni podatak svrsta u jednu od definiranih skupina, ali su skupine od ranije poznate.\n",
    "</div>"
   ]
  },
  {
   "cell_type": "markdown",
   "id": "cb30b450",
   "metadata": {},
   "source": []
  },
  {
   "cell_type": "markdown",
   "id": "1be8c141",
   "metadata": {},
   "source": [
    "<div class=\"alert alert-block alert-warning\">\n",
    "  <b>Pitanje:</b> Koje su nam zelje za oblika modela u bilo kojem problem, moze i konkretno za podatkovnu znanost/umjetnu inteligenciju/strojno ucenje/duboko ucenje?\n",
    "</div>\n",
    "<div class=\"alert alert-block alert-info\">\n",
    "  <b>Odgovor:</b>\n",
    "  Zelimo sto jednostavniji formalno definirani model koji sa zadovoljavajucom tocnostu opisuje stvarnost. \n",
    "</div>"
   ]
  },
  {
   "cell_type": "markdown",
   "id": "b34a87e8",
   "metadata": {},
   "source": []
  },
  {
   "cell_type": "markdown",
   "id": "65db011c",
   "metadata": {},
   "source": [
    "\n",
    "<div class=\"alert alert-block alert-warning\">\n",
    "  <b>Pitanje:</b> Sto je to podtreniran model (underfit model), i koje su mu prednosti, a koje mane?\n",
    "</div>\n",
    "<div class=\"alert alert-block alert-info\">\n",
    "  <b>Odgovor:</b>\n",
    "  Underfitting model je koji je prejednostav i ne uspijeva reprezentirati  sve ovisnosti ulaznih i izlaznih parametara. Najcesca mu je mana velika pogreska ili bias, ali je model obicno jednostavan. \n",
    "</div>\n"
   ]
  },
  {
   "cell_type": "markdown",
   "id": "99e50c43",
   "metadata": {},
   "source": []
  },
  {
   "cell_type": "markdown",
   "id": "cb5860fe",
   "metadata": {},
   "source": [
    "\n",
    "<div class=\"alert alert-block alert-warning\">\n",
    "  <b>Pitanje:</b> Sto je to pretrenirtan model (overfit model), i koje su mu prednosti, a koje mane?\n",
    "</div>\n",
    "<div class=\"alert alert-block alert-info\">\n",
    "  <b>Odgovor:</b>\n",
    "  Overfitted model je model koji visoku tocnost na trening setu, ali puno manju na testnom setu. Obicno se radi o kompleksnim modelima za koje je treninig set premali.  \n",
    "</div>"
   ]
  },
  {
   "cell_type": "markdown",
   "id": "845d92b2",
   "metadata": {},
   "source": []
  },
  {
   "cell_type": "markdown",
   "id": "f5cf3595",
   "metadata": {},
   "source": [
    "<div class=\"alert alert-block alert-warning\">\n",
    "  <b>Pitanje:</b> Nabrojite par tehnika s kojima sprjecavamo pretreniranost modela?\n",
    "</div>\n",
    "<div class=\"alert alert-block alert-info\">\n",
    "  <b>Odgovor:</b>\n",
    "  \n",
    "  1. Povecati trening set\n",
    "  2. Pokusati pojednostaviti model\n",
    "  3. Zaustaviti treniranje modela kada prestane poboljsanje pogreske na validacijskom setu, cak ako se greska na trening setu sustavno smanjuje\n",
    "  4. Razlomiti dostupni set podataka na vise testni segmenata i testirati na nevidenim podacima za vrijeme treniniga\n",
    "\n",
    "  \n",
    "</div>"
   ]
  },
  {
   "cell_type": "markdown",
   "id": "8a9f37ff",
   "metadata": {},
   "source": []
  },
  {
   "cell_type": "markdown",
   "id": "867b33e4",
   "metadata": {},
   "source": [
    "<div class=\"alert alert-block alert-warning\">\n",
    "  <b>Pitanje:</b> Koji model smo koristili za klasifikaciju na predavanju?\n",
    "</div>\n",
    "<div class=\"alert alert-block alert-info\">\n",
    "  <b>Odgovor:</b>\n",
    "  Naivni Bayesov model\n",
    "</div>"
   ]
  },
  {
   "cell_type": "markdown",
   "id": "5c8f39fb",
   "metadata": {},
   "source": []
  },
  {
   "cell_type": "markdown",
   "id": "ec23e154",
   "metadata": {},
   "source": [
    "<div class=\"alert alert-block alert-warning\">\n",
    "  <b>Pitanje:</b> Koju pretpostavku koristi Naivni Bayesov model, sta ona znaci i kako nam pomaze?\n",
    "</div>\n",
    "<div class=\"alert alert-block alert-info\">\n",
    "  <b>Odgovor:</b>\n",
    "  Glavna pretpostavka je da su varijable neovisne jedan o drugoj unutar jedne od kategorija, jednom kad je kategorija poznata, varijable su potpuno nezavisne jedna od druge. Npr. kod klasifikacije e-mail kao spam pretvaramo se da email koji sadzi poruku \"Kupi sada\" je potpuno neovisan od e-mail koji sadrzi poruku \"popust\". Pretpostavka neovisnosti nam pojednostavlja matematicki model i ubrzava treniranje model. \n",
    "</div>"
   ]
  },
  {
   "cell_type": "markdown",
   "id": "6abe95f6",
   "metadata": {},
   "source": []
  },
  {
   "cell_type": "markdown",
   "id": "dc4f558f",
   "metadata": {},
   "source": [
    "<div class=\"alert alert-block alert-warning\">\n",
    "  <b>Pitanje:</b> Koji model smo koristili za regresiju na predavanju?\n",
    "</div>\n",
    "<div class=\"alert alert-block alert-info\">\n",
    "  <b>Odgovor:</b>\n",
    "  Linearanu regresiju\n",
    "</div>"
   ]
  },
  {
   "cell_type": "markdown",
   "id": "2e17f446",
   "metadata": {},
   "source": []
  },
  {
   "cell_type": "markdown",
   "id": "1b960649",
   "metadata": {},
   "source": [
    "<div class=\"alert alert-block alert-warning\">\n",
    "  <b>Pitanje:</b> Koja dva pristupa imamo, kada imamo nelinarne podatke, kada zelimo trenirati regresiju?\n",
    "</div>\n",
    "<div class=\"alert alert-block alert-info\">\n",
    "  <b>Odgovor:</b>TODO\n",
    "</div>"
   ]
  },
  {
   "cell_type": "markdown",
   "id": "bc8d098e",
   "metadata": {},
   "source": []
  },
  {
   "cell_type": "markdown",
   "id": "63a1ac52",
   "metadata": {},
   "source": [
    "<div class=\"alert alert-block alert-warning\">\n",
    "  <b>Pitanje:</b> Koji model smo koristili za grupiranje na predavanju?\n",
    "</div>\n",
    "<div class=\"alert alert-block alert-info\">\n",
    "  <b>Odgovor:</b> k-srednjih vrijednosti (k-means)\n",
    "</div>"
   ]
  },
  {
   "cell_type": "markdown",
   "id": "7ed3a68e",
   "metadata": {},
   "source": []
  }
 ],
 "metadata": {
  "kernelspec": {
   "display_name": "base",
   "language": "python",
   "name": "python3"
  },
  "language_info": {
   "codemirror_mode": {
    "name": "ipython",
    "version": 3
   },
   "file_extension": ".py",
   "mimetype": "text/x-python",
   "name": "python",
   "nbconvert_exporter": "python",
   "pygments_lexer": "ipython3",
   "version": "3.12.7"
  }
 },
 "nbformat": 4,
 "nbformat_minor": 5
}

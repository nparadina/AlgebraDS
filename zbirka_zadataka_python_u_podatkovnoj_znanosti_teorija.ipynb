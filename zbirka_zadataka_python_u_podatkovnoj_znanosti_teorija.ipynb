{
 "cells": [
  {
   "cell_type": "markdown",
   "id": "1c0b8cf2",
   "metadata": {},
   "source": [
    "<div class=\"alert alert-block alert-warning\">\n",
    "  <b>Pitanje:</b> Cemu sluze klase u Pythonu?\n",
    "</div>\n",
    "<div class=\"alert alert-block alert-info\">\n",
    "  <b>Odgovor: Klase su predlosci za kreiranje objekata, specificnih tipova podataka za koje su definirana svojstva (atributi) i ponasanje (metode). Kroz nasljedivanja ili samo ekstenziju, omogucuju da se dijelovi napisanog programskog koda ponovno koriste i prosire</b>\n",
    "</div>"
   ]
  },
  {
   "cell_type": "markdown",
   "id": "37ddfa9f",
   "metadata": {},
   "source": []
  },
  {
   "cell_type": "markdown",
   "id": "c4c7b1f7",
   "metadata": {},
   "source": [
    "<div class=\"alert alert-block alert-warning\">\n",
    "  <b>Pitanje:</b> Cemu sluze instance u Pythonu?\n",
    "</div>\n",
    "<div class=\"alert alert-block alert-info\">\n",
    "  <b>Odgovor: Instanca je specificni objekt koji je nastao iz klase. Svaka instanca sprema jedinstvene podatke za objekt. Instanca moze dodatno imati svoje atribute, koji su dadni samo za tu instancu nekad nakon kreiranja, ali samim kreiranjem nasljeduje sve atribute same klase i metode. Primjer recimo klase auto i pojedinih modela auta </b>\n",
    "</div>"
   ]
  },
  {
   "cell_type": "markdown",
   "id": "9cb042dd",
   "metadata": {},
   "source": []
  },
  {
   "cell_type": "markdown",
   "id": "f896f241",
   "metadata": {},
   "source": [
    "<div class=\"alert alert-block alert-warning\">\n",
    "  <b>Pitanje:</b> Cemu sluze moduli u Pythonu?\n",
    "</div>\n",
    "<div class=\"alert alert-block alert-info\">\n",
    "  <b>Odgovor:</b>\n",
    "</div>"
   ]
  },
  {
   "cell_type": "markdown",
   "id": "9a182896",
   "metadata": {},
   "source": []
  },
  {
   "cell_type": "markdown",
   "id": "c2bd1df9",
   "metadata": {},
   "source": [
    "<div class=\"alert alert-block alert-warning\">\n",
    "  <b>Pitanje:</b> Cemu sluze paketi u Pythonu?\n",
    "</div>\n",
    "<div class=\"alert alert-block alert-info\">\n",
    "  <b>Odgovor:</b>\n",
    "</div>"
   ]
  },
  {
   "cell_type": "markdown",
   "id": "3655033d",
   "metadata": {},
   "source": []
  },
  {
   "cell_type": "markdown",
   "id": "3226ca8b",
   "metadata": {},
   "source": [
    "<div class=\"alert alert-block alert-warning\">\n",
    "  <b>Pitanje:</b> Što je Anaconda?\n",
    "</div>\n",
    "<div class=\"alert alert-block alert-info\">\n",
    "  <b>Odgovor:</b>\n",
    "</div>"
   ]
  },
  {
   "cell_type": "markdown",
   "id": "bb518bb4",
   "metadata": {},
   "source": []
  },
  {
   "cell_type": "markdown",
   "id": "cb9b4d1e",
   "metadata": {},
   "source": [
    "<div class=\"alert alert-block alert-warning\">\n",
    "  <b>Pitanje:</b> Koja je razlika izmedu Anaconde i \"normalnog\" (obicnog) Python?\n",
    "</div>\n",
    "<div class=\"alert alert-block alert-info\">\n",
    "  <b>Odgovor:</b>\n",
    "</div>"
   ]
  },
  {
   "cell_type": "markdown",
   "id": "b089740e",
   "metadata": {},
   "source": []
  },
  {
   "cell_type": "markdown",
   "id": "e75045ad",
   "metadata": {
    "vscode": {
     "languageId": "plaintext"
    }
   },
   "source": [
    "<div class=\"alert alert-block alert-warning\">\n",
    "  <b>Pitanje:</b> Sto je to podatkovna znanost?\n",
    "</div>\n",
    "<div class=\"alert alert-block alert-info\">\n",
    "  <b>Odgovor:</b>\n",
    "</div>"
   ]
  },
  {
   "cell_type": "code",
   "execution_count": null,
   "id": "212ae20d",
   "metadata": {},
   "outputs": [],
   "source": []
  },
  {
   "cell_type": "markdown",
   "id": "b81fcb8c",
   "metadata": {},
   "source": [
    "<div class=\"alert alert-block alert-warning\">\n",
    "  <b>Pitanje:</b> Koja podrucja sacinjavaju podatkovnu znanost i kako svaki od tih podrucja pridonosi, drugim rjecima, kako nam to podrucje olaksava rad u podatkovnoj znnaosti ili na koje probleme bi mogli naletjeti ako ne bi korisitili to podrucje?\n",
    "</div>\n",
    "<div class=\"alert alert-block alert-info\">\n",
    "  <b>Odgovor:</b>\n",
    "</div>"
   ]
  },
  {
   "cell_type": "markdown",
   "id": "7ec8eff0",
   "metadata": {},
   "source": []
  },
  {
   "cell_type": "markdown",
   "id": "d9392d56",
   "metadata": {},
   "source": [
    "<div class=\"alert alert-block alert-warning\">\n",
    "  <b>Pitanje:</b> Zasto Big Data nije isto sto i podatkovna znanost?\n",
    "</div>\n",
    "<div class=\"alert alert-block alert-info\">\n",
    "  <b>Odgovor:</b>\n",
    "</div>"
   ]
  },
  {
   "cell_type": "markdown",
   "id": "09bb8865",
   "metadata": {},
   "source": []
  },
  {
   "cell_type": "markdown",
   "id": "4e82a21b",
   "metadata": {},
   "source": [
    "<div class=\"alert alert-block alert-warning\">\n",
    "  <b>Pitanje:</b> Zasto Data Mining nije isto sto i podatkovna znanost?\n",
    "</div>\n",
    "<div class=\"alert alert-block alert-info\">\n",
    "  <b>Odgovor:</b>\n",
    "</div>"
   ]
  },
  {
   "cell_type": "markdown",
   "id": "5a9e4ef7",
   "metadata": {},
   "source": []
  },
  {
   "cell_type": "markdown",
   "id": "5cc4c1bb",
   "metadata": {},
   "source": [
    "<div class=\"alert alert-block alert-warning\">\n",
    "  <b>Pitanje:</b> Zasto Business Intelligence nije isto sto i podatkovna znanost?\n",
    "</div>\n",
    "<div class=\"alert alert-block alert-info\">\n",
    "  <b>Odgovor:</b>\n",
    "</div>"
   ]
  },
  {
   "cell_type": "markdown",
   "id": "2d9e80ba",
   "metadata": {},
   "source": []
  },
  {
   "cell_type": "markdown",
   "id": "bb827c99",
   "metadata": {},
   "source": [
    "<div class=\"alert alert-block alert-warning\">\n",
    "  <b>Pitanje:</b> Zasto Umjetna Inteligencija nije isto sto i podatkovna znanost?\n",
    "</div>\n",
    "<div class=\"alert alert-block alert-info\">\n",
    "  <b>Odgovor:</b>\n",
    "</div>"
   ]
  },
  {
   "cell_type": "markdown",
   "id": "c65a7c9b",
   "metadata": {},
   "source": []
  },
  {
   "cell_type": "markdown",
   "id": "d54cc2a6",
   "metadata": {},
   "source": [
    "<div class=\"alert alert-block alert-warning\">\n",
    "  <b>Pitanje:</b> Sto je ekstrakcija?\n",
    "</div>\n",
    "<div class=\"alert alert-block alert-info\">\n",
    "  <b>Odgovor:</b>\n",
    "</div>"
   ]
  },
  {
   "cell_type": "markdown",
   "id": "fe7759ca",
   "metadata": {},
   "source": []
  },
  {
   "cell_type": "markdown",
   "id": "3c337e58",
   "metadata": {},
   "source": [
    "<div class=\"alert alert-block alert-warning\">\n",
    "  <b>Pitanje:</b> Sto je ekstrapolacija?\n",
    "</div>\n",
    "<div class=\"alert alert-block alert-info\">\n",
    "  <b>Odgovor:</b>\n",
    "</div>"
   ]
  },
  {
   "cell_type": "markdown",
   "id": "bd95887c",
   "metadata": {},
   "source": []
  },
  {
   "cell_type": "markdown",
   "id": "dbdcc049",
   "metadata": {},
   "source": [
    "<div class=\"alert alert-block alert-warning\">\n",
    "  <b>Pitanje:</b> Sto je sum u podatcima, i zasto nastaje?\n",
    "</div>\n",
    "<div class=\"alert alert-block alert-info\">\n",
    "  <b>Odgovor:</b>\n",
    "</div>"
   ]
  },
  {
   "cell_type": "markdown",
   "id": "775ff5c3",
   "metadata": {},
   "source": []
  },
  {
   "cell_type": "markdown",
   "id": "0c56812a",
   "metadata": {},
   "source": [
    "<div class=\"alert alert-block alert-warning\">\n",
    "  <b>Pitanje:</b> Koja je razlika izmedu strukturiranih i nestrukturiranih podataka?\n",
    "</div>\n",
    "<div class=\"alert alert-block alert-info\">\n",
    "  <b>Odgovor:</b>\n",
    "</div>"
   ]
  },
  {
   "cell_type": "markdown",
   "id": "43157c94",
   "metadata": {},
   "source": []
  },
  {
   "cell_type": "markdown",
   "id": "cd1f36e0",
   "metadata": {},
   "source": [
    "<div class=\"alert alert-block alert-warning\">\n",
    "  <b>Pitanje:</b> Napise korake koje imamo prilikom procesa obrade podataka, drugim rjecima procesni lanac u podatkovnoj znanosti, odnsno koje korake radimo da bi dosli od pitanja do odgovora?\n",
    "</div>\n",
    "<div class=\"alert alert-block alert-info\">\n",
    "  <b>Odgovor:</b>\n",
    "</div>"
   ]
  },
  {
   "cell_type": "markdown",
   "id": "48b1d77b",
   "metadata": {},
   "source": []
  },
  {
   "cell_type": "markdown",
   "id": "d4077368",
   "metadata": {},
   "source": [
    "<div class=\"alert alert-block alert-warning\">\n",
    "  <b>Pitanje:</b> Sta radimo pod korakom, prikupljanje podataka?\n",
    "</div>\n",
    "<div class=\"alert alert-block alert-info\">\n",
    "  <b>Odgovor:</b>\n",
    "</div>"
   ]
  },
  {
   "cell_type": "markdown",
   "id": "f84c979d",
   "metadata": {},
   "source": []
  },
  {
   "cell_type": "markdown",
   "id": "a75278cb",
   "metadata": {},
   "source": [
    "<div class=\"alert alert-block alert-warning\">\n",
    "  <b>Pitanje:</b> Nabroji par tehnika prikupljanja podataka?\n",
    "</div>\n",
    "<div class=\"alert alert-block alert-info\">\n",
    "  <b>Odgovor:</b>\n",
    "</div>"
   ]
  },
  {
   "cell_type": "markdown",
   "id": "d47d4b36",
   "metadata": {},
   "source": []
  },
  {
   "cell_type": "markdown",
   "id": "564a9521",
   "metadata": {},
   "source": [
    "<div class=\"alert alert-block alert-warning\">\n",
    "  <b>Pitanje:</b> Nabroji par izvora podataka?\n",
    "</div>\n",
    "<div class=\"alert alert-block alert-info\">\n",
    "  <b>Odgovor:</b>\n",
    "</div>"
   ]
  },
  {
   "cell_type": "markdown",
   "id": "28bf46fc",
   "metadata": {},
   "source": []
  },
  {
   "cell_type": "markdown",
   "id": "cc93f07b",
   "metadata": {},
   "source": [
    "<div class=\"alert alert-block alert-warning\">\n",
    "  <b>Pitanje:</b> Sto radimo prilikom ucitavanja podataka?\n",
    "</div>\n",
    "<div class=\"alert alert-block alert-info\">\n",
    "  <b>Odgovor:</b>\n",
    "</div>"
   ]
  },
  {
   "cell_type": "markdown",
   "id": "dfe1e2cb",
   "metadata": {},
   "source": []
  },
  {
   "cell_type": "markdown",
   "id": "4953aaec",
   "metadata": {},
   "source": [
    "<div class=\"alert alert-block alert-warning\">\n",
    "  <b>Pitanje:</b> Sta radimo pod korakom, ciscenje podataka?\n",
    "</div>\n",
    "<div class=\"alert alert-block alert-info\">\n",
    "  <b>Odgovor:</b>\n",
    "</div>"
   ]
  },
  {
   "cell_type": "markdown",
   "id": "4efaf7a4",
   "metadata": {},
   "source": []
  },
  {
   "cell_type": "markdown",
   "id": "0f9a4284",
   "metadata": {},
   "source": [
    "<div class=\"alert alert-block alert-warning\">\n",
    "  <b>Pitanje:</b> Nabrojite par razloga zasto je bitno cistiti podatke, odnsno na koje bismo probleme naletjeli ako to ne napravimo?\n",
    "</div>\n",
    "<div class=\"alert alert-block alert-info\">\n",
    "  <b>Odgovor:</b>\n",
    "</div>"
   ]
  },
  {
   "cell_type": "markdown",
   "id": "9195e42d",
   "metadata": {},
   "source": []
  },
  {
   "cell_type": "markdown",
   "id": "b9b757a4",
   "metadata": {},
   "source": [
    "<div class=\"alert alert-block alert-warning\">\n",
    "  <b>Pitanje:</b> Sta radimo pod korakom, strukturiranje podataka?\n",
    "</div>\n",
    "<div class=\"alert alert-block alert-info\">\n",
    "  <b>Odgovor:</b>\n",
    "</div>"
   ]
  },
  {
   "cell_type": "markdown",
   "id": "ef6314fd",
   "metadata": {},
   "source": []
  },
  {
   "cell_type": "markdown",
   "id": "5d5b46d3",
   "metadata": {},
   "source": [
    "<div class=\"alert alert-block alert-warning\">\n",
    "  <b>Pitanje:</b> Sta radimo pod korakom, istrazivanje podataka?\n",
    "</div>\n",
    "<div class=\"alert alert-block alert-info\">\n",
    "  <b>Odgovor:</b>\n",
    "</div>"
   ]
  },
  {
   "cell_type": "markdown",
   "id": "1ca87257",
   "metadata": {},
   "source": []
  },
  {
   "cell_type": "markdown",
   "id": "e8476b56",
   "metadata": {},
   "source": [
    "<div class=\"alert alert-block alert-warning\">\n",
    "  <b>Pitanje:</b> Zasto nam je bitna vizualizacija prilikom analize podataka?\n",
    "</div>\n",
    "<div class=\"alert alert-block alert-info\">\n",
    "  <b>Odgovor:</b>\n",
    "</div>"
   ]
  },
  {
   "cell_type": "markdown",
   "id": "75e21eba",
   "metadata": {},
   "source": []
  },
  {
   "cell_type": "markdown",
   "id": "57b016ed",
   "metadata": {},
   "source": [
    "<div class=\"alert alert-block alert-warning\">\n",
    "  <b>Pitanje:</b> Zasto nam treba numericka analiza podatak? \n",
    "</div>\n",
    "<div class=\"alert alert-block alert-info\">\n",
    "  <b>Odgovor:</b>\n",
    "</div>"
   ]
  },
  {
   "cell_type": "markdown",
   "id": "f9c242a1",
   "metadata": {},
   "source": []
  },
  {
   "cell_type": "markdown",
   "id": "5110bbdc",
   "metadata": {},
   "source": [
    "<div class=\"alert alert-block alert-warning\">\n",
    "  <b>Pitanje:</b> Sta radimo pod korakom, stvaranje modela?\n",
    "</div>\n",
    "<div class=\"alert alert-block alert-info\">\n",
    "  <b>Odgovor:</b>\n",
    "</div>"
   ]
  },
  {
   "cell_type": "markdown",
   "id": "6e494f91",
   "metadata": {},
   "source": []
  },
  {
   "cell_type": "markdown",
   "id": "b1d938fe",
   "metadata": {},
   "source": [
    "<div class=\"alert alert-block alert-warning\">\n",
    "  <b>Pitanje:</b> Objasnite svojim rjecima, sto je to model?\n",
    "</div>\n",
    "<div class=\"alert alert-block alert-info\">\n",
    "  <b>Odgovor:</b>\n",
    "</div>"
   ]
  },
  {
   "cell_type": "markdown",
   "id": "732731f0",
   "metadata": {},
   "source": []
  },
  {
   "cell_type": "markdown",
   "id": "7b58f57d",
   "metadata": {},
   "source": [
    "<div class=\"alert alert-block alert-warning\">\n",
    "  <b>Pitanje:</b> Sta radimo pod korakom, izrada izvjesca, zasto nam je on bitan?\n",
    "</div>\n",
    "<div class=\"alert alert-block alert-info\">\n",
    "  <b>Odgovor:</b>\n",
    "</div>"
   ]
  },
  {
   "cell_type": "markdown",
   "id": "173f0e78",
   "metadata": {},
   "source": []
  },
  {
   "cell_type": "markdown",
   "id": "dc3251d7",
   "metadata": {},
   "source": [
    "<div class=\"alert alert-block alert-warning\">\n",
    "  <b>Pitanje:</b> Sta radimo pod korakom, revizija, zasto nam je ona bitan?\n",
    "</div>\n",
    "<div class=\"alert alert-block alert-info\">\n",
    "  <b>Odgovor:</b>\n",
    "</div>"
   ]
  },
  {
   "cell_type": "markdown",
   "id": "b130d6da",
   "metadata": {},
   "source": []
  },
  {
   "cell_type": "markdown",
   "id": "6595a92c",
   "metadata": {},
   "source": [
    "<div class=\"alert alert-block alert-warning\">\n",
    "  <b>Pitanje:</b> Sto je to apstrakcija i zasto nam je ona korisna prilikom stvaranja modela, drugim rjecima kako nam ona pomaze?\n",
    "</div>\n",
    "<div class=\"alert alert-block alert-info\">\n",
    "  <b>Odgovor:</b>\n",
    "</div>"
   ]
  },
  {
   "cell_type": "code",
   "execution_count": null,
   "id": "ade18685",
   "metadata": {},
   "outputs": [],
   "source": []
  },
  {
   "cell_type": "markdown",
   "id": "0d4ae837",
   "metadata": {},
   "source": [
    "<div class=\"alert alert-block alert-warning\">\n",
    "  <b>Pitanje:</b> Sto je to virtualno okruzenje, koje su mu prednosti, i koje mane?\n",
    "</div>\n",
    "<div class=\"alert alert-block alert-info\">\n",
    "  <b>Odgovor:</b>\n",
    "</div>"
   ]
  },
  {
   "cell_type": "code",
   "execution_count": null,
   "id": "5617ae4c",
   "metadata": {},
   "outputs": [],
   "source": []
  },
  {
   "cell_type": "markdown",
   "id": "650cf3ec",
   "metadata": {},
   "source": [
    "<div class=\"alert alert-block alert-warning\">\n",
    "  <b>Pitanje:</b> Zasto bi bilo dobro kreirati virtualno okruzenje, navedi par primjera?\n",
    "</div>\n",
    "<div class=\"alert alert-block alert-info\">\n",
    "  <b>Odgovor:</b>\n",
    "</div>"
   ]
  },
  {
   "cell_type": "markdown",
   "id": "b0e9584d",
   "metadata": {},
   "source": []
  },
  {
   "cell_type": "markdown",
   "id": "fdb03648",
   "metadata": {},
   "source": [
    "<div class=\"alert alert-block alert-warning\">\n",
    "  <b>Pitanje:</b> Nabroji par nacina kako mozemo napraviti virtualno okruzenje?\n",
    "</div>\n",
    "<div class=\"alert alert-block alert-info\">\n",
    "  <b>Odgovor:</b>\n",
    "</div>"
   ]
  },
  {
   "cell_type": "markdown",
   "id": "88f641c9",
   "metadata": {},
   "source": []
  },
  {
   "cell_type": "markdown",
   "id": "ff28cfef",
   "metadata": {},
   "source": []
  },
  {
   "cell_type": "markdown",
   "id": "82070655",
   "metadata": {},
   "source": [
    "<div class=\"alert alert-block alert-warning\">\n",
    "  <b>Pitanje:</b> Sto su to nedostajeci podatci (missing data), odnsno podatci koji fale?\n",
    "</div>\n",
    "<div class=\"alert alert-block alert-info\">\n",
    "  <b>Odgovor:</b>\n",
    "</div>"
   ]
  },
  {
   "cell_type": "markdown",
   "id": "400b2b6d",
   "metadata": {},
   "source": []
  },
  {
   "cell_type": "markdown",
   "id": "11a6f394",
   "metadata": {},
   "source": [
    "<div class=\"alert alert-block alert-warning\">\n",
    "  <b>Pitanje:</b> Nabrojite par uzroka zbog kojih moze doci do nedostajecih podataka (missing data)?\n",
    "</div>\n",
    "<div class=\"alert alert-block alert-info\">\n",
    "  <b>Odgovor:</b>\n",
    "</div>"
   ]
  },
  {
   "cell_type": "markdown",
   "id": "5fccc913",
   "metadata": {},
   "source": []
  },
  {
   "cell_type": "markdown",
   "id": "fb6ff9f4",
   "metadata": {},
   "source": [
    "<div class=\"alert alert-block alert-warning\">\n",
    "  <b>Pitanje:</b> Nabrojite par nacina kako mozemo nadomjestit nedostajuce podatke (missing data)?\n",
    "</div>\n",
    "<div class=\"alert alert-block alert-info\">\n",
    "  <b>Odgovor:</b>\n",
    "</div>"
   ]
  },
  {
   "cell_type": "markdown",
   "id": "df8b0190",
   "metadata": {},
   "source": []
  },
  {
   "cell_type": "markdown",
   "id": "67a8ef16",
   "metadata": {},
   "source": [
    "<div class=\"alert alert-block alert-warning\">\n",
    "  <b>Pitanje:</b> Objasnite kad bi ste koristili koji nacin prilikom nadomjestanja nedostajucih podataka (missing data)?\n",
    "</div>\n",
    "<div class=\"alert alert-block alert-info\">\n",
    "  <b>Odgovor:</b>\n",
    "</div>"
   ]
  },
  {
   "cell_type": "markdown",
   "id": "e356453b",
   "metadata": {},
   "source": []
  },
  {
   "cell_type": "markdown",
   "id": "9387803d",
   "metadata": {},
   "source": [
    "<div class=\"alert alert-block alert-warning\">\n",
    "  <b>Pitanje:</b> Sto je to interpolacija?\n",
    "</div>\n",
    "<div class=\"alert alert-block alert-info\">\n",
    "  <b>Odgovor:</b>\n",
    "</div>"
   ]
  },
  {
   "cell_type": "markdown",
   "id": "0d267cb6",
   "metadata": {},
   "source": []
  },
  {
   "cell_type": "markdown",
   "id": "a1f90270",
   "metadata": {},
   "source": [
    "<div class=\"alert alert-block alert-warning\">\n",
    "  <b>Pitanje:</b> Koji je preduvjet za koristenje interpolacije?\n",
    "</div>\n",
    "<div class=\"alert alert-block alert-info\">\n",
    "  <b>Odgovor:</b>\n",
    "</div>"
   ]
  },
  {
   "cell_type": "markdown",
   "id": "0378ab86",
   "metadata": {},
   "source": []
  },
  {
   "cell_type": "markdown",
   "id": "cceada40",
   "metadata": {},
   "source": [
    "<div class=\"alert alert-block alert-warning\">\n",
    "  <b>Pitanje:</b> Kada bi koristili istu vrijednost za sve nedostajuce podatke te kolone, koje su mane tog pristupa, kada to nije dobar nacin, navedite par primjera za svaki slucaj?\n",
    "</div>\n",
    "<div class=\"alert alert-block alert-info\">\n",
    "  <b>Odgovor:</b>\n",
    "</div>"
   ]
  },
  {
   "cell_type": "markdown",
   "id": "48fe3289",
   "metadata": {},
   "source": []
  },
  {
   "cell_type": "markdown",
   "id": "97f7df3e",
   "metadata": {},
   "source": [
    "<div class=\"alert alert-block alert-warning\">\n",
    "  <b>Pitanje:</b> koje su mane tog pristupa, kada to nije dobar nacin, navedite par primjera za svaki slucaj?\n",
    "</div>\n",
    "<div class=\"alert alert-block alert-info\">\n",
    "  <b>Odgovor:</b>\n",
    "</div>"
   ]
  },
  {
   "cell_type": "markdown",
   "id": "2a336ed1",
   "metadata": {},
   "source": []
  },
  {
   "cell_type": "markdown",
   "id": "4dbb46a2",
   "metadata": {},
   "source": [
    "<div class=\"alert alert-block alert-warning\">\n",
    "  <b>Pitanje:</b> Sto je to linearna algebra?\n",
    "</div>\n",
    "<div class=\"alert alert-block alert-info\">\n",
    "  <b>Odgovor:</b>\n",
    "</div>"
   ]
  },
  {
   "cell_type": "markdown",
   "id": "e2e9927e",
   "metadata": {},
   "source": []
  },
  {
   "cell_type": "markdown",
   "id": "064b36a5",
   "metadata": {},
   "source": [
    "<div class=\"alert alert-block alert-warning\">\n",
    "  <b>Pitanje:</b> Sto je to statistika?\n",
    "</div>\n",
    "<div class=\"alert alert-block alert-info\">\n",
    "  <b>Odgovor:</b>\n",
    "</div>"
   ]
  },
  {
   "cell_type": "markdown",
   "id": "71aeb30a",
   "metadata": {},
   "source": []
  },
  {
   "cell_type": "markdown",
   "id": "f43036e4",
   "metadata": {},
   "source": [
    "<div class=\"alert alert-block alert-warning\">\n",
    "  <b>Pitanje:</b> Nabroji par primjera iz stvarnog svijeta kako bi nam statistika mogla pomoc?\n",
    "</div>\n",
    "<div class=\"alert alert-block alert-info\">\n",
    "  <b>Odgovor:</b>\n",
    "</div>"
   ]
  },
  {
   "cell_type": "markdown",
   "id": "a13a457c",
   "metadata": {},
   "source": []
  },
  {
   "cell_type": "markdown",
   "id": "0b96edb8",
   "metadata": {},
   "source": [
    "<div class=\"alert alert-block alert-warning\">\n",
    "  <b>Pitanje:</b> Nabroji par primjera iz stvarnog svijeta kako bi nam linearna algebra mogla pomoc?\n",
    "</div>\n",
    "<div class=\"alert alert-block alert-info\">\n",
    "  <b>Odgovor:</b>\n",
    "</div>"
   ]
  },
  {
   "cell_type": "markdown",
   "id": "c99de3e0",
   "metadata": {},
   "source": []
  },
  {
   "cell_type": "markdown",
   "id": "f4ab120b",
   "metadata": {
    "vscode": {
     "languageId": "plaintext"
    }
   },
   "source": [
    "<div class=\"alert alert-block alert-warning\">\n",
    "  <b>Pitanje:</b> Sto je to matrica?\n",
    "</div>\n",
    "<div class=\"alert alert-block alert-info\">\n",
    "  <b>Odgovor:</b>\n",
    "</div>"
   ]
  },
  {
   "cell_type": "markdown",
   "id": "6370d0c6",
   "metadata": {},
   "source": []
  },
  {
   "cell_type": "markdown",
   "id": "30ee6f8c",
   "metadata": {},
   "source": [
    "<div class=\"alert alert-block alert-warning\">\n",
    "  <b>Pitanje:</b> Sto je to inverz matrica?\n",
    "</div>\n",
    "<div class=\"alert alert-block alert-info\">\n",
    "  <b>Odgovor:</b>\n",
    "</div>"
   ]
  },
  {
   "cell_type": "markdown",
   "id": "92816256",
   "metadata": {},
   "source": []
  },
  {
   "cell_type": "markdown",
   "id": "1f0bbe35",
   "metadata": {},
   "source": [
    "<div class=\"alert alert-block alert-warning\">\n",
    "  <b>Pitanje:</b> Sto je to pseudoinverz matrica?\n",
    "</div>\n",
    "<div class=\"alert alert-block alert-info\">\n",
    "  <b>Odgovor:</b>\n",
    "</div>"
   ]
  },
  {
   "cell_type": "markdown",
   "id": "43d867ac",
   "metadata": {},
   "source": []
  },
  {
   "cell_type": "markdown",
   "id": "8dff5238",
   "metadata": {},
   "source": [
    "<div class=\"alert alert-block alert-warning\">\n",
    "  <b>Pitanje:</b> Koja je motivacija za koristenje matrica i linearne algebre, drugim rjecima zasto bi koristili matrice i linearnu algebru?\n",
    "</div>\n",
    "<div class=\"alert alert-block alert-info\">\n",
    "  <b>Odgovor:</b>\n",
    "</div>"
   ]
  },
  {
   "cell_type": "markdown",
   "id": "4587980e",
   "metadata": {},
   "source": []
  },
  {
   "cell_type": "markdown",
   "id": "63e5748c",
   "metadata": {},
   "source": [
    "<div class=\"alert alert-block alert-warning\">\n",
    "  <b>Pitanje:</b> Navedite primjere matrica iz stvarnog svijeta?\n",
    "</div>\n",
    "<div class=\"alert alert-block alert-info\">\n",
    "  <b>Odgovor: Matrica ocjena pojeding stundenta gdje je svaki redak jedan student, a u stupcima su ocijene pojedinih predmeta. Ili npr. zapis automatiziranog ocitavanja mjerenja nekog senzora gdje u redtku datum, a u stupcima ocitanja za svaki sat</b>\n",
    "</div>"
   ]
  },
  {
   "cell_type": "markdown",
   "id": "c23826a7",
   "metadata": {},
   "source": []
  },
  {
   "cell_type": "markdown",
   "id": "cb1cf134",
   "metadata": {},
   "source": [
    "<div class=\"alert alert-block alert-warning\">\n",
    "  <b>Pitanje:</b> Nabroji python module koje smo koristili tokom ovog tecaja?\n",
    "</div>\n",
    "<div class=\"alert alert-block alert-info\">\n",
    "  <b>Odgovor: Numpy </b>\n",
    "</div>"
   ]
  },
  {
   "cell_type": "markdown",
   "id": "e5dbab77",
   "metadata": {},
   "source": []
  },
  {
   "cell_type": "markdown",
   "id": "622af996",
   "metadata": {},
   "source": [
    "<div class=\"alert alert-block alert-warning\">\n",
    "  <b>Pitanje:</b> Sto je Numpy?\n",
    "</div>\n",
    "<div class=\"alert alert-block alert-info\">\n",
    "  <b>Odgovor: Numpy je Pythom bibioliteka namjenjena za kompleksne matematicke proracune. Napisana je u programskom jeziku C, zbog cega operacije nad podacima moze obavljati puno brze nego Python sa svojim tipovima podataka. Bioblioteka ima Python sucelje zboig cega ju se moze koristiti kao i svaku drugu Python biblioteku. Izmedu ostalog nudi mnogo matematickih operacija, generator nasumicnih brojeva, pruza podrsku za linerarnu algebru i Fouriereivu transformaciju. </b>\n",
    "</div>"
   ]
  },
  {
   "cell_type": "markdown",
   "id": "1d0375f4",
   "metadata": {},
   "source": []
  },
  {
   "cell_type": "markdown",
   "id": "00b57b52",
   "metadata": {},
   "source": [
    "<div class=\"alert alert-block alert-warning\">\n",
    "  <b>Pitanje:</b> Sto je razlika liste i ndarray\n",
    "</div>\n",
    "<div class=\"alert alert-block alert-info\">\n",
    "  <b>Odgovor: Array je kolekcija istog tipa podaka (ali ne moraju biti samo cijeli brojevi), dok lista moze sadrzavti vise tipova podataka. Array podarava matematicke operacije nad elementima, npr. mnozenje liste rezultira dupliciranjem liste, dok mnozenje s arrayom mnozi elemente arraya. Nije zamisljen za mijenjanje elemenata iako je podrzano. Definicija liste je koristenje [1,2,3], dok se ndarray kreira s np.array([1,2,3]). Ndarray je dio numpy biblioteke i njegova implementiran je u C kodu. Ndarray podrzava vektorizaciju, znaci da se moze izbjeci iteraranje pomocu petlji koje su potrebne za liste.</b>\n",
    "</div>"
   ]
  },
  {
   "cell_type": "markdown",
   "id": "16e3c837",
   "metadata": {},
   "source": []
  },
  {
   "cell_type": "markdown",
   "id": "70c00799",
   "metadata": {},
   "source": [
    "<div class=\"alert alert-block alert-warning\">\n",
    "  <b>Pitanje:</b> Koja su dva razreda koja smo koristili u Numpy?\n",
    "</div>\n",
    "<div class=\"alert alert-block alert-info\">\n",
    "  <b>Odgovor: Koristili smo ndarray i matrix</b>\n",
    "</div>"
   ]
  },
  {
   "cell_type": "markdown",
   "id": "81630d14",
   "metadata": {},
   "source": []
  },
  {
   "cell_type": "markdown",
   "id": "2e636c6d",
   "metadata": {},
   "source": [
    "<div class=\"alert alert-block alert-warning\">\n",
    "  <b>Pitanje:</b> Sto je Pandas?\n",
    "</div>\n",
    "<div class=\"alert alert-block alert-info\">\n",
    "  <b>Odgovor:</b>\n",
    "</div>"
   ]
  },
  {
   "cell_type": "markdown",
   "id": "a0a825db",
   "metadata": {},
   "source": []
  },
  {
   "cell_type": "markdown",
   "id": "da95a32b",
   "metadata": {},
   "source": [
    "<div class=\"alert alert-block alert-warning\">\n",
    "  <b>Pitanje:</b> Koja su dva razreda koja smo koristili u Pandasu?\n",
    "</div>\n",
    "<div class=\"alert alert-block alert-info\">\n",
    "  <b>Odgovor:</b>\n",
    "</div>"
   ]
  },
  {
   "cell_type": "markdown",
   "id": "bdc97486",
   "metadata": {},
   "source": []
  },
  {
   "cell_type": "markdown",
   "id": "86752c29",
   "metadata": {},
   "source": [
    "<div class=\"alert alert-block alert-warning\">\n",
    "  <b>Pitanje:</b> Kojom naredbom u Pandasu ocitavamo csv file koji ima podatke odjeljenje ;?\n",
    "</div>\n",
    "<div class=\"alert alert-block alert-info\">\n",
    "  <b>Odgovor:</b>\n",
    "</div>"
   ]
  },
  {
   "cell_type": "markdown",
   "id": "6b9e29ed",
   "metadata": {},
   "source": []
  },
  {
   "cell_type": "markdown",
   "id": "0ad7c704",
   "metadata": {},
   "source": [
    "<div class=\"alert alert-block alert-warning\">\n",
    "  <b>Pitanje:</b> Kojom naredbom u Pandasu ocitavamo csv file koji ima podatke odjeljenje :?\n",
    "</div>\n",
    "<div class=\"alert alert-block alert-info\">\n",
    "  <b>Odgovor:</b>\n",
    "</div>"
   ]
  },
  {
   "cell_type": "markdown",
   "id": "9f2100cc",
   "metadata": {},
   "source": []
  },
  {
   "cell_type": "markdown",
   "id": "a198c757",
   "metadata": {},
   "source": [
    "<div class=\"alert alert-block alert-warning\">\n",
    "  <b>Pitanje:</b> U Pandasu sto nam daje naredba <b>describe()</b>?\n",
    "</div>\n",
    "<div class=\"alert alert-block alert-info\">\n",
    "  <b>Odgovor:</b>\n",
    "</div>"
   ]
  },
  {
   "cell_type": "markdown",
   "id": "fc3ae431",
   "metadata": {},
   "source": []
  },
  {
   "cell_type": "markdown",
   "id": "0f92cf60",
   "metadata": {},
   "source": [
    "<div class=\"alert alert-block alert-warning\">\n",
    "  <b>Pitanje:</b> U Pandasu sto nam daje naredba <b>corr()</b>?\n",
    "</div>\n",
    "<div class=\"alert alert-block alert-info\">\n",
    "  <b>Odgovor:</b>\n",
    "</div>"
   ]
  },
  {
   "cell_type": "markdown",
   "id": "0aabebe5",
   "metadata": {},
   "source": []
  },
  {
   "cell_type": "markdown",
   "id": "0412f68d",
   "metadata": {},
   "source": [
    "<div class=\"alert alert-block alert-warning\">\n",
    "  <b>Pitanje:</b> U Pandasu sto nam daje naredba <b>head(13)</b>?\n",
    "</div>\n",
    "<div class=\"alert alert-block alert-info\">\n",
    "  <b>Odgovor:</b>\n",
    "</div>"
   ]
  },
  {
   "cell_type": "markdown",
   "id": "a0840333",
   "metadata": {},
   "source": []
  },
  {
   "cell_type": "markdown",
   "id": "d7ac50d5",
   "metadata": {},
   "source": [
    "<div class=\"alert alert-block alert-warning\">\n",
    "  <b>Pitanje:</b> U Pandasu sto nam daje naredba <b>tail(3)</b>?\n",
    "</div>\n",
    "<div class=\"alert alert-block alert-info\">\n",
    "  <b>Odgovor:</b>\n",
    "</div>"
   ]
  },
  {
   "cell_type": "markdown",
   "id": "7459490f",
   "metadata": {},
   "source": []
  },
  {
   "cell_type": "markdown",
   "id": "4c2d7eb2",
   "metadata": {},
   "source": [
    "<div class=\"alert alert-block alert-warning\">\n",
    "  <b>Pitanje:</b> U Pandasu sto nam daje naredba <b>info()</b>?\n",
    "</div>\n",
    "<div class=\"alert alert-block alert-info\">\n",
    "  <b>Odgovor:</b>\n",
    "</div>"
   ]
  },
  {
   "cell_type": "markdown",
   "id": "350c5692",
   "metadata": {},
   "source": []
  },
  {
   "cell_type": "markdown",
   "id": "ea01b4b3",
   "metadata": {},
   "source": [
    "<div class=\"alert alert-block alert-warning\">\n",
    "  <b>Pitanje:</b> U Pandasu sto nam daje naredba <b>.isnull()</b>?\n",
    "</div>\n",
    "<div class=\"alert alert-block alert-info\">\n",
    "  <b>Odgovor:</b>\n",
    "</div>"
   ]
  },
  {
   "cell_type": "markdown",
   "id": "c68eea19",
   "metadata": {},
   "source": []
  },
  {
   "cell_type": "markdown",
   "id": "537f7d69",
   "metadata": {},
   "source": [
    "<div class=\"alert alert-block alert-warning\">\n",
    "  <b>Pitanje:</b> U Pandasu sto nam daje naredba <b>.isna()</b>?\n",
    "</div>\n",
    "<div class=\"alert alert-block alert-info\">\n",
    "  <b>Odgovor:</b>\n",
    "</div>"
   ]
  },
  {
   "cell_type": "markdown",
   "id": "a624aa1c",
   "metadata": {},
   "source": []
  },
  {
   "cell_type": "markdown",
   "id": "063c89a7",
   "metadata": {},
   "source": [
    "<div class=\"alert alert-block alert-warning\">\n",
    "  <b>Pitanje:</b> U Pandasu sto nam daje naredba <b>.shape</b>?\n",
    "</div>\n",
    "<div class=\"alert alert-block alert-info\">\n",
    "  <b>Odgovor:</b>\n",
    "</div>"
   ]
  },
  {
   "cell_type": "markdown",
   "id": "4344014c",
   "metadata": {},
   "source": []
  },
  {
   "cell_type": "markdown",
   "id": "209ea6d7",
   "metadata": {},
   "source": [
    "<div class=\"alert alert-block alert-warning\">\n",
    "  <b>Pitanje:</b> U Pandasu sto nam daje naredba <b>.dtypes</b>?\n",
    "</div>\n",
    "<div class=\"alert alert-block alert-info\">\n",
    "  <b>Odgovor:</b>\n",
    "</div>"
   ]
  },
  {
   "cell_type": "markdown",
   "id": "92153f5c",
   "metadata": {},
   "source": []
  },
  {
   "cell_type": "markdown",
   "id": "4082ef09",
   "metadata": {},
   "source": [
    "<div class=\"alert alert-block alert-warning\">\n",
    "  <b>Pitanje:</b> U Pandasu sto radi naredba <b>.fillna()</b>?\n",
    "</div>\n",
    "<div class=\"alert alert-block alert-info\">\n",
    "  <b>Odgovor:</b>\n",
    "</div>"
   ]
  },
  {
   "cell_type": "markdown",
   "id": "15f75245",
   "metadata": {},
   "source": []
  },
  {
   "cell_type": "markdown",
   "id": "30f16ea4",
   "metadata": {},
   "source": [
    "<div class=\"alert alert-block alert-warning\">\n",
    "  <b>Pitanje:</b> U Pandasu sto radi naredba <b>.ffill()</b>?\n",
    "</div>\n",
    "<div class=\"alert alert-block alert-info\">\n",
    "  <b>Odgovor:</b>\n",
    "</div>"
   ]
  },
  {
   "cell_type": "markdown",
   "id": "893a8c3d",
   "metadata": {},
   "source": []
  },
  {
   "cell_type": "markdown",
   "id": "48897a93",
   "metadata": {},
   "source": [
    "<div class=\"alert alert-block alert-warning\">\n",
    "  <b>Pitanje:</b> U Pandasu sto radi naredba <b>.bfill()</b>?\n",
    "</div>\n",
    "<div class=\"alert alert-block alert-info\">\n",
    "  <b>Odgovor:</b>\n",
    "</div>"
   ]
  },
  {
   "cell_type": "markdown",
   "id": "d1fbeb7a",
   "metadata": {},
   "source": []
  },
  {
   "cell_type": "markdown",
   "id": "f790d8c9",
   "metadata": {},
   "source": [
    "<div class=\"alert alert-block alert-warning\">\n",
    "  <b>Pitanje:</b> U Pandasu sto radi naredba <b>.interpolate(method=\"linear\")</b>?\n",
    "</div>\n",
    "<div class=\"alert alert-block alert-info\">\n",
    "  <b>Odgovor:</b>\n",
    "</div>"
   ]
  },
  {
   "cell_type": "markdown",
   "id": "a74e47dd",
   "metadata": {},
   "source": []
  },
  {
   "cell_type": "markdown",
   "id": "a7e62fed",
   "metadata": {},
   "source": [
    "<div class=\"alert alert-block alert-warning\">\n",
    "  <b>Pitanje:</b> U Pandasu sto radi naredba <b>.plot.hist()</b>?\n",
    "</div>\n",
    "<div class=\"alert alert-block alert-info\">\n",
    "  <b>Odgovor:</b>\n",
    "</div>"
   ]
  },
  {
   "cell_type": "markdown",
   "id": "9777afa6",
   "metadata": {},
   "source": []
  },
  {
   "cell_type": "markdown",
   "id": "1b20969e",
   "metadata": {},
   "source": [
    "<div class=\"alert alert-block alert-warning\">\n",
    "  <b>Pitanje:</b> U Pandasu sto radi naredba <b>.plot.scatter()</b>?\n",
    "</div>\n",
    "<div class=\"alert alert-block alert-info\">\n",
    "  <b>Odgovor:</b>\n",
    "</div>"
   ]
  },
  {
   "cell_type": "markdown",
   "id": "29f7b6f6",
   "metadata": {},
   "source": []
  },
  {
   "cell_type": "markdown",
   "id": "cf0b6081",
   "metadata": {},
   "source": [
    "<div class=\"alert alert-block alert-warning\">\n",
    "  <b>Pitanje:</b> U Pandasu sto radi naredba <b>.plot()</b>?\n",
    "</div>\n",
    "<div class=\"alert alert-block alert-info\">\n",
    "  <b>Odgovor:</b>\n",
    "</div>"
   ]
  },
  {
   "cell_type": "markdown",
   "id": "31bb827a",
   "metadata": {},
   "source": []
  },
  {
   "cell_type": "markdown",
   "id": "d2a33681",
   "metadata": {},
   "source": [
    "<div class=\"alert alert-block alert-warning\">\n",
    "  <b>Pitanje:</b> U pandasu koja je razlika izmedu naredbi <b>.plot(kind=\"hist\")</b> i <b>.plot.hist()</b>?\n",
    "</div>\n",
    "<div class=\"alert alert-block alert-info\">\n",
    "  <b>Odgovor:</b>\n",
    "</div>"
   ]
  },
  {
   "cell_type": "markdown",
   "id": "47cd7e66",
   "metadata": {},
   "source": []
  },
  {
   "cell_type": "markdown",
   "id": "51ed719b",
   "metadata": {},
   "source": [
    "<div class=\"alert alert-block alert-warning\">\n",
    "  <b>Pitanje:</b> U pandasu koja je razlika izmedu naredbi <b>.plot(kind=\"scatter\")</b> i <b>.plot.scatter()</b>?\n",
    "</div>\n",
    "<div class=\"alert alert-block alert-info\">\n",
    "  <b>Odgovor:</b>\n",
    "</div>"
   ]
  },
  {
   "cell_type": "markdown",
   "id": "7d708d04",
   "metadata": {},
   "source": []
  },
  {
   "cell_type": "markdown",
   "id": "506e2aad",
   "metadata": {},
   "source": [
    "<div class=\"alert alert-block alert-warning\">\n",
    "  <b>Pitanje:</b> U pandasu koja je razlika izmedu naredbi <b>.describe()</b> i <b>.describe(include=\"all\")</b>?\n",
    "</div>\n",
    "<div class=\"alert alert-block alert-info\">\n",
    "  <b>Odgovor:</b>\n",
    "</div>"
   ]
  },
  {
   "cell_type": "markdown",
   "id": "0201fa0a",
   "metadata": {},
   "source": []
  },
  {
   "cell_type": "markdown",
   "id": "80c8801c",
   "metadata": {},
   "source": [
    "<div class=\"alert alert-block alert-warning\">\n",
    "  <b>Pitanje:</b> Sto je pivotiranje tablice i za koje probleme bi ju koristili?\n",
    "</div>\n",
    "<div class=\"alert alert-block alert-info\">\n",
    "  <b>Odgovor:</b>\n",
    "</div>"
   ]
  },
  {
   "cell_type": "markdown",
   "id": "10776878",
   "metadata": {},
   "source": []
  },
  {
   "cell_type": "markdown",
   "id": "c76b0936",
   "metadata": {},
   "source": [
    "<div class=\"alert alert-block alert-warning\">\n",
    "  <b>Pitanje:</b> Sto je grupiranje i za koje probleme bi ju koristili?\n",
    "</div>\n",
    "<div class=\"alert alert-block alert-info\">\n",
    "  <b>Odgovor:</b>\n",
    "</div>"
   ]
  },
  {
   "cell_type": "markdown",
   "id": "80d167b2",
   "metadata": {},
   "source": []
  },
  {
   "cell_type": "markdown",
   "id": "a4bf9d39",
   "metadata": {},
   "source": [
    "<div class=\"alert alert-block alert-warning\">\n",
    "  <b>Pitanje:</b> U Pandasu sto radi naredba <b>pd.pivot_table()</b>?\n",
    "</div>\n",
    "<div class=\"alert alert-block alert-info\">\n",
    "  <b>Odgovor:</b>\n",
    "</div>"
   ]
  },
  {
   "cell_type": "markdown",
   "id": "2aff0d70",
   "metadata": {},
   "source": []
  },
  {
   "cell_type": "markdown",
   "id": "61ecc7aa",
   "metadata": {},
   "source": [
    "<div class=\"alert alert-block alert-warning\">\n",
    "  <b>Pitanje:</b> U Pandasu sto radi naredba <b>.groupby()</b>?\n",
    "</div>\n",
    "<div class=\"alert alert-block alert-info\">\n",
    "  <b>Odgovor:</b>\n",
    "</div>"
   ]
  },
  {
   "cell_type": "markdown",
   "id": "25b1075d",
   "metadata": {},
   "source": []
  },
  {
   "cell_type": "markdown",
   "id": "785eb29b",
   "metadata": {},
   "source": [
    "<div class=\"alert alert-block alert-warning\">\n",
    "  <b>Pitanje:</b> U Pandasu kod naredbe <b>pd.pivot_table()</b> to radi funkcija agregacije?\n",
    "</div>\n",
    "<div class=\"alert alert-block alert-info\">\n",
    "  <b>Odgovor:</b>\n",
    "</div>"
   ]
  },
  {
   "cell_type": "markdown",
   "id": "2fd31473",
   "metadata": {},
   "source": []
  },
  {
   "cell_type": "markdown",
   "id": "a52c7b5b",
   "metadata": {},
   "source": [
    "<div class=\"alert alert-block alert-warning\">\n",
    "  <b>Pitanje:</b> U Pandasu kod naredbe <b>.groupby()</b> koju jos naredbu moramo izvesti da bi dobili novi data frame i zasto to moramo napravit?\n",
    "</div>\n",
    "<div class=\"alert alert-block alert-info\">\n",
    "  <b>Odgovor:</b>\n",
    "</div>"
   ]
  },
  {
   "cell_type": "markdown",
   "id": "a11007ad",
   "metadata": {},
   "source": []
  },
  {
   "cell_type": "markdown",
   "id": "4b25626d",
   "metadata": {},
   "source": [
    "<div class=\"alert alert-block alert-warning\">\n",
    "  <b>Pitanje:</b> U Pandasu sto radi naredba <b>.dropna()</b>?\n",
    "</div>\n",
    "<div class=\"alert alert-block alert-info\">\n",
    "  <b>Odgovor:</b>\n",
    "</div>"
   ]
  },
  {
   "cell_type": "markdown",
   "id": "5bfc75e1",
   "metadata": {},
   "source": []
  },
  {
   "cell_type": "markdown",
   "id": "431481c9",
   "metadata": {},
   "source": [
    "<div class=\"alert alert-block alert-warning\">\n",
    "  <b>Pitanje:</b> U Pandasu sto radi naredba <b>.drop()</b>?\n",
    "</div>\n",
    "<div class=\"alert alert-block alert-info\">\n",
    "  <b>Odgovor:</b>\n",
    "</div>"
   ]
  },
  {
   "cell_type": "markdown",
   "id": "10f03879",
   "metadata": {},
   "source": []
  },
  {
   "cell_type": "markdown",
   "id": "f8a9ffb1",
   "metadata": {},
   "source": [
    "<div class=\"alert alert-block alert-warning\">\n",
    "  <b>Pitanje:</b> U Pandasu sto radi naredba <b>.values_count()</b> cemu je ona jednaka?\n",
    "</div>\n",
    "<div class=\"alert alert-block alert-info\">\n",
    "  <b>Odgovor:</b>\n",
    "</div>"
   ]
  },
  {
   "cell_type": "markdown",
   "id": "4707eb64",
   "metadata": {},
   "source": []
  },
  {
   "cell_type": "markdown",
   "id": "e1afb663",
   "metadata": {},
   "source": [
    "<div class=\"alert alert-block alert-warning\">\n",
    "  <b>Pitanje:</b> U Pandasu sto radi naredba <b>df[df.zarada < df.zarada.mean() & df.zarada > df.zarada.median()]</b>, kako se zove ovaj postupak, korak?\n",
    "</div>\n",
    "<div class=\"alert alert-block alert-info\">\n",
    "  <b>Odgovor:</b>\n",
    "</div>"
   ]
  },
  {
   "cell_type": "markdown",
   "id": "eacf06d0",
   "metadata": {},
   "source": []
  },
  {
   "cell_type": "markdown",
   "id": "d2548da0",
   "metadata": {},
   "source": [
    "<div class=\"alert alert-block alert-warning\">\n",
    "  <b>Pitanje:</b> U Pandasu sto radi naredba <b>df[df.zarada < df.zarada.mean() | df.zarada > df.zarada.median()]</b> kako se zove ovaj postupak, korak?\n",
    "</div>\n",
    "<div class=\"alert alert-block alert-info\">\n",
    "  <b>Odgovor:</b>\n",
    "</div>"
   ]
  },
  {
   "cell_type": "markdown",
   "id": "7c38feea",
   "metadata": {},
   "source": []
  },
  {
   "cell_type": "markdown",
   "id": "977a6731",
   "metadata": {},
   "source": [
    "<div class=\"alert alert-block alert-warning\">\n",
    "  <b>Pitanje:</b> Kako u pandasu radimo filtriranje podataka?\n",
    "</div>\n",
    "<div class=\"alert alert-block alert-info\">\n",
    "  <b>Odgovor:</b>\n",
    "</div>"
   ]
  },
  {
   "cell_type": "markdown",
   "id": "9ebcacda",
   "metadata": {},
   "source": []
  },
  {
   "cell_type": "markdown",
   "id": "62dda258",
   "metadata": {},
   "source": [
    "<div class=\"alert alert-block alert-warning\">\n",
    "  <b>Pitanje:</b> Sto je Matplotlib?\n",
    "</div>\n",
    "<div class=\"alert alert-block alert-info\">\n",
    "  <b>Odgovor:</b>\n",
    "</div>"
   ]
  },
  {
   "cell_type": "markdown",
   "id": "72ae5bf7",
   "metadata": {},
   "source": []
  },
  {
   "cell_type": "markdown",
   "id": "abb54d76",
   "metadata": {},
   "source": [
    "<div class=\"alert alert-block alert-warning\">\n",
    "  <b>Pitanje:</b> Koji je glavni razred u Matplotlibu?\n",
    "</div>\n",
    "<div class=\"alert alert-block alert-info\">\n",
    "  <b>Odgovor:</b>\n",
    "</div>"
   ]
  },
  {
   "cell_type": "markdown",
   "id": "b0efdce8",
   "metadata": {},
   "source": []
  },
  {
   "cell_type": "markdown",
   "id": "94d81577",
   "metadata": {},
   "source": [
    "<div class=\"alert alert-block alert-warning\">\n",
    "  <b>Pitanje:</b> Sto Je Scikit-learn?\n",
    "</div>\n",
    "<div class=\"alert alert-block alert-info\">\n",
    "  <b>Odgovor:</b>\n",
    "</div>"
   ]
  },
  {
   "cell_type": "markdown",
   "id": "c92e3ac6",
   "metadata": {},
   "source": []
  },
  {
   "cell_type": "markdown",
   "id": "47f550be",
   "metadata": {},
   "source": [
    "<div class=\"alert alert-block alert-warning\">\n",
    "  <b>Pitanje:</b> Zasto bi koristili Numpy, a ne neku drugi drugi python matematicki modul?\n",
    "</div>\n",
    "<div class=\"alert alert-block alert-info\">\n",
    "  <b>Odgovor:</b>\n",
    "</div>"
   ]
  },
  {
   "cell_type": "markdown",
   "id": "db3d13e8",
   "metadata": {},
   "source": []
  },
  {
   "cell_type": "markdown",
   "id": "2cdc9f11",
   "metadata": {
    "vscode": {
     "languageId": "plaintext"
    }
   },
   "source": [
    "<div class=\"alert alert-block alert-warning\">\n",
    "  <b>Pitanje:</b> Zasto bi koristili Matplotlib, a ne neku drugi drugi python graficki modul?\n",
    "</div>\n",
    "<div class=\"alert alert-block alert-info\">\n",
    "  <b>Odgovor:</b>\n",
    "</div>"
   ]
  },
  {
   "cell_type": "markdown",
   "id": "8f7b89d1",
   "metadata": {},
   "source": []
  },
  {
   "cell_type": "markdown",
   "id": "4561c919",
   "metadata": {
    "vscode": {
     "languageId": "plaintext"
    }
   },
   "source": [
    "<div class=\"alert alert-block alert-warning\">\n",
    "  <b>Pitanje:</b> Zasto bi koristili Scikit-learn, a ne neku drugi drugi python modul za strojno ucenje?\n",
    "</div>\n",
    "<div class=\"alert alert-block alert-info\">\n",
    "  <b>Odgovor:</b>\n",
    "</div>"
   ]
  },
  {
   "cell_type": "markdown",
   "id": "4b62d33f",
   "metadata": {},
   "source": []
  },
  {
   "cell_type": "code",
   "execution_count": null,
   "id": "f4559ddd",
   "metadata": {},
   "outputs": [],
   "source": []
  },
  {
   "cell_type": "markdown",
   "id": "8aca17ab",
   "metadata": {
    "vscode": {
     "languageId": "plaintext"
    }
   },
   "source": [
    "<div class=\"alert alert-block alert-warning\">\n",
    "  <b>Pitanje:</b> Zasto bi koristili Pandas, a ne neku drugi drugi python modul za podatkvnu znanost?\n",
    "</div>\n",
    "<div class=\"alert alert-block alert-info\">\n",
    "  <b>Odgovor:</b>\n",
    "</div>"
   ]
  },
  {
   "cell_type": "markdown",
   "id": "3aa18863",
   "metadata": {},
   "source": []
  },
  {
   "cell_type": "markdown",
   "id": "7adc3c73",
   "metadata": {},
   "source": [
    "<div class=\"alert alert-block alert-warning\">\n",
    "  <b>Pitanje:</b> Nabrojite par mjera sredisnjih tendencija, i objasnite sto nam govori sredisnja tendencija?\n",
    "</div>\n",
    "<div class=\"alert alert-block alert-info\">\n",
    "  <b>Odgovor:</b>\n",
    "</div>"
   ]
  },
  {
   "cell_type": "markdown",
   "id": "c1c87b35",
   "metadata": {},
   "source": []
  },
  {
   "cell_type": "markdown",
   "id": "7e73dbe8",
   "metadata": {},
   "source": [
    "<div class=\"alert alert-block alert-warning\">\n",
    "  <b>Pitanje:</b> Nad kojim problemima je dobro koristiti srednja vrijednost kao pokazatelj sredisnje tendencije, a kad ju ne mozemo koristiti?\n",
    "</div>\n",
    "<div class=\"alert alert-block alert-info\">\n",
    "  <b>Odgovor:</b>\n",
    "</div>"
   ]
  },
  {
   "cell_type": "markdown",
   "id": "54294825",
   "metadata": {},
   "source": []
  },
  {
   "cell_type": "markdown",
   "id": "169d9e21",
   "metadata": {},
   "source": [
    "<div class=\"alert alert-block alert-warning\">\n",
    "  <b>Pitanje:</b> Nad kojim problemima je dobro koristiti medijan kao pokazatelj sredisnje tendencije, a kad ju ne mozemo koristiti?\n",
    "</div>\n",
    "<div class=\"alert alert-block alert-info\">\n",
    "  <b>Odgovor:</b>\n",
    "</div>"
   ]
  },
  {
   "cell_type": "markdown",
   "id": "f277e762",
   "metadata": {},
   "source": []
  },
  {
   "cell_type": "markdown",
   "id": "c1323856",
   "metadata": {},
   "source": [
    "<div class=\"alert alert-block alert-warning\">\n",
    "  <b>Pitanje:</b> Nad kojim problemima je dobro koristiti mod kao pokazatelj sredisnje tendencije, a kad ju ne mozemo koristiti?\n",
    "</div>\n",
    "<div class=\"alert alert-block alert-info\">\n",
    "  <b>Odgovor:</b>\n",
    "</div>"
   ]
  },
  {
   "cell_type": "markdown",
   "id": "5873b742",
   "metadata": {},
   "source": []
  },
  {
   "cell_type": "markdown",
   "id": "3c39f747",
   "metadata": {},
   "source": [
    "<div class=\"alert alert-block alert-info\">\n",
    "  <b>Napredno</b>\n",
    "</div>\n",
    "<div class=\"alert alert-block alert-warning\">\n",
    "  <b>Pitanje:</b> Nad kojim problemima je dobro koristiti harmonijsku sredinu kao pokazatelj sredisnje tendencije, a kad ju ne mozemo koristiti?\n",
    "</div>\n",
    "<div class=\"alert alert-block alert-info\">\n",
    "  <b>Odgovor:</b>\n",
    "</div>"
   ]
  },
  {
   "cell_type": "markdown",
   "id": "9bf16e58",
   "metadata": {},
   "source": []
  },
  {
   "cell_type": "markdown",
   "id": "b6ed387e",
   "metadata": {},
   "source": [
    "<div class=\"alert alert-block alert-info\">\n",
    "  <b>Napredno</b>\n",
    "</div>\n",
    "<div class=\"alert alert-block alert-warning\">\n",
    "  <b>Pitanje:</b> Nad kojim problemima je dobro koristiti geometrijsku sredinu kao pokazatelj sredisnje tendencije, a kad ju ne mozemo koristiti?\n",
    "</div>\n",
    "<div class=\"alert alert-block alert-info\">\n",
    "  <b>Odgovor:</b>\n",
    "</div>"
   ]
  },
  {
   "cell_type": "markdown",
   "id": "9b0d641e",
   "metadata": {},
   "source": []
  },
  {
   "cell_type": "markdown",
   "id": "96b604bd",
   "metadata": {},
   "source": [
    "<div class=\"alert alert-block alert-info\">\n",
    "  <b>Napredno</b>\n",
    "</div>\n",
    "<div class=\"alert alert-block alert-warning\">\n",
    "  <b>Pitanje:</b> Nad kojim problemima je dobro koristiti interkvartilni prosjek kao pokazatelj sredisnje tendencije, a kad ju ne mozemo koristiti?\n",
    "</div>\n",
    "<div class=\"alert alert-block alert-info\">\n",
    "  <b>Odgovor:</b>\n",
    "</div>"
   ]
  },
  {
   "cell_type": "markdown",
   "id": "2b596573",
   "metadata": {},
   "source": []
  },
  {
   "cell_type": "markdown",
   "id": "6216f3ed",
   "metadata": {},
   "source": [
    "<div class=\"alert alert-block alert-warning\">\n",
    "  <b>Pitanje:</b> Koje sve mjere rasprsenosti/disperzije/varijabilnosti imamo, nabroji ih par, i objasnite sto nam govori mjera rasprsenosti/disperzije/varijabilnosti?\n",
    "</div>\n",
    "<div class=\"alert alert-block alert-info\">\n",
    "  <b>Odgovor:</b>\n",
    "</div>"
   ]
  },
  {
   "cell_type": "markdown",
   "id": "d45dbaeb",
   "metadata": {},
   "source": []
  },
  {
   "cell_type": "markdown",
   "id": "5e7257b9",
   "metadata": {},
   "source": [
    "<div class=\"alert alert-block alert-warning\">\n",
    "  <b>Pitanje:</b> Nad kojim problemima je dobro koristiti raspon(range) kao pokazatelj rasprsenosti, a kad ju ne mozemo koristiti?\n",
    "</div>\n",
    "<div class=\"alert alert-block alert-info\">\n",
    "  <b>Odgovor:</b>\n",
    "</div>"
   ]
  },
  {
   "cell_type": "markdown",
   "id": "7f361413",
   "metadata": {},
   "source": []
  },
  {
   "cell_type": "markdown",
   "id": "f26c697f",
   "metadata": {},
   "source": [
    "<div class=\"alert alert-block alert-warning\">\n",
    "  <b>Pitanje:</b> Nad kojim problemima je dobro koristiti varijanca kao pokazatelj rasprsenosti, a kad ju ne mozemo koristiti?\n",
    "</div>\n",
    "<div class=\"alert alert-block alert-info\">\n",
    "  <b>Odgovor:</b>\n",
    "</div>"
   ]
  },
  {
   "cell_type": "markdown",
   "id": "0b4b8c4d",
   "metadata": {},
   "source": []
  },
  {
   "cell_type": "markdown",
   "id": "9792a3a4",
   "metadata": {},
   "source": [
    "<div class=\"alert alert-block alert-warning\">\n",
    "  <b>Pitanje:</b> Nad kojim problemima je dobro koristiti standardna devijacija kao pokazatelj rasprsenosti, a kad ju ne mozemo koristiti?\n",
    "</div>\n",
    "<div class=\"alert alert-block alert-info\">\n",
    "  <b>Odgovor:</b>\n",
    "</div>"
   ]
  },
  {
   "cell_type": "markdown",
   "id": "6dd04e66",
   "metadata": {},
   "source": []
  },
  {
   "cell_type": "markdown",
   "id": "12a2bc3b",
   "metadata": {},
   "source": [
    "<div class=\"alert alert-block alert-warning\">\n",
    "  <b>Pitanje:</b> Jesu li standardna devijacija i varijanca povezane?\n",
    "</div>\n",
    "<div class=\"alert alert-block alert-info\">\n",
    "  <b>Odgovor:</b>\n",
    "</div>"
   ]
  },
  {
   "cell_type": "markdown",
   "id": "2c02c5e1",
   "metadata": {},
   "source": []
  },
  {
   "cell_type": "markdown",
   "id": "d6a75c65",
   "metadata": {},
   "source": [
    "<div class=\"alert alert-block alert-warning\">\n",
    "  <b>Pitanje:</b> Nad kojim problemima je dobar kvantil kao pokazatelj rasprsenosti, a kad ju ne mozemo koristiti?\n",
    "</div>\n",
    "<div class=\"alert alert-block alert-info\">\n",
    "  <b>Odgovor:</b>\n",
    "</div>"
   ]
  },
  {
   "cell_type": "markdown",
   "id": "d3dc70c8",
   "metadata": {},
   "source": []
  },
  {
   "cell_type": "markdown",
   "id": "735c9561",
   "metadata": {},
   "source": [
    "<div class=\"alert alert-block alert-warning\">\n",
    "  <b>Pitanje:</b> Koliko kvantila imamo, i sto predstavljaju?\n",
    "</div>\n",
    "<div class=\"alert alert-block alert-info\">\n",
    "  <b>Odgovor:</b>\n",
    "</div>"
   ]
  },
  {
   "cell_type": "markdown",
   "id": "96ba66bd",
   "metadata": {},
   "source": []
  },
  {
   "cell_type": "markdown",
   "id": "7dfb36bb",
   "metadata": {},
   "source": [
    "<div class=\"alert alert-block alert-warning\">\n",
    "  <b>Pitanje:</b> Drugi kvantil ima popularniji naziv, koji?\n",
    "</div>\n",
    "<div class=\"alert alert-block alert-info\">\n",
    "  <b>Odgovor:</b>\n",
    "</div>"
   ]
  },
  {
   "cell_type": "markdown",
   "id": "158a741a",
   "metadata": {},
   "source": []
  },
  {
   "cell_type": "markdown",
   "id": "dd97f7ca",
   "metadata": {},
   "source": [
    "<div class=\"alert alert-block alert-info\">\n",
    "  <b>Napredno</b>\n",
    "</div>\n",
    "<div class=\"alert alert-block alert-warning\">\n",
    "  <b>Pitanje:</b> Sto je to interkvartilni raspon (IQR)\n",
    "</div>\n",
    "<div class=\"alert alert-block alert-info\">\n",
    "  <b>Odgovor:</b>\n",
    "</div>"
   ]
  },
  {
   "cell_type": "markdown",
   "id": "820d2e82",
   "metadata": {},
   "source": []
  },
  {
   "cell_type": "markdown",
   "id": "2751a87f",
   "metadata": {},
   "source": [
    "<div class=\"alert alert-block alert-info\">\n",
    "  <b>Napredno</b>\n",
    "</div>\n",
    "<div class=\"alert alert-block alert-warning\">\n",
    "  <b>Pitanje:</b> Nad kojim problemima je dobar interkvartilni raspon (IQR) kao pokazatelj rasprsenosti, a kad ju ne mozemo koristiti?\n",
    "</div>\n",
    "<div class=\"alert alert-block alert-info\">\n",
    "  <b>Odgovor:</b>\n",
    "</div>"
   ]
  },
  {
   "cell_type": "markdown",
   "id": "a1829f13",
   "metadata": {},
   "source": []
  },
  {
   "cell_type": "markdown",
   "id": "86d24c82",
   "metadata": {},
   "source": [
    "<div class=\"alert alert-block alert-warning\">\n",
    "  <b>Pitanje:</b> Sto je to frekvencija?\n",
    "</div>\n",
    "<div class=\"alert alert-block alert-info\">\n",
    "  <b>Odgovor:</b>\n",
    "</div>"
   ]
  },
  {
   "cell_type": "markdown",
   "id": "91c3ea28",
   "metadata": {},
   "source": []
  },
  {
   "cell_type": "markdown",
   "id": "c910d164",
   "metadata": {},
   "source": [
    "<div class=\"alert alert-block alert-warning\">\n",
    "  <b>Pitanje:</b> Sto je to relativna frekvencija?\n",
    "</div>\n",
    "<div class=\"alert alert-block alert-info\">\n",
    "  <b>Odgovor:</b>\n",
    "</div>"
   ]
  },
  {
   "cell_type": "markdown",
   "id": "61ee25cd",
   "metadata": {},
   "source": []
  },
  {
   "cell_type": "markdown",
   "id": "f53c99d8",
   "metadata": {},
   "source": [
    "<div class=\"alert alert-block alert-warning\">\n",
    "  <b>Pitanje:</b> Za sto nam moze posluziti relativna frekvencija?\n",
    "</div>\n",
    "<div class=\"alert alert-block alert-info\">\n",
    "  <b>Odgovor:</b>\n",
    "</div>"
   ]
  },
  {
   "cell_type": "markdown",
   "id": "89609351",
   "metadata": {},
   "source": []
  },
  {
   "cell_type": "markdown",
   "id": "c57735aa",
   "metadata": {
    "vscode": {
     "languageId": "plaintext"
    }
   },
   "source": [
    "<div class=\"alert alert-block alert-warning\">\n",
    "  <b>Pitanje:</b> Sto je to korelacija?\n",
    "</div>\n",
    "<div class=\"alert alert-block alert-info\">\n",
    "  <b>Odgovor:</b>\n",
    "</div>"
   ]
  },
  {
   "cell_type": "markdown",
   "id": "ff9bc78f",
   "metadata": {},
   "source": []
  },
  {
   "cell_type": "markdown",
   "id": "a1664735",
   "metadata": {},
   "source": [
    "<div class=\"alert alert-block alert-warning\">\n",
    "  <b>Pitanje:</b> Za sto sve mozemo koristiti korelaciju u podatkovnoj znanosti?\n",
    "</div>\n",
    "<div class=\"alert alert-block alert-info\">\n",
    "  <b>Odgovor:</b>\n",
    "</div>"
   ]
  },
  {
   "cell_type": "markdown",
   "id": "5898acf9",
   "metadata": {},
   "source": []
  },
  {
   "cell_type": "markdown",
   "id": "3bd269c2",
   "metadata": {},
   "source": [
    "<div class=\"alert alert-block alert-warning\">\n",
    "  <b>Pitanje:</b> U koje nas sve probleme moze dovesti ne poznavanje potpuno pojma korelacije, navedite ih par?\n",
    "</div>\n",
    "<div class=\"alert alert-block alert-info\">\n",
    "  <b>Odgovor:</b>\n",
    "</div>"
   ]
  },
  {
   "cell_type": "markdown",
   "id": "1aa1cf27",
   "metadata": {},
   "source": []
  },
  {
   "cell_type": "markdown",
   "id": "cbb299a3",
   "metadata": {},
   "source": [
    "<div class=\"alert alert-block alert-warning\">\n",
    "  <b>Pitanje:</b> Koji tip grafa u vecini slucajeva najbolje prikazuje korelaciju, da li ona postoji ili ne?\n",
    "</div>\n",
    "<div class=\"alert alert-block alert-info\">\n",
    "  <b>Odgovor:</b>\n",
    "</div>"
   ]
  },
  {
   "cell_type": "markdown",
   "id": "33407d74",
   "metadata": {},
   "source": []
  },
  {
   "cell_type": "markdown",
   "id": "a5c9adbb",
   "metadata": {},
   "source": [
    "<div class=\"alert alert-block alert-info\">\n",
    "  <b>Napredno</b>\n",
    "</div>\n",
    "<div class=\"alert alert-block alert-warning\">\n",
    "  <b>Pitanje:</b> Koji su potencijalni problemi tog grafa koji prikazuje korelaciju najbolje, i koji graf nam je alternativa za te situacije?\n",
    "</div>\n",
    "<div class=\"alert alert-block alert-info\">\n",
    "  <b>Odgovor:</b>\n",
    "</div>"
   ]
  },
  {
   "cell_type": "markdown",
   "id": "be538fac",
   "metadata": {},
   "source": []
  },
  {
   "cell_type": "markdown",
   "id": "3464a6de",
   "metadata": {},
   "source": [
    "<div class=\"alert alert-block alert-info\">\n",
    "  <b>Napredno</b>\n",
    "</div>\n",
    "<div class=\"alert alert-block alert-warning\">\n",
    "  <b>Pitanje:</b> Sto je to autokorelacija, i cemu nam sluzi ili sta nam govori?\n",
    "</div>\n",
    "<div class=\"alert alert-block alert-info\">\n",
    "  <b>Odgovor:</b>\n",
    "</div>"
   ]
  },
  {
   "cell_type": "markdown",
   "id": "b24e24d3",
   "metadata": {},
   "source": []
  },
  {
   "cell_type": "markdown",
   "id": "515a7f69",
   "metadata": {},
   "source": [
    "<div class=\"alert alert-block alert-warning\">\n",
    "  <b>Pitanje:</b> Koji je raspon vrijednosti korelacije (Pearsonov koeficijent korelacije)?\n",
    "</div>\n",
    "<div class=\"alert alert-block alert-info\">\n",
    "  <b>Odgovor:</b>\n",
    "</div>"
   ]
  },
  {
   "cell_type": "markdown",
   "id": "d9f1526b",
   "metadata": {},
   "source": []
  },
  {
   "cell_type": "markdown",
   "id": "227995ee",
   "metadata": {},
   "source": [
    "<div class=\"alert alert-block alert-warning\">\n",
    "  <b>Pitanje:</b> Sta znace brojevi -1, 0 i 1 u korelacije (Pearsonov koeficijent korelacije)?\n",
    "</div>\n",
    "<div class=\"alert alert-block alert-info\">\n",
    "  <b>Odgovor:</b>\n",
    "</div>"
   ]
  },
  {
   "cell_type": "markdown",
   "id": "7bc9e914",
   "metadata": {},
   "source": []
  },
  {
   "cell_type": "markdown",
   "id": "2f4c4ed9",
   "metadata": {},
   "source": [
    "<div class=\"alert alert-block alert-warning\">\n",
    "  <b>Pitanje:</b> Imaju li isti znacaj sto se tice povezanosti pozitivni i negativni koeficijenti korelacije npr. -1 i 1?\n",
    "</div>\n",
    "<div class=\"alert alert-block alert-info\">\n",
    "  <b>Odgovor:</b>\n",
    "</div>"
   ]
  },
  {
   "cell_type": "markdown",
   "id": "7a7b4d8d",
   "metadata": {},
   "source": []
  },
  {
   "cell_type": "markdown",
   "id": "d93065c3",
   "metadata": {},
   "source": [
    "<div class=\"alert alert-block alert-warning\">\n",
    "  <b>Pitanje:</b> Ako korelacija postoji, da li imamo automatski uzrokocno posljedicnu vezu, drugim rijecima imamo li potvrdu ako postoji jaka korleacija izmedu dviju varijabli da je jedan varijabla uzrok, a druga posljedica?\n",
    "</div>\n",
    "<div class=\"alert alert-block alert-info\">\n",
    "  <b>Odgovor:</b>\n",
    "</div>"
   ]
  },
  {
   "cell_type": "markdown",
   "id": "bb556f86",
   "metadata": {},
   "source": []
  },
  {
   "cell_type": "markdown",
   "id": "7283ef82",
   "metadata": {},
   "source": [
    "<div class=\"alert alert-block alert-warning\">\n",
    "  <b>Pitanje:</b> Koji je raspon vrijednosti za vjerojatnost nekog dogadaja?\n",
    "</div>\n",
    "<div class=\"alert alert-block alert-info\">\n",
    "  <b>Odgovor:</b>\n",
    "</div>"
   ]
  },
  {
   "cell_type": "markdown",
   "id": "611e7b4b",
   "metadata": {},
   "source": []
  },
  {
   "cell_type": "markdown",
   "id": "cec5687d",
   "metadata": {},
   "source": [
    "<div class=\"alert alert-block alert-warning\">\n",
    "  <b>Pitanje:</b> Sta znaci da su dva dogadaja nezavisna, a sta znaci da su zavisna, dajte par primjer za svaku?\n",
    "</div>\n",
    "<div class=\"alert alert-block alert-info\">\n",
    "  <b>Odgovor:</b>\n",
    "</div>"
   ]
  },
  {
   "cell_type": "markdown",
   "id": "df7621ee",
   "metadata": {},
   "source": []
  },
  {
   "cell_type": "markdown",
   "id": "982f2f0e",
   "metadata": {},
   "source": [
    "<div class=\"alert alert-block alert-warning\">\n",
    "  <b>Pitanje:</b> Sto je to histogram, sta nam on sve govori?\n",
    "</div>\n",
    "<div class=\"alert alert-block alert-info\">\n",
    "  <b>Odgovor:</b>\n",
    "</div>"
   ]
  },
  {
   "cell_type": "markdown",
   "id": "d30d9f76",
   "metadata": {},
   "source": []
  },
  {
   "cell_type": "markdown",
   "id": "56481204",
   "metadata": {},
   "source": [
    "<div class=\"alert alert-block alert-warning\">\n",
    "  <b>Pitanje:</b> Koliko je kolona potrebno da bi se izracunao/nacrtao jedan histogram?\n",
    "</div>\n",
    "<div class=\"alert alert-block alert-info\">\n",
    "  <b>Odgovor:</b>\n",
    "</div>"
   ]
  },
  {
   "cell_type": "markdown",
   "id": "5512eda0",
   "metadata": {},
   "source": []
  },
  {
   "cell_type": "markdown",
   "id": "0b78e1c5",
   "metadata": {},
   "source": [
    "<div class=\"alert alert-block alert-warning\">\n",
    "  <b>Pitanje:</b> Kako racunamo histogram?\n",
    "</div>\n",
    "<div class=\"alert alert-block alert-info\">\n",
    "  <b>Odgovor:</b>\n",
    "</div>"
   ]
  },
  {
   "cell_type": "markdown",
   "id": "4cc0651e",
   "metadata": {},
   "source": []
  },
  {
   "cell_type": "markdown",
   "id": "c31568f5",
   "metadata": {},
   "source": [
    "<div class=\"alert alert-block alert-info\">\n",
    "  <b>Napredno</b>\n",
    "</div>\n",
    "<div class=\"alert alert-block alert-warning\">\n",
    "  <b>Pitanje:</b> Kako dolazimo iz histograma, do modela distribucije te varijable?\n",
    "</div>\n",
    "<div class=\"alert alert-block alert-info\">\n",
    "  <b>Odgovor:</b>\n",
    "</div>"
   ]
  },
  {
   "cell_type": "markdown",
   "id": "420d7566",
   "metadata": {},
   "source": []
  },
  {
   "cell_type": "markdown",
   "id": "ae557276",
   "metadata": {},
   "source": [
    "<div class=\"alert alert-block alert-info\">\n",
    "  <b>Napredno</b>\n",
    "</div>\n",
    "<div class=\"alert alert-block alert-warning\">\n",
    "  <b>Pitanje:</b> Sto je to vjerojatnost (probability), a sto izglednost (probability), objasnite razliku ta dva pojma?\n",
    "</div>\n",
    "<div class=\"alert alert-block alert-info\">\n",
    "  <b>Odgovor:</b>\n",
    "</div>"
   ]
  },
  {
   "cell_type": "markdown",
   "id": "4d91f594",
   "metadata": {},
   "source": []
  },
  {
   "cell_type": "markdown",
   "id": "e08bf114",
   "metadata": {},
   "source": [
    "<div class=\"alert alert-block alert-warning\">\n",
    "  <b>Pitanje:</b> Nabrojite korake koje radimo kada zelimo istrenirati model pomocu scikit-learna?\n",
    "</div>\n",
    "<div class=\"alert alert-block alert-info\">\n",
    "  <b>Odgovor:</b>\n",
    "</div>"
   ]
  },
  {
   "cell_type": "markdown",
   "id": "66c6e44d",
   "metadata": {},
   "source": []
  },
  {
   "cell_type": "markdown",
   "id": "0c850bb2",
   "metadata": {},
   "source": [
    "<div class=\"alert alert-block alert-warning\">\n",
    "  <b>Pitanje:</b> Sto je to nadzirano ucenje?\n",
    "</div>\n",
    "<div class=\"alert alert-block alert-info\">\n",
    "  <b>Odgovor:</b>\n",
    "</div>"
   ]
  },
  {
   "cell_type": "markdown",
   "id": "cbff3432",
   "metadata": {},
   "source": []
  },
  {
   "cell_type": "markdown",
   "id": "c3164892",
   "metadata": {},
   "source": [
    "<div class=\"alert alert-block alert-warning\">\n",
    "  <b>Pitanje:</b> Sto je to nenadzirano ucenje?\n",
    "</div>\n",
    "<div class=\"alert alert-block alert-info\">\n",
    "  <b>Odgovor:</b>\n",
    "</div>"
   ]
  },
  {
   "cell_type": "markdown",
   "id": "de636ac7",
   "metadata": {},
   "source": []
  },
  {
   "cell_type": "markdown",
   "id": "fe3473e3",
   "metadata": {},
   "source": [
    "<div class=\"alert alert-block alert-warning\">\n",
    "  <b>Pitanje:</b> Koja je razlika izmedu nadziranog i nenadziranog ucenja?\n",
    "</div>\n",
    "<div class=\"alert alert-block alert-info\">\n",
    "  <b>Odgovor:</b>\n",
    "</div>"
   ]
  },
  {
   "cell_type": "markdown",
   "id": "7a115a1a",
   "metadata": {},
   "source": []
  },
  {
   "cell_type": "markdown",
   "id": "07e90dfd",
   "metadata": {},
   "source": [
    "<div class=\"alert alert-block alert-warning\">\n",
    "  <b>Pitanje:</b> Sto je to klasifikacija i cemu sluzi?\n",
    "</div>\n",
    "<div class=\"alert alert-block alert-info\">\n",
    "  <b>Odgovor:</b>\n",
    "</div>"
   ]
  },
  {
   "cell_type": "markdown",
   "id": "ae2b6842",
   "metadata": {},
   "source": []
  },
  {
   "cell_type": "markdown",
   "id": "9800de38",
   "metadata": {},
   "source": [
    "<div class=\"alert alert-block alert-warning\">\n",
    "  <b>Pitanje:</b> Navedite par primjera iz stvarnog zivota za koji bismo koristili model klasifikacije?\n",
    "</div>\n",
    "<div class=\"alert alert-block alert-info\">\n",
    "  <b>Odgovor:</b>\n",
    "</div>"
   ]
  },
  {
   "cell_type": "markdown",
   "id": "a068013c",
   "metadata": {},
   "source": []
  },
  {
   "cell_type": "markdown",
   "id": "d847db3d",
   "metadata": {},
   "source": [
    "<div class=\"alert alert-block alert-warning\">\n",
    "  <b>Pitanje:</b> Kojoj skupini pripada klasifikacija, nadziranog ili nenadziranog ucenja i zasto?\n",
    "</div>\n",
    "<div class=\"alert alert-block alert-info\">\n",
    "  <b>Odgovor:</b>\n",
    "</div>"
   ]
  },
  {
   "cell_type": "markdown",
   "id": "b3e96211",
   "metadata": {},
   "source": []
  },
  {
   "cell_type": "markdown",
   "id": "b59305c7",
   "metadata": {},
   "source": [
    "<div class=\"alert alert-block alert-warning\">\n",
    "  <b>Pitanje:</b> Sto je to regresija i cemu sluzi?\n",
    "</div>\n",
    "<div class=\"alert alert-block alert-info\">\n",
    "  <b>Odgovor:</b>\n",
    "</div>"
   ]
  },
  {
   "cell_type": "markdown",
   "id": "d2613e28",
   "metadata": {},
   "source": []
  },
  {
   "cell_type": "markdown",
   "id": "4cbea08d",
   "metadata": {},
   "source": [
    "<div class=\"alert alert-block alert-warning\">\n",
    "  <b>Pitanje:</b> Navedite par primjera iz stvarnog zivota za koji bismo koristili regresiju?\n",
    "</div>\n",
    "<div class=\"alert alert-block alert-info\">\n",
    "  <b>Odgovor:</b>\n",
    "</div>"
   ]
  },
  {
   "cell_type": "markdown",
   "id": "fcf60332",
   "metadata": {},
   "source": []
  },
  {
   "cell_type": "markdown",
   "id": "13351b23",
   "metadata": {},
   "source": [
    "<div class=\"alert alert-block alert-warning\">\n",
    "  <b>Pitanje:</b> Kojoj skupini pripada regresija, nadziranog ili nenadziranog ucenja i zasto?\n",
    "</div>\n",
    "<div class=\"alert alert-block alert-info\">\n",
    "  <b>Odgovor:</b>\n",
    "</div>"
   ]
  },
  {
   "cell_type": "markdown",
   "id": "d3a4b3a3",
   "metadata": {},
   "source": []
  },
  {
   "cell_type": "markdown",
   "id": "db7f6abc",
   "metadata": {},
   "source": [
    "<div class=\"alert alert-block alert-warning\">\n",
    "  <b>Pitanje:</b> Koja su razlike izmedu regresije i klasifikacije, navedite ih par?\n",
    "</div>\n",
    "<div class=\"alert alert-block alert-info\">\n",
    "  <b>Odgovor:</b>\n",
    "</div>"
   ]
  },
  {
   "cell_type": "markdown",
   "id": "474bb5d9",
   "metadata": {},
   "source": []
  },
  {
   "cell_type": "markdown",
   "id": "ed5f1402",
   "metadata": {},
   "source": [
    "<div class=\"alert alert-block alert-warning\">\n",
    "  <b>Pitanje:</b> Sto je to model grupiranja\n",
    "</div>\n",
    "<div class=\"alert alert-block alert-info\">\n",
    "  <b>Odgovor:</b>\n",
    "</div>"
   ]
  },
  {
   "cell_type": "markdown",
   "id": "089a9e02",
   "metadata": {},
   "source": []
  },
  {
   "cell_type": "markdown",
   "id": "3453036c",
   "metadata": {},
   "source": [
    "<div class=\"alert alert-block alert-warning\">\n",
    "  <b>Pitanje:</b> Navedite par primjera iz stvarnog zivota za koji bismo koristili model grupiranja?\n",
    "</div>\n",
    "<div class=\"alert alert-block alert-info\">\n",
    "  <b>Odgovor:</b>\n",
    "</div>"
   ]
  },
  {
   "cell_type": "markdown",
   "id": "45ab70f1",
   "metadata": {},
   "source": []
  },
  {
   "cell_type": "markdown",
   "id": "f39af083",
   "metadata": {},
   "source": [
    "<div class=\"alert alert-block alert-warning\">\n",
    "  <b>Pitanje:</b> Kojoj skupini pripada model grupiranja, nadziranog ili nenadziranog ucenja i zasto?\n",
    "</div>\n",
    "<div class=\"alert alert-block alert-info\">\n",
    "  <b>Odgovor:</b>\n",
    "</div>"
   ]
  },
  {
   "cell_type": "markdown",
   "id": "8a2cab66",
   "metadata": {},
   "source": []
  },
  {
   "cell_type": "markdown",
   "id": "a25be23b",
   "metadata": {},
   "source": [
    "<div class=\"alert alert-block alert-warning\">\n",
    "  <b>Pitanje:</b> Koja su razlike izmedu regresije i grupiranja, navedite ih par?\n",
    "</div>\n",
    "<div class=\"alert alert-block alert-info\">\n",
    "  <b>Odgovor:</b>\n",
    "</div>"
   ]
  },
  {
   "cell_type": "markdown",
   "id": "982bf964",
   "metadata": {},
   "source": []
  },
  {
   "cell_type": "markdown",
   "id": "38bfa731",
   "metadata": {},
   "source": [
    "<div class=\"alert alert-block alert-warning\">\n",
    "  <b>Pitanje:</b> Koja su razlike izmedu grupiranja i klasifikacije, navedite ih par?\n",
    "</div>\n",
    "<div class=\"alert alert-block alert-info\">\n",
    "  <b>Odgovor:</b>\n",
    "</div>"
   ]
  },
  {
   "cell_type": "markdown",
   "id": "cb30b450",
   "metadata": {},
   "source": []
  },
  {
   "cell_type": "markdown",
   "id": "1be8c141",
   "metadata": {},
   "source": [
    "<div class=\"alert alert-block alert-warning\">\n",
    "  <b>Pitanje:</b> Koje su nam zelje za oblika modela u bilo kojem problem, moze i konkretno za podatkovnu znanost/umjetnu inteligenciju/strojno ucenje/duboko ucenje?\n",
    "</div>\n",
    "<div class=\"alert alert-block alert-info\">\n",
    "  <b>Odgovor:</b>\n",
    "</div>"
   ]
  },
  {
   "cell_type": "markdown",
   "id": "b34a87e8",
   "metadata": {},
   "source": []
  },
  {
   "cell_type": "markdown",
   "id": "65db011c",
   "metadata": {},
   "source": [
    "<div class=\"alert alert-block alert-info\">\n",
    "  <b>Napredno</b>\n",
    "</div>\n",
    "<div class=\"alert alert-block alert-warning\">\n",
    "  <b>Pitanje:</b> Sto je to podtreniran model (underfit model), i koje su mu prednosti, a koje mane?\n",
    "</div>\n",
    "<div class=\"alert alert-block alert-info\">\n",
    "  <b>Odgovor:</b>\n",
    "</div>\n"
   ]
  },
  {
   "cell_type": "markdown",
   "id": "99e50c43",
   "metadata": {},
   "source": []
  },
  {
   "cell_type": "markdown",
   "id": "cb5860fe",
   "metadata": {},
   "source": [
    "<div class=\"alert alert-block alert-info\">\n",
    "  <b>Napredno</b>\n",
    "</div>\n",
    "<div class=\"alert alert-block alert-warning\">\n",
    "  <b>Pitanje:</b> Sto je to pretrenirtan model (overfit model), i koje su mu prednosti, a koje mane?\n",
    "</div>\n"
   ]
  },
  {
   "cell_type": "markdown",
   "id": "845d92b2",
   "metadata": {},
   "source": []
  },
  {
   "cell_type": "markdown",
   "id": "f5cf3595",
   "metadata": {},
   "source": [
    "<div class=\"alert alert-block alert-info\">\n",
    "  <b>Napredno</b>\n",
    "</div>\n",
    "<div class=\"alert alert-block alert-warning\">\n",
    "  <b>Pitanje:</b> Nabrojite par tehnika s kojima sprjecavamo pretreniranost modela?\n",
    "</div>\n",
    "<div class=\"alert alert-block alert-info\">\n",
    "  <b>Odgovor:</b>\n",
    "</div>"
   ]
  },
  {
   "cell_type": "markdown",
   "id": "8a9f37ff",
   "metadata": {},
   "source": []
  },
  {
   "cell_type": "markdown",
   "id": "867b33e4",
   "metadata": {},
   "source": [
    "<div class=\"alert alert-block alert-warning\">\n",
    "  <b>Pitanje:</b> Koji model smo koristili za klasifikaciju na predavanju?\n",
    "</div>\n",
    "<div class=\"alert alert-block alert-info\">\n",
    "  <b>Odgovor:</b>\n",
    "</div>"
   ]
  },
  {
   "cell_type": "markdown",
   "id": "5c8f39fb",
   "metadata": {},
   "source": []
  },
  {
   "cell_type": "markdown",
   "id": "ec23e154",
   "metadata": {},
   "source": [
    "<div class=\"alert alert-block alert-warning\">\n",
    "  <b>Pitanje:</b> Koju pretpostavku koristi Naivni Bayesov model, sta ona znaci i kako nam pomaze?\n",
    "</div>\n",
    "<div class=\"alert alert-block alert-info\">\n",
    "  <b>Odgovor:</b>\n",
    "</div>"
   ]
  },
  {
   "cell_type": "markdown",
   "id": "6abe95f6",
   "metadata": {},
   "source": []
  },
  {
   "cell_type": "markdown",
   "id": "dc4f558f",
   "metadata": {},
   "source": [
    "<div class=\"alert alert-block alert-warning\">\n",
    "  <b>Pitanje:</b> Koji model smo koristili za regresiju na predavanju?\n",
    "</div>\n",
    "<div class=\"alert alert-block alert-info\">\n",
    "  <b>Odgovor:</b>\n",
    "</div>"
   ]
  },
  {
   "cell_type": "markdown",
   "id": "2e17f446",
   "metadata": {},
   "source": []
  },
  {
   "cell_type": "markdown",
   "id": "1b960649",
   "metadata": {},
   "source": [
    "<div class=\"alert alert-block alert-warning\">\n",
    "  <b>Pitanje:</b> Koja dva pristupa imamo, kada imamo nelinarne podatke, kada zelimo trenirati regresiju?\n",
    "</div>\n",
    "<div class=\"alert alert-block alert-info\">\n",
    "  <b>Odgovor:</b>\n",
    "</div>"
   ]
  },
  {
   "cell_type": "markdown",
   "id": "bc8d098e",
   "metadata": {},
   "source": []
  },
  {
   "cell_type": "markdown",
   "id": "63a1ac52",
   "metadata": {},
   "source": [
    "<div class=\"alert alert-block alert-warning\">\n",
    "  <b>Pitanje:</b> Koji model smo koristili za grupiranje na predavanju?\n",
    "</div>\n",
    "<div class=\"alert alert-block alert-info\">\n",
    "  <b>Odgovor:</b>\n",
    "</div>"
   ]
  },
  {
   "cell_type": "markdown",
   "id": "7ed3a68e",
   "metadata": {},
   "source": []
  }
 ],
 "metadata": {
  "kernelspec": {
   "display_name": "base",
   "language": "python",
   "name": "python3"
  },
  "language_info": {
   "codemirror_mode": {
    "name": "ipython",
    "version": 3
   },
   "file_extension": ".py",
   "mimetype": "text/x-python",
   "name": "python",
   "nbconvert_exporter": "python",
   "pygments_lexer": "ipython3",
   "version": "3.12.7"
  }
 },
 "nbformat": 4,
 "nbformat_minor": 5
}

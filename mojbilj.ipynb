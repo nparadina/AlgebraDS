{
 "cells": [
  {
   "cell_type": "markdown",
   "id": "f62b39e0-cc72-47e6-a614-ff7e4bdbb17f",
   "metadata": {},
   "source": [
    "Moj tests"
   ]
  },
  {
   "cell_type": "code",
   "execution_count": 1,
   "id": "9e8621ed-e6fd-4956-84cf-5dce8219b9a3",
   "metadata": {},
   "outputs": [
    {
     "name": "stdout",
     "output_type": "stream",
     "text": [
      "ante\n"
     ]
    }
   ],
   "source": [
    "print(\"ante\")"
   ]
  },
  {
   "cell_type": "code",
   "execution_count": 2,
   "id": "d72094fc-335e-4b5f-8ae0-0e88ba054fb1",
   "metadata": {},
   "outputs": [
    {
     "name": "stdout",
     "output_type": "stream",
     "text": [
      "bla\n"
     ]
    }
   ],
   "source": [
    "print(\"bla\")"
   ]
  },
  {
   "cell_type": "markdown",
   "id": "bf8c60a7-5a57-4478-8f59-8c62d43b3a26",
   "metadata": {},
   "source": []
  },
  {
   "cell_type": "markdown",
   "id": "f35c2f64-674e-44ee-8607-90d6531e0bfe",
   "metadata": {},
   "source": [
    "# "
   ]
  }
 ],
 "metadata": {
  "kernelspec": {
   "display_name": "Python 3 (ipykernel)",
   "language": "python",
   "name": "python3"
  },
  "language_info": {
   "codemirror_mode": {
    "name": "ipython",
    "version": 3
   },
   "file_extension": ".py",
   "mimetype": "text/x-python",
   "name": "python",
   "nbconvert_exporter": "python",
   "pygments_lexer": "ipython3",
   "version": "3.12.7"
  }
 },
 "nbformat": 4,
 "nbformat_minor": 5
}
